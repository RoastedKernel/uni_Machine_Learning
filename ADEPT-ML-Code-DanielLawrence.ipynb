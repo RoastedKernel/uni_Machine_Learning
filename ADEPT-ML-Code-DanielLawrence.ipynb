{
 "cells": [
  {
   "cell_type": "code",
   "execution_count": 17,
   "metadata": {},
   "outputs": [],
   "source": [
    "from sklearn.model_selection import train_test_split\n",
    "from tensorflow.keras.preprocessing.image import img_to_array\n",
    "from sklearn.preprocessing import LabelBinarizer\n",
    "from sklearn.metrics import classification_report\n",
    "import tensorflow as tf\n",
    "from tensorflow.keras.models import Sequential\n",
    "from tensorflow.keras import models\n",
    "from keras.callbacks import LearningRateScheduler\n",
    "from tensorflow.keras.layers import BatchNormalization\n",
    "from tensorflow.keras.layers import Conv2D\n",
    "from tensorflow.keras.layers import MaxPooling2D\n",
    "from tensorflow.keras.layers import Activation\n",
    "from tensorflow.keras.layers import Flatten\n",
    "from tensorflow.keras.layers import Dropout\n",
    "from tensorflow.keras.layers import Dense\n",
    "from tensorflow.keras.optimizers import SGD\n",
    "from tensorflow.keras.optimizers import Adam\n",
    "from imutils import paths\n",
    "from tensorflow.keras.preprocessing.image import ImageDataGenerator, array_to_img, img_to_array, load_img\n",
    "import PIL\n",
    "import PIL.Image\n",
    "import matplotlib.pyplot as plt\n",
    "import numpy as np\n",
    "import gc\n",
    "import argparse\n",
    "import random\n",
    "import cv2\n",
    "import os"
   ]
  },
  {
   "cell_type": "code",
   "execution_count": 2,
   "metadata": {},
   "outputs": [],
   "source": [
    "#assign paths to files\n",
    "traindir = \"images/train\"\n",
    "validdir = \"images/valid\"\n",
    "testdir = \"images/test\"\n"
   ]
  },
  {
   "cell_type": "code",
   "execution_count": 4,
   "metadata": {},
   "outputs": [],
   "source": [
    "train_datagen = ImageDataGenerator(\n",
    "        rescale=1./255)"
   ]
  },
  {
   "cell_type": "code",
   "execution_count": 5,
   "metadata": {},
   "outputs": [
    {
     "name": "stdout",
     "output_type": "stream",
     "text": [
      "Found 17500 images belonging to 5 classes.\n",
      "Found 5000 images belonging to 5 classes.\n",
      "Found 2500 images belonging to 5 classes.\n"
     ]
    }
   ],
   "source": [
    "#setup the generators for the batch learning method\n",
    "batch_size = 10\n",
    "train_generator = train_datagen.flow_from_directory(\n",
    "        traindir,  # this is the target directory\n",
    "        target_size=(768, 768),  \n",
    "        batch_size=batch_size,\n",
    "        class_mode='categorical',\n",
    "        shuffle = True,\n",
    "        color_mode=\"rgb\")  \n",
    "\n",
    "\n",
    "valid_generator = train_datagen.flow_from_directory(\n",
    "        validdir,\n",
    "        target_size=(768, 768),\n",
    "        batch_size=batch_size,\n",
    "        color_mode=\"rgb\",\n",
    "        shuffle = True,\n",
    "        class_mode='categorical')\n",
    "\n",
    "\n",
    "test_generator = train_datagen.flow_from_directory(\n",
    "        testdir,\n",
    "        target_size=(768, 768),\n",
    "        batch_size=1,\n",
    "        shuffle = False,\n",
    "        color_mode=\"rgb\",\n",
    "        class_mode='categorical')"
   ]
  },
  {
   "cell_type": "code",
   "execution_count": 17,
   "metadata": {},
   "outputs": [],
   "source": [
    "#the first model I tried as a test\n",
    "model1 = Sequential()\n",
    "inputShape = (768, 768, 3)\n",
    "\n",
    "model1.add(Conv2D(32, (3, 3), padding=\"same\",\n",
    "            input_shape=inputShape))\n",
    "model1.add(Activation(\"relu\"))\n",
    "model1.add(BatchNormalization())\n",
    "model1.add(MaxPooling2D(pool_size=(2,2), strides=(2,2)))\n",
    "model1.add(Dropout(0.2))\n",
    "model1.add(Conv2D(32, (3, 3), padding=\"same\",input_shape=(250,250,3)))\n",
    "model1.add(Activation(\"relu\"))\n",
    "model1.add(BatchNormalization())\n",
    "model1.add(MaxPooling2D(pool_size=(2,2), strides=(2,2)))\n",
    "model1.add(Dropout(0.2))\n",
    "model1.add(Dense(100))\n",
    "model1.add(Dropout(0.5))\n",
    "model1.add(Dense(100))\n",
    "model1.add(Dropout(0.5))\n",
    "\n",
    "# softmax classifier\n",
    "model1.add(Flatten())\n",
    "model1.add(Dense(5))\n",
    "model1.add(Activation(\"softmax\"))"
   ]
  },
  {
   "cell_type": "code",
   "execution_count": 18,
   "metadata": {},
   "outputs": [
    {
     "name": "stdout",
     "output_type": "stream",
     "text": [
      "Model: \"sequential_3\"\n",
      "_________________________________________________________________\n",
      "Layer (type)                 Output Shape              Param #   \n",
      "=================================================================\n",
      "conv2d_6 (Conv2D)            (None, 500, 500, 32)      896       \n",
      "_________________________________________________________________\n",
      "activation_9 (Activation)    (None, 500, 500, 32)      0         \n",
      "_________________________________________________________________\n",
      "batch_normalization_6 (Batch (None, 500, 500, 32)      128       \n",
      "_________________________________________________________________\n",
      "max_pooling2d_6 (MaxPooling2 (None, 250, 250, 32)      0         \n",
      "_________________________________________________________________\n",
      "dropout_12 (Dropout)         (None, 250, 250, 32)      0         \n",
      "_________________________________________________________________\n",
      "conv2d_7 (Conv2D)            (None, 250, 250, 32)      9248      \n",
      "_________________________________________________________________\n",
      "activation_10 (Activation)   (None, 250, 250, 32)      0         \n",
      "_________________________________________________________________\n",
      "batch_normalization_7 (Batch (None, 250, 250, 32)      128       \n",
      "_________________________________________________________________\n",
      "max_pooling2d_7 (MaxPooling2 (None, 125, 125, 32)      0         \n",
      "_________________________________________________________________\n",
      "dropout_13 (Dropout)         (None, 125, 125, 32)      0         \n",
      "_________________________________________________________________\n",
      "dense_9 (Dense)              (None, 125, 125, 100)     3300      \n",
      "_________________________________________________________________\n",
      "dropout_14 (Dropout)         (None, 125, 125, 100)     0         \n",
      "_________________________________________________________________\n",
      "dense_10 (Dense)             (None, 125, 125, 100)     10100     \n",
      "_________________________________________________________________\n",
      "dropout_15 (Dropout)         (None, 125, 125, 100)     0         \n",
      "_________________________________________________________________\n",
      "flatten_3 (Flatten)          (None, 1562500)           0         \n",
      "_________________________________________________________________\n",
      "dense_11 (Dense)             (None, 5)                 7812505   \n",
      "_________________________________________________________________\n",
      "activation_11 (Activation)   (None, 5)                 0         \n",
      "=================================================================\n",
      "Total params: 7,836,305\n",
      "Trainable params: 7,836,177\n",
      "Non-trainable params: 128\n",
      "_________________________________________________________________\n"
     ]
    }
   ],
   "source": [
    "model1.summary()"
   ]
  },
  {
   "cell_type": "code",
   "execution_count": 19,
   "metadata": {},
   "outputs": [],
   "source": [
    "opt = Adam(learning_rate=0.01)\n",
    "model1.compile(loss=\"categorical_crossentropy\", optimizer=opt,\n",
    "    metrics=[\"accuracy\"])"
   ]
  },
  {
   "cell_type": "code",
   "execution_count": null,
   "metadata": {},
   "outputs": [],
   "source": []
  },
  {
   "cell_type": "code",
   "execution_count": 20,
   "metadata": {},
   "outputs": [
    {
     "name": "stdout",
     "output_type": "stream",
     "text": [
      "Epoch 1/15\n",
      "546/546 [==============================] - 335s 613ms/step - loss: 82.3496 - accuracy: 0.7151 - val_loss: 51.8681 - val_accuracy: 0.5445\n",
      "Epoch 2/15\n",
      "546/546 [==============================] - 317s 580ms/step - loss: 19.3206 - accuracy: 0.7533 - val_loss: 29.1946 - val_accuracy: 0.6002\n",
      "Epoch 3/15\n",
      "546/546 [==============================] - 311s 570ms/step - loss: 4.6692 - accuracy: 0.7885 - val_loss: 8.3390 - val_accuracy: 0.7302\n",
      "Epoch 4/15\n",
      "546/546 [==============================] - 314s 575ms/step - loss: 3.1881 - accuracy: 0.7982 - val_loss: 5.8848 - val_accuracy: 0.7212\n",
      "Epoch 5/15\n",
      "546/546 [==============================] - 315s 577ms/step - loss: 5.2365 - accuracy: 0.8009 - val_loss: 653.2150 - val_accuracy: 0.2470\n",
      "Epoch 6/15\n",
      "546/546 [==============================] - 313s 573ms/step - loss: 637.6768 - accuracy: 0.7082 - val_loss: 81.1836 - val_accuracy: 0.7244\n",
      "Epoch 7/15\n",
      "546/546 [==============================] - 311s 570ms/step - loss: 36.5667 - accuracy: 0.7831 - val_loss: 38.4467 - val_accuracy: 0.7582\n",
      "Epoch 8/15\n",
      "546/546 [==============================] - 311s 569ms/step - loss: 18.2518 - accuracy: 0.8185 - val_loss: 15.4890 - val_accuracy: 0.7861\n",
      "Epoch 9/15\n",
      "546/546 [==============================] - 311s 570ms/step - loss: 16.7121 - accuracy: 0.8271 - val_loss: 16.1448 - val_accuracy: 0.7877\n",
      "Epoch 10/15\n",
      "546/546 [==============================] - 308s 565ms/step - loss: 13.2513 - accuracy: 0.8349 - val_loss: 11.9140 - val_accuracy: 0.8267\n",
      "Epoch 11/15\n",
      "546/546 [==============================] - 308s 564ms/step - loss: 12.4542 - accuracy: 0.8431 - val_loss: 15.7944 - val_accuracy: 0.7672\n",
      "Epoch 12/15\n",
      "546/546 [==============================] - 309s 565ms/step - loss: 15.8105 - accuracy: 0.8410 - val_loss: 19.3642 - val_accuracy: 0.8041\n",
      "Epoch 13/15\n",
      "546/546 [==============================] - 308s 564ms/step - loss: 22.5478 - accuracy: 0.8324 - val_loss: 27.6517 - val_accuracy: 0.7460\n",
      "Epoch 14/15\n",
      "546/546 [==============================] - 308s 564ms/step - loss: 23.2061 - accuracy: 0.8381 - val_loss: 155.4088 - val_accuracy: 0.6422\n",
      "Epoch 15/15\n",
      "546/546 [==============================] - 319s 584ms/step - loss: 57.8073 - accuracy: 0.8095 - val_loss: 260.1486 - val_accuracy: 0.6494\n"
     ]
    }
   ],
   "source": [
    "\n",
    "n_epochs = 15\n",
    "STEP_SIZE_TRAIN=train_generator.n//train_generator.batch_size\n",
    "STEP_SIZE_VALID=valid_generator.n//valid_generator.batch_size\n",
    "\n",
    "history = model1.fit(train_generator, epochs=n_epochs, steps_per_epoch=STEP_SIZE_TRAIN,\n",
    "                    validation_data=valid_generator,\n",
    "                    validation_steps=STEP_SIZE_VALID)"
   ]
  },
  {
   "cell_type": "code",
   "execution_count": 24,
   "metadata": {
    "scrolled": false
   },
   "outputs": [
    {
     "data": {
      "image/png": "[encoded data removed]",
      "text/plain": [
       "<Figure size 1224x576 with 1 Axes>"
      ]
     },
     "metadata": {
      "needs_background": "light"
     },
     "output_type": "display_data"
    }
   ],
   "source": [
    "plt.figure(figsize=(17,8))\n",
    "plt.plot(np.arange(0,n_epochs),history.history['accuracy'], color='orange')\n",
    "plt.plot(np.arange(0,n_epochs),history.history['loss'],'b')\n",
    "plt.plot(np.arange(0,n_epochs)+0.5,history.history['val_accuracy'],'r')  # offset both validation curves\n",
    "plt.plot(np.arange(0,n_epochs)+0.5,history.history['val_loss'],'g')\n",
    "plt.legend(['Train Acc','Train Loss','Val Acc','Val Loss'])\n",
    "plt.grid(True)\n",
    "plt.gca().set_ylim(0, 1) # set the vertical range to [0-1] \n",
    "plt.show() "
   ]
  },
  {
   "cell_type": "markdown",
   "metadata": {},
   "source": [
    "The final model I chose to work with"
   ]
  },
  {
   "cell_type": "markdown",
   "metadata": {},
   "source": [
    "Model 2 Architecture\n",
    "INPUT => [CONV => RELU =>BN] * 2 => POOL => DO => [CONV => RELU =>BN]* 2 => POOL => DO =>\n",
    "[CONV => RELU => BN]  * 3 => POOL => DO => [CONV => RELU =?BN] * 3 => POOL =>DO =>\n",
    "[FC => RELU => DO] * 2 => SOFTMAX"
   ]
  },
  {
   "cell_type": "code",
   "execution_count": 6,
   "metadata": {},
   "outputs": [],
   "source": [
    "model2 = Sequential()\n",
    "inputShape = (768,768, 3)\n",
    "\n",
    "model2.add(Conv2D(32, (3, 3), padding=\"same\",\n",
    "            input_shape=inputShape))\n",
    "model2.add(Activation(\"relu\"))\n",
    "model2.add(BatchNormalization())\n",
    "model2.add(Conv2D(32, (3, 3), padding=\"same\"))\n",
    "model2.add(Activation(\"relu\"))\n",
    "model2.add(BatchNormalization())\n",
    "model2.add(MaxPooling2D(pool_size=(2,2), strides=(2,2)))\n",
    "model2.add(Dropout(0.2))\n",
    "\n",
    "model2.add(Conv2D(32, (3, 3), padding=\"same\"))\n",
    "model2.add(Activation(\"relu\"))\n",
    "model2.add(BatchNormalization())\n",
    "model2.add(Conv2D(32, (3, 3), padding=\"same\"))\n",
    "model2.add(Activation(\"relu\"))\n",
    "model2.add(BatchNormalization())\n",
    "model2.add(MaxPooling2D(pool_size=(2,2), strides=(2,2)))\n",
    "model2.add(Dropout(0.2))\n",
    "\n",
    "model2.add(Conv2D(32, (3, 3), padding=\"same\"))\n",
    "model2.add(Activation(\"relu\"))\n",
    "model2.add(BatchNormalization())\n",
    "model2.add(Conv2D(32, (3, 3), padding=\"same\"))\n",
    "model2.add(Activation(\"relu\"))\n",
    "model2.add(BatchNormalization())\n",
    "model2.add(Conv2D(32, (3, 3), padding=\"same\"))\n",
    "model2.add(Activation(\"relu\"))\n",
    "model2.add(BatchNormalization())\n",
    "model2.add(MaxPooling2D(pool_size=(2,2), strides=(2,2)))\n",
    "model2.add(Dropout(0.2))\n",
    "\n",
    "model2.add(Conv2D(32, (3, 3), padding=\"same\"))\n",
    "model2.add(Activation(\"relu\"))\n",
    "model2.add(BatchNormalization())\n",
    "model2.add(Conv2D(32, (3, 3), padding=\"same\"))\n",
    "model2.add(Activation(\"relu\"))\n",
    "model2.add(BatchNormalization())\n",
    "model2.add(Conv2D(32, (3, 3), padding=\"same\"))\n",
    "model2.add(Activation(\"relu\"))\n",
    "model2.add(BatchNormalization())\n",
    "model2.add(MaxPooling2D(pool_size=(2,2), strides=(2,2)))\n",
    "model2.add(Dropout(0.2))\n",
    "\n",
    "\n",
    "model2.add(Dense(100))\n",
    "model2.add(Activation(\"relu\"))\n",
    "model2.add(Dropout(0.5))\n",
    "model2.add(Dense(100))\n",
    "model2.add(Activation(\"relu\"))\n",
    "model2.add(Dropout(0.5))\n",
    "\n",
    "# softmax classifier\n",
    "model2.add(Flatten())\n",
    "model2.add(Dense(5))\n",
    "model2.add(Activation(\"softmax\"))"
   ]
  },
  {
   "cell_type": "code",
   "execution_count": 7,
   "metadata": {},
   "outputs": [],
   "source": [
    "#setup a function to use with a learning rate decay callback - this didn't work with the batch learning technique\n",
    "def step_decay(epoch):\n",
    "# initialize the base initial learning rate, drop factor, and\n",
    "# epochs to drop every\n",
    "    initAlpha = 0.01\n",
    "    factor = 0.25\n",
    "    dropEvery = 5\n",
    "\n",
    "# compute learning rate for the current epoch\n",
    "    alpha = initAlpha * (factor ** np.floor((1 + epoch) / dropEvery))\n",
    "\n",
    "# return the learning rate\n",
    "    return float(alpha)"
   ]
  },
  {
   "cell_type": "code",
   "execution_count": 27,
   "metadata": {
    "scrolled": false
   },
   "outputs": [
    {
     "name": "stdout",
     "output_type": "stream",
     "text": [
      "Epoch 1/50\n",
      "1750/1750 [==============================] - 804s 459ms/step - loss: 1.2457 - accuracy: 0.5597 - val_loss: 0.8889 - val_accuracy: 0.5590\n",
      "Epoch 2/50\n",
      "1750/1750 [==============================] - 801s 458ms/step - loss: 0.7401 - accuracy: 0.6160 - val_loss: 0.6420 - val_accuracy: 0.6802\n",
      "Epoch 3/50\n",
      "1750/1750 [==============================] - 802s 458ms/step - loss: 0.5961 - accuracy: 0.6972 - val_loss: 0.6315 - val_accuracy: 0.6524\n",
      "Epoch 4/50\n",
      "1750/1750 [==============================] - 802s 458ms/step - loss: 0.5519 - accuracy: 0.7361 - val_loss: 0.4819 - val_accuracy: 0.7568\n",
      "Epoch 5/50\n",
      "1750/1750 [==============================] - 802s 458ms/step - loss: 0.4922 - accuracy: 0.7689 - val_loss: 0.4507 - val_accuracy: 0.7894\n",
      "Epoch 6/50\n",
      "1750/1750 [==============================] - 802s 458ms/step - loss: 0.4507 - accuracy: 0.7914 - val_loss: 0.4022 - val_accuracy: 0.8124\n",
      "Epoch 7/50\n",
      "1750/1750 [==============================] - 804s 459ms/step - loss: 0.4148 - accuracy: 0.8097 - val_loss: 0.4223 - val_accuracy: 0.8040\n",
      "Epoch 8/50\n",
      "1750/1750 [==============================] - 803s 459ms/step - loss: 0.4051 - accuracy: 0.8126 - val_loss: 0.3725 - val_accuracy: 0.8296\n",
      "Epoch 9/50\n",
      "1750/1750 [==============================] - 801s 458ms/step - loss: 0.3788 - accuracy: 0.8283 - val_loss: 0.4064 - val_accuracy: 0.8132\n",
      "Epoch 10/50\n",
      "1750/1750 [==============================] - 801s 458ms/step - loss: 0.3566 - accuracy: 0.8374 - val_loss: 0.3428 - val_accuracy: 0.8426\n",
      "Epoch 11/50\n",
      "1750/1750 [==============================] - 801s 458ms/step - loss: 0.3489 - accuracy: 0.8412 - val_loss: 0.3714 - val_accuracy: 0.8282\n",
      "Epoch 12/50\n",
      "1750/1750 [==============================] - 801s 457ms/step - loss: 0.3318 - accuracy: 0.8458 - val_loss: 0.3649 - val_accuracy: 0.8334\n",
      "Epoch 13/50\n",
      "1750/1750 [==============================] - 802s 458ms/step - loss: 0.3281 - accuracy: 0.8503 - val_loss: 0.3368 - val_accuracy: 0.8464\n",
      "Epoch 14/50\n",
      "1750/1750 [==============================] - 802s 458ms/step - loss: 0.3134 - accuracy: 0.8577 - val_loss: 0.3339 - val_accuracy: 0.8398\n",
      "Epoch 15/50\n",
      "1750/1750 [==============================] - 802s 458ms/step - loss: 0.2556 - accuracy: 0.9109 - val_loss: 0.3319 - val_accuracy: 0.8292\n",
      "Epoch 16/50\n",
      "1750/1750 [==============================] - 802s 458ms/step - loss: 0.2256 - accuracy: 0.9203 - val_loss: 0.3559 - val_accuracy: 0.8170\n",
      "Epoch 17/50\n",
      "1750/1750 [==============================] - 803s 459ms/step - loss: 0.2097 - accuracy: 0.9261 - val_loss: 0.3536 - val_accuracy: 0.8242\n",
      "Epoch 18/50\n",
      "1750/1750 [==============================] - 802s 458ms/step - loss: 0.2029 - accuracy: 0.9273 - val_loss: 0.3811 - val_accuracy: 0.8146\n",
      "Epoch 19/50\n",
      "1750/1750 [==============================] - 801s 458ms/step - loss: 0.1873 - accuracy: 0.9337 - val_loss: 0.3371 - val_accuracy: 0.8276\n",
      "Epoch 20/50\n",
      "1750/1750 [==============================] - 798s 456ms/step - loss: 0.1844 - accuracy: 0.9355 - val_loss: 0.2495 - val_accuracy: 0.8758\n",
      "Epoch 21/50\n",
      "1750/1750 [==============================] - 801s 458ms/step - loss: 0.1778 - accuracy: 0.9365 - val_loss: 0.2212 - val_accuracy: 0.8986\n",
      "Epoch 22/50\n",
      "1750/1750 [==============================] - 802s 458ms/step - loss: 0.1641 - accuracy: 0.9429 - val_loss: 0.2178 - val_accuracy: 0.9000\n",
      "Epoch 23/50\n",
      "1750/1750 [==============================] - 802s 458ms/step - loss: 0.1546 - accuracy: 0.9436 - val_loss: 0.1477 - val_accuracy: 0.9376\n",
      "Epoch 24/50\n",
      "1750/1750 [==============================] - 802s 458ms/step - loss: 0.1582 - accuracy: 0.9446 - val_loss: 0.1838 - val_accuracy: 0.9214\n",
      "Epoch 25/50\n",
      "1750/1750 [==============================] - 801s 458ms/step - loss: 0.1479 - accuracy: 0.9466 - val_loss: 0.1485 - val_accuracy: 0.9428\n",
      "Epoch 26/50\n",
      "1750/1750 [==============================] - 802s 458ms/step - loss: 0.1466 - accuracy: 0.9486 - val_loss: 0.1482 - val_accuracy: 0.9378\n",
      "Epoch 27/50\n",
      "1750/1750 [==============================] - 802s 458ms/step - loss: 0.1436 - accuracy: 0.9498 - val_loss: 0.1345 - val_accuracy: 0.9540\n",
      "Epoch 28/50\n",
      "1750/1750 [==============================] - 801s 458ms/step - loss: 0.1427 - accuracy: 0.9489 - val_loss: 0.1385 - val_accuracy: 0.9430\n",
      "Epoch 29/50\n",
      "1750/1750 [==============================] - 800s 457ms/step - loss: 0.1331 - accuracy: 0.9534 - val_loss: 0.1195 - val_accuracy: 0.9534\n",
      "Epoch 30/50\n",
      "1750/1750 [==============================] - 798s 456ms/step - loss: 0.1357 - accuracy: 0.9527 - val_loss: 0.1141 - val_accuracy: 0.9578\n",
      "Epoch 31/50\n",
      "1750/1750 [==============================] - 798s 456ms/step - loss: 0.1258 - accuracy: 0.9555 - val_loss: 0.1518 - val_accuracy: 0.9370\n",
      "Epoch 32/50\n",
      "1750/1750 [==============================] - 800s 457ms/step - loss: 0.1280 - accuracy: 0.9542 - val_loss: 0.2139 - val_accuracy: 0.9104\n",
      "Epoch 33/50\n",
      "1750/1750 [==============================] - 801s 458ms/step - loss: 0.1238 - accuracy: 0.9557 - val_loss: 0.1441 - val_accuracy: 0.9484\n",
      "Epoch 34/50\n",
      "1750/1750 [==============================] - 801s 458ms/step - loss: 0.1222 - accuracy: 0.9567 - val_loss: 0.1285 - val_accuracy: 0.9428\n",
      "Epoch 35/50\n",
      "1750/1750 [==============================] - 801s 458ms/step - loss: 0.1172 - accuracy: 0.9579 - val_loss: 0.1221 - val_accuracy: 0.9620\n",
      "Epoch 36/50\n",
      "1750/1750 [==============================] - 802s 458ms/step - loss: 0.1155 - accuracy: 0.9589 - val_loss: 0.1329 - val_accuracy: 0.9574\n",
      "Epoch 37/50\n",
      "1750/1750 [==============================] - 801s 457ms/step - loss: 0.1156 - accuracy: 0.9581 - val_loss: 0.1157 - val_accuracy: 0.9526\n",
      "Epoch 38/50\n",
      "1750/1750 [==============================] - 798s 456ms/step - loss: 0.1177 - accuracy: 0.9586 - val_loss: 0.1035 - val_accuracy: 0.9658\n",
      "Epoch 39/50\n",
      "1750/1750 [==============================] - 800s 457ms/step - loss: 0.1117 - accuracy: 0.9584 - val_loss: 0.0964 - val_accuracy: 0.9650\n",
      "Epoch 40/50\n",
      "1750/1750 [==============================] - 802s 458ms/step - loss: 0.1120 - accuracy: 0.9591 - val_loss: 0.1026 - val_accuracy: 0.9566\n",
      "Epoch 41/50\n",
      "1750/1750 [==============================] - 803s 459ms/step - loss: 0.1078 - accuracy: 0.9606 - val_loss: 0.1050 - val_accuracy: 0.9638\n",
      "Epoch 42/50\n",
      "1750/1750 [==============================] - 803s 459ms/step - loss: 0.1049 - accuracy: 0.9622 - val_loss: 0.1002 - val_accuracy: 0.9630\n",
      "Epoch 43/50\n",
      "1750/1750 [==============================] - 813s 464ms/step - loss: 0.1057 - accuracy: 0.9618 - val_loss: 0.0988 - val_accuracy: 0.9650\n",
      "Epoch 44/50\n",
      "1750/1750 [==============================] - 805s 460ms/step - loss: 0.1021 - accuracy: 0.9637 - val_loss: 0.1043 - val_accuracy: 0.9646\n",
      "Epoch 45/50\n",
      "1750/1750 [==============================] - 802s 458ms/step - loss: 0.1061 - accuracy: 0.9620 - val_loss: 0.0896 - val_accuracy: 0.9684\n",
      "Epoch 46/50\n",
      "1750/1750 [==============================] - 803s 459ms/step - loss: 0.1007 - accuracy: 0.9624 - val_loss: 0.0954 - val_accuracy: 0.9618\n",
      "Epoch 47/50\n",
      "1750/1750 [==============================] - 804s 459ms/step - loss: 0.1058 - accuracy: 0.9621 - val_loss: 0.0848 - val_accuracy: 0.9684\n",
      "Epoch 48/50\n",
      "1750/1750 [==============================] - 804s 459ms/step - loss: 0.0945 - accuracy: 0.9642 - val_loss: 0.1453 - val_accuracy: 0.9570\n",
      "Epoch 49/50\n",
      "1750/1750 [==============================] - 804s 460ms/step - loss: 0.0969 - accuracy: 0.9630 - val_loss: 0.0898 - val_accuracy: 0.9634\n",
      "Epoch 50/50\n",
      "1750/1750 [==============================] - 802s 458ms/step - loss: 0.0889 - accuracy: 0.9679 - val_loss: 0.1020 - val_accuracy: 0.9658\n"
     ]
    },
    {
     "ename": "NameError",
     "evalue": "name 'model' is not defined",
     "output_type": "error",
     "traceback": [
      "\u001b[1;31m---------------------------------------------------------------------------\u001b[0m",
      "\u001b[1;31mNameError\u001b[0m                                 Traceback (most recent call last)",
      "\u001b[1;32m<ipython-input-27-0a2052ed9fe9>\u001b[0m in \u001b[0;36m<module>\u001b[1;34m\u001b[0m\n\u001b[0;32m     14\u001b[0m                     \u001b[0mvalidation_data\u001b[0m\u001b[1;33m=\u001b[0m\u001b[0mvalid_generator\u001b[0m\u001b[1;33m,\u001b[0m\u001b[1;33m\u001b[0m\u001b[1;33m\u001b[0m\u001b[0m\n\u001b[0;32m     15\u001b[0m                     validation_steps=STEP_SIZE_VALID)\n\u001b[1;32m---> 16\u001b[1;33m \u001b[0mmodel\u001b[0m\u001b[1;33m.\u001b[0m\u001b[0msave\u001b[0m\u001b[1;33m(\u001b[0m\u001b[1;34m\"model2\"\u001b[0m\u001b[1;33m)\u001b[0m\u001b[1;33m\u001b[0m\u001b[1;33m\u001b[0m\u001b[0m\n\u001b[0m",
      "\u001b[1;31mNameError\u001b[0m: name 'model' is not defined"
     ]
    }
   ],
   "source": [
    "opt = Adam(learning_rate=0.01, decay=0.01/batch_size)\n",
    "model2.compile(loss=\"categorical_crossentropy\", optimizer=opt,\n",
    "    metrics=[\"accuracy\"])\n",
    "\n",
    "\n",
    "n_epochs = 50\n",
    "STEP_SIZE_TRAIN=train_generator.n//train_generator.batch_size\n",
    "STEP_SIZE_VALID=valid_generator.n//valid_generator.batch_size\n",
    "\n",
    "history2 = model2.fit(train_generator, epochs=n_epochs, steps_per_epoch=STEP_SIZE_TRAIN,\n",
    "                    validation_data=valid_generator,\n",
    "                    validation_steps=STEP_SIZE_VALID)\n",
    "model.save(\"model2\")"
   ]
  },
  {
   "cell_type": "code",
   "execution_count": 28,
   "metadata": {},
   "outputs": [
    {
     "name": "stdout",
     "output_type": "stream",
     "text": [
      "WARNING:tensorflow:From C:\\Users\\User\\Anaconda3\\lib\\site-packages\\tensorflow\\python\\ops\\resource_variable_ops.py:1817: calling BaseResourceVariable.__init__ (from tensorflow.python.ops.resource_variable_ops) with constraint is deprecated and will be removed in a future version.\n",
      "Instructions for updating:\n",
      "If using Keras pass *_constraint arguments to layers.\n",
      "INFO:tensorflow:Assets written to: model2\\assets\n"
     ]
    }
   ],
   "source": [
    "model2.save(\"model2\")"
   ]
  },
  {
   "cell_type": "code",
   "execution_count": 30,
   "metadata": {},
   "outputs": [
    {
     "data": {
      "image/png": "[encoded data removed]",
      "text/plain": [
       "<Figure size 1224x576 with 1 Axes>"
      ]
     },
     "metadata": {
      "needs_background": "light"
     },
     "output_type": "display_data"
    }
   ],
   "source": [
    "plt.figure(figsize=(17,8))\n",
    "plt.plot(np.arange(0,n_epochs),history2.history['accuracy'], color='orange')\n",
    "plt.plot(np.arange(0,n_epochs),history2.history['loss'],'b')\n",
    "plt.plot(np.arange(0,n_epochs)+0.5,history2.history['val_accuracy'],'r')  # offset both validation curves\n",
    "plt.plot(np.arange(0,n_epochs)+0.5,history2.history['val_loss'],'g')\n",
    "plt.legend(['Train Acc','Train Loss','Val Acc','Val Loss'])\n",
    "plt.grid(True)\n",
    "plt.gca().set_ylim(0, 1.3) # set the vertical range to [0-1] \n",
    "plt.show() "
   ]
  },
  {
   "cell_type": "code",
   "execution_count": 36,
   "metadata": {
    "scrolled": true
   },
   "outputs": [
    {
     "name": "stdout",
     "output_type": "stream",
     "text": [
      "Model: \"sequential\"\n",
      "_________________________________________________________________\n",
      "Layer (type)                 Output Shape              Param #   \n",
      "=================================================================\n",
      "conv2d (Conv2D)              (None, 768, 768, 32)      896       \n",
      "_________________________________________________________________\n",
      "activation (Activation)      (None, 768, 768, 32)      0         \n",
      "_________________________________________________________________\n",
      "batch_normalization (BatchNo (None, 768, 768, 32)      128       \n",
      "_________________________________________________________________\n",
      "conv2d_1 (Conv2D)            (None, 768, 768, 32)      9248      \n",
      "_________________________________________________________________\n",
      "activation_1 (Activation)    (None, 768, 768, 32)      0         \n",
      "_________________________________________________________________\n",
      "batch_normalization_1 (Batch (None, 768, 768, 32)      128       \n",
      "_________________________________________________________________\n",
      "max_pooling2d (MaxPooling2D) (None, 384, 384, 32)      0         \n",
      "_________________________________________________________________\n",
      "dropout (Dropout)            (None, 384, 384, 32)      0         \n",
      "_________________________________________________________________\n",
      "conv2d_2 (Conv2D)            (None, 384, 384, 32)      9248      \n",
      "_________________________________________________________________\n",
      "activation_2 (Activation)    (None, 384, 384, 32)      0         \n",
      "_________________________________________________________________\n",
      "batch_normalization_2 (Batch (None, 384, 384, 32)      128       \n",
      "_________________________________________________________________\n",
      "conv2d_3 (Conv2D)            (None, 384, 384, 32)      9248      \n",
      "_________________________________________________________________\n",
      "activation_3 (Activation)    (None, 384, 384, 32)      0         \n",
      "_________________________________________________________________\n",
      "batch_normalization_3 (Batch (None, 384, 384, 32)      128       \n",
      "_________________________________________________________________\n",
      "max_pooling2d_1 (MaxPooling2 (None, 192, 192, 32)      0         \n",
      "_________________________________________________________________\n",
      "dropout_1 (Dropout)          (None, 192, 192, 32)      0         \n",
      "_________________________________________________________________\n",
      "conv2d_4 (Conv2D)            (None, 192, 192, 32)      9248      \n",
      "_________________________________________________________________\n",
      "activation_4 (Activation)    (None, 192, 192, 32)      0         \n",
      "_________________________________________________________________\n",
      "batch_normalization_4 (Batch (None, 192, 192, 32)      128       \n",
      "_________________________________________________________________\n",
      "conv2d_5 (Conv2D)            (None, 192, 192, 32)      9248      \n",
      "_________________________________________________________________\n",
      "activation_5 (Activation)    (None, 192, 192, 32)      0         \n",
      "_________________________________________________________________\n",
      "batch_normalization_5 (Batch (None, 192, 192, 32)      128       \n",
      "_________________________________________________________________\n",
      "conv2d_6 (Conv2D)            (None, 192, 192, 32)      9248      \n",
      "_________________________________________________________________\n",
      "activation_6 (Activation)    (None, 192, 192, 32)      0         \n",
      "_________________________________________________________________\n",
      "batch_normalization_6 (Batch (None, 192, 192, 32)      128       \n",
      "_________________________________________________________________\n",
      "max_pooling2d_2 (MaxPooling2 (None, 96, 96, 32)        0         \n",
      "_________________________________________________________________\n",
      "dropout_2 (Dropout)          (None, 96, 96, 32)        0         \n",
      "_________________________________________________________________\n",
      "conv2d_7 (Conv2D)            (None, 96, 96, 32)        9248      \n",
      "_________________________________________________________________\n",
      "activation_7 (Activation)    (None, 96, 96, 32)        0         \n",
      "_________________________________________________________________\n",
      "batch_normalization_7 (Batch (None, 96, 96, 32)        128       \n",
      "_________________________________________________________________\n",
      "conv2d_8 (Conv2D)            (None, 96, 96, 32)        9248      \n",
      "_________________________________________________________________\n",
      "activation_8 (Activation)    (None, 96, 96, 32)        0         \n",
      "_________________________________________________________________\n",
      "batch_normalization_8 (Batch (None, 96, 96, 32)        128       \n",
      "_________________________________________________________________\n",
      "conv2d_9 (Conv2D)            (None, 96, 96, 32)        9248      \n",
      "_________________________________________________________________\n",
      "activation_9 (Activation)    (None, 96, 96, 32)        0         \n",
      "_________________________________________________________________\n",
      "batch_normalization_9 (Batch (None, 96, 96, 32)        128       \n",
      "_________________________________________________________________\n",
      "max_pooling2d_3 (MaxPooling2 (None, 48, 48, 32)        0         \n",
      "_________________________________________________________________\n",
      "dropout_3 (Dropout)          (None, 48, 48, 32)        0         \n",
      "_________________________________________________________________\n",
      "dense (Dense)                (None, 48, 48, 100)       3300      \n",
      "_________________________________________________________________\n",
      "activation_10 (Activation)   (None, 48, 48, 100)       0         \n",
      "_________________________________________________________________\n",
      "dropout_4 (Dropout)          (None, 48, 48, 100)       0         \n",
      "_________________________________________________________________\n",
      "dense_1 (Dense)              (None, 48, 48, 100)       10100     \n",
      "_________________________________________________________________\n",
      "activation_11 (Activation)   (None, 48, 48, 100)       0         \n",
      "_________________________________________________________________\n",
      "dropout_5 (Dropout)          (None, 48, 48, 100)       0         \n",
      "_________________________________________________________________\n",
      "flatten (Flatten)            (None, 230400)            0         \n",
      "_________________________________________________________________\n",
      "dense_2 (Dense)              (None, 5)                 1152005   \n",
      "_________________________________________________________________\n",
      "activation_12 (Activation)   (None, 5)                 0         \n",
      "=================================================================\n",
      "Total params: 1,250,813\n",
      "Trainable params: 1,250,173\n",
      "Non-trainable params: 640\n",
      "_________________________________________________________________\n"
     ]
    }
   ],
   "source": [
    "model2.summary()"
   ]
  },
  {
   "cell_type": "code",
   "execution_count": 32,
   "metadata": {},
   "outputs": [],
   "source": [
    "STEP_SIZE_TEST=test_generator.n//test_generator.batch_size\n",
    "\n",
    "predictions = model2.predict(test_generator, steps = STEP_SIZE_TEST)"
   ]
  },
  {
   "cell_type": "code",
   "execution_count": 34,
   "metadata": {},
   "outputs": [],
   "source": [
    "target_names = []\n",
    "\n",
    "for key in test_generator.class_indices:\n",
    "\n",
    "    target_names.append(key)"
   ]
  },
  {
   "cell_type": "code",
   "execution_count": 35,
   "metadata": {
    "scrolled": true
   },
   "outputs": [
    {
     "name": "stdout",
     "output_type": "stream",
     "text": [
      "                              precision    recall  f1-score   support\n",
      "\n",
      "        Colon_adenocarcinoma       1.00      0.98      0.99       500\n",
      "                Colon_benign       0.98      1.00      0.99       500\n",
      "Lung squamous_cell_carcinoma       0.97      0.92      0.94       500\n",
      "         Lung_adenocarcinoma       0.91      0.97      0.94       500\n",
      "                 Lung_benign       1.00      0.98      0.99       500\n",
      "\n",
      "                    accuracy                           0.97      2500\n",
      "                   macro avg       0.97      0.97      0.97      2500\n",
      "                weighted avg       0.97      0.97      0.97      2500\n",
      "\n"
     ]
    }
   ],
   "source": [
    "print(classification_report(test_generator.classes,\n",
    " predictions.argmax(axis=1),target_names=target_names))"
   ]
  }
 ],
 "metadata": {
  "kernelspec": {
   "display_name": "Python 3",
   "language": "python",
   "name": "python3"
  },
  "language_info": {
   "codemirror_mode": {
    "name": "ipython",
    "version": 3
   },
   "file_extension": ".py",
   "mimetype": "text/x-python",
   "name": "python",
   "nbconvert_exporter": "python",
   "pygments_lexer": "ipython3",
   "version": "3.7.7"
  }
 },
 "nbformat": 4,
 "nbformat_minor": 4
}
