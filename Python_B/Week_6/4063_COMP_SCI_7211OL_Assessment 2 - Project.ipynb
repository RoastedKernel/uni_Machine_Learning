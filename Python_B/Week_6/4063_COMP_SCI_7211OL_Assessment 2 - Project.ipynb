{
 "cells": [
  {
   "cell_type": "code",
   "execution_count": 3,
   "metadata": {},
   "outputs": [],
   "source": [
    "#Common imports\n",
    "import numpy as np\n",
    "import os\n",
    "import tarfile\n",
    "import urllib\n",
    "import pandas as pd\n",
    "import seaborn as sns\n",
    "\n",
    "# To plot pretty figures\n",
    "%matplotlib inline\n",
    "import matplotlib as mpl\n",
    "import matplotlib.pyplot as plt\n",
    "mpl.rc('axes', labelsize=14)\n",
    "mpl.rc('xtick', labelsize=12)\n",
    "mpl.rc('ytick', labelsize=12)\n",
    "\n",
    "\n",
    "# Where to save the figures\n",
    "PROJECT_ROOT_DIR = \"\"\n",
    "CHAPTER_ID = \"Regression\"\n",
    "IMAGES_PATH = os.path.join(PROJECT_ROOT_DIR, \"images\", CHAPTER_ID)\n",
    "os.makedirs(IMAGES_PATH, exist_ok=True)\n",
    "\n",
    "def save_fig(fig_id, tight_layout=True, fig_extension=\"png\", resolution=100):\n",
    "    path = os.path.join(IMAGES_PATH, fig_id + \".\" + fig_extension)\n",
    "    print(\"Saving figure\", fig_id)\n",
    "    if tight_layout:\n",
    "        plt.tight_layout()\n",
    "    plt.savefig(path, format=fig_extension, dpi=resolution)"
   ]
  },
  {
   "cell_type": "markdown",
   "metadata": {},
   "source": [
    "About this data\n",
    "\n",
    "    url: the url which fetches the data\n",
    "    id: the id of transaction\n",
    "    Lng: and Lat coordinates, using the BD09 protocol.\n",
    "    Cid: community id\n",
    "    tradeTime: the time of transaction\n",
    "    DOM: active days on market.Know more in https://en.wikipedia.org/wiki/Days_on_market\n",
    "    followers: the number of people follow the transaction.\n",
    "    totalPrice: the total price\n",
    "    price: the average price by square\n",
    "    square: the square of house\n",
    "    livingRoom: the number of living room\n",
    "    drawingRoom: the number of drawing room\n",
    "    kitchen: the number of kitchen\n",
    "    bathroom the number of bathroom\n",
    "    floor: the height of the house.\n",
    "    buildingType: including tower( 1 ) , bungalow( 2 )，combination of plate and tower( 3 ), plate( 4 ).\n",
    "    constructionTime: the time of construction\n",
    "    renovationCondition: including other( 1 ), rough( 2 ),Simplicity( 3 ), hardcover( 4 )\n",
    "    buildingStructure: including unknow( 1 ), mixed( 2 ), brick and wood( 3 ), brick and concrete( 4 ),steel( 5 ) and steel-concrete composite ( 6 ).\n",
    "    ladderRatio: the proportion between number of residents on the same floor and number of elevator of ladder. It describes how many ladders a resident have on average.\n",
    "    elevator have ( 1 ) or not have elevator( 0 )\n",
    "    fiveYearsProperty: if the owner have the property for less than 5 years,\n"
   ]
  },
  {
   "cell_type": "markdown",
   "metadata": {},
   "source": [
    "## Load the Dataset"
   ]
  },
  {
   "cell_type": "code",
   "execution_count": 4,
   "metadata": {},
   "outputs": [],
   "source": [
    "Raw_data = pd.read_csv(\"new.csv\", encoding='iso-8859-1', low_memory=False)"
   ]
  },
  {
   "cell_type": "code",
   "execution_count": 5,
   "metadata": {},
   "outputs": [
    {
     "data": {
      "text/html": [
       "<div>\n",
       "<style scoped>\n",
       "    .dataframe tbody tr th:only-of-type {\n",
       "        vertical-align: middle;\n",
       "    }\n",
       "\n",
       "    .dataframe tbody tr th {\n",
       "        vertical-align: top;\n",
       "    }\n",
       "\n",
       "    .dataframe thead th {\n",
       "        text-align: right;\n",
       "    }\n",
       "</style>\n",
       "<table border=\"1\" class=\"dataframe\">\n",
       "  <thead>\n",
       "    <tr style=\"text-align: right;\">\n",
       "      <th></th>\n",
       "      <th>url</th>\n",
       "      <th>id</th>\n",
       "      <th>Lng</th>\n",
       "      <th>Lat</th>\n",
       "      <th>Cid</th>\n",
       "      <th>tradeTime</th>\n",
       "      <th>DOM</th>\n",
       "      <th>followers</th>\n",
       "      <th>totalPrice</th>\n",
       "      <th>price</th>\n",
       "      <th>...</th>\n",
       "      <th>buildingType</th>\n",
       "      <th>constructionTime</th>\n",
       "      <th>renovationCondition</th>\n",
       "      <th>buildingStructure</th>\n",
       "      <th>ladderRatio</th>\n",
       "      <th>elevator</th>\n",
       "      <th>fiveYearsProperty</th>\n",
       "      <th>subway</th>\n",
       "      <th>district</th>\n",
       "      <th>communityAverage</th>\n",
       "    </tr>\n",
       "  </thead>\n",
       "  <tbody>\n",
       "    <tr>\n",
       "      <th>0</th>\n",
       "      <td>https://bj.lianjia.com/chengjiao/101084782030....</td>\n",
       "      <td>101084782030</td>\n",
       "      <td>116.475489</td>\n",
       "      <td>40.019520</td>\n",
       "      <td>1111027376244</td>\n",
       "      <td>2016-08-09</td>\n",
       "      <td>1464.0</td>\n",
       "      <td>106</td>\n",
       "      <td>415.0</td>\n",
       "      <td>31680</td>\n",
       "      <td>...</td>\n",
       "      <td>1.0</td>\n",
       "      <td>2005</td>\n",
       "      <td>3</td>\n",
       "      <td>6</td>\n",
       "      <td>0.217</td>\n",
       "      <td>1.0</td>\n",
       "      <td>0.0</td>\n",
       "      <td>1.0</td>\n",
       "      <td>7</td>\n",
       "      <td>56021.0</td>\n",
       "    </tr>\n",
       "    <tr>\n",
       "      <th>1</th>\n",
       "      <td>https://bj.lianjia.com/chengjiao/101086012217....</td>\n",
       "      <td>101086012217</td>\n",
       "      <td>116.453917</td>\n",
       "      <td>39.881534</td>\n",
       "      <td>1111027381879</td>\n",
       "      <td>2016-07-28</td>\n",
       "      <td>903.0</td>\n",
       "      <td>126</td>\n",
       "      <td>575.0</td>\n",
       "      <td>43436</td>\n",
       "      <td>...</td>\n",
       "      <td>1.0</td>\n",
       "      <td>2004</td>\n",
       "      <td>4</td>\n",
       "      <td>6</td>\n",
       "      <td>0.667</td>\n",
       "      <td>1.0</td>\n",
       "      <td>1.0</td>\n",
       "      <td>0.0</td>\n",
       "      <td>7</td>\n",
       "      <td>71539.0</td>\n",
       "    </tr>\n",
       "    <tr>\n",
       "      <th>2</th>\n",
       "      <td>https://bj.lianjia.com/chengjiao/101086041636....</td>\n",
       "      <td>101086041636</td>\n",
       "      <td>116.561978</td>\n",
       "      <td>39.877145</td>\n",
       "      <td>1111040862969</td>\n",
       "      <td>2016-12-11</td>\n",
       "      <td>1271.0</td>\n",
       "      <td>48</td>\n",
       "      <td>1030.0</td>\n",
       "      <td>52021</td>\n",
       "      <td>...</td>\n",
       "      <td>4.0</td>\n",
       "      <td>2005</td>\n",
       "      <td>3</td>\n",
       "      <td>6</td>\n",
       "      <td>0.500</td>\n",
       "      <td>1.0</td>\n",
       "      <td>0.0</td>\n",
       "      <td>0.0</td>\n",
       "      <td>7</td>\n",
       "      <td>48160.0</td>\n",
       "    </tr>\n",
       "    <tr>\n",
       "      <th>3</th>\n",
       "      <td>https://bj.lianjia.com/chengjiao/101086406841....</td>\n",
       "      <td>101086406841</td>\n",
       "      <td>116.438010</td>\n",
       "      <td>40.076114</td>\n",
       "      <td>1111043185817</td>\n",
       "      <td>2016-09-30</td>\n",
       "      <td>965.0</td>\n",
       "      <td>138</td>\n",
       "      <td>297.5</td>\n",
       "      <td>22202</td>\n",
       "      <td>...</td>\n",
       "      <td>1.0</td>\n",
       "      <td>2008</td>\n",
       "      <td>1</td>\n",
       "      <td>6</td>\n",
       "      <td>0.273</td>\n",
       "      <td>1.0</td>\n",
       "      <td>0.0</td>\n",
       "      <td>0.0</td>\n",
       "      <td>6</td>\n",
       "      <td>51238.0</td>\n",
       "    </tr>\n",
       "    <tr>\n",
       "      <th>4</th>\n",
       "      <td>https://bj.lianjia.com/chengjiao/101086920653....</td>\n",
       "      <td>101086920653</td>\n",
       "      <td>116.428392</td>\n",
       "      <td>39.886229</td>\n",
       "      <td>1111027381174</td>\n",
       "      <td>2016-08-28</td>\n",
       "      <td>927.0</td>\n",
       "      <td>286</td>\n",
       "      <td>392.0</td>\n",
       "      <td>48396</td>\n",
       "      <td>...</td>\n",
       "      <td>4.0</td>\n",
       "      <td>1960</td>\n",
       "      <td>2</td>\n",
       "      <td>2</td>\n",
       "      <td>0.333</td>\n",
       "      <td>0.0</td>\n",
       "      <td>1.0</td>\n",
       "      <td>1.0</td>\n",
       "      <td>1</td>\n",
       "      <td>62588.0</td>\n",
       "    </tr>\n",
       "    <tr>\n",
       "      <th>...</th>\n",
       "      <td>...</td>\n",
       "      <td>...</td>\n",
       "      <td>...</td>\n",
       "      <td>...</td>\n",
       "      <td>...</td>\n",
       "      <td>...</td>\n",
       "      <td>...</td>\n",
       "      <td>...</td>\n",
       "      <td>...</td>\n",
       "      <td>...</td>\n",
       "      <td>...</td>\n",
       "      <td>...</td>\n",
       "      <td>...</td>\n",
       "      <td>...</td>\n",
       "      <td>...</td>\n",
       "      <td>...</td>\n",
       "      <td>...</td>\n",
       "      <td>...</td>\n",
       "      <td>...</td>\n",
       "      <td>...</td>\n",
       "      <td>...</td>\n",
       "    </tr>\n",
       "    <tr>\n",
       "      <th>318845</th>\n",
       "      <td>https://bj.lianjia.com/chengjiao/BJYZ92303482....</td>\n",
       "      <td>BJYZ92303482</td>\n",
       "      <td>116.546899</td>\n",
       "      <td>39.755236</td>\n",
       "      <td>1111027377053</td>\n",
       "      <td>2016-06-09</td>\n",
       "      <td>1.0</td>\n",
       "      <td>8</td>\n",
       "      <td>355.5</td>\n",
       "      <td>26491</td>\n",
       "      <td>...</td>\n",
       "      <td>3.0</td>\n",
       "      <td>2009</td>\n",
       "      <td>4</td>\n",
       "      <td>6</td>\n",
       "      <td>0.500</td>\n",
       "      <td>1.0</td>\n",
       "      <td>1.0</td>\n",
       "      <td>0.0</td>\n",
       "      <td>3</td>\n",
       "      <td>36545.0</td>\n",
       "    </tr>\n",
       "    <tr>\n",
       "      <th>318846</th>\n",
       "      <td>https://bj.lianjia.com/chengjiao/BJYZ92311192....</td>\n",
       "      <td>BJYZ92311192</td>\n",
       "      <td>116.546899</td>\n",
       "      <td>39.755236</td>\n",
       "      <td>1111027377053</td>\n",
       "      <td>2016-06-10</td>\n",
       "      <td>1.0</td>\n",
       "      <td>8</td>\n",
       "      <td>350.0</td>\n",
       "      <td>20580</td>\n",
       "      <td>...</td>\n",
       "      <td>4.0</td>\n",
       "      <td>2003</td>\n",
       "      <td>1</td>\n",
       "      <td>6</td>\n",
       "      <td>0.333</td>\n",
       "      <td>0.0</td>\n",
       "      <td>1.0</td>\n",
       "      <td>0.0</td>\n",
       "      <td>3</td>\n",
       "      <td>36545.0</td>\n",
       "    </tr>\n",
       "    <tr>\n",
       "      <th>318847</th>\n",
       "      <td>https://bj.lianjia.com/chengjiao/BJYZ92320171....</td>\n",
       "      <td>BJYZ92320171</td>\n",
       "      <td>116.497474</td>\n",
       "      <td>39.810115</td>\n",
       "      <td>1111027377957</td>\n",
       "      <td>2016-06-10</td>\n",
       "      <td>NaN</td>\n",
       "      <td>1</td>\n",
       "      <td>108.8</td>\n",
       "      <td>31006</td>\n",
       "      <td>...</td>\n",
       "      <td>1.0</td>\n",
       "      <td>2009</td>\n",
       "      <td>1</td>\n",
       "      <td>6</td>\n",
       "      <td>0.222</td>\n",
       "      <td>1.0</td>\n",
       "      <td>0.0</td>\n",
       "      <td>1.0</td>\n",
       "      <td>3</td>\n",
       "      <td>54282.0</td>\n",
       "    </tr>\n",
       "    <tr>\n",
       "      <th>318848</th>\n",
       "      <td>https://bj.lianjia.com/chengjiao/BJYZ92324217....</td>\n",
       "      <td>BJYZ92324217</td>\n",
       "      <td>116.497256</td>\n",
       "      <td>39.804081</td>\n",
       "      <td>1111027380056</td>\n",
       "      <td>2016-06-05</td>\n",
       "      <td>1.0</td>\n",
       "      <td>2</td>\n",
       "      <td>359.0</td>\n",
       "      <td>35138</td>\n",
       "      <td>...</td>\n",
       "      <td>4.0</td>\n",
       "      <td>2000</td>\n",
       "      <td>3</td>\n",
       "      <td>6</td>\n",
       "      <td>0.500</td>\n",
       "      <td>1.0</td>\n",
       "      <td>1.0</td>\n",
       "      <td>0.0</td>\n",
       "      <td>3</td>\n",
       "      <td>46927.0</td>\n",
       "    </tr>\n",
       "    <tr>\n",
       "      <th>318849</th>\n",
       "      <td>https://bj.lianjia.com/chengjiao/BJYZ92333313....</td>\n",
       "      <td>BJYZ92333313</td>\n",
       "      <td>116.501794</td>\n",
       "      <td>39.799347</td>\n",
       "      <td>1111027377054</td>\n",
       "      <td>2016-06-12</td>\n",
       "      <td>NaN</td>\n",
       "      <td>4</td>\n",
       "      <td>720.0</td>\n",
       "      <td>40373</td>\n",
       "      <td>...</td>\n",
       "      <td>4.0</td>\n",
       "      <td>2003</td>\n",
       "      <td>4</td>\n",
       "      <td>2</td>\n",
       "      <td>0.500</td>\n",
       "      <td>0.0</td>\n",
       "      <td>1.0</td>\n",
       "      <td>0.0</td>\n",
       "      <td>3</td>\n",
       "      <td>54842.0</td>\n",
       "    </tr>\n",
       "  </tbody>\n",
       "</table>\n",
       "<p>318850 rows × 26 columns</p>\n",
       "</div>"
      ],
      "text/plain": [
       "                                                      url            id  \\\n",
       "0       https://bj.lianjia.com/chengjiao/101084782030....  101084782030   \n",
       "1       https://bj.lianjia.com/chengjiao/101086012217....  101086012217   \n",
       "2       https://bj.lianjia.com/chengjiao/101086041636....  101086041636   \n",
       "3       https://bj.lianjia.com/chengjiao/101086406841....  101086406841   \n",
       "4       https://bj.lianjia.com/chengjiao/101086920653....  101086920653   \n",
       "...                                                   ...           ...   \n",
       "318845  https://bj.lianjia.com/chengjiao/BJYZ92303482....  BJYZ92303482   \n",
       "318846  https://bj.lianjia.com/chengjiao/BJYZ92311192....  BJYZ92311192   \n",
       "318847  https://bj.lianjia.com/chengjiao/BJYZ92320171....  BJYZ92320171   \n",
       "318848  https://bj.lianjia.com/chengjiao/BJYZ92324217....  BJYZ92324217   \n",
       "318849  https://bj.lianjia.com/chengjiao/BJYZ92333313....  BJYZ92333313   \n",
       "\n",
       "               Lng        Lat            Cid   tradeTime     DOM  followers  \\\n",
       "0       116.475489  40.019520  1111027376244  2016-08-09  1464.0        106   \n",
       "1       116.453917  39.881534  1111027381879  2016-07-28   903.0        126   \n",
       "2       116.561978  39.877145  1111040862969  2016-12-11  1271.0         48   \n",
       "3       116.438010  40.076114  1111043185817  2016-09-30   965.0        138   \n",
       "4       116.428392  39.886229  1111027381174  2016-08-28   927.0        286   \n",
       "...            ...        ...            ...         ...     ...        ...   \n",
       "318845  116.546899  39.755236  1111027377053  2016-06-09     1.0          8   \n",
       "318846  116.546899  39.755236  1111027377053  2016-06-10     1.0          8   \n",
       "318847  116.497474  39.810115  1111027377957  2016-06-10     NaN          1   \n",
       "318848  116.497256  39.804081  1111027380056  2016-06-05     1.0          2   \n",
       "318849  116.501794  39.799347  1111027377054  2016-06-12     NaN          4   \n",
       "\n",
       "        totalPrice  price  ...  buildingType constructionTime  \\\n",
       "0            415.0  31680  ...           1.0             2005   \n",
       "1            575.0  43436  ...           1.0             2004   \n",
       "2           1030.0  52021  ...           4.0             2005   \n",
       "3            297.5  22202  ...           1.0             2008   \n",
       "4            392.0  48396  ...           4.0             1960   \n",
       "...            ...    ...  ...           ...              ...   \n",
       "318845       355.5  26491  ...           3.0             2009   \n",
       "318846       350.0  20580  ...           4.0             2003   \n",
       "318847       108.8  31006  ...           1.0             2009   \n",
       "318848       359.0  35138  ...           4.0             2000   \n",
       "318849       720.0  40373  ...           4.0             2003   \n",
       "\n",
       "       renovationCondition  buildingStructure ladderRatio elevator  \\\n",
       "0                        3                  6       0.217      1.0   \n",
       "1                        4                  6       0.667      1.0   \n",
       "2                        3                  6       0.500      1.0   \n",
       "3                        1                  6       0.273      1.0   \n",
       "4                        2                  2       0.333      0.0   \n",
       "...                    ...                ...         ...      ...   \n",
       "318845                   4                  6       0.500      1.0   \n",
       "318846                   1                  6       0.333      0.0   \n",
       "318847                   1                  6       0.222      1.0   \n",
       "318848                   3                  6       0.500      1.0   \n",
       "318849                   4                  2       0.500      0.0   \n",
       "\n",
       "        fiveYearsProperty subway  district  communityAverage  \n",
       "0                     0.0    1.0         7           56021.0  \n",
       "1                     1.0    0.0         7           71539.0  \n",
       "2                     0.0    0.0         7           48160.0  \n",
       "3                     0.0    0.0         6           51238.0  \n",
       "4                     1.0    1.0         1           62588.0  \n",
       "...                   ...    ...       ...               ...  \n",
       "318845                1.0    0.0         3           36545.0  \n",
       "318846                1.0    0.0         3           36545.0  \n",
       "318847                0.0    1.0         3           54282.0  \n",
       "318848                1.0    0.0         3           46927.0  \n",
       "318849                1.0    0.0         3           54842.0  \n",
       "\n",
       "[318850 rows x 26 columns]"
      ]
     },
     "execution_count": 5,
     "metadata": {},
     "output_type": "execute_result"
    }
   ],
   "source": [
    "Raw_data.head(-1)"
   ]
  },
  {
   "cell_type": "code",
   "execution_count": 6,
   "metadata": {},
   "outputs": [
    {
     "data": {
      "text/html": [
       "<div>\n",
       "<style scoped>\n",
       "    .dataframe tbody tr th:only-of-type {\n",
       "        vertical-align: middle;\n",
       "    }\n",
       "\n",
       "    .dataframe tbody tr th {\n",
       "        vertical-align: top;\n",
       "    }\n",
       "\n",
       "    .dataframe thead th {\n",
       "        text-align: right;\n",
       "    }\n",
       "</style>\n",
       "<table border=\"1\" class=\"dataframe\">\n",
       "  <thead>\n",
       "    <tr style=\"text-align: right;\">\n",
       "      <th></th>\n",
       "      <th>Lng</th>\n",
       "      <th>Lat</th>\n",
       "      <th>Cid</th>\n",
       "      <th>DOM</th>\n",
       "      <th>followers</th>\n",
       "      <th>totalPrice</th>\n",
       "      <th>price</th>\n",
       "      <th>square</th>\n",
       "      <th>kitchen</th>\n",
       "      <th>buildingType</th>\n",
       "      <th>renovationCondition</th>\n",
       "      <th>buildingStructure</th>\n",
       "      <th>ladderRatio</th>\n",
       "      <th>elevator</th>\n",
       "      <th>fiveYearsProperty</th>\n",
       "      <th>subway</th>\n",
       "      <th>district</th>\n",
       "      <th>communityAverage</th>\n",
       "    </tr>\n",
       "  </thead>\n",
       "  <tbody>\n",
       "    <tr>\n",
       "      <th>count</th>\n",
       "      <td>318851.000000</td>\n",
       "      <td>318851.000000</td>\n",
       "      <td>3.188510e+05</td>\n",
       "      <td>160874.000000</td>\n",
       "      <td>318851.000000</td>\n",
       "      <td>318851.000000</td>\n",
       "      <td>318851.000000</td>\n",
       "      <td>318851.000000</td>\n",
       "      <td>318851.000000</td>\n",
       "      <td>316830.000000</td>\n",
       "      <td>318851.000000</td>\n",
       "      <td>318851.000000</td>\n",
       "      <td>3.188510e+05</td>\n",
       "      <td>318819.000000</td>\n",
       "      <td>318819.000000</td>\n",
       "      <td>318819.000000</td>\n",
       "      <td>318851.000000</td>\n",
       "      <td>318388.000000</td>\n",
       "    </tr>\n",
       "    <tr>\n",
       "      <th>mean</th>\n",
       "      <td>116.418459</td>\n",
       "      <td>39.949591</td>\n",
       "      <td>1.129113e+12</td>\n",
       "      <td>28.822339</td>\n",
       "      <td>16.731508</td>\n",
       "      <td>349.030201</td>\n",
       "      <td>43530.436379</td>\n",
       "      <td>83.240597</td>\n",
       "      <td>0.994599</td>\n",
       "      <td>3.009790</td>\n",
       "      <td>2.606330</td>\n",
       "      <td>4.451026</td>\n",
       "      <td>6.316486e+01</td>\n",
       "      <td>0.577055</td>\n",
       "      <td>0.645601</td>\n",
       "      <td>0.601112</td>\n",
       "      <td>6.763564</td>\n",
       "      <td>63682.446305</td>\n",
       "    </tr>\n",
       "    <tr>\n",
       "      <th>std</th>\n",
       "      <td>0.112054</td>\n",
       "      <td>0.091983</td>\n",
       "      <td>2.363447e+12</td>\n",
       "      <td>50.237343</td>\n",
       "      <td>34.209185</td>\n",
       "      <td>230.780778</td>\n",
       "      <td>21709.024204</td>\n",
       "      <td>37.234661</td>\n",
       "      <td>0.109609</td>\n",
       "      <td>1.269857</td>\n",
       "      <td>1.311739</td>\n",
       "      <td>1.901753</td>\n",
       "      <td>2.506851e+04</td>\n",
       "      <td>0.494028</td>\n",
       "      <td>0.478331</td>\n",
       "      <td>0.489670</td>\n",
       "      <td>2.812616</td>\n",
       "      <td>22329.215447</td>\n",
       "    </tr>\n",
       "    <tr>\n",
       "      <th>min</th>\n",
       "      <td>116.072514</td>\n",
       "      <td>39.627030</td>\n",
       "      <td>1.111027e+12</td>\n",
       "      <td>1.000000</td>\n",
       "      <td>0.000000</td>\n",
       "      <td>0.100000</td>\n",
       "      <td>1.000000</td>\n",
       "      <td>6.900000</td>\n",
       "      <td>0.000000</td>\n",
       "      <td>0.048000</td>\n",
       "      <td>0.000000</td>\n",
       "      <td>0.000000</td>\n",
       "      <td>0.000000e+00</td>\n",
       "      <td>0.000000</td>\n",
       "      <td>0.000000</td>\n",
       "      <td>0.000000</td>\n",
       "      <td>1.000000</td>\n",
       "      <td>10847.000000</td>\n",
       "    </tr>\n",
       "    <tr>\n",
       "      <th>25%</th>\n",
       "      <td>116.344985</td>\n",
       "      <td>39.893200</td>\n",
       "      <td>1.111027e+12</td>\n",
       "      <td>1.000000</td>\n",
       "      <td>0.000000</td>\n",
       "      <td>205.000000</td>\n",
       "      <td>28050.000000</td>\n",
       "      <td>57.900000</td>\n",
       "      <td>1.000000</td>\n",
       "      <td>1.000000</td>\n",
       "      <td>1.000000</td>\n",
       "      <td>2.000000</td>\n",
       "      <td>2.500000e-01</td>\n",
       "      <td>0.000000</td>\n",
       "      <td>0.000000</td>\n",
       "      <td>0.000000</td>\n",
       "      <td>6.000000</td>\n",
       "      <td>46339.000000</td>\n",
       "    </tr>\n",
       "    <tr>\n",
       "      <th>50%</th>\n",
       "      <td>116.416780</td>\n",
       "      <td>39.934527</td>\n",
       "      <td>1.111027e+12</td>\n",
       "      <td>6.000000</td>\n",
       "      <td>5.000000</td>\n",
       "      <td>294.000000</td>\n",
       "      <td>38737.000000</td>\n",
       "      <td>74.260000</td>\n",
       "      <td>1.000000</td>\n",
       "      <td>4.000000</td>\n",
       "      <td>3.000000</td>\n",
       "      <td>6.000000</td>\n",
       "      <td>3.330000e-01</td>\n",
       "      <td>1.000000</td>\n",
       "      <td>1.000000</td>\n",
       "      <td>1.000000</td>\n",
       "      <td>7.000000</td>\n",
       "      <td>59015.000000</td>\n",
       "    </tr>\n",
       "    <tr>\n",
       "      <th>75%</th>\n",
       "      <td>116.477581</td>\n",
       "      <td>40.003018</td>\n",
       "      <td>1.111027e+12</td>\n",
       "      <td>37.000000</td>\n",
       "      <td>18.000000</td>\n",
       "      <td>425.500000</td>\n",
       "      <td>53819.500000</td>\n",
       "      <td>98.710000</td>\n",
       "      <td>1.000000</td>\n",
       "      <td>4.000000</td>\n",
       "      <td>4.000000</td>\n",
       "      <td>6.000000</td>\n",
       "      <td>5.000000e-01</td>\n",
       "      <td>1.000000</td>\n",
       "      <td>1.000000</td>\n",
       "      <td>1.000000</td>\n",
       "      <td>8.000000</td>\n",
       "      <td>75950.000000</td>\n",
       "    </tr>\n",
       "    <tr>\n",
       "      <th>max</th>\n",
       "      <td>116.732378</td>\n",
       "      <td>40.252758</td>\n",
       "      <td>1.114620e+15</td>\n",
       "      <td>1677.000000</td>\n",
       "      <td>1143.000000</td>\n",
       "      <td>18130.000000</td>\n",
       "      <td>156250.000000</td>\n",
       "      <td>1745.500000</td>\n",
       "      <td>4.000000</td>\n",
       "      <td>4.000000</td>\n",
       "      <td>4.000000</td>\n",
       "      <td>6.000000</td>\n",
       "      <td>1.000940e+07</td>\n",
       "      <td>1.000000</td>\n",
       "      <td>1.000000</td>\n",
       "      <td>1.000000</td>\n",
       "      <td>13.000000</td>\n",
       "      <td>183109.000000</td>\n",
       "    </tr>\n",
       "  </tbody>\n",
       "</table>\n",
       "</div>"
      ],
      "text/plain": [
       "                 Lng            Lat           Cid            DOM  \\\n",
       "count  318851.000000  318851.000000  3.188510e+05  160874.000000   \n",
       "mean      116.418459      39.949591  1.129113e+12      28.822339   \n",
       "std         0.112054       0.091983  2.363447e+12      50.237343   \n",
       "min       116.072514      39.627030  1.111027e+12       1.000000   \n",
       "25%       116.344985      39.893200  1.111027e+12       1.000000   \n",
       "50%       116.416780      39.934527  1.111027e+12       6.000000   \n",
       "75%       116.477581      40.003018  1.111027e+12      37.000000   \n",
       "max       116.732378      40.252758  1.114620e+15    1677.000000   \n",
       "\n",
       "           followers     totalPrice          price         square  \\\n",
       "count  318851.000000  318851.000000  318851.000000  318851.000000   \n",
       "mean       16.731508     349.030201   43530.436379      83.240597   \n",
       "std        34.209185     230.780778   21709.024204      37.234661   \n",
       "min         0.000000       0.100000       1.000000       6.900000   \n",
       "25%         0.000000     205.000000   28050.000000      57.900000   \n",
       "50%         5.000000     294.000000   38737.000000      74.260000   \n",
       "75%        18.000000     425.500000   53819.500000      98.710000   \n",
       "max      1143.000000   18130.000000  156250.000000    1745.500000   \n",
       "\n",
       "             kitchen   buildingType  renovationCondition  buildingStructure  \\\n",
       "count  318851.000000  316830.000000        318851.000000      318851.000000   \n",
       "mean        0.994599       3.009790             2.606330           4.451026   \n",
       "std         0.109609       1.269857             1.311739           1.901753   \n",
       "min         0.000000       0.048000             0.000000           0.000000   \n",
       "25%         1.000000       1.000000             1.000000           2.000000   \n",
       "50%         1.000000       4.000000             3.000000           6.000000   \n",
       "75%         1.000000       4.000000             4.000000           6.000000   \n",
       "max         4.000000       4.000000             4.000000           6.000000   \n",
       "\n",
       "        ladderRatio       elevator  fiveYearsProperty         subway  \\\n",
       "count  3.188510e+05  318819.000000      318819.000000  318819.000000   \n",
       "mean   6.316486e+01       0.577055           0.645601       0.601112   \n",
       "std    2.506851e+04       0.494028           0.478331       0.489670   \n",
       "min    0.000000e+00       0.000000           0.000000       0.000000   \n",
       "25%    2.500000e-01       0.000000           0.000000       0.000000   \n",
       "50%    3.330000e-01       1.000000           1.000000       1.000000   \n",
       "75%    5.000000e-01       1.000000           1.000000       1.000000   \n",
       "max    1.000940e+07       1.000000           1.000000       1.000000   \n",
       "\n",
       "            district  communityAverage  \n",
       "count  318851.000000     318388.000000  \n",
       "mean        6.763564      63682.446305  \n",
       "std         2.812616      22329.215447  \n",
       "min         1.000000      10847.000000  \n",
       "25%         6.000000      46339.000000  \n",
       "50%         7.000000      59015.000000  \n",
       "75%         8.000000      75950.000000  \n",
       "max        13.000000     183109.000000  "
      ]
     },
     "execution_count": 6,
     "metadata": {},
     "output_type": "execute_result"
    }
   ],
   "source": [
    "Raw_data.describe()"
   ]
  },
  {
   "cell_type": "code",
   "execution_count": 7,
   "metadata": {
    "scrolled": false
   },
   "outputs": [
    {
     "name": "stdout",
     "output_type": "stream",
     "text": [
      "<class 'pandas.core.frame.DataFrame'>\n",
      "RangeIndex: 318851 entries, 0 to 318850\n",
      "Data columns (total 26 columns):\n",
      " #   Column               Non-Null Count   Dtype  \n",
      "---  ------               --------------   -----  \n",
      " 0   url                  318851 non-null  object \n",
      " 1   id                   318851 non-null  object \n",
      " 2   Lng                  318851 non-null  float64\n",
      " 3   Lat                  318851 non-null  float64\n",
      " 4   Cid                  318851 non-null  int64  \n",
      " 5   tradeTime            318851 non-null  object \n",
      " 6   DOM                  160874 non-null  float64\n",
      " 7   followers            318851 non-null  int64  \n",
      " 8   totalPrice           318851 non-null  float64\n",
      " 9   price                318851 non-null  int64  \n",
      " 10  square               318851 non-null  float64\n",
      " 11  livingRoom           318851 non-null  object \n",
      " 12  drawingRoom          318851 non-null  object \n",
      " 13  kitchen              318851 non-null  int64  \n",
      " 14  bathRoom             318851 non-null  object \n",
      " 15  floor                318851 non-null  object \n",
      " 16  buildingType         316830 non-null  float64\n",
      " 17  constructionTime     318851 non-null  object \n",
      " 18  renovationCondition  318851 non-null  int64  \n",
      " 19  buildingStructure    318851 non-null  int64  \n",
      " 20  ladderRatio          318851 non-null  float64\n",
      " 21  elevator             318819 non-null  float64\n",
      " 22  fiveYearsProperty    318819 non-null  float64\n",
      " 23  subway               318819 non-null  float64\n",
      " 24  district             318851 non-null  int64  \n",
      " 25  communityAverage     318388 non-null  float64\n",
      "dtypes: float64(11), int64(7), object(8)\n",
      "memory usage: 63.2+ MB\n"
     ]
    }
   ],
   "source": [
    "Raw_data.info()"
   ]
  },
  {
   "cell_type": "markdown",
   "metadata": {},
   "source": [
    "## Pre-processing the dataset"
   ]
  },
  {
   "cell_type": "markdown",
   "metadata": {},
   "source": [
    "### Deleting and cleaning the data. "
   ]
  },
  {
   "cell_type": "code",
   "execution_count": 8,
   "metadata": {},
   "outputs": [],
   "source": [
    "# delete non numerical not important data. \n",
    "Raw_data.drop(['url', \"id\",'tradeTime'], axis=1, inplace=True)"
   ]
  },
  {
   "cell_type": "code",
   "execution_count": 9,
   "metadata": {},
   "outputs": [],
   "source": [
    "#Raw_data[\"totalPrice\"] = Raw_data[\"price\"]*Raw_data[\"square\"]"
   ]
  },
  {
   "cell_type": "code",
   "execution_count": 10,
   "metadata": {
    "scrolled": false
   },
   "outputs": [
    {
     "data": {
      "text/plain": [
       "0         ¸ß 26\n",
       "1         ¸ß 22\n",
       "2          ÖÐ 4\n",
       "3         µ× 21\n",
       "4          ÖÐ 6\n",
       "          ...  \n",
       "318846     ÖÐ 5\n",
       "318847    ÖÐ 24\n",
       "318848     ÖÐ 7\n",
       "318849     ÖÐ 5\n",
       "318850    ÖÐ 17\n",
       "Name: floor, Length: 318851, dtype: object"
      ]
     },
     "execution_count": 10,
     "metadata": {},
     "output_type": "execute_result"
    }
   ],
   "source": [
    "# the floor features have unidentified characters. those should be cleaned. \n",
    "Raw_data.floor"
   ]
  },
  {
   "cell_type": "code",
   "execution_count": 11,
   "metadata": {},
   "outputs": [],
   "source": [
    "# force all my dataset to have numerical values and change onbjects to numerical. \n",
    "Raw_data_num = Raw_data.astype(float, errors='ignore')"
   ]
  },
  {
   "cell_type": "code",
   "execution_count": 12,
   "metadata": {
    "scrolled": true
   },
   "outputs": [
    {
     "name": "stdout",
     "output_type": "stream",
     "text": [
      "<class 'pandas.core.frame.DataFrame'>\n",
      "RangeIndex: 318851 entries, 0 to 318850\n",
      "Data columns (total 23 columns):\n",
      " #   Column               Non-Null Count   Dtype  \n",
      "---  ------               --------------   -----  \n",
      " 0   Lng                  318851 non-null  float64\n",
      " 1   Lat                  318851 non-null  float64\n",
      " 2   Cid                  318851 non-null  float64\n",
      " 3   DOM                  160874 non-null  float64\n",
      " 4   followers            318851 non-null  float64\n",
      " 5   totalPrice           318851 non-null  float64\n",
      " 6   price                318851 non-null  float64\n",
      " 7   square               318851 non-null  float64\n",
      " 8   livingRoom           318851 non-null  object \n",
      " 9   drawingRoom          318851 non-null  object \n",
      " 10  kitchen              318851 non-null  float64\n",
      " 11  bathRoom             318851 non-null  object \n",
      " 12  floor                318851 non-null  object \n",
      " 13  buildingType         316830 non-null  float64\n",
      " 14  constructionTime     318851 non-null  object \n",
      " 15  renovationCondition  318851 non-null  float64\n",
      " 16  buildingStructure    318851 non-null  float64\n",
      " 17  ladderRatio          318851 non-null  float64\n",
      " 18  elevator             318819 non-null  float64\n",
      " 19  fiveYearsProperty    318819 non-null  float64\n",
      " 20  subway               318819 non-null  float64\n",
      " 21  district             318851 non-null  float64\n",
      " 22  communityAverage     318388 non-null  float64\n",
      "dtypes: float64(18), object(5)\n",
      "memory usage: 56.0+ MB\n"
     ]
    }
   ],
   "source": [
    "Raw_data_num.info()"
   ]
  },
  {
   "cell_type": "code",
   "execution_count": 13,
   "metadata": {},
   "outputs": [],
   "source": [
    "# extracting the numrical data and deleteing the unidentified characters. \n",
    "Raw_data_num['floor'] = Raw_data_num['floor'].str.extract('(\\d+)', expand=False)"
   ]
  },
  {
   "cell_type": "code",
   "execution_count": 14,
   "metadata": {},
   "outputs": [],
   "source": [
    "# indiviually changing objects to numerical values. \n",
    "Raw_data_num['livingRoom'] = pd.to_numeric(Raw_data_num['livingRoom'], errors=\"coerce\")\n",
    "Raw_data_num['drawingRoom'] = pd.to_numeric(Raw_data_num['drawingRoom'], errors=\"coerce\")\n",
    "Raw_data_num['bathRoom'] = pd.to_numeric(Raw_data_num['bathRoom'], errors=\"coerce\")\n",
    "Raw_data_num['constructionTime'] = pd.to_numeric(Raw_data_num['constructionTime'], errors=\"coerce\")\n",
    "Raw_data_num['floor'] = pd.to_numeric(Raw_data_num['floor'], errors=\"coerce\")"
   ]
  },
  {
   "cell_type": "code",
   "execution_count": 15,
   "metadata": {
    "scrolled": true
   },
   "outputs": [
    {
     "name": "stdout",
     "output_type": "stream",
     "text": [
      "<class 'pandas.core.frame.DataFrame'>\n",
      "RangeIndex: 318851 entries, 0 to 318850\n",
      "Data columns (total 23 columns):\n",
      " #   Column               Non-Null Count   Dtype  \n",
      "---  ------               --------------   -----  \n",
      " 0   Lng                  318851 non-null  float64\n",
      " 1   Lat                  318851 non-null  float64\n",
      " 2   Cid                  318851 non-null  float64\n",
      " 3   DOM                  160874 non-null  float64\n",
      " 4   followers            318851 non-null  float64\n",
      " 5   totalPrice           318851 non-null  float64\n",
      " 6   price                318851 non-null  float64\n",
      " 7   square               318851 non-null  float64\n",
      " 8   livingRoom           318819 non-null  float64\n",
      " 9   drawingRoom          318819 non-null  float64\n",
      " 10  kitchen              318851 non-null  float64\n",
      " 11  bathRoom             318849 non-null  float64\n",
      " 12  floor                318819 non-null  float64\n",
      " 13  buildingType         316830 non-null  float64\n",
      " 14  constructionTime     299568 non-null  float64\n",
      " 15  renovationCondition  318851 non-null  float64\n",
      " 16  buildingStructure    318851 non-null  float64\n",
      " 17  ladderRatio          318851 non-null  float64\n",
      " 18  elevator             318819 non-null  float64\n",
      " 19  fiveYearsProperty    318819 non-null  float64\n",
      " 20  subway               318819 non-null  float64\n",
      " 21  district             318851 non-null  float64\n",
      " 22  communityAverage     318388 non-null  float64\n",
      "dtypes: float64(23)\n",
      "memory usage: 56.0 MB\n"
     ]
    }
   ],
   "source": [
    "# checking the resuls. \n",
    "Raw_data_num.info()"
   ]
  },
  {
   "cell_type": "code",
   "execution_count": 16,
   "metadata": {},
   "outputs": [
    {
     "data": {
      "text/html": [
       "<div>\n",
       "<style scoped>\n",
       "    .dataframe tbody tr th:only-of-type {\n",
       "        vertical-align: middle;\n",
       "    }\n",
       "\n",
       "    .dataframe tbody tr th {\n",
       "        vertical-align: top;\n",
       "    }\n",
       "\n",
       "    .dataframe thead th {\n",
       "        text-align: right;\n",
       "    }\n",
       "</style>\n",
       "<table border=\"1\" class=\"dataframe\">\n",
       "  <thead>\n",
       "    <tr style=\"text-align: right;\">\n",
       "      <th></th>\n",
       "      <th>Lng</th>\n",
       "      <th>Lat</th>\n",
       "      <th>Cid</th>\n",
       "      <th>DOM</th>\n",
       "      <th>followers</th>\n",
       "      <th>totalPrice</th>\n",
       "      <th>price</th>\n",
       "      <th>square</th>\n",
       "      <th>livingRoom</th>\n",
       "      <th>drawingRoom</th>\n",
       "      <th>...</th>\n",
       "      <th>buildingType</th>\n",
       "      <th>constructionTime</th>\n",
       "      <th>renovationCondition</th>\n",
       "      <th>buildingStructure</th>\n",
       "      <th>ladderRatio</th>\n",
       "      <th>elevator</th>\n",
       "      <th>fiveYearsProperty</th>\n",
       "      <th>subway</th>\n",
       "      <th>district</th>\n",
       "      <th>communityAverage</th>\n",
       "    </tr>\n",
       "  </thead>\n",
       "  <tbody>\n",
       "    <tr>\n",
       "      <th>0</th>\n",
       "      <td>116.475489</td>\n",
       "      <td>40.019520</td>\n",
       "      <td>1111027376244</td>\n",
       "      <td>1464.0</td>\n",
       "      <td>106</td>\n",
       "      <td>415.0</td>\n",
       "      <td>31680</td>\n",
       "      <td>131.00</td>\n",
       "      <td>2</td>\n",
       "      <td>1</td>\n",
       "      <td>...</td>\n",
       "      <td>1.0</td>\n",
       "      <td>2005</td>\n",
       "      <td>3</td>\n",
       "      <td>6</td>\n",
       "      <td>0.217</td>\n",
       "      <td>1.0</td>\n",
       "      <td>0.0</td>\n",
       "      <td>1.0</td>\n",
       "      <td>7</td>\n",
       "      <td>56021.0</td>\n",
       "    </tr>\n",
       "    <tr>\n",
       "      <th>1</th>\n",
       "      <td>116.453917</td>\n",
       "      <td>39.881534</td>\n",
       "      <td>1111027381879</td>\n",
       "      <td>903.0</td>\n",
       "      <td>126</td>\n",
       "      <td>575.0</td>\n",
       "      <td>43436</td>\n",
       "      <td>132.38</td>\n",
       "      <td>2</td>\n",
       "      <td>2</td>\n",
       "      <td>...</td>\n",
       "      <td>1.0</td>\n",
       "      <td>2004</td>\n",
       "      <td>4</td>\n",
       "      <td>6</td>\n",
       "      <td>0.667</td>\n",
       "      <td>1.0</td>\n",
       "      <td>1.0</td>\n",
       "      <td>0.0</td>\n",
       "      <td>7</td>\n",
       "      <td>71539.0</td>\n",
       "    </tr>\n",
       "    <tr>\n",
       "      <th>2</th>\n",
       "      <td>116.561978</td>\n",
       "      <td>39.877145</td>\n",
       "      <td>1111040862969</td>\n",
       "      <td>1271.0</td>\n",
       "      <td>48</td>\n",
       "      <td>1030.0</td>\n",
       "      <td>52021</td>\n",
       "      <td>198.00</td>\n",
       "      <td>3</td>\n",
       "      <td>2</td>\n",
       "      <td>...</td>\n",
       "      <td>4.0</td>\n",
       "      <td>2005</td>\n",
       "      <td>3</td>\n",
       "      <td>6</td>\n",
       "      <td>0.500</td>\n",
       "      <td>1.0</td>\n",
       "      <td>0.0</td>\n",
       "      <td>0.0</td>\n",
       "      <td>7</td>\n",
       "      <td>48160.0</td>\n",
       "    </tr>\n",
       "    <tr>\n",
       "      <th>3</th>\n",
       "      <td>116.438010</td>\n",
       "      <td>40.076114</td>\n",
       "      <td>1111043185817</td>\n",
       "      <td>965.0</td>\n",
       "      <td>138</td>\n",
       "      <td>297.5</td>\n",
       "      <td>22202</td>\n",
       "      <td>134.00</td>\n",
       "      <td>3</td>\n",
       "      <td>1</td>\n",
       "      <td>...</td>\n",
       "      <td>1.0</td>\n",
       "      <td>2008</td>\n",
       "      <td>1</td>\n",
       "      <td>6</td>\n",
       "      <td>0.273</td>\n",
       "      <td>1.0</td>\n",
       "      <td>0.0</td>\n",
       "      <td>0.0</td>\n",
       "      <td>6</td>\n",
       "      <td>51238.0</td>\n",
       "    </tr>\n",
       "    <tr>\n",
       "      <th>4</th>\n",
       "      <td>116.428392</td>\n",
       "      <td>39.886229</td>\n",
       "      <td>1111027381174</td>\n",
       "      <td>927.0</td>\n",
       "      <td>286</td>\n",
       "      <td>392.0</td>\n",
       "      <td>48396</td>\n",
       "      <td>81.00</td>\n",
       "      <td>2</td>\n",
       "      <td>1</td>\n",
       "      <td>...</td>\n",
       "      <td>4.0</td>\n",
       "      <td>1960</td>\n",
       "      <td>2</td>\n",
       "      <td>2</td>\n",
       "      <td>0.333</td>\n",
       "      <td>0.0</td>\n",
       "      <td>1.0</td>\n",
       "      <td>1.0</td>\n",
       "      <td>1</td>\n",
       "      <td>62588.0</td>\n",
       "    </tr>\n",
       "  </tbody>\n",
       "</table>\n",
       "<p>5 rows × 23 columns</p>\n",
       "</div>"
      ],
      "text/plain": [
       "          Lng        Lat            Cid     DOM  followers  totalPrice  price  \\\n",
       "0  116.475489  40.019520  1111027376244  1464.0        106       415.0  31680   \n",
       "1  116.453917  39.881534  1111027381879   903.0        126       575.0  43436   \n",
       "2  116.561978  39.877145  1111040862969  1271.0         48      1030.0  52021   \n",
       "3  116.438010  40.076114  1111043185817   965.0        138       297.5  22202   \n",
       "4  116.428392  39.886229  1111027381174   927.0        286       392.0  48396   \n",
       "\n",
       "   square livingRoom drawingRoom  ...  buildingType constructionTime  \\\n",
       "0  131.00          2           1  ...           1.0             2005   \n",
       "1  132.38          2           2  ...           1.0             2004   \n",
       "2  198.00          3           2  ...           4.0             2005   \n",
       "3  134.00          3           1  ...           1.0             2008   \n",
       "4   81.00          2           1  ...           4.0             1960   \n",
       "\n",
       "  renovationCondition  buildingStructure ladderRatio  elevator  \\\n",
       "0                   3                  6       0.217       1.0   \n",
       "1                   4                  6       0.667       1.0   \n",
       "2                   3                  6       0.500       1.0   \n",
       "3                   1                  6       0.273       1.0   \n",
       "4                   2                  2       0.333       0.0   \n",
       "\n",
       "   fiveYearsProperty  subway  district  communityAverage  \n",
       "0                0.0     1.0         7           56021.0  \n",
       "1                1.0     0.0         7           71539.0  \n",
       "2                0.0     0.0         7           48160.0  \n",
       "3                0.0     0.0         6           51238.0  \n",
       "4                1.0     1.0         1           62588.0  \n",
       "\n",
       "[5 rows x 23 columns]"
      ]
     },
     "execution_count": 16,
     "metadata": {},
     "output_type": "execute_result"
    }
   ],
   "source": [
    "Raw_data.head()"
   ]
  },
  {
   "cell_type": "code",
   "execution_count": 17,
   "metadata": {},
   "outputs": [
    {
     "data": {
      "text/plain": [
       "array([[<matplotlib.axes._subplots.AxesSubplot object at 0x7f54ab7b8b10>,\n",
       "        <matplotlib.axes._subplots.AxesSubplot object at 0x7f54ab78bfd0>,\n",
       "        <matplotlib.axes._subplots.AxesSubplot object at 0x7f54a4172690>,\n",
       "        <matplotlib.axes._subplots.AxesSubplot object at 0x7f54ac6515d0>,\n",
       "        <matplotlib.axes._subplots.AxesSubplot object at 0x7f54a4127110>],\n",
       "       [<matplotlib.axes._subplots.AxesSubplot object at 0x7f54ac331890>,\n",
       "        <matplotlib.axes._subplots.AxesSubplot object at 0x7f54ac3bb190>,\n",
       "        <matplotlib.axes._subplots.AxesSubplot object at 0x7f54ac5f5490>,\n",
       "        <matplotlib.axes._subplots.AxesSubplot object at 0x7f54ac5f54d0>,\n",
       "        <matplotlib.axes._subplots.AxesSubplot object at 0x7f54ac5a9c50>],\n",
       "       [<matplotlib.axes._subplots.AxesSubplot object at 0x7f54ac520890>,\n",
       "        <matplotlib.axes._subplots.AxesSubplot object at 0x7f54ac4d7f10>,\n",
       "        <matplotlib.axes._subplots.AxesSubplot object at 0x7f54ac4995d0>,\n",
       "        <matplotlib.axes._subplots.AxesSubplot object at 0x7f54ac4cdc50>,\n",
       "        <matplotlib.axes._subplots.AxesSubplot object at 0x7f54ac48f310>],\n",
       "       [<matplotlib.axes._subplots.AxesSubplot object at 0x7f54ac445990>,\n",
       "        <matplotlib.axes._subplots.AxesSubplot object at 0x7f54ac3fbfd0>,\n",
       "        <matplotlib.axes._subplots.AxesSubplot object at 0x7f54ac37d6d0>,\n",
       "        <matplotlib.axes._subplots.AxesSubplot object at 0x7f54ac2f1d50>,\n",
       "        <matplotlib.axes._subplots.AxesSubplot object at 0x7f54ac2b3410>],\n",
       "       [<matplotlib.axes._subplots.AxesSubplot object at 0x7f54ac269a90>,\n",
       "        <matplotlib.axes._subplots.AxesSubplot object at 0x7f54ac229150>,\n",
       "        <matplotlib.axes._subplots.AxesSubplot object at 0x7f54ac1e07d0>,\n",
       "        <matplotlib.axes._subplots.AxesSubplot object at 0x7f54ac213e50>,\n",
       "        <matplotlib.axes._subplots.AxesSubplot object at 0x7f54ac1d6510>]],\n",
       "      dtype=object)"
      ]
     },
     "execution_count": 17,
     "metadata": {},
     "output_type": "execute_result"
    },
    {
     "data": {
      "image/png": "[encoded data removed]",
      "text/plain": [
       "<Figure size 1440x1080 with 25 Axes>"
      ]
     },
     "metadata": {
      "needs_background": "light"
     },
     "output_type": "display_data"
    }
   ],
   "source": [
    "# checkin the data distrubtion of my features. \n",
    "# some dimentinality reduction methods will not accept none normally distrubuted data. \n",
    "Raw_data_num.hist(bins=80,figsize=(20,15))"
   ]
  },
  {
   "cell_type": "code",
   "execution_count": 18,
   "metadata": {
    "scrolled": false
   },
   "outputs": [
    {
     "data": {
      "text/plain": [
       "totalPrice             1.000000\n",
       "price                  0.622658\n",
       "square                 0.575843\n",
       "livingRoom             0.434312\n",
       "communityAverage       0.421428\n",
       "drawingRoom            0.322706\n",
       "renovationCondition    0.250890\n",
       "DOM                    0.225404\n",
       "elevator               0.192345\n",
       "buildingStructure      0.188114\n",
       "followers              0.152681\n",
       "floor                  0.148811\n",
       "subway                 0.113183\n",
       "kitchen                0.081393\n",
       "constructionTime       0.056974\n",
       "Lat                    0.019969\n",
       "district               0.010315\n",
       "bathRoom               0.000473\n",
       "Cid                    0.000071\n",
       "ladderRatio           -0.001063\n",
       "fiveYearsProperty     -0.003225\n",
       "buildingType          -0.060346\n",
       "Lng                   -0.069831\n",
       "Name: totalPrice, dtype: float64"
      ]
     },
     "execution_count": 18,
     "metadata": {},
     "output_type": "execute_result"
    }
   ],
   "source": [
    "# checking the correlation of the feature with our target. \n",
    "corr_matrix = Raw_data_num.corr()\n",
    "corr_matrix['totalPrice'].sort_values(ascending=False)"
   ]
  },
  {
   "cell_type": "markdown",
   "metadata": {},
   "source": [
    "### Creating new feature from longitude and latitude"
   ]
  },
  {
   "cell_type": "code",
   "execution_count": 19,
   "metadata": {},
   "outputs": [
    {
     "ename": "ModuleNotFoundError",
     "evalue": "No module named 'hdbscan'",
     "output_type": "error",
     "traceback": [
      "\u001b[0;31m---------------------------------------------------------------------------\u001b[0m",
      "\u001b[0;31mModuleNotFoundError\u001b[0m                       Traceback (most recent call last)",
      "\u001b[0;32m<ipython-input-19-3f5a460d7435>\u001b[0m in \u001b[0;36m<module>\u001b[0;34m\u001b[0m\n\u001b[0;32m----> 1\u001b[0;31m \u001b[0;32mimport\u001b[0m \u001b[0mhdbscan\u001b[0m\u001b[0;34m\u001b[0m\u001b[0;34m\u001b[0m\u001b[0m\n\u001b[0m",
      "\u001b[0;31mModuleNotFoundError\u001b[0m: No module named 'hdbscan'"
     ]
    }
   ],
   "source": [
    "import hdbscan"
   ]
  },
  {
   "cell_type": "code",
   "execution_count": null,
   "metadata": {},
   "outputs": [],
   "source": [
    "X = Raw_data_num[['Lng','Lat']].values"
   ]
  },
  {
   "cell_type": "code",
   "execution_count": null,
   "metadata": {},
   "outputs": [],
   "source": [
    "rads = np.radians(X)"
   ]
  },
  {
   "cell_type": "code",
   "execution_count": null,
   "metadata": {},
   "outputs": [],
   "source": [
    "# the idea is to create new features in order to group house according to thier location. \n",
    "# hence the location of the house can provide insight into the price of the house. \n",
    "# by the utilization of HDBScan clusterting algorithm.  \n",
    "clusterer = hdbscan.HDBSCAN(min_cluster_size=20, metric='haversine',core_dist_n_jobs=12\n",
    "                            ,cluster_selection_epsilon=0.0005,min_samples=10, cluster_selection_method=\"leaf\")\n",
    "predictions = clusterer.fit_predict(rads)"
   ]
  },
  {
   "cell_type": "code",
   "execution_count": null,
   "metadata": {},
   "outputs": [],
   "source": [
    "clustered = pd.concat([Raw_data_num.reset_index(), \n",
    "                       pd.DataFrame({'Cluster':predictions})], \n",
    "                      axis=1)"
   ]
  },
  {
   "cell_type": "code",
   "execution_count": null,
   "metadata": {},
   "outputs": [],
   "source": [
    "clustered.drop([\"index\"], axis=1, inplace=True)"
   ]
  },
  {
   "cell_type": "code",
   "execution_count": null,
   "metadata": {},
   "outputs": [],
   "source": [
    "# checking the distrubution of  resilted clusters\n",
    "clustered.Cluster.hist(bins=200)"
   ]
  },
  {
   "cell_type": "code",
   "execution_count": null,
   "metadata": {},
   "outputs": [],
   "source": [
    "corr_matrix_clustered = clustered.corr()\n",
    "corr_matrix_clustered['totalPrice'].sort_values(ascending=False)"
   ]
  },
  {
   "cell_type": "code",
   "execution_count": null,
   "metadata": {
    "scrolled": false
   },
   "outputs": [],
   "source": [
    "# seeing the resulted clusters on the map. \n",
    "clustered.plot(kind=\"scatter\", x=\"Lng\", y=\"Lat\", alpha=0.3,\n",
    "    s=0.1, figsize=(10,7),\n",
    "    c=clustered['Cluster'], \n",
    "    cmap=plt.get_cmap(\"jet\"), colorbar=True,\n",
    "    sharex=False)\n",
    "plt.legend()\n",
    "save_fig(\"Clusters\")\n",
    "plt.show()"
   ]
  },
  {
   "cell_type": "code",
   "execution_count": null,
   "metadata": {
    "scrolled": false
   },
   "outputs": [],
   "source": [
    "clustered.hist(bins=200,figsize=(20,15))"
   ]
  },
  {
   "cell_type": "code",
   "execution_count": null,
   "metadata": {},
   "outputs": [],
   "source": [
    "clustered.info()"
   ]
  },
  {
   "cell_type": "code",
   "execution_count": null,
   "metadata": {},
   "outputs": [],
   "source": [
    "# droping features with low correlation. \n",
    "clustered.drop([\"Lng\",\"Lat\",\"Cid\",\"price\",\"ladderRatio\",\"fiveYearsProperty\"], axis=1, inplace=True)"
   ]
  },
  {
   "cell_type": "code",
   "execution_count": null,
   "metadata": {},
   "outputs": [],
   "source": [
    "# adding missing values by adding medians\n",
    "from sklearn.impute import SimpleImputer\n",
    "imputer = SimpleImputer(strategy=\"median\")\n",
    "\n",
    "imputer.fit(clustered)\n",
    "X_imputed = imputer.transform(clustered)"
   ]
  },
  {
   "cell_type": "code",
   "execution_count": null,
   "metadata": {},
   "outputs": [],
   "source": [
    "# making a new final dataframe. \n",
    "Data_processing1 = pd.DataFrame(X_imputed, columns=clustered.columns,\n",
    "                          index=clustered.index)"
   ]
  },
  {
   "cell_type": "code",
   "execution_count": null,
   "metadata": {
    "scrolled": true
   },
   "outputs": [],
   "source": [
    "Data_processing1.info()"
   ]
  },
  {
   "cell_type": "markdown",
   "metadata": {},
   "source": [
    "## Split the dataset into Training and Testing data"
   ]
  },
  {
   "cell_type": "code",
   "execution_count": null,
   "metadata": {},
   "outputs": [],
   "source": [
    "from sklearn.model_selection import train_test_split\n",
    "\n",
    "# X_data as features \n",
    "X_data = Data_processing1.drop(columns=\"totalPrice\")\n",
    "# Y_data as target label\n",
    "Y_data = Data_processing1['totalPrice']\n",
    "\n",
    "# split data for train and test set 80:20 spilt \n",
    "X_train, X_test, y_train, y_test = train_test_split(X_data, Y_data, test_size=0.20, random_state=42)"
   ]
  },
  {
   "cell_type": "code",
   "execution_count": null,
   "metadata": {},
   "outputs": [],
   "source": [
    "baseline = np.mean(Y_data)\n",
    "#Get an array with baseline with the size of the testing dataset \n",
    "y_baseline = np.repeat(baseline, len(y_test))\n",
    "# import the metric \n",
    "from sklearn.metrics import mean_squared_error\n",
    "#y_test are the true values of y \n",
    "naive_RSME = mean_squared_error(y_test, y_baseline)\n",
    "naive_RSME=np.sqrt(naive_RSME)\n",
    "naive_RSME"
   ]
  },
  {
   "cell_type": "code",
   "execution_count": null,
   "metadata": {},
   "outputs": [],
   "source": [
    "from sklearn.dummy import DummyRegressor\n",
    "# Create the dummy regessor.\n",
    "dummy_regr = DummyRegressor(strategy=\"mean\")\n",
    "dummy_regr.fit(X_train, y_train)\n",
    "DummyRegressor()\n",
    "# baseline error for the dummy regressor.\n",
    "regression_RSME = mean_squared_error(y_test, dummy_regr.predict(X_test))\n",
    "regression_baseline = np.sqrt(regression_RSME)\n",
    "regression_baseline"
   ]
  },
  {
   "cell_type": "code",
   "execution_count": null,
   "metadata": {},
   "outputs": [],
   "source": [
    "# function to print results according to classifer. \n",
    "\n",
    "def results(clf, X_train, X_test, y_train, y_test):\n",
    "    from sklearn.metrics import mean_squared_error\n",
    "    train_predict = clf.predict(X_train)\n",
    "    test_predict = clf.predict(X_test)\n",
    "    RMSE_training = np.sqrt(mean_squared_error(y_train, train_predict))\n",
    "    RMSE_test=np.sqrt(mean_squared_error(y_test, test_predict))\n",
    "    print('The naive RMSE baseline is ', naive_RSME)\n",
    "    print('The regression_baseline is ', regression_baseline)\n",
    "    print('The model performance in training is ', RMSE_training)\n",
    "    print('The model performance in testing is ', RMSE_test)"
   ]
  },
  {
   "cell_type": "markdown",
   "metadata": {},
   "source": [
    "## Data Modelling"
   ]
  },
  {
   "cell_type": "markdown",
   "metadata": {},
   "source": [
    "### Model 1 Selection \n",
    "Stochastic gradient descent regressor "
   ]
  },
  {
   "cell_type": "code",
   "execution_count": 20,
   "metadata": {},
   "outputs": [],
   "source": [
    "from sklearn.linear_model import SGDRegressor\n",
    "from sklearn.preprocessing import StandardScaler\n",
    "from sklearn.decomposition import PCA\n",
    "from sklearn.pipeline import Pipeline\n",
    "\n",
    "# creating a simple pipline as an input to gridsearch. \n",
    "SGD_pipe = Pipeline([(\"scaler\", StandardScaler()),\n",
    "                       (\"sgd_reg\", SGDRegressor(random_state=42,learning_rate='adaptive',\n",
    "                                               early_stopping=True,validation_fraction=0.2))])\n"
   ]
  },
  {
   "cell_type": "markdown",
   "metadata": {},
   "source": [
    "### Model 1 Training and Hyperparameter Tuning "
   ]
  },
  {
   "cell_type": "code",
   "execution_count": 37,
   "metadata": {
    "scrolled": false
   },
   "outputs": [
    {
     "name": "stdout",
     "output_type": "stream",
     "text": [
      "Fitting 5 folds for each of 1200 candidates, totalling 6000 fits\n"
     ]
    },
    {
     "name": "stderr",
     "output_type": "stream",
     "text": [
      "[Parallel(n_jobs=-2)]: Using backend LokyBackend with 11 concurrent workers.\n",
      "[Parallel(n_jobs=-2)]: Done   3 tasks      | elapsed:    7.0s\n",
      "[Parallel(n_jobs=-2)]: Done  10 tasks      | elapsed:   10.5s\n",
      "[Parallel(n_jobs=-2)]: Done  19 tasks      | elapsed:   17.6s\n",
      "[Parallel(n_jobs=-2)]: Done  28 tasks      | elapsed:   25.4s\n",
      "[Parallel(n_jobs=-2)]: Done  39 tasks      | elapsed:   33.6s\n",
      "[Parallel(n_jobs=-2)]: Done  50 tasks      | elapsed:   41.9s\n",
      "[Parallel(n_jobs=-2)]: Done  63 tasks      | elapsed:   53.1s\n",
      "[Parallel(n_jobs=-2)]: Done  76 tasks      | elapsed:  1.1min\n",
      "[Parallel(n_jobs=-2)]: Done  91 tasks      | elapsed:  1.4min\n",
      "[Parallel(n_jobs=-2)]: Done 106 tasks      | elapsed:  1.7min\n",
      "[Parallel(n_jobs=-2)]: Done 123 tasks      | elapsed:  2.1min\n",
      "[Parallel(n_jobs=-2)]: Done 140 tasks      | elapsed:  2.3min\n",
      "[Parallel(n_jobs=-2)]: Done 159 tasks      | elapsed:  2.7min\n",
      "[Parallel(n_jobs=-2)]: Done 178 tasks      | elapsed:  3.0min\n",
      "[Parallel(n_jobs=-2)]: Done 199 tasks      | elapsed:  3.3min\n",
      "[Parallel(n_jobs=-2)]: Done 220 tasks      | elapsed:  3.6min\n",
      "[Parallel(n_jobs=-2)]: Done 243 tasks      | elapsed:  4.0min\n",
      "[Parallel(n_jobs=-2)]: Done 266 tasks      | elapsed:  4.3min\n",
      "[Parallel(n_jobs=-2)]: Done 291 tasks      | elapsed:  4.6min\n",
      "[Parallel(n_jobs=-2)]: Done 316 tasks      | elapsed:  5.0min\n",
      "[Parallel(n_jobs=-2)]: Done 343 tasks      | elapsed:  5.2min\n",
      "[Parallel(n_jobs=-2)]: Done 370 tasks      | elapsed:  5.7min\n",
      "[Parallel(n_jobs=-2)]: Done 399 tasks      | elapsed:  6.1min\n",
      "[Parallel(n_jobs=-2)]: Done 428 tasks      | elapsed:  6.7min\n",
      "[Parallel(n_jobs=-2)]: Done 459 tasks      | elapsed:  7.2min\n",
      "[Parallel(n_jobs=-2)]: Done 490 tasks      | elapsed:  7.6min\n",
      "[Parallel(n_jobs=-2)]: Done 523 tasks      | elapsed:  8.1min\n",
      "[Parallel(n_jobs=-2)]: Done 556 tasks      | elapsed:  8.6min\n",
      "[Parallel(n_jobs=-2)]: Done 591 tasks      | elapsed:  9.1min\n",
      "[Parallel(n_jobs=-2)]: Done 626 tasks      | elapsed:  9.5min\n",
      "[Parallel(n_jobs=-2)]: Done 663 tasks      | elapsed: 10.0min\n",
      "[Parallel(n_jobs=-2)]: Done 700 tasks      | elapsed: 10.6min\n",
      "[Parallel(n_jobs=-2)]: Done 739 tasks      | elapsed: 11.2min\n",
      "[Parallel(n_jobs=-2)]: Done 778 tasks      | elapsed: 11.8min\n",
      "[Parallel(n_jobs=-2)]: Done 819 tasks      | elapsed: 12.5min\n",
      "[Parallel(n_jobs=-2)]: Done 860 tasks      | elapsed: 13.0min\n",
      "[Parallel(n_jobs=-2)]: Done 903 tasks      | elapsed: 13.6min\n",
      "[Parallel(n_jobs=-2)]: Done 946 tasks      | elapsed: 14.1min\n",
      "[Parallel(n_jobs=-2)]: Done 991 tasks      | elapsed: 14.8min\n",
      "[Parallel(n_jobs=-2)]: Done 1036 tasks      | elapsed: 15.6min\n",
      "[Parallel(n_jobs=-2)]: Done 1083 tasks      | elapsed: 16.3min\n",
      "[Parallel(n_jobs=-2)]: Done 1130 tasks      | elapsed: 17.0min\n",
      "[Parallel(n_jobs=-2)]: Done 1179 tasks      | elapsed: 17.7min\n",
      "[Parallel(n_jobs=-2)]: Done 1228 tasks      | elapsed: 18.2min\n",
      "[Parallel(n_jobs=-2)]: Done 1279 tasks      | elapsed: 18.9min\n",
      "[Parallel(n_jobs=-2)]: Done 1330 tasks      | elapsed: 19.7min\n",
      "[Parallel(n_jobs=-2)]: Done 1383 tasks      | elapsed: 20.5min\n",
      "[Parallel(n_jobs=-2)]: Done 1436 tasks      | elapsed: 21.3min\n",
      "[Parallel(n_jobs=-2)]: Done 1491 tasks      | elapsed: 22.0min\n",
      "[Parallel(n_jobs=-2)]: Done 1546 tasks      | elapsed: 22.6min\n",
      "[Parallel(n_jobs=-2)]: Done 1603 tasks      | elapsed: 23.4min\n",
      "[Parallel(n_jobs=-2)]: Done 1660 tasks      | elapsed: 24.4min\n",
      "[Parallel(n_jobs=-2)]: Done 1719 tasks      | elapsed: 25.3min\n",
      "[Parallel(n_jobs=-2)]: Done 1778 tasks      | elapsed: 26.2min\n",
      "[Parallel(n_jobs=-2)]: Done 1839 tasks      | elapsed: 26.8min\n",
      "[Parallel(n_jobs=-2)]: Done 1900 tasks      | elapsed: 27.6min\n",
      "[Parallel(n_jobs=-2)]: Done 1963 tasks      | elapsed: 28.5min\n",
      "[Parallel(n_jobs=-2)]: Done 2026 tasks      | elapsed: 29.5min\n",
      "[Parallel(n_jobs=-2)]: Done 2091 tasks      | elapsed: 30.4min\n",
      "[Parallel(n_jobs=-2)]: Done 2156 tasks      | elapsed: 31.1min\n",
      "[Parallel(n_jobs=-2)]: Done 2223 tasks      | elapsed: 32.0min\n",
      "[Parallel(n_jobs=-2)]: Done 2290 tasks      | elapsed: 33.1min\n",
      "[Parallel(n_jobs=-2)]: Done 2359 tasks      | elapsed: 33.9min\n",
      "[Parallel(n_jobs=-2)]: Done 2428 tasks      | elapsed: 34.8min\n",
      "[Parallel(n_jobs=-2)]: Done 2499 tasks      | elapsed: 35.7min\n",
      "[Parallel(n_jobs=-2)]: Done 2570 tasks      | elapsed: 36.6min\n",
      "[Parallel(n_jobs=-2)]: Done 2643 tasks      | elapsed: 37.6min\n",
      "[Parallel(n_jobs=-2)]: Done 2716 tasks      | elapsed: 38.6min\n",
      "[Parallel(n_jobs=-2)]: Done 2791 tasks      | elapsed: 39.6min\n",
      "[Parallel(n_jobs=-2)]: Done 2866 tasks      | elapsed: 40.8min\n",
      "[Parallel(n_jobs=-2)]: Done 2943 tasks      | elapsed: 41.8min\n",
      "[Parallel(n_jobs=-2)]: Done 3020 tasks      | elapsed: 42.7min\n",
      "[Parallel(n_jobs=-2)]: Done 3099 tasks      | elapsed: 43.6min\n",
      "[Parallel(n_jobs=-2)]: Done 3178 tasks      | elapsed: 44.5min\n",
      "[Parallel(n_jobs=-2)]: Done 3259 tasks      | elapsed: 45.5min\n",
      "[Parallel(n_jobs=-2)]: Done 3340 tasks      | elapsed: 46.5min\n",
      "[Parallel(n_jobs=-2)]: Done 3423 tasks      | elapsed: 47.7min\n",
      "[Parallel(n_jobs=-2)]: Done 3506 tasks      | elapsed: 48.9min\n",
      "[Parallel(n_jobs=-2)]: Done 3591 tasks      | elapsed: 50.0min\n",
      "[Parallel(n_jobs=-2)]: Done 3676 tasks      | elapsed: 51.0min\n",
      "[Parallel(n_jobs=-2)]: Done 3763 tasks      | elapsed: 52.3min\n",
      "[Parallel(n_jobs=-2)]: Done 3850 tasks      | elapsed: 53.3min\n",
      "[Parallel(n_jobs=-2)]: Done 3939 tasks      | elapsed: 54.3min\n",
      "[Parallel(n_jobs=-2)]: Done 4028 tasks      | elapsed: 55.6min\n",
      "[Parallel(n_jobs=-2)]: Done 4119 tasks      | elapsed: 57.0min\n",
      "[Parallel(n_jobs=-2)]: Done 4210 tasks      | elapsed: 58.0min\n",
      "[Parallel(n_jobs=-2)]: Done 4303 tasks      | elapsed: 58.9min\n",
      "[Parallel(n_jobs=-2)]: Done 4396 tasks      | elapsed: 60.1min\n",
      "[Parallel(n_jobs=-2)]: Done 4491 tasks      | elapsed: 61.2min\n",
      "[Parallel(n_jobs=-2)]: Done 4586 tasks      | elapsed: 62.3min\n",
      "[Parallel(n_jobs=-2)]: Done 4683 tasks      | elapsed: 63.7min\n",
      "[Parallel(n_jobs=-2)]: Done 4780 tasks      | elapsed: 65.0min\n",
      "[Parallel(n_jobs=-2)]: Done 4879 tasks      | elapsed: 66.1min\n",
      "[Parallel(n_jobs=-2)]: Done 4978 tasks      | elapsed: 67.6min\n",
      "[Parallel(n_jobs=-2)]: Done 5079 tasks      | elapsed: 68.9min\n",
      "[Parallel(n_jobs=-2)]: Done 5180 tasks      | elapsed: 70.0min\n",
      "[Parallel(n_jobs=-2)]: Done 5283 tasks      | elapsed: 71.1min\n",
      "[Parallel(n_jobs=-2)]: Done 5386 tasks      | elapsed: 72.6min\n",
      "[Parallel(n_jobs=-2)]: Done 5491 tasks      | elapsed: 73.8min\n",
      "[Parallel(n_jobs=-2)]: Done 5596 tasks      | elapsed: 75.2min\n",
      "[Parallel(n_jobs=-2)]: Done 5703 tasks      | elapsed: 76.4min\n",
      "[Parallel(n_jobs=-2)]: Done 5810 tasks      | elapsed: 77.6min\n",
      "[Parallel(n_jobs=-2)]: Done 5919 tasks      | elapsed: 78.9min\n",
      "[Parallel(n_jobs=-2)]: Done 6000 out of 6000 | elapsed: 79.9min finished\n"
     ]
    },
    {
     "data": {
      "text/plain": [
       "{'sgd_reg__alpha': 3.7926901907322535e-06,\n",
       " 'sgd_reg__eta0': 1.9474830399087562,\n",
       " 'sgd_reg__penalty': 'l2'}"
      ]
     },
     "execution_count": 37,
     "metadata": {},
     "output_type": "execute_result"
    }
   ],
   "source": [
    "from sklearn.model_selection import GridSearchCV\n",
    "\n",
    "\n",
    "# Creating the parameters search set\n",
    "SGD_param = dict(sgd_reg__penalty = ['l2', 'l1', 'elasticnet'],\n",
    "             sgd_reg__alpha = np.logspace(-7, -1, 20),\n",
    "             sgd_reg__eta0 = np.logspace(0.1, 0.7, 20))\n",
    "\n",
    "\n",
    "# initialize GirdSearch\n",
    "Search_SGD = GridSearchCV(SGD_pipe, SGD_param, scoring='neg_root_mean_squared_error',\n",
    "                          verbose=10, n_jobs=-2)\n",
    "# train and find the best parameters\n",
    "Search_SGD.fit(X_train,y_train)\n",
    "# assign the best predictor with the resulted parameter search\n",
    "SGD_predict = Search_SGD.best_estimator_\n",
    "# checking the results of the search\n",
    "Search_SGD.best_params_"
   ]
  },
  {
   "cell_type": "code",
   "execution_count": 47,
   "metadata": {},
   "outputs": [],
   "source": [
    "def plot_results(clf, n, Image_name):\n",
    "    x = [i+1 for i in range(n)]\n",
    "    y_label = y_test.iloc[:n]\n",
    "    y_predict = clf.predict(X_test.iloc[:n])\n",
    "    plt.plot(x, y_label, c='red', label='True Price')\n",
    "    plt.plot(x, y_predict, c='blue', label='Predicted Price')\n",
    "    plt.xlabel(\"Data Points\", fontsize=11)\n",
    "    plt.ylabel(\"House Price\", rotation=90, fontsize=11)\n",
    "    plt.legend()\n",
    "    save_fig(Image_name)\n",
    "    plt.show()"
   ]
  },
  {
   "cell_type": "markdown",
   "metadata": {},
   "source": [
    "### Candidate Model 1 Evaluation"
   ]
  },
  {
   "cell_type": "code",
   "execution_count": 39,
   "metadata": {},
   "outputs": [
    {
     "name": "stdout",
     "output_type": "stream",
     "text": [
      "The naive RMSE baseline is  231.7124484086676\n",
      "The regression_baseline is  231.7129078038355\n",
      "The model performance in training is  129.42542229687336\n",
      "The model performance in testing is  132.37891372399372\n"
     ]
    }
   ],
   "source": [
    "results(SGD_predict, X_train, X_test, y_train, y_test )"
   ]
  },
  {
   "cell_type": "code",
   "execution_count": 55,
   "metadata": {
    "scrolled": true
   },
   "outputs": [
    {
     "name": "stdout",
     "output_type": "stream",
     "text": [
      "Saving figure SGD_Results\n"
     ]
    },
    {
     "data": {
      "image/png": "[encoded data removed]",
      "text/plain": [
       "<Figure size 432x288 with 1 Axes>"
      ]
     },
     "metadata": {
      "needs_background": "light"
     },
     "output_type": "display_data"
    }
   ],
   "source": [
    "plot_results(SGD_predict, 50, 'SGD_Results')"
   ]
  },
  {
   "cell_type": "markdown",
   "metadata": {},
   "source": [
    "### Model 2 Selection \n",
    "Passive Aggressive Regressor"
   ]
  },
  {
   "cell_type": "code",
   "execution_count": 2,
   "metadata": {
    "scrolled": false
   },
   "outputs": [
    {
     "ename": "NameError",
     "evalue": "name 'Pipeline' is not defined",
     "output_type": "error",
     "traceback": [
      "\u001b[0;31m---------------------------------------------------------------------------\u001b[0m",
      "\u001b[0;31mNameError\u001b[0m                                 Traceback (most recent call last)",
      "\u001b[0;32m<ipython-input-2-3d7c48d4af53>\u001b[0m in \u001b[0;36m<module>\u001b[0;34m\u001b[0m\n\u001b[1;32m      3\u001b[0m \u001b[0;34m\u001b[0m\u001b[0m\n\u001b[1;32m      4\u001b[0m \u001b[0;34m\u001b[0m\u001b[0m\n\u001b[0;32m----> 5\u001b[0;31m PAR_pipe = Pipeline([(\"scaler\", StandardScaler()),\n\u001b[0m\u001b[1;32m      6\u001b[0m                      \u001b[0;34m(\u001b[0m\u001b[0;34m\"pca\"\u001b[0m\u001b[0;34m,\u001b[0m \u001b[0mPCA\u001b[0m\u001b[0;34m(\u001b[0m\u001b[0;34m)\u001b[0m\u001b[0;34m)\u001b[0m\u001b[0;34m,\u001b[0m\u001b[0;34m\u001b[0m\u001b[0;34m\u001b[0m\u001b[0m\n\u001b[1;32m      7\u001b[0m                      (\"PAR\", PassiveAggressiveRegressor(early_stopping= True,\n",
      "\u001b[0;31mNameError\u001b[0m: name 'Pipeline' is not defined"
     ]
    }
   ],
   "source": [
    "from sklearn.linear_model import PassiveAggressiveRegressor\n",
    "\n",
    "\n",
    "\n",
    "PAR_pipe = Pipeline([(\"scaler\", StandardScaler()),\n",
    "                     (\"pca\", PCA()),\n",
    "                     (\"PAR\", PassiveAggressiveRegressor(early_stopping= True,\n",
    "                                                       validation_fraction=0.2,\n",
    "                                                       ))])\n"
   ]
  },
  {
   "cell_type": "markdown",
   "metadata": {},
   "source": [
    "### Model 2 Training and Hyperparameter Tuning "
   ]
  },
  {
   "cell_type": "code",
   "execution_count": 42,
   "metadata": {},
   "outputs": [
    {
     "name": "stdout",
     "output_type": "stream",
     "text": [
      "Fitting 5 folds for each of 560 candidates, totalling 2800 fits\n"
     ]
    },
    {
     "name": "stderr",
     "output_type": "stream",
     "text": [
      "[Parallel(n_jobs=-2)]: Using backend LokyBackend with 11 concurrent workers.\n",
      "[Parallel(n_jobs=-2)]: Done   3 tasks      | elapsed:    3.0s\n",
      "[Parallel(n_jobs=-2)]: Done  10 tasks      | elapsed:    4.6s\n",
      "[Parallel(n_jobs=-2)]: Done  19 tasks      | elapsed:    7.7s\n",
      "[Parallel(n_jobs=-2)]: Done  28 tasks      | elapsed:   10.9s\n",
      "[Parallel(n_jobs=-2)]: Done  39 tasks      | elapsed:   14.7s\n",
      "[Parallel(n_jobs=-2)]: Done  50 tasks      | elapsed:   17.5s\n",
      "[Parallel(n_jobs=-2)]: Done  63 tasks      | elapsed:   21.8s\n",
      "[Parallel(n_jobs=-2)]: Done  76 tasks      | elapsed:  1.1min\n",
      "[Parallel(n_jobs=-2)]: Done  91 tasks      | elapsed:  2.0min\n",
      "[Parallel(n_jobs=-2)]: Done 106 tasks      | elapsed:  3.8min\n",
      "[Parallel(n_jobs=-2)]: Done 123 tasks      | elapsed:  5.7min\n",
      "[Parallel(n_jobs=-2)]: Done 140 tasks      | elapsed:  7.1min\n",
      "[Parallel(n_jobs=-2)]: Done 159 tasks      | elapsed:  7.2min\n",
      "[Parallel(n_jobs=-2)]: Done 178 tasks      | elapsed:  7.4min\n",
      "[Parallel(n_jobs=-2)]: Done 199 tasks      | elapsed:  7.6min\n",
      "[Parallel(n_jobs=-2)]: Done 220 tasks      | elapsed:  8.9min\n",
      "[Parallel(n_jobs=-2)]: Done 243 tasks      | elapsed: 10.7min\n",
      "[Parallel(n_jobs=-2)]: Done 266 tasks      | elapsed: 13.8min\n",
      "[Parallel(n_jobs=-2)]: Done 291 tasks      | elapsed: 15.0min\n",
      "[Parallel(n_jobs=-2)]: Done 316 tasks      | elapsed: 15.3min\n",
      "[Parallel(n_jobs=-2)]: Done 343 tasks      | elapsed: 15.5min\n",
      "[Parallel(n_jobs=-2)]: Done 370 tasks      | elapsed: 17.6min\n",
      "[Parallel(n_jobs=-2)]: Done 399 tasks      | elapsed: 20.9min\n",
      "[Parallel(n_jobs=-2)]: Done 428 tasks      | elapsed: 22.8min\n",
      "[Parallel(n_jobs=-2)]: Done 459 tasks      | elapsed: 23.1min\n",
      "[Parallel(n_jobs=-2)]: Done 490 tasks      | elapsed: 23.9min\n",
      "[Parallel(n_jobs=-2)]: Done 523 tasks      | elapsed: 26.5min\n",
      "[Parallel(n_jobs=-2)]: Done 556 tasks      | elapsed: 30.5min\n",
      "[Parallel(n_jobs=-2)]: Done 591 tasks      | elapsed: 30.8min\n",
      "[Parallel(n_jobs=-2)]: Done 626 tasks      | elapsed: 31.5min\n",
      "[Parallel(n_jobs=-2)]: Done 663 tasks      | elapsed: 34.2min\n",
      "[Parallel(n_jobs=-2)]: Done 700 tasks      | elapsed: 38.3min\n",
      "[Parallel(n_jobs=-2)]: Done 739 tasks      | elapsed: 38.6min\n",
      "[Parallel(n_jobs=-2)]: Done 778 tasks      | elapsed: 40.0min\n",
      "[Parallel(n_jobs=-2)]: Done 819 tasks      | elapsed: 44.4min\n",
      "[Parallel(n_jobs=-2)]: Done 860 tasks      | elapsed: 46.6min\n",
      "[Parallel(n_jobs=-2)]: Done 903 tasks      | elapsed: 46.9min\n",
      "[Parallel(n_jobs=-2)]: Done 946 tasks      | elapsed: 50.4min\n",
      "[Parallel(n_jobs=-2)]: Done 991 tasks      | elapsed: 54.0min\n",
      "[Parallel(n_jobs=-2)]: Done 1036 tasks      | elapsed: 54.4min\n",
      "[Parallel(n_jobs=-2)]: Done 1083 tasks      | elapsed: 57.6min\n",
      "[Parallel(n_jobs=-2)]: Done 1130 tasks      | elapsed: 61.2min\n",
      "[Parallel(n_jobs=-2)]: Done 1179 tasks      | elapsed: 62.2min\n",
      "[Parallel(n_jobs=-2)]: Done 1228 tasks      | elapsed: 65.8min\n",
      "[Parallel(n_jobs=-2)]: Done 1279 tasks      | elapsed: 67.9min\n",
      "[Parallel(n_jobs=-2)]: Done 1330 tasks      | elapsed: 69.6min\n",
      "[Parallel(n_jobs=-2)]: Done 1383 tasks      | elapsed: 72.0min\n",
      "[Parallel(n_jobs=-2)]: Done 1436 tasks      | elapsed: 76.2min\n",
      "[Parallel(n_jobs=-2)]: Done 1491 tasks      | elapsed: 81.0min\n",
      "[Parallel(n_jobs=-2)]: Done 1546 tasks      | elapsed: 82.9min\n",
      "[Parallel(n_jobs=-2)]: Done 1603 tasks      | elapsed: 89.1min\n",
      "[Parallel(n_jobs=-2)]: Done 1660 tasks      | elapsed: 90.6min\n",
      "[Parallel(n_jobs=-2)]: Done 1719 tasks      | elapsed: 94.5min\n",
      "[Parallel(n_jobs=-2)]: Done 1778 tasks      | elapsed: 98.6min\n",
      "[Parallel(n_jobs=-2)]: Done 1839 tasks      | elapsed: 100.8min\n",
      "[Parallel(n_jobs=-2)]: Done 1900 tasks      | elapsed: 106.4min\n",
      "[Parallel(n_jobs=-2)]: Done 1963 tasks      | elapsed: 107.8min\n",
      "[Parallel(n_jobs=-2)]: Done 2026 tasks      | elapsed: 113.9min\n",
      "[Parallel(n_jobs=-2)]: Done 2091 tasks      | elapsed: 114.9min\n",
      "[Parallel(n_jobs=-2)]: Done 2156 tasks      | elapsed: 120.9min\n",
      "[Parallel(n_jobs=-2)]: Done 2223 tasks      | elapsed: 122.3min\n",
      "[Parallel(n_jobs=-2)]: Done 2290 tasks      | elapsed: 127.7min\n",
      "[Parallel(n_jobs=-2)]: Done 2359 tasks      | elapsed: 130.0min\n",
      "[Parallel(n_jobs=-2)]: Done 2428 tasks      | elapsed: 134.5min\n",
      "[Parallel(n_jobs=-2)]: Done 2499 tasks      | elapsed: 136.5min\n",
      "[Parallel(n_jobs=-2)]: Done 2570 tasks      | elapsed: 140.5min\n",
      "[Parallel(n_jobs=-2)]: Done 2643 tasks      | elapsed: 141.8min\n",
      "[Parallel(n_jobs=-2)]: Done 2716 tasks      | elapsed: 144.7min\n",
      "[Parallel(n_jobs=-2)]: Done 2800 out of 2800 | elapsed: 145.5min finished\n"
     ]
    },
    {
     "data": {
      "text/plain": [
       "{'PAR__C': 1e-05,\n",
       " 'PAR__loss': 'squared_epsilon_insensitive',\n",
       " 'PAR__max_iter': 2000,\n",
       " 'pca__n_components': 7}"
      ]
     },
     "execution_count": 42,
     "metadata": {},
     "output_type": "execute_result"
    }
   ],
   "source": [
    "# Creating the parameters search set\n",
    "param_PAR = dict(PAR__C = np.logspace(-10, -5 , 20),\n",
    "                 PAR__max_iter = [1000,2000],\n",
    "                PAR__loss = [\"epsilon_insensitive\", \"squared_epsilon_insensitive\"],\n",
    "                pca__n_components= [1,2,3,4,5,6,7])\n",
    "\n",
    "# initialize GirdSearch\n",
    "Search_PAR = GridSearchCV(PAR_pipe, param_PAR, scoring='neg_root_mean_squared_error',\n",
    "                          verbose=10, n_jobs=-2)\n",
    "\n",
    "\n",
    "# train and find the best parameters\n",
    "Search_PAR.fit(X_train,y_train)\n",
    "\n",
    "# assign the best predictor with the resulted parameter search\n",
    "PAR_predict = Search_PAR.best_estimator_\n",
    "\n",
    "# checking the results of the search\n",
    "Search_PAR.best_params_"
   ]
  },
  {
   "cell_type": "markdown",
   "metadata": {},
   "source": [
    "### Candidate Model 2 Evaluation"
   ]
  },
  {
   "cell_type": "code",
   "execution_count": 43,
   "metadata": {},
   "outputs": [
    {
     "name": "stdout",
     "output_type": "stream",
     "text": [
      "The naive RMSE baseline is  231.7124484086676\n",
      "The regression_baseline is  231.7129078038355\n",
      "The model performance in training is  156.36250948475666\n",
      "The model performance in testing is  159.2152355792351\n"
     ]
    }
   ],
   "source": [
    "results(PAR_predict, X_train, X_test, y_train, y_test )"
   ]
  },
  {
   "cell_type": "code",
   "execution_count": 56,
   "metadata": {},
   "outputs": [
    {
     "name": "stdout",
     "output_type": "stream",
     "text": [
      "Saving figure PAR_Results\n"
     ]
    },
    {
     "data": {
      "image/png": "[encoded data removed]",
      "text/plain": [
       "<Figure size 432x288 with 1 Axes>"
      ]
     },
     "metadata": {
      "needs_background": "light"
     },
     "output_type": "display_data"
    }
   ],
   "source": [
    "plot_results(PAR_predict, 50, 'PAR_Results')"
   ]
  },
  {
   "cell_type": "markdown",
   "metadata": {},
   "source": [
    "### Model 3 Selection \n",
    "Multi-layer Perceptron regressor"
   ]
  },
  {
   "cell_type": "code",
   "execution_count": 45,
   "metadata": {
    "scrolled": true
   },
   "outputs": [],
   "source": [
    "from sklearn.neural_network import MLPRegressor\n",
    "\n",
    "MLP_pipe = Pipeline([(\"scaler\", StandardScaler()),\n",
    "                       (\"MLP\", MLPRegressor(learning_rate=\"adaptive\",random_state=42))])\n",
    "\n"
   ]
  },
  {
   "cell_type": "markdown",
   "metadata": {},
   "source": [
    "### Model 3 Training and Hyperparameter Tuning "
   ]
  },
  {
   "cell_type": "code",
   "execution_count": 1,
   "metadata": {},
   "outputs": [
    {
     "ename": "NameError",
     "evalue": "name 'np' is not defined",
     "output_type": "error",
     "traceback": [
      "\u001b[0;31m---------------------------------------------------------------------------\u001b[0m",
      "\u001b[0;31mNameError\u001b[0m                                 Traceback (most recent call last)",
      "\u001b[0;32m<ipython-input-1-4e258eb2e570>\u001b[0m in \u001b[0;36m<module>\u001b[0;34m\u001b[0m\n\u001b[1;32m      2\u001b[0m param_MLP = dict(MLP__hidden_layer_sizes = [(100,),(200,)],\n\u001b[1;32m      3\u001b[0m                  \u001b[0mMLP__alpha\u001b[0m \u001b[0;34m=\u001b[0m \u001b[0;34m[\u001b[0m\u001b[0;36m0.0001\u001b[0m\u001b[0;34m,\u001b[0m\u001b[0;36m0.001\u001b[0m\u001b[0;34m,\u001b[0m\u001b[0;36m0.1\u001b[0m\u001b[0;34m]\u001b[0m\u001b[0;34m,\u001b[0m\u001b[0;34m\u001b[0m\u001b[0;34m\u001b[0m\u001b[0m\n\u001b[0;32m----> 4\u001b[0;31m                 MLP__learning_rate_init = np.linspace(0.1, 0.00001, num=20))\n\u001b[0m\u001b[1;32m      5\u001b[0m \u001b[0;34m\u001b[0m\u001b[0m\n\u001b[1;32m      6\u001b[0m \u001b[0;31m# initialize GirdSearch\u001b[0m\u001b[0;34m\u001b[0m\u001b[0;34m\u001b[0m\u001b[0;34m\u001b[0m\u001b[0m\n",
      "\u001b[0;31mNameError\u001b[0m: name 'np' is not defined"
     ]
    }
   ],
   "source": [
    "# Creating the parameters search set\n",
    "param_MLP = dict(MLP__hidden_layer_sizes = [(100,),(200,)],\n",
    "                 MLP__alpha = [0.0001,0.001,0.1],\n",
    "                MLP__learning_rate_init = np.linspace(0.1, 0.00001, num=20))\n",
    "\n",
    "# initialize GirdSearch\n",
    "Search_MLP = GridSearchCV(MLP_pipe, param_MLP, scoring='neg_root_mean_squared_error',\n",
    "                          verbose=10, n_jobs=-2)\n",
    "\n",
    "# train and find the best parameters\n",
    "Search_MLP.fit(X_train,y_train)\n",
    "\n",
    "# assign the best predictor with the resulted parameter search\n",
    "MLP_predict = Search_MLP.best_estimator_\n",
    "\n",
    "# checking the results of the search\n",
    "Search_MLP.best_params_"
   ]
  },
  {
   "cell_type": "markdown",
   "metadata": {},
   "source": [
    "### Candidate Model 3 Evaluation"
   ]
  },
  {
   "cell_type": "code",
   "execution_count": 52,
   "metadata": {},
   "outputs": [
    {
     "name": "stdout",
     "output_type": "stream",
     "text": [
      "The naive RMSE baseline is  231.7124484086676\n",
      "The regression_baseline is  231.7129078038355\n",
      "The model performance in training is  79.09675474024077\n",
      "The model performance in testing is  80.62594303580939\n"
     ]
    }
   ],
   "source": [
    "results(MLP_predict, X_train, X_test, y_train, y_test )"
   ]
  },
  {
   "cell_type": "code",
   "execution_count": 57,
   "metadata": {},
   "outputs": [
    {
     "name": "stdout",
     "output_type": "stream",
     "text": [
      "Saving figure MLP_results\n"
     ]
    },
    {
     "data": {
      "image/png": "[encoded data removed]",
      "text/plain": [
       "<Figure size 432x288 with 1 Axes>"
      ]
     },
     "metadata": {
      "needs_background": "light"
     },
     "output_type": "display_data"
    }
   ],
   "source": [
    "plot_results(MLP_predict, 50, 'MLP_results')"
   ]
  },
  {
   "cell_type": "markdown",
   "metadata": {},
   "source": [
    "### Saving Best Candidate Model"
   ]
  },
  {
   "cell_type": "code",
   "execution_count": 54,
   "metadata": {},
   "outputs": [
    {
     "data": {
      "text/plain": [
       "['Best_Candidate_Model.joblib']"
      ]
     },
     "execution_count": 54,
     "metadata": {},
     "output_type": "execute_result"
    }
   ],
   "source": [
    "from joblib import dump, load\n",
    "#saving Multi-layer Perceptron regressor model.\n",
    "dump(MLP_predict, 'Best_Candidate_Model.joblib') "
   ]
  },
  {
   "cell_type": "code",
   "execution_count": 60,
   "metadata": {},
   "outputs": [
    {
     "data": {
      "text/plain": [
       "array([ 256.94548301, 1426.66352695,  476.51494148, ...,  263.52819675,\n",
       "        364.54241676,  475.8887624 ])"
      ]
     },
     "execution_count": 60,
     "metadata": {},
     "output_type": "execute_result"
    }
   ],
   "source": [
    "# load the regressor \n",
    "best_regressor = load('Best_Candidate_Model.joblib')\n",
    "# then use predict funtion to make predictions \n",
    "best_regressor.predict(X_test)"
   ]
  },
  {
   "cell_type": "code",
   "execution_count": null,
   "metadata": {},
   "outputs": [],
   "source": []
  }
 ],
 "metadata": {
  "kernelspec": {
   "display_name": "Python 3",
   "language": "python",
   "name": "python3"
  },
  "language_info": {
   "codemirror_mode": {
    "name": "ipython",
    "version": 3
   },
   "file_extension": ".py",
   "mimetype": "text/x-python",
   "name": "python",
   "nbconvert_exporter": "python",
   "pygments_lexer": "ipython3",
   "version": "3.7.7"
  }
 },
 "nbformat": 4,
 "nbformat_minor": 4
}
