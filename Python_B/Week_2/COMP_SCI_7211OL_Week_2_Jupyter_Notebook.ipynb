{
 "cells": [
  {
   "cell_type": "markdown",
   "metadata": {},
   "source": [
    "## Week 2. Working with Object Collections"
   ]
  },
  {
   "cell_type": "markdown",
   "metadata": {},
   "source": [
    "### Creating and Manipulating Lists of Objects\n",
    "\n",
    "One way to create a list of objects is to follow the steps:\n",
    "1. create an empty list\n",
    "2. in a loop\n",
    "2.1 create an object of the class\n",
    "2.2 add the object to the list"
   ]
  },
  {
   "cell_type": "code",
   "execution_count": 1,
   "metadata": {},
   "outputs": [
    {
     "name": "stdout",
     "output_type": "stream",
     "text": [
      "[Hi! I'm student Student0! I am 10 years old., Hi! I'm student Student1! I am 15 years old., Hi! I'm student Student2! I am 20 years old., Hi! I'm student Student3! I am 25 years old., Hi! I'm student Student4! I am 30 years old., Hi! I'm student Student5! I am 35 years old., Hi! I'm student Student6! I am 40 years old., Hi! I'm student Student7! I am 45 years old., Hi! I'm student Student8! I am 50 years old., Hi! I'm student Student9! I am 55 years old.]\n"
     ]
    }
   ],
   "source": [
    "#defining the Student class\n",
    "class Student:\n",
    "    def __init__(self,name,age,no_courses):\n",
    "        self.name=name\n",
    "        self.age=age\n",
    "        self.no_courses=no_courses\n",
    "    \n",
    "    def __repr__(self):\n",
    "        return \"Hi! I'm student \"+self.name+\"! I am \"+str(self.age)+\" years old.\"\n",
    "    \n",
    "    def graduating(self):\n",
    "        return self.no_courses==0\n",
    " #creating an empty list\n",
    "student_list=[]\n",
    "\n",
    "#adding 10 students to the list\n",
    "for i in range(0,10):\n",
    "    #creating random student name\n",
    "    name=\"Student\"+str(i)\n",
    "    \n",
    "    #creating random student age\n",
    "    age= i*5 +10\n",
    "    s=Student(name, age, i)\n",
    "    #adding the student to the list\n",
    "    student_list.append(s)\n",
    "\n",
    "#printing the list content\n",
    "print(student_list)"
   ]
  },
  {
   "cell_type": "markdown",
   "metadata": {},
   "source": [
    "Another way to add objects into a list is through list comprehension:\n"
   ]
  },
  {
   "cell_type": "code",
   "execution_count": 12,
   "metadata": {},
   "outputs": [
    {
     "name": "stdout",
     "output_type": "stream",
     "text": [
      "[Hi! I'm student Student0! I am 10 years old., Hi! I'm student Student1! I am 15 years old., Hi! I'm student Student2! I am 20 years old., Hi! I'm student Student3! I am 25 years old., Hi! I'm student Student4! I am 30 years old., Hi! I'm student Student5! I am 35 years old., Hi! I'm student Student6! I am 40 years old., Hi! I'm student Student7! I am 45 years old., Hi! I'm student Student8! I am 50 years old., Hi! I'm student Student9! I am 55 years old.]\n"
     ]
    }
   ],
   "source": [
    "other_student_list=[Student(\"Student\"+str(i),i*5 +10,i) for i in range(0,10)]\n",
    "print(other_student_list)"
   ]
  },
  {
   "cell_type": "markdown",
   "metadata": {},
   "source": [
    "It is important to note that you can have objects of different classes as well as primitive types within the list. Let's consider another class, this time of a __Book__ with a title and author. "
   ]
  },
  {
   "cell_type": "code",
   "execution_count": 13,
   "metadata": {},
   "outputs": [
    {
     "name": "stdout",
     "output_type": "stream",
     "text": [
      "[Hi! I'm student Student0! I am 10 years old., Hi! I'm student Student1! I am 15 years old., Hi! I'm student Student2! I am 20 years old., Hi! I'm student Student3! I am 25 years old., Hi! I'm student Student4! I am 30 years old., Hi! I'm student Student5! I am 35 years old., Hi! I'm student Student6! I am 40 years old., Hi! I'm student Student7! I am 45 years old., Hi! I'm student Student8! I am 50 years old., Hi! I'm student Student9! I am 55 years old., Book0 by Author0, Book1 by Author1, Book2 by Author2, Book3 by Author3, Book4 by Author4, Book5 by Author5, Book6 by Author6, Book7 by Author7, Book8 by Author8, Book9 by Author9]\n"
     ]
    }
   ],
   "source": [
    "class Book:\n",
    "    def __init__(self, title, author):\n",
    "        self.title=title\n",
    "        self.author=author\n",
    "\n",
    "    def __repr__(self):\n",
    "        return self.title+\" by \"+self.author\n",
    "#let's add five books to the list\n",
    "for i in range(0,10):\n",
    "    #creating random book title and author\n",
    "    title=\"Book\"+str(i)\n",
    "    \n",
    "    author=\"Author\"+str(i)\n",
    "    \n",
    "    b=Book(title,author)\n",
    "    #adding the student to the list\n",
    "    student_list.append(b)\n",
    "\n",
    "print(student_list)"
   ]
  },
  {
   "cell_type": "markdown",
   "metadata": {},
   "source": [
    "### Polymorphic behaviors of objects in lists"
   ]
  },
  {
   "cell_type": "code",
   "execution_count": 14,
   "metadata": {},
   "outputs": [
    {
     "name": "stdout",
     "output_type": "stream",
     "text": [
      "True\n",
      "False\n",
      "False\n",
      "False\n",
      "False\n",
      "False\n",
      "False\n",
      "False\n",
      "False\n",
      "False\n",
      "Student is still in primary school. They have many years of study ahead of them.\n",
      "Student is still in primary school. They have many years of study ahead of them.\n",
      "Student is still in primary school. They have many years of study ahead of them.\n",
      "Student is still in primary school. They have many years of study ahead of them.\n",
      "Student is still in primary school. They have many years of study ahead of them.\n",
      "Student is still in primary school. They have many years of study ahead of them.\n",
      "Student is still in primary school. They have many years of study ahead of them.\n",
      "Student is still in primary school. They have many years of study ahead of them.\n",
      "Student is still in primary school. They have many years of study ahead of them.\n",
      "Student is still in primary school. They have many years of study ahead of them.\n"
     ]
    }
   ],
   "source": [
    "class PrimarySchoolStudent(Student):\n",
    "    def __init__(self,name,age):\n",
    "        Student.__init__(self,name,age,0)\n",
    "        \n",
    "    def graduating(self):\n",
    "        return \"Student is still in primary school. They have many years of study ahead of them.\"\n",
    "\n",
    "\n",
    "#adding primary school students to other_student_list\n",
    "for i in range(0,10):\n",
    "    #creating new primary school student\n",
    "    s=PrimarySchoolStudent(\"Student\"+str(i+10),i)\n",
    "    other_student_list.append(s)\n",
    "    \n",
    "#printing whether the student is graduating    \n",
    "for student in other_student_list:\n",
    "    print(student.graduating())"
   ]
  },
  {
   "cell_type": "markdown",
   "metadata": {},
   "source": [
    "### Practice: Creating Lists of Objects"
   ]
  },
  {
   "cell_type": "code",
   "execution_count": null,
   "metadata": {},
   "outputs": [],
   "source": []
  },
  {
   "cell_type": "markdown",
   "metadata": {},
   "source": [
    "### Solution"
   ]
  },
  {
   "cell_type": "code",
   "execution_count": 12,
   "metadata": {},
   "outputs": [
    {
     "name": "stdout",
     "output_type": "stream",
     "text": [
      "Person is eating!\n",
      "Person is sleeping!\n",
      "Person is eating!\n",
      "Person is sleeping!\n",
      "I have been working for 20 years, with many to come!\n",
      "Person is eating!\n",
      "Person is sleeping!\n",
      "It is so good to relax!\n",
      "Person is eating!\n",
      "Person is sleeping!\n",
      "Person is eating!\n",
      "Person is sleeping!\n",
      "I have been working for 23 years, with many to come!\n",
      "Person is eating!\n",
      "Person is sleeping!\n",
      "It is so good to relax!\n",
      "Person is eating!\n",
      "Person is sleeping!\n",
      "Person is eating!\n",
      "Person is sleeping!\n",
      "I have been working for 26 years, with many to come!\n",
      "Person is eating!\n",
      "Person is sleeping!\n",
      "It is so good to relax!\n",
      "Person is eating!\n",
      "Person is sleeping!\n",
      "Person is eating!\n",
      "Person is sleeping!\n",
      "I have been working for 29 years, with many to come!\n",
      "Person is eating!\n",
      "Person is sleeping!\n",
      "It is so good to relax!\n",
      "Person is eating!\n",
      "Person is sleeping!\n",
      "Person is eating!\n",
      "Person is sleeping!\n",
      "I have been working for 32 years, with many to come!\n",
      "Person is eating!\n",
      "Person is sleeping!\n",
      "It is so good to relax!\n"
     ]
    }
   ],
   "source": [
    "#defining the person class\n",
    "class Person:\n",
    "    def __init__(self,name,age):\n",
    "        self.name=name\n",
    "        self.age=age\n",
    "    \n",
    "    def eats(self):\n",
    "        print(\"Person is eating!\")\n",
    "        \n",
    "    def sleeps(self):\n",
    "        print(\"Person is sleeping!\")\n",
    "        \n",
    "#defining the Employee class, inheriting from Person\n",
    "class Employee(Person):\n",
    "    def __init__(self,name,age,no_years):\n",
    "        Person.__init__(self,name,age)\n",
    "        self.no_years=no_years\n",
    "        \n",
    "    def go_to_work(self):\n",
    "        print(\"I have been working for \"+str(self.no_years)+\" years, with many to come!\")\n",
    "    \n",
    "\n",
    "#defining the Retiree class\n",
    "class Retiree(Person):\n",
    "    def __init__(self,name,age):\n",
    "        Person.__init__(self,name,age)\n",
    "        \n",
    "        \n",
    "    def relax(self):\n",
    "        print(\"It is so good to relax!\")\n",
    "\n",
    "people_list=[]\n",
    "\n",
    "#adding persons to the people_list. Note the parameter on the range function. Why do you think it is like that?\n",
    "for i in range(50,65,3):\n",
    "    p=Person(\"Person\"+str(i), i)\n",
    "    e=Employee(\"Person\"+str(i),i,(i-30))\n",
    "    r=Retiree(\"Person\"+str(i), i)\n",
    "    people_list.append(p)\n",
    "    people_list.append(e)\n",
    "    people_list.append(r)\n",
    "\n",
    "for p in people_list:\n",
    "    #we can do this for all objects p because they are all of type Person\n",
    "    p.eats()\n",
    "    p.sleeps()\n",
    "    if isinstance(p,Employee):\n",
    "        p.go_to_work()\n",
    "    if isinstance(p,Retiree):\n",
    "       p.relax()"
   ]
  },
  {
   "cell_type": "markdown",
   "metadata": {},
   "source": [
    "### Using Object Collections"
   ]
  },
  {
   "cell_type": "code",
   "execution_count": 9,
   "metadata": {},
   "outputs": [
    {
     "name": "stdout",
     "output_type": "stream",
     "text": [
      "[60, 55, 50, 45, 40, 35, 30, 25, 20, 15]\n"
     ]
    }
   ],
   "source": [
    "#defining the Student class\n",
    "class Student:\n",
    "    def __init__(self,name,age):\n",
    "        self.name=name\n",
    "        self.age=age\n",
    "    \n",
    "    def __repr__(self):\n",
    "        return str(self.age)\n",
    "    \n",
    "    def __lt__(self,other):\n",
    "        return self.age<other.age\n",
    "    \n",
    "    def __eq__(self,other):\n",
    "        return self.age==other.age\n",
    "    \n",
    "\n",
    " \n",
    "#creating an empty list\n",
    "student_list=[]\n",
    "\n",
    "#adding 10 students to the list\n",
    "for i in range(10,0,-1):\n",
    "    #creating random student name\n",
    "    name=\"Student\"+str(i)\n",
    "    \n",
    "    #creating random student age\n",
    "    age= i*5 +10\n",
    "    s=Student(name, age)\n",
    "    #adding the student to the list\n",
    "    student_list.append(s)\n",
    "\n",
    "#printing the list content\n",
    "print(student_list)\n",
    "\n"
   ]
  },
  {
   "cell_type": "markdown",
   "metadata": {},
   "source": [
    "#### Sorting using comparison operators"
   ]
  },
  {
   "cell_type": "code",
   "execution_count": 10,
   "metadata": {},
   "outputs": [
    {
     "name": "stdout",
     "output_type": "stream",
     "text": [
      "[15, 20, 25, 30, 35, 40, 45, 50, 55, 60]\n"
     ]
    }
   ],
   "source": [
    "student_list.sort()\n",
    "print(student_list)"
   ]
  },
  {
   "cell_type": "markdown",
   "metadata": {},
   "source": [
    "#### Sorting using the sort(lambda) function\n",
    "\n",
    "A simpler and faster way of sorting when you want to use simple operators is to use the sort(lambda) function like this:\n",
    "\n"
   ]
  },
  {
   "cell_type": "code",
   "execution_count": 18,
   "metadata": {},
   "outputs": [
    {
     "name": "stdout",
     "output_type": "stream",
     "text": [
      "[60, 55, 50, 45, 40, 35, 30, 25, 20, 15]\n",
      "[15, 20, 25, 30, 35, 40, 45, 50, 55, 60]\n"
     ]
    }
   ],
   "source": [
    "#reversing the student list such that it's unsorted again\n",
    "new_list=student_list[::-1]\n",
    "print(new_list)\n",
    "\n",
    "#sorting it using the lambda key\n",
    "new_list.sort(key = lambda s: s.age)\n",
    "print(new_list)"
   ]
  },
  {
   "cell_type": "markdown",
   "metadata": {},
   "source": [
    "### Practice \n",
    "Define a class called **Employee** where for each employee you define a salary and an age. Add five Employees to a list and then sort the list based on the **Employees** salary **and** age together."
   ]
  },
  {
   "cell_type": "code",
   "execution_count": null,
   "metadata": {},
   "outputs": [],
   "source": []
  },
  {
   "cell_type": "markdown",
   "metadata": {},
   "source": [
    "### Solution\n",
    "\n",
    "The simplest method to sort both based on the salary and age is to include the product in the operator functions, like this.\n"
   ]
  },
  {
   "cell_type": "code",
   "execution_count": 13,
   "metadata": {},
   "outputs": [
    {
     "name": "stdout",
     "output_type": "stream",
     "text": [
      "[10...1000\n",
      ", 15...2000\n",
      ", 20...3000\n",
      ", 25...4000\n",
      ", 30...5000\n",
      "]\n",
      "[30...5000\n",
      ", 25...4000\n",
      ", 20...3000\n",
      ", 15...2000\n",
      ", 10...1000\n",
      "]\n",
      "[10...1000\n",
      ", 15...2000\n",
      ", 20...3000\n",
      ", 25...4000\n",
      ", 30...5000\n",
      "]\n"
     ]
    }
   ],
   "source": [
    "#defining the Student class\n",
    "class Employee:\n",
    "    def __init__(self,name,age,salary):\n",
    "        self.name=name\n",
    "        self.age=age\n",
    "        self.salary=salary\n",
    "    \n",
    "    def __repr__(self):\n",
    "        return str(self.age)+\"...\"+str(self.salary)+\"\\n\"\n",
    "    \n",
    "    def __lt__(self,other):\n",
    "        return self.age*self.salary<other.age*other.salary\n",
    "    \n",
    "    def __eq__(self,other):\n",
    "        return self.age*self.salary==other.age*other.salary\n",
    "    \n",
    "\n",
    " \n",
    "#creating an empty list\n",
    "employee_list=[]\n",
    "\n",
    "#adding 5 employees to the list\n",
    "for i in range(0,5):\n",
    "    #creating random student name\n",
    "    name=\"Employee\"+str(i)\n",
    "    \n",
    "    #creating random employee age\n",
    "    age= i*5 +10\n",
    "    \n",
    "    #create random salary\n",
    "    salary=(i+1)*1000\n",
    "    e=Employee(name, age,salary)\n",
    "    \n",
    "    #adding the employee to the list\n",
    "    employee_list.append(e)\n",
    "\n",
    "#printing the list content\n",
    "print(employee_list)\n",
    "new_list=employee_list[::-1]\n",
    "print(new_list)\n",
    "\n",
    "new_list.sort()\n",
    "\n",
    "print(new_list)"
   ]
  },
  {
   "cell_type": "markdown",
   "metadata": {},
   "source": [
    "## High-performance pandas operations"
   ]
  },
  {
   "cell_type": "code",
   "execution_count": 20,
   "metadata": {},
   "outputs": [],
   "source": [
    "#import libraries\n",
    "import numpy as np \n",
    "import pandas as pd "
   ]
  },
  {
   "cell_type": "markdown",
   "metadata": {},
   "source": [
    "### Basic Operations in Pandas\n",
    "\n",
    "One of the dataset that we will use during this section is \"Silicon Valley Diversity Data\", which is an open dataset that was  inspired by discussion of the distribution of the  workforce in Silicon Valley in favor of white people and males. You can find more information about the dataset by clicking on  https://www.kaggle.com/rtatman/silicon-valley-diversity-data/version/1\n",
    "\n",
    "NOTE: If you're using a Jupyter notebook make sure that your dataset is in the same directory."
   ]
  },
  {
   "cell_type": "code",
   "execution_count": 21,
   "metadata": {},
   "outputs": [
    {
     "data": {
      "text/html": [
       "<div>\n",
       "<style scoped>\n",
       "    .dataframe tbody tr th:only-of-type {\n",
       "        vertical-align: middle;\n",
       "    }\n",
       "\n",
       "    .dataframe tbody tr th {\n",
       "        vertical-align: top;\n",
       "    }\n",
       "\n",
       "    .dataframe thead th {\n",
       "        text-align: right;\n",
       "    }\n",
       "</style>\n",
       "<table border=\"1\" class=\"dataframe\">\n",
       "  <thead>\n",
       "    <tr style=\"text-align: right;\">\n",
       "      <th></th>\n",
       "      <th>company</th>\n",
       "      <th>year</th>\n",
       "      <th>race</th>\n",
       "      <th>gender</th>\n",
       "      <th>job_category</th>\n",
       "      <th>count</th>\n",
       "    </tr>\n",
       "  </thead>\n",
       "  <tbody>\n",
       "    <tr>\n",
       "      <th>0</th>\n",
       "      <td>23andMe</td>\n",
       "      <td>2016</td>\n",
       "      <td>Latino</td>\n",
       "      <td>male</td>\n",
       "      <td>Executive/Senior officials &amp; Mgrs</td>\n",
       "      <td>0</td>\n",
       "    </tr>\n",
       "    <tr>\n",
       "      <th>1</th>\n",
       "      <td>23andMe</td>\n",
       "      <td>2016</td>\n",
       "      <td>Latino</td>\n",
       "      <td>male</td>\n",
       "      <td>First/Mid officials &amp; Mgrs</td>\n",
       "      <td>1</td>\n",
       "    </tr>\n",
       "    <tr>\n",
       "      <th>2</th>\n",
       "      <td>23andMe</td>\n",
       "      <td>2016</td>\n",
       "      <td>Latino</td>\n",
       "      <td>male</td>\n",
       "      <td>Professionals</td>\n",
       "      <td>7</td>\n",
       "    </tr>\n",
       "    <tr>\n",
       "      <th>3</th>\n",
       "      <td>23andMe</td>\n",
       "      <td>2016</td>\n",
       "      <td>Latino</td>\n",
       "      <td>male</td>\n",
       "      <td>Technicians</td>\n",
       "      <td>0</td>\n",
       "    </tr>\n",
       "    <tr>\n",
       "      <th>4</th>\n",
       "      <td>23andMe</td>\n",
       "      <td>2016</td>\n",
       "      <td>Latino</td>\n",
       "      <td>male</td>\n",
       "      <td>Sales workers</td>\n",
       "      <td>0</td>\n",
       "    </tr>\n",
       "  </tbody>\n",
       "</table>\n",
       "</div>"
      ],
      "text/plain": [
       "   company  year    race gender                       job_category count\n",
       "0  23andMe  2016  Latino   male  Executive/Senior officials & Mgrs     0\n",
       "1  23andMe  2016  Latino   male         First/Mid officials & Mgrs     1\n",
       "2  23andMe  2016  Latino   male                      Professionals     7\n",
       "3  23andMe  2016  Latino   male                        Technicians     0\n",
       "4  23andMe  2016  Latino   male                      Sales workers     0"
      ]
     },
     "execution_count": 21,
     "metadata": {},
     "output_type": "execute_result"
    }
   ],
   "source": [
    "#Loading the dataset, creating a DataFrame and show the first five rows \n",
    "df_data = pd.DataFrame(pd.read_csv(\"Reveal_EEO1_for_2016.csv\"))\n",
    "df_data.head()"
   ]
  },
  {
   "cell_type": "code",
   "execution_count": 22,
   "metadata": {},
   "outputs": [
    {
     "name": "stdout",
     "output_type": "stream",
     "text": [
      "The name of the columns are: \n",
      "Index(['company', 'year', 'race', 'gender', 'job_category', 'count'], dtype='object')\n",
      "After applying the rename() function\n",
      "Index(['company', 'year', 'race', 'gender', 'job_category', 'counting'], dtype='object')\n"
     ]
    }
   ],
   "source": [
    "print ('The name of the columns are: ')\n",
    "print(df_data.columns)\n",
    "df_data.rename(columns={'count':'counting'}, inplace=True)\n",
    "print('After applying the rename() function')\n",
    "print(df_data.columns)"
   ]
  },
  {
   "cell_type": "code",
   "execution_count": 23,
   "metadata": {},
   "outputs": [
    {
     "name": "stdout",
     "output_type": "stream",
     "text": [
      "Shape \n",
      " (3960, 6) \n",
      "Size\n",
      " 23760\n"
     ]
    }
   ],
   "source": [
    "#Shape and size \n",
    "print(\"Shape \\n\",df_data.shape,\"\\nSize\\n\",df_data.size)"
   ]
  },
  {
   "cell_type": "code",
   "execution_count": 24,
   "metadata": {
    "scrolled": true
   },
   "outputs": [
    {
     "data": {
      "text/html": [
       "<div>\n",
       "<style scoped>\n",
       "    .dataframe tbody tr th:only-of-type {\n",
       "        vertical-align: middle;\n",
       "    }\n",
       "\n",
       "    .dataframe tbody tr th {\n",
       "        vertical-align: top;\n",
       "    }\n",
       "\n",
       "    .dataframe thead th {\n",
       "        text-align: right;\n",
       "    }\n",
       "</style>\n",
       "<table border=\"1\" class=\"dataframe\">\n",
       "  <thead>\n",
       "    <tr style=\"text-align: right;\">\n",
       "      <th></th>\n",
       "      <th>year</th>\n",
       "    </tr>\n",
       "  </thead>\n",
       "  <tbody>\n",
       "    <tr>\n",
       "      <th>count</th>\n",
       "      <td>3960.0</td>\n",
       "    </tr>\n",
       "    <tr>\n",
       "      <th>mean</th>\n",
       "      <td>2016.0</td>\n",
       "    </tr>\n",
       "    <tr>\n",
       "      <th>std</th>\n",
       "      <td>0.0</td>\n",
       "    </tr>\n",
       "    <tr>\n",
       "      <th>min</th>\n",
       "      <td>2016.0</td>\n",
       "    </tr>\n",
       "    <tr>\n",
       "      <th>25%</th>\n",
       "      <td>2016.0</td>\n",
       "    </tr>\n",
       "    <tr>\n",
       "      <th>50%</th>\n",
       "      <td>2016.0</td>\n",
       "    </tr>\n",
       "    <tr>\n",
       "      <th>75%</th>\n",
       "      <td>2016.0</td>\n",
       "    </tr>\n",
       "    <tr>\n",
       "      <th>max</th>\n",
       "      <td>2016.0</td>\n",
       "    </tr>\n",
       "  </tbody>\n",
       "</table>\n",
       "</div>"
      ],
      "text/plain": [
       "         year\n",
       "count  3960.0\n",
       "mean   2016.0\n",
       "std       0.0\n",
       "min    2016.0\n",
       "25%    2016.0\n",
       "50%    2016.0\n",
       "75%    2016.0\n",
       "max    2016.0"
      ]
     },
     "execution_count": 24,
     "metadata": {},
     "output_type": "execute_result"
    }
   ],
   "source": [
    "#We want to know the statistics of the numeric data   \n",
    "df_data.describe()"
   ]
  },
  {
   "cell_type": "markdown",
   "metadata": {},
   "source": [
    "Why do you think this function only showed you the statistics for the \"year\" column, what happened with the \"counting\" column?\n",
    "\n",
    "The answer is that the \"counting\" column is not a number. You can use **dtypes** to find the types of the columns."
   ]
  },
  {
   "cell_type": "code",
   "execution_count": 25,
   "metadata": {
    "scrolled": true
   },
   "outputs": [
    {
     "data": {
      "text/plain": [
       "company         object\n",
       "year             int64\n",
       "race            object\n",
       "gender          object\n",
       "job_category    object\n",
       "counting        object\n",
       "dtype: object"
      ]
     },
     "execution_count": 25,
     "metadata": {},
     "output_type": "execute_result"
    }
   ],
   "source": [
    "#Getting the types by each column \n",
    "df_data.dtypes"
   ]
  },
  {
   "cell_type": "markdown",
   "metadata": {},
   "source": [
    "### Transforming your data\n",
    "\n",
    "We need to transform the values of the columns that are objects that you consider should be numbers, i.e., 'counting' column, using the   astype() function to transform it to an integer."
   ]
  },
  {
   "cell_type": "code",
   "execution_count": 26,
   "metadata": {},
   "outputs": [
    {
     "ename": "ValueError",
     "evalue": "invalid literal for int() with base 10: 'na'",
     "output_type": "error",
     "traceback": [
      "\u001b[0;31m---------------------------------------------------------------------------\u001b[0m",
      "\u001b[0;31mValueError\u001b[0m                                Traceback (most recent call last)",
      "\u001b[0;32m<ipython-input-26-693c5105439a>\u001b[0m in \u001b[0;36m<module>\u001b[0;34m\u001b[0m\n\u001b[0;32m----> 1\u001b[0;31m \u001b[0mdf_data\u001b[0m\u001b[0;34m[\u001b[0m\u001b[0;34m'counting'\u001b[0m\u001b[0;34m]\u001b[0m \u001b[0;34m=\u001b[0m \u001b[0mdf_data\u001b[0m\u001b[0;34m.\u001b[0m\u001b[0mcounting\u001b[0m\u001b[0;34m.\u001b[0m\u001b[0mastype\u001b[0m\u001b[0;34m(\u001b[0m\u001b[0;34m'int64'\u001b[0m\u001b[0;34m)\u001b[0m\u001b[0;34m\u001b[0m\u001b[0;34m\u001b[0m\u001b[0m\n\u001b[0m",
      "\u001b[0;32m/anaconda3/lib/python3.7/site-packages/pandas/core/generic.py\u001b[0m in \u001b[0;36mastype\u001b[0;34m(self, dtype, copy, errors, **kwargs)\u001b[0m\n\u001b[1;32m   5689\u001b[0m             \u001b[0;31m# else, only a single dtype is given\u001b[0m\u001b[0;34m\u001b[0m\u001b[0;34m\u001b[0m\u001b[0;34m\u001b[0m\u001b[0m\n\u001b[1;32m   5690\u001b[0m             new_data = self._data.astype(dtype=dtype, copy=copy, errors=errors,\n\u001b[0;32m-> 5691\u001b[0;31m                                          **kwargs)\n\u001b[0m\u001b[1;32m   5692\u001b[0m             \u001b[0;32mreturn\u001b[0m \u001b[0mself\u001b[0m\u001b[0;34m.\u001b[0m\u001b[0m_constructor\u001b[0m\u001b[0;34m(\u001b[0m\u001b[0mnew_data\u001b[0m\u001b[0;34m)\u001b[0m\u001b[0;34m.\u001b[0m\u001b[0m__finalize__\u001b[0m\u001b[0;34m(\u001b[0m\u001b[0mself\u001b[0m\u001b[0;34m)\u001b[0m\u001b[0;34m\u001b[0m\u001b[0;34m\u001b[0m\u001b[0m\n\u001b[1;32m   5693\u001b[0m \u001b[0;34m\u001b[0m\u001b[0m\n",
      "\u001b[0;32m/anaconda3/lib/python3.7/site-packages/pandas/core/internals/managers.py\u001b[0m in \u001b[0;36mastype\u001b[0;34m(self, dtype, **kwargs)\u001b[0m\n\u001b[1;32m    529\u001b[0m \u001b[0;34m\u001b[0m\u001b[0m\n\u001b[1;32m    530\u001b[0m     \u001b[0;32mdef\u001b[0m \u001b[0mastype\u001b[0m\u001b[0;34m(\u001b[0m\u001b[0mself\u001b[0m\u001b[0;34m,\u001b[0m \u001b[0mdtype\u001b[0m\u001b[0;34m,\u001b[0m \u001b[0;34m**\u001b[0m\u001b[0mkwargs\u001b[0m\u001b[0;34m)\u001b[0m\u001b[0;34m:\u001b[0m\u001b[0;34m\u001b[0m\u001b[0;34m\u001b[0m\u001b[0m\n\u001b[0;32m--> 531\u001b[0;31m         \u001b[0;32mreturn\u001b[0m \u001b[0mself\u001b[0m\u001b[0;34m.\u001b[0m\u001b[0mapply\u001b[0m\u001b[0;34m(\u001b[0m\u001b[0;34m'astype'\u001b[0m\u001b[0;34m,\u001b[0m \u001b[0mdtype\u001b[0m\u001b[0;34m=\u001b[0m\u001b[0mdtype\u001b[0m\u001b[0;34m,\u001b[0m \u001b[0;34m**\u001b[0m\u001b[0mkwargs\u001b[0m\u001b[0;34m)\u001b[0m\u001b[0;34m\u001b[0m\u001b[0;34m\u001b[0m\u001b[0m\n\u001b[0m\u001b[1;32m    532\u001b[0m \u001b[0;34m\u001b[0m\u001b[0m\n\u001b[1;32m    533\u001b[0m     \u001b[0;32mdef\u001b[0m \u001b[0mconvert\u001b[0m\u001b[0;34m(\u001b[0m\u001b[0mself\u001b[0m\u001b[0;34m,\u001b[0m \u001b[0;34m**\u001b[0m\u001b[0mkwargs\u001b[0m\u001b[0;34m)\u001b[0m\u001b[0;34m:\u001b[0m\u001b[0;34m\u001b[0m\u001b[0;34m\u001b[0m\u001b[0m\n",
      "\u001b[0;32m/anaconda3/lib/python3.7/site-packages/pandas/core/internals/managers.py\u001b[0m in \u001b[0;36mapply\u001b[0;34m(self, f, axes, filter, do_integrity_check, consolidate, **kwargs)\u001b[0m\n\u001b[1;32m    393\u001b[0m                                             copy=align_copy)\n\u001b[1;32m    394\u001b[0m \u001b[0;34m\u001b[0m\u001b[0m\n\u001b[0;32m--> 395\u001b[0;31m             \u001b[0mapplied\u001b[0m \u001b[0;34m=\u001b[0m \u001b[0mgetattr\u001b[0m\u001b[0;34m(\u001b[0m\u001b[0mb\u001b[0m\u001b[0;34m,\u001b[0m \u001b[0mf\u001b[0m\u001b[0;34m)\u001b[0m\u001b[0;34m(\u001b[0m\u001b[0;34m**\u001b[0m\u001b[0mkwargs\u001b[0m\u001b[0;34m)\u001b[0m\u001b[0;34m\u001b[0m\u001b[0;34m\u001b[0m\u001b[0m\n\u001b[0m\u001b[1;32m    396\u001b[0m             \u001b[0mresult_blocks\u001b[0m \u001b[0;34m=\u001b[0m \u001b[0m_extend_blocks\u001b[0m\u001b[0;34m(\u001b[0m\u001b[0mapplied\u001b[0m\u001b[0;34m,\u001b[0m \u001b[0mresult_blocks\u001b[0m\u001b[0;34m)\u001b[0m\u001b[0;34m\u001b[0m\u001b[0;34m\u001b[0m\u001b[0m\n\u001b[1;32m    397\u001b[0m \u001b[0;34m\u001b[0m\u001b[0m\n",
      "\u001b[0;32m/anaconda3/lib/python3.7/site-packages/pandas/core/internals/blocks.py\u001b[0m in \u001b[0;36mastype\u001b[0;34m(self, dtype, copy, errors, values, **kwargs)\u001b[0m\n\u001b[1;32m    532\u001b[0m     \u001b[0;32mdef\u001b[0m \u001b[0mastype\u001b[0m\u001b[0;34m(\u001b[0m\u001b[0mself\u001b[0m\u001b[0;34m,\u001b[0m \u001b[0mdtype\u001b[0m\u001b[0;34m,\u001b[0m \u001b[0mcopy\u001b[0m\u001b[0;34m=\u001b[0m\u001b[0;32mFalse\u001b[0m\u001b[0;34m,\u001b[0m \u001b[0merrors\u001b[0m\u001b[0;34m=\u001b[0m\u001b[0;34m'raise'\u001b[0m\u001b[0;34m,\u001b[0m \u001b[0mvalues\u001b[0m\u001b[0;34m=\u001b[0m\u001b[0;32mNone\u001b[0m\u001b[0;34m,\u001b[0m \u001b[0;34m**\u001b[0m\u001b[0mkwargs\u001b[0m\u001b[0;34m)\u001b[0m\u001b[0;34m:\u001b[0m\u001b[0;34m\u001b[0m\u001b[0;34m\u001b[0m\u001b[0m\n\u001b[1;32m    533\u001b[0m         return self._astype(dtype, copy=copy, errors=errors, values=values,\n\u001b[0;32m--> 534\u001b[0;31m                             **kwargs)\n\u001b[0m\u001b[1;32m    535\u001b[0m \u001b[0;34m\u001b[0m\u001b[0m\n\u001b[1;32m    536\u001b[0m     def _astype(self, dtype, copy=False, errors='raise', values=None,\n",
      "\u001b[0;32m/anaconda3/lib/python3.7/site-packages/pandas/core/internals/blocks.py\u001b[0m in \u001b[0;36m_astype\u001b[0;34m(self, dtype, copy, errors, values, **kwargs)\u001b[0m\n\u001b[1;32m    631\u001b[0m \u001b[0;34m\u001b[0m\u001b[0m\n\u001b[1;32m    632\u001b[0m                     \u001b[0;31m# _astype_nansafe works fine with 1-d only\u001b[0m\u001b[0;34m\u001b[0m\u001b[0;34m\u001b[0m\u001b[0;34m\u001b[0m\u001b[0m\n\u001b[0;32m--> 633\u001b[0;31m                     \u001b[0mvalues\u001b[0m \u001b[0;34m=\u001b[0m \u001b[0mastype_nansafe\u001b[0m\u001b[0;34m(\u001b[0m\u001b[0mvalues\u001b[0m\u001b[0;34m.\u001b[0m\u001b[0mravel\u001b[0m\u001b[0;34m(\u001b[0m\u001b[0;34m)\u001b[0m\u001b[0;34m,\u001b[0m \u001b[0mdtype\u001b[0m\u001b[0;34m,\u001b[0m \u001b[0mcopy\u001b[0m\u001b[0;34m=\u001b[0m\u001b[0;32mTrue\u001b[0m\u001b[0;34m)\u001b[0m\u001b[0;34m\u001b[0m\u001b[0;34m\u001b[0m\u001b[0m\n\u001b[0m\u001b[1;32m    634\u001b[0m \u001b[0;34m\u001b[0m\u001b[0m\n\u001b[1;32m    635\u001b[0m                 \u001b[0;31m# TODO(extension)\u001b[0m\u001b[0;34m\u001b[0m\u001b[0;34m\u001b[0m\u001b[0;34m\u001b[0m\u001b[0m\n",
      "\u001b[0;32m/anaconda3/lib/python3.7/site-packages/pandas/core/dtypes/cast.py\u001b[0m in \u001b[0;36mastype_nansafe\u001b[0;34m(arr, dtype, copy, skipna)\u001b[0m\n\u001b[1;32m    681\u001b[0m         \u001b[0;31m# work around NumPy brokenness, #1987\u001b[0m\u001b[0;34m\u001b[0m\u001b[0;34m\u001b[0m\u001b[0;34m\u001b[0m\u001b[0m\n\u001b[1;32m    682\u001b[0m         \u001b[0;32mif\u001b[0m \u001b[0mnp\u001b[0m\u001b[0;34m.\u001b[0m\u001b[0missubdtype\u001b[0m\u001b[0;34m(\u001b[0m\u001b[0mdtype\u001b[0m\u001b[0;34m.\u001b[0m\u001b[0mtype\u001b[0m\u001b[0;34m,\u001b[0m \u001b[0mnp\u001b[0m\u001b[0;34m.\u001b[0m\u001b[0minteger\u001b[0m\u001b[0;34m)\u001b[0m\u001b[0;34m:\u001b[0m\u001b[0;34m\u001b[0m\u001b[0;34m\u001b[0m\u001b[0m\n\u001b[0;32m--> 683\u001b[0;31m             \u001b[0;32mreturn\u001b[0m \u001b[0mlib\u001b[0m\u001b[0;34m.\u001b[0m\u001b[0mastype_intsafe\u001b[0m\u001b[0;34m(\u001b[0m\u001b[0marr\u001b[0m\u001b[0;34m.\u001b[0m\u001b[0mravel\u001b[0m\u001b[0;34m(\u001b[0m\u001b[0;34m)\u001b[0m\u001b[0;34m,\u001b[0m \u001b[0mdtype\u001b[0m\u001b[0;34m)\u001b[0m\u001b[0;34m.\u001b[0m\u001b[0mreshape\u001b[0m\u001b[0;34m(\u001b[0m\u001b[0marr\u001b[0m\u001b[0;34m.\u001b[0m\u001b[0mshape\u001b[0m\u001b[0;34m)\u001b[0m\u001b[0;34m\u001b[0m\u001b[0;34m\u001b[0m\u001b[0m\n\u001b[0m\u001b[1;32m    684\u001b[0m \u001b[0;34m\u001b[0m\u001b[0m\n\u001b[1;32m    685\u001b[0m         \u001b[0;31m# if we have a datetime/timedelta array of objects\u001b[0m\u001b[0;34m\u001b[0m\u001b[0;34m\u001b[0m\u001b[0;34m\u001b[0m\u001b[0m\n",
      "\u001b[0;32mpandas/_libs/lib.pyx\u001b[0m in \u001b[0;36mpandas._libs.lib.astype_intsafe\u001b[0;34m()\u001b[0m\n",
      "\u001b[0;31mValueError\u001b[0m: invalid literal for int() with base 10: 'na'"
     ]
    }
   ],
   "source": [
    "df_data['counting'] = df_data.counting.astype('int64')"
   ]
  },
  {
   "cell_type": "markdown",
   "metadata": {},
   "source": [
    "**NOTE**: When you code has an error, you can find the main issue at the end of the error. "
   ]
  },
  {
   "cell_type": "code",
   "execution_count": 27,
   "metadata": {},
   "outputs": [
    {
     "data": {
      "text/plain": [
       "60"
      ]
     },
     "execution_count": 27,
     "metadata": {},
     "output_type": "execute_result"
    }
   ],
   "source": [
    "#To get how many rows with na value \n",
    "#NOTE: The name of the \n",
    "df_data['counting'][df_data.counting=='na'].count()"
   ]
  },
  {
   "cell_type": "markdown",
   "metadata": {},
   "source": [
    "We got this error because we have 60 rows with 'na' value, which is not a value accepted for the **astype** function.  "
   ]
  },
  {
   "cell_type": "markdown",
   "metadata": {},
   "source": [
    "If this happens with your data, you can use the following method. \n",
    "\n",
    "1. Transform the desired values to 'NaN' \n",
    "2. Use the to_numeric function\n",
    "\n",
    "Let's introduce a new function, called **loc**, which is used to select by index using a condition. In our case, we are using it to select rows with a value equals to 'na' in the 'counting' column and change them to NaN, so we can transform the type of the column to integer.  "
   ]
  },
  {
   "cell_type": "code",
   "execution_count": 28,
   "metadata": {},
   "outputs": [],
   "source": [
    "df_data.loc[df_data.counting=='na','counting']='NaN'"
   ]
  },
  {
   "cell_type": "code",
   "execution_count": 29,
   "metadata": {},
   "outputs": [
    {
     "data": {
      "text/plain": [
       "0"
      ]
     },
     "execution_count": 29,
     "metadata": {},
     "output_type": "execute_result"
    }
   ],
   "source": [
    "df_data['counting'][df_data.counting=='na'].count()"
   ]
  },
  {
   "cell_type": "markdown",
   "metadata": {},
   "source": [
    "We can the use another function in Pandas called **to_numeric**.      \n",
    "pd.to_numeric($<$DataFrame$>$['$<$columnName$>$'], error='coerce') \n",
    "this function can manage three type of errors: \n",
    "* coerce, the invalid parsing will be set as NaN\n",
    "* ignore, the invalid parsing will return the input \n",
    "* raise, the invalid parsing will raise an exception \n",
    "\n",
    "More details about pandas to_numeric can be found at \n",
    "https://pandas.pydata.org/pandas-docs/stable/reference/api/pandas.to_numeric.html\n"
   ]
  },
  {
   "cell_type": "code",
   "execution_count": 30,
   "metadata": {},
   "outputs": [
    {
     "name": "stdout",
     "output_type": "stream",
     "text": [
      "company          object\n",
      "year              int64\n",
      "race             object\n",
      "gender           object\n",
      "job_category     object\n",
      "counting        float64\n",
      "dtype: object\n"
     ]
    }
   ],
   "source": [
    "#Convert in numeric this column \n",
    "df_data['counting'] = pd.to_numeric(df_data['counting'],errors='coerce')\n",
    "#After all is changed as a object \n",
    "print(df_data.dtypes)"
   ]
  },
  {
   "cell_type": "code",
   "execution_count": 31,
   "metadata": {
    "scrolled": true
   },
   "outputs": [
    {
     "data": {
      "text/html": [
       "<div>\n",
       "<style scoped>\n",
       "    .dataframe tbody tr th:only-of-type {\n",
       "        vertical-align: middle;\n",
       "    }\n",
       "\n",
       "    .dataframe tbody tr th {\n",
       "        vertical-align: top;\n",
       "    }\n",
       "\n",
       "    .dataframe thead th {\n",
       "        text-align: right;\n",
       "    }\n",
       "</style>\n",
       "<table border=\"1\" class=\"dataframe\">\n",
       "  <thead>\n",
       "    <tr style=\"text-align: right;\">\n",
       "      <th></th>\n",
       "      <th>company</th>\n",
       "      <th>year</th>\n",
       "      <th>race</th>\n",
       "      <th>gender</th>\n",
       "      <th>job_category</th>\n",
       "      <th>counting</th>\n",
       "    </tr>\n",
       "  </thead>\n",
       "  <tbody>\n",
       "    <tr>\n",
       "      <th>0</th>\n",
       "      <td>23andMe</td>\n",
       "      <td>2016</td>\n",
       "      <td>Latino</td>\n",
       "      <td>male</td>\n",
       "      <td>Executive/Senior officials &amp; Mgrs</td>\n",
       "      <td>0.0</td>\n",
       "    </tr>\n",
       "  </tbody>\n",
       "</table>\n",
       "</div>"
      ],
      "text/plain": [
       "   company  year    race gender                       job_category  counting\n",
       "0  23andMe  2016  Latino   male  Executive/Senior officials & Mgrs       0.0"
      ]
     },
     "execution_count": 31,
     "metadata": {},
     "output_type": "execute_result"
    }
   ],
   "source": [
    "#We review data to make sure that the changes are well done. \n",
    "#If you set a number as a parameter in head, indicate how many rows will display \n",
    "#In this case, only the first row is displayed. \n",
    "df_data.head(1)"
   ]
  },
  {
   "cell_type": "markdown",
   "metadata": {},
   "source": [
    "One interesting fact that we can also find in the data is the race that is most employed in  Silicon Valley.\n",
    "First we get a look what race is found in the dataset, using **unique()**.\n"
   ]
  },
  {
   "cell_type": "code",
   "execution_count": 32,
   "metadata": {
    "scrolled": true
   },
   "outputs": [
    {
     "data": {
      "text/plain": [
       "array(['Latino', 'White', 'Black_or_African_American',\n",
       "       'Native_Hawaiian_or_Pacific_Islander', 'Asian',\n",
       "       'American_Indian_Alaskan_Native', 'Two_or_more_races',\n",
       "       'Overall_totals'], dtype=object)"
      ]
     },
     "execution_count": 32,
     "metadata": {},
     "output_type": "execute_result"
    }
   ],
   "source": [
    "#Get the unique values per 'race' column\n",
    "df_data.race.unique()"
   ]
  },
  {
   "cell_type": "markdown",
   "metadata": {},
   "source": [
    "We can see what the races are, but we cannot see the race that is most represented. \n",
    "\n",
    "### Grouping the Data\n",
    "\n",
    "We introduce  two new functions, namely, **groupby()**, which is used to split the data into groups, and **sum()**, wich is an agregation function use to sum all the items. \n"
   ]
  },
  {
   "cell_type": "code",
   "execution_count": 33,
   "metadata": {
    "scrolled": true
   },
   "outputs": [
    {
     "data": {
      "text/plain": [
       "race\n",
       "Overall_totals                         1045284.0\n",
       "White                                   617157.0\n",
       "Asian                                   276530.0\n",
       "Latino                                   75442.0\n",
       "Black_or_African_American                52813.0\n",
       "Two_or_more_races                        16647.0\n",
       "American_Indian_Alaskan_Native            3530.0\n",
       "Native_Hawaiian_or_Pacific_Islander       3165.0\n",
       "Name: counting, dtype: float64"
      ]
     },
     "execution_count": 33,
     "metadata": {},
     "output_type": "execute_result"
    }
   ],
   "source": [
    "df_data.groupby('race')['counting'].sum().sort_values(ascending=False)"
   ]
  },
  {
   "cell_type": "markdown",
   "metadata": {},
   "source": [
    "The most employed race is Overall_Totals. This comes from the fact that some companies do not disclose the race of their employees. For those that do, we see the breakdown under the Overall_Totals."
   ]
  },
  {
   "cell_type": "markdown",
   "metadata": {},
   "source": [
    "### Practice -\n",
    "\n"
   ]
  },
  {
   "cell_type": "code",
   "execution_count": null,
   "metadata": {},
   "outputs": [],
   "source": []
  },
  {
   "cell_type": "code",
   "execution_count": 34,
   "metadata": {},
   "outputs": [
    {
     "name": "stdout",
     "output_type": "stream",
     "text": [
      "genders=  ['male' 'female' nan]\n",
      "Total of rows =  3960\n",
      "female    1848\n",
      "male      1848\n",
      "Name: gender, dtype: int64\n",
      "Rows that have gender =  3696\n",
      "NaNs= 264\n",
      "Another way to get NaNs = 264\n",
      "After change NaNs by no_gender\n",
      "female                 1848\n",
      "male                   1848\n",
      "gender_not_provided     264\n",
      "Name: gender, dtype: int64\n",
      "gender\n",
      "gender_not_provided    1045284.0\n",
      "male                    729920.0\n",
      "female                  315364.0\n",
      "Name: counting, dtype: float64\n",
      "The answer to our question is no_gender\n"
     ]
    }
   ],
   "source": [
    "#Solution \n",
    "print('genders= ',df_data.gender.unique())\n",
    "r,c=df_data.shape #To get how many rows and columns the data have  \n",
    "print('Total of rows = ',r)\n",
    "print(df_data.gender.value_counts())\n",
    "print('Rows that have gender = ',df_data.gender.value_counts().sum())\n",
    "print('NaNs=',r-df_data.gender.value_counts().sum())\n",
    "print('Another way to get NaNs =',df_data.gender.isna().sum())\n",
    "df_data.loc[df_data.gender.isna()==True,'gender']='gender_not_provided'\n",
    "print('After change NaNs by no_gender')\n",
    "print(df_data.gender.value_counts())\n",
    "print(df_data.groupby('gender')['counting'].sum().sort_values(ascending=False))\n",
    "print('The answer to our question is no_gender')"
   ]
  },
  {
   "cell_type": "markdown",
   "metadata": {},
   "source": [
    "## Combining Datasets\n",
    "\n",
    "Merge and join are functions that take advantages of the high-performance memory manipulation in Pandas to combine the data. \n",
    "\n",
    "Concatenation in Pandas means that  rows or items are added to the end of an existing Series or DataFrame. Also, to avoid heavy lifting of performing concatenation operations, it is possible perform union and intersection operations.  \n",
    "\n",
    "Merge, join and concatenation are based on **relational algebra**, quickly discussed below. "
   ]
  },
  {
   "cell_type": "markdown",
   "metadata": {},
   "source": [
    "### Projection example \n",
    "\n",
    "In Pandas, projection can be performed with the iloc[] and loc [] methods. \n",
    "\n",
    ".iloc[] takes the integer positions of the axis (rows and columns) from 0 to the axis length-1. This works similar to slicing  two-dimensional arrays in NumPy: start, stop and step points. Only the start point is compulsory.  \n",
    "\n",
    "$<DataFrame\\_name>.iloc[start: stop: step]$\n",
    "\n",
    "\n",
    ".loc[] is label-based, but you can also insert a condition, so it can work as a boolean, filtering the rows that satisfy that condition. \n",
    "\n",
    "$<DataFrame\\_name>.iloc[<condition>, {<columns to project>}]$\n",
    " \n",
    "**Warning**: Note that contrary to the common slicing in NumPy, both the start and the stop point are included.  \n"
   ]
  },
  {
   "cell_type": "code",
   "execution_count": 35,
   "metadata": {},
   "outputs": [
    {
     "data": {
      "text/html": [
       "<div>\n",
       "<style scoped>\n",
       "    .dataframe tbody tr th:only-of-type {\n",
       "        vertical-align: middle;\n",
       "    }\n",
       "\n",
       "    .dataframe tbody tr th {\n",
       "        vertical-align: top;\n",
       "    }\n",
       "\n",
       "    .dataframe thead th {\n",
       "        text-align: right;\n",
       "    }\n",
       "</style>\n",
       "<table border=\"1\" class=\"dataframe\">\n",
       "  <thead>\n",
       "    <tr style=\"text-align: right;\">\n",
       "      <th></th>\n",
       "      <th>name</th>\n",
       "      <th>position</th>\n",
       "      <th>good_guy</th>\n",
       "      <th>Salary</th>\n",
       "    </tr>\n",
       "  </thead>\n",
       "  <tbody>\n",
       "    <tr>\n",
       "      <th>0</th>\n",
       "      <td>Neo</td>\n",
       "      <td>Protagonist</td>\n",
       "      <td>Yes</td>\n",
       "      <td>2,000.00</td>\n",
       "    </tr>\n",
       "    <tr>\n",
       "      <th>1</th>\n",
       "      <td>Trinity</td>\n",
       "      <td>Underground hacker</td>\n",
       "      <td>Yes</td>\n",
       "      <td>1,700.00</td>\n",
       "    </tr>\n",
       "    <tr>\n",
       "      <th>2</th>\n",
       "      <td>Morpheus</td>\n",
       "      <td>Leader</td>\n",
       "      <td>Yes</td>\n",
       "      <td>1,900.00</td>\n",
       "    </tr>\n",
       "    <tr>\n",
       "      <th>3</th>\n",
       "      <td>Sentinel</td>\n",
       "      <td>Robot to kill humans</td>\n",
       "      <td>No</td>\n",
       "      <td>1,100.00</td>\n",
       "    </tr>\n",
       "    <tr>\n",
       "      <th>4</th>\n",
       "      <td>Agent Smith</td>\n",
       "      <td>Neo's antagonist</td>\n",
       "      <td>No</td>\n",
       "      <td>1,800.00</td>\n",
       "    </tr>\n",
       "    <tr>\n",
       "      <th>5</th>\n",
       "      <td>Oracle</td>\n",
       "      <td>Guide of the freed minds</td>\n",
       "      <td>Yes</td>\n",
       "      <td>1,500.00</td>\n",
       "    </tr>\n",
       "  </tbody>\n",
       "</table>\n",
       "</div>"
      ],
      "text/plain": [
       "          name                  position good_guy    Salary\n",
       "0          Neo              Protagonist       Yes  2,000.00\n",
       "1      Trinity        Underground hacker      Yes  1,700.00\n",
       "2     Morpheus                    Leader      Yes  1,900.00\n",
       "3     Sentinel      Robot to kill humans       No  1,100.00\n",
       "4  Agent Smith          Neo's antagonist       No  1,800.00\n",
       "5       Oracle  Guide of the freed minds      Yes  1,500.00"
      ]
     },
     "execution_count": 35,
     "metadata": {},
     "output_type": "execute_result"
    }
   ],
   "source": [
    "#import libraries\n",
    "import numpy as np \n",
    "import pandas as pd \n",
    "\n",
    "#Projection and restriction \n",
    "#load the data\n",
    "Employee = pd.DataFrame(pd.read_csv('Employee.csv'))\n",
    "Employee                                    "
   ]
  },
  {
   "cell_type": "code",
   "execution_count": 36,
   "metadata": {},
   "outputs": [
    {
     "name": "stdout",
     "output_type": "stream",
     "text": [
      "name                 Neo\n",
      "position    Protagonist \n",
      "good_guy             Yes\n",
      "Salary          2,000.00\n",
      "Name: 0, dtype: object\n"
     ]
    },
    {
     "data": {
      "text/html": [
       "<div>\n",
       "<style scoped>\n",
       "    .dataframe tbody tr th:only-of-type {\n",
       "        vertical-align: middle;\n",
       "    }\n",
       "\n",
       "    .dataframe tbody tr th {\n",
       "        vertical-align: top;\n",
       "    }\n",
       "\n",
       "    .dataframe thead th {\n",
       "        text-align: right;\n",
       "    }\n",
       "</style>\n",
       "<table border=\"1\" class=\"dataframe\">\n",
       "  <thead>\n",
       "    <tr style=\"text-align: right;\">\n",
       "      <th></th>\n",
       "      <th>name</th>\n",
       "      <th>position</th>\n",
       "    </tr>\n",
       "  </thead>\n",
       "  <tbody>\n",
       "    <tr>\n",
       "      <th>0</th>\n",
       "      <td>Neo</td>\n",
       "      <td>Protagonist</td>\n",
       "    </tr>\n",
       "    <tr>\n",
       "      <th>1</th>\n",
       "      <td>Trinity</td>\n",
       "      <td>Underground hacker</td>\n",
       "    </tr>\n",
       "    <tr>\n",
       "      <th>2</th>\n",
       "      <td>Morpheus</td>\n",
       "      <td>Leader</td>\n",
       "    </tr>\n",
       "    <tr>\n",
       "      <th>3</th>\n",
       "      <td>Sentinel</td>\n",
       "      <td>Robot to kill humans</td>\n",
       "    </tr>\n",
       "    <tr>\n",
       "      <th>4</th>\n",
       "      <td>Agent Smith</td>\n",
       "      <td>Neo's antagonist</td>\n",
       "    </tr>\n",
       "    <tr>\n",
       "      <th>5</th>\n",
       "      <td>Oracle</td>\n",
       "      <td>Guide of the freed minds</td>\n",
       "    </tr>\n",
       "  </tbody>\n",
       "</table>\n",
       "</div>"
      ],
      "text/plain": [
       "          name                  position\n",
       "0          Neo              Protagonist \n",
       "1      Trinity        Underground hacker\n",
       "2     Morpheus                    Leader\n",
       "3     Sentinel      Robot to kill humans\n",
       "4  Agent Smith          Neo's antagonist\n",
       "5       Oracle  Guide of the freed minds"
      ]
     },
     "execution_count": 36,
     "metadata": {},
     "output_type": "execute_result"
    }
   ],
   "source": [
    "#Examples using iloc \n",
    "print(Employee.iloc[0])\n",
    "#We project all the rows and only 0 and 1 column \n",
    "#Selecting rows and columns simultaneously\n",
    "Employee.iloc[:,0:2] "
   ]
  },
  {
   "cell_type": "code",
   "execution_count": 37,
   "metadata": {},
   "outputs": [
    {
     "data": {
      "text/html": [
       "<div>\n",
       "<style scoped>\n",
       "    .dataframe tbody tr th:only-of-type {\n",
       "        vertical-align: middle;\n",
       "    }\n",
       "\n",
       "    .dataframe tbody tr th {\n",
       "        vertical-align: top;\n",
       "    }\n",
       "\n",
       "    .dataframe thead th {\n",
       "        text-align: right;\n",
       "    }\n",
       "</style>\n",
       "<table border=\"1\" class=\"dataframe\">\n",
       "  <thead>\n",
       "    <tr style=\"text-align: right;\">\n",
       "      <th></th>\n",
       "      <th>name</th>\n",
       "      <th>position</th>\n",
       "    </tr>\n",
       "  </thead>\n",
       "  <tbody>\n",
       "    <tr>\n",
       "      <th>0</th>\n",
       "      <td>Neo</td>\n",
       "      <td>Protagonist</td>\n",
       "    </tr>\n",
       "    <tr>\n",
       "      <th>1</th>\n",
       "      <td>Trinity</td>\n",
       "      <td>Underground hacker</td>\n",
       "    </tr>\n",
       "    <tr>\n",
       "      <th>2</th>\n",
       "      <td>Morpheus</td>\n",
       "      <td>Leader</td>\n",
       "    </tr>\n",
       "    <tr>\n",
       "      <th>3</th>\n",
       "      <td>Sentinel</td>\n",
       "      <td>Robot to kill humans</td>\n",
       "    </tr>\n",
       "    <tr>\n",
       "      <th>4</th>\n",
       "      <td>Agent Smith</td>\n",
       "      <td>Neo's antagonist</td>\n",
       "    </tr>\n",
       "    <tr>\n",
       "      <th>5</th>\n",
       "      <td>Oracle</td>\n",
       "      <td>Guide of the freed minds</td>\n",
       "    </tr>\n",
       "  </tbody>\n",
       "</table>\n",
       "</div>"
      ],
      "text/plain": [
       "          name                  position\n",
       "0          Neo              Protagonist \n",
       "1      Trinity        Underground hacker\n",
       "2     Morpheus                    Leader\n",
       "3     Sentinel      Robot to kill humans\n",
       "4  Agent Smith          Neo's antagonist\n",
       "5       Oracle  Guide of the freed minds"
      ]
     },
     "execution_count": 37,
     "metadata": {},
     "output_type": "execute_result"
    }
   ],
   "source": [
    "#Projection with restriccion using loc\n",
    "#Selecting rows and columns simultaneously\n",
    "Employee.loc[:,'name':'position']"
   ]
  },
  {
   "cell_type": "code",
   "execution_count": 38,
   "metadata": {},
   "outputs": [
    {
     "data": {
      "text/html": [
       "<div>\n",
       "<style scoped>\n",
       "    .dataframe tbody tr th:only-of-type {\n",
       "        vertical-align: middle;\n",
       "    }\n",
       "\n",
       "    .dataframe tbody tr th {\n",
       "        vertical-align: top;\n",
       "    }\n",
       "\n",
       "    .dataframe thead th {\n",
       "        text-align: right;\n",
       "    }\n",
       "</style>\n",
       "<table border=\"1\" class=\"dataframe\">\n",
       "  <thead>\n",
       "    <tr style=\"text-align: right;\">\n",
       "      <th></th>\n",
       "      <th>position</th>\n",
       "      <th>name</th>\n",
       "    </tr>\n",
       "  </thead>\n",
       "  <tbody>\n",
       "    <tr>\n",
       "      <th>0</th>\n",
       "      <td>Protagonist</td>\n",
       "      <td>Neo</td>\n",
       "    </tr>\n",
       "    <tr>\n",
       "      <th>1</th>\n",
       "      <td>Underground hacker</td>\n",
       "      <td>Trinity</td>\n",
       "    </tr>\n",
       "    <tr>\n",
       "      <th>2</th>\n",
       "      <td>Leader</td>\n",
       "      <td>Morpheus</td>\n",
       "    </tr>\n",
       "    <tr>\n",
       "      <th>5</th>\n",
       "      <td>Guide of the freed minds</td>\n",
       "      <td>Oracle</td>\n",
       "    </tr>\n",
       "  </tbody>\n",
       "</table>\n",
       "</div>"
      ],
      "text/plain": [
       "                   position      name\n",
       "0              Protagonist        Neo\n",
       "1        Underground hacker   Trinity\n",
       "2                    Leader  Morpheus\n",
       "5  Guide of the freed minds    Oracle"
      ]
     },
     "execution_count": 38,
     "metadata": {},
     "output_type": "execute_result"
    }
   ],
   "source": [
    "#Projection with restriccion using loc\n",
    "Employee.loc[Employee.good_guy=='Yes',{'name','position'}]"
   ]
  },
  {
   "cell_type": "markdown",
   "metadata": {},
   "source": [
    "#### Union example\n",
    "Using the **concat()** function, you can perform Union in Pandas. \n",
    "\n",
    "The **concat()** function allows heavy concatenations along an axis while performing optional set logic like (union or intersection) of the indexes on the other axes.\n",
    "\n",
    "$pd.concat([<DataFrame_1>,\\ldots,<DataFrame_n>], axis=0, join=$'$outer$'$,ignore\\_index=False,$$\\qquad \\qquad keys=None, levels=None, names=None, verify\\_integrity=False, copy=True)$\n",
    "\n",
    "join='outer' is for **union** by default. When it is outer, the function sorts the columns, so you get a warning from Python to indicate this behavior. this is solved adding $sort=False$. In future versions of pandas sort will come with False as default. \n",
    "\n",
    "More details about the parameters  can be found at \n",
    "https://pandas.pydata.org/pandas-docs/stable/reference/api/pandas.concat.html\n",
    "\n",
    "Also, a easy way to concatenate is using append() function. \n",
    "\n",
    "$<DataFrame\\_Result>.append([<DataFrame_1>,\\ldots,<DataFrame_n>],ignore\\_index=False, sort=None)$\n",
    "\n",
    "sort needs to be equal to False. \n",
    "\n",
    "Note: concat() and append() functions need to be assigned to a new DataFrame object if you want to use the resultant DataFrame."
   ]
  },
  {
   "cell_type": "code",
   "execution_count": 39,
   "metadata": {},
   "outputs": [
    {
     "data": {
      "text/html": [
       "<div>\n",
       "<style scoped>\n",
       "    .dataframe tbody tr th:only-of-type {\n",
       "        vertical-align: middle;\n",
       "    }\n",
       "\n",
       "    .dataframe tbody tr th {\n",
       "        vertical-align: top;\n",
       "    }\n",
       "\n",
       "    .dataframe thead th {\n",
       "        text-align: right;\n",
       "    }\n",
       "</style>\n",
       "<table border=\"1\" class=\"dataframe\">\n",
       "  <thead>\n",
       "    <tr style=\"text-align: right;\">\n",
       "      <th></th>\n",
       "      <th>name</th>\n",
       "      <th>position</th>\n",
       "      <th>good_guy</th>\n",
       "      <th>Salary</th>\n",
       "    </tr>\n",
       "  </thead>\n",
       "  <tbody>\n",
       "    <tr>\n",
       "      <th>0</th>\n",
       "      <td>Neo</td>\n",
       "      <td>Protagonist</td>\n",
       "      <td>Yes</td>\n",
       "      <td>2,000.00</td>\n",
       "    </tr>\n",
       "    <tr>\n",
       "      <th>1</th>\n",
       "      <td>Trinity</td>\n",
       "      <td>Underground hacker</td>\n",
       "      <td>Yes</td>\n",
       "      <td>1,700.00</td>\n",
       "    </tr>\n",
       "    <tr>\n",
       "      <th>2</th>\n",
       "      <td>Morpheus</td>\n",
       "      <td>Leader</td>\n",
       "      <td>Yes</td>\n",
       "      <td>1,900.00</td>\n",
       "    </tr>\n",
       "    <tr>\n",
       "      <th>3</th>\n",
       "      <td>Sentinel</td>\n",
       "      <td>Robot to kill humans</td>\n",
       "      <td>No</td>\n",
       "      <td>1,100.00</td>\n",
       "    </tr>\n",
       "    <tr>\n",
       "      <th>4</th>\n",
       "      <td>Agent Smith</td>\n",
       "      <td>Neo's antagonist</td>\n",
       "      <td>No</td>\n",
       "      <td>1,800.00</td>\n",
       "    </tr>\n",
       "    <tr>\n",
       "      <th>5</th>\n",
       "      <td>Oracle</td>\n",
       "      <td>Guide of the freed minds</td>\n",
       "      <td>Yes</td>\n",
       "      <td>1,500.00</td>\n",
       "    </tr>\n",
       "  </tbody>\n",
       "</table>\n",
       "</div>"
      ],
      "text/plain": [
       "          name                  position good_guy    Salary\n",
       "0          Neo              Protagonist       Yes  2,000.00\n",
       "1      Trinity        Underground hacker      Yes  1,700.00\n",
       "2     Morpheus                    Leader      Yes  1,900.00\n",
       "3     Sentinel      Robot to kill humans       No  1,100.00\n",
       "4  Agent Smith          Neo's antagonist       No  1,800.00\n",
       "5       Oracle  Guide of the freed minds      Yes  1,500.00"
      ]
     },
     "execution_count": 39,
     "metadata": {},
     "output_type": "execute_result"
    }
   ],
   "source": [
    "#load Employee_A data\n",
    "Employee_A = pd.DataFrame(pd.read_csv('Employee.csv'))\n",
    "Employee_A                                   \n"
   ]
  },
  {
   "cell_type": "code",
   "execution_count": 40,
   "metadata": {},
   "outputs": [
    {
     "data": {
      "text/html": [
       "<div>\n",
       "<style scoped>\n",
       "    .dataframe tbody tr th:only-of-type {\n",
       "        vertical-align: middle;\n",
       "    }\n",
       "\n",
       "    .dataframe tbody tr th {\n",
       "        vertical-align: top;\n",
       "    }\n",
       "\n",
       "    .dataframe thead th {\n",
       "        text-align: right;\n",
       "    }\n",
       "</style>\n",
       "<table border=\"1\" class=\"dataframe\">\n",
       "  <thead>\n",
       "    <tr style=\"text-align: right;\">\n",
       "      <th></th>\n",
       "      <th>name</th>\n",
       "      <th>position</th>\n",
       "      <th>good_guy</th>\n",
       "      <th>Department</th>\n",
       "      <th>Salary</th>\n",
       "    </tr>\n",
       "  </thead>\n",
       "  <tbody>\n",
       "    <tr>\n",
       "      <th>0</th>\n",
       "      <td>Luke Skywalker</td>\n",
       "      <td>Protagonist, son of Darth Vader</td>\n",
       "      <td>Yes</td>\n",
       "      <td>Star Wars</td>\n",
       "      <td>3,000.00</td>\n",
       "    </tr>\n",
       "    <tr>\n",
       "      <th>1</th>\n",
       "      <td>Princess Leia</td>\n",
       "      <td>Leader in the Rebel Alliance</td>\n",
       "      <td>Yes</td>\n",
       "      <td>Star Wars</td>\n",
       "      <td>3,700.00</td>\n",
       "    </tr>\n",
       "    <tr>\n",
       "      <th>2</th>\n",
       "      <td>Yoda</td>\n",
       "      <td>Jedi master</td>\n",
       "      <td>Yes</td>\n",
       "      <td>Star Wars</td>\n",
       "      <td>3,900.00</td>\n",
       "    </tr>\n",
       "    <tr>\n",
       "      <th>3</th>\n",
       "      <td>Han Solo</td>\n",
       "      <td>Robot to kill humans</td>\n",
       "      <td>Yes</td>\n",
       "      <td>Star Wars</td>\n",
       "      <td>3,100.00</td>\n",
       "    </tr>\n",
       "    <tr>\n",
       "      <th>4</th>\n",
       "      <td>Darth Vader</td>\n",
       "      <td>antagonist</td>\n",
       "      <td>No</td>\n",
       "      <td>Star Wars</td>\n",
       "      <td>3,800.00</td>\n",
       "    </tr>\n",
       "  </tbody>\n",
       "</table>\n",
       "</div>"
      ],
      "text/plain": [
       "             name                         position good_guy Department  \\\n",
       "0  Luke Skywalker  Protagonist, son of Darth Vader      Yes  Star Wars   \n",
       "1  Princess Leia      Leader in the Rebel Alliance      Yes  Star Wars   \n",
       "2            Yoda                      Jedi master      Yes  Star Wars   \n",
       "3        Han Solo             Robot to kill humans      Yes  Star Wars   \n",
       "4     Darth Vader                       antagonist       No  Star Wars   \n",
       "\n",
       "     Salary  \n",
       "0  3,000.00  \n",
       "1  3,700.00  \n",
       "2  3,900.00  \n",
       "3  3,100.00  \n",
       "4  3,800.00  "
      ]
     },
     "execution_count": 40,
     "metadata": {},
     "output_type": "execute_result"
    }
   ],
   "source": [
    "Employee_B = pd.DataFrame(pd.read_csv('Employee_B.csv'))\n",
    "Employee_B "
   ]
  },
  {
   "cell_type": "markdown",
   "metadata": {},
   "source": [
    "We use concact() to Union the data, however there is a problem in that the DataFrames have different numbers. In  this case Pandas added NaN to the missing column in EmployeeA.\n"
   ]
  },
  {
   "cell_type": "code",
   "execution_count": 41,
   "metadata": {},
   "outputs": [
    {
     "data": {
      "text/html": [
       "<div>\n",
       "<style scoped>\n",
       "    .dataframe tbody tr th:only-of-type {\n",
       "        vertical-align: middle;\n",
       "    }\n",
       "\n",
       "    .dataframe tbody tr th {\n",
       "        vertical-align: top;\n",
       "    }\n",
       "\n",
       "    .dataframe thead th {\n",
       "        text-align: right;\n",
       "    }\n",
       "</style>\n",
       "<table border=\"1\" class=\"dataframe\">\n",
       "  <thead>\n",
       "    <tr style=\"text-align: right;\">\n",
       "      <th></th>\n",
       "      <th>name</th>\n",
       "      <th>position</th>\n",
       "      <th>good_guy</th>\n",
       "      <th>Salary</th>\n",
       "      <th>Department</th>\n",
       "    </tr>\n",
       "  </thead>\n",
       "  <tbody>\n",
       "    <tr>\n",
       "      <th>0</th>\n",
       "      <td>Neo</td>\n",
       "      <td>Protagonist</td>\n",
       "      <td>Yes</td>\n",
       "      <td>2,000.00</td>\n",
       "      <td>NaN</td>\n",
       "    </tr>\n",
       "    <tr>\n",
       "      <th>1</th>\n",
       "      <td>Trinity</td>\n",
       "      <td>Underground hacker</td>\n",
       "      <td>Yes</td>\n",
       "      <td>1,700.00</td>\n",
       "      <td>NaN</td>\n",
       "    </tr>\n",
       "    <tr>\n",
       "      <th>2</th>\n",
       "      <td>Morpheus</td>\n",
       "      <td>Leader</td>\n",
       "      <td>Yes</td>\n",
       "      <td>1,900.00</td>\n",
       "      <td>NaN</td>\n",
       "    </tr>\n",
       "    <tr>\n",
       "      <th>3</th>\n",
       "      <td>Sentinel</td>\n",
       "      <td>Robot to kill humans</td>\n",
       "      <td>No</td>\n",
       "      <td>1,100.00</td>\n",
       "      <td>NaN</td>\n",
       "    </tr>\n",
       "    <tr>\n",
       "      <th>4</th>\n",
       "      <td>Agent Smith</td>\n",
       "      <td>Neo's antagonist</td>\n",
       "      <td>No</td>\n",
       "      <td>1,800.00</td>\n",
       "      <td>NaN</td>\n",
       "    </tr>\n",
       "    <tr>\n",
       "      <th>5</th>\n",
       "      <td>Oracle</td>\n",
       "      <td>Guide of the freed minds</td>\n",
       "      <td>Yes</td>\n",
       "      <td>1,500.00</td>\n",
       "      <td>NaN</td>\n",
       "    </tr>\n",
       "    <tr>\n",
       "      <th>0</th>\n",
       "      <td>Luke Skywalker</td>\n",
       "      <td>Protagonist, son of Darth Vader</td>\n",
       "      <td>Yes</td>\n",
       "      <td>3,000.00</td>\n",
       "      <td>Star Wars</td>\n",
       "    </tr>\n",
       "    <tr>\n",
       "      <th>1</th>\n",
       "      <td>Princess Leia</td>\n",
       "      <td>Leader in the Rebel Alliance</td>\n",
       "      <td>Yes</td>\n",
       "      <td>3,700.00</td>\n",
       "      <td>Star Wars</td>\n",
       "    </tr>\n",
       "    <tr>\n",
       "      <th>2</th>\n",
       "      <td>Yoda</td>\n",
       "      <td>Jedi master</td>\n",
       "      <td>Yes</td>\n",
       "      <td>3,900.00</td>\n",
       "      <td>Star Wars</td>\n",
       "    </tr>\n",
       "    <tr>\n",
       "      <th>3</th>\n",
       "      <td>Han Solo</td>\n",
       "      <td>Robot to kill humans</td>\n",
       "      <td>Yes</td>\n",
       "      <td>3,100.00</td>\n",
       "      <td>Star Wars</td>\n",
       "    </tr>\n",
       "    <tr>\n",
       "      <th>4</th>\n",
       "      <td>Darth Vader</td>\n",
       "      <td>antagonist</td>\n",
       "      <td>No</td>\n",
       "      <td>3,800.00</td>\n",
       "      <td>Star Wars</td>\n",
       "    </tr>\n",
       "  </tbody>\n",
       "</table>\n",
       "</div>"
      ],
      "text/plain": [
       "             name                         position good_guy    Salary  \\\n",
       "0             Neo                     Protagonist       Yes  2,000.00   \n",
       "1         Trinity               Underground hacker      Yes  1,700.00   \n",
       "2        Morpheus                           Leader      Yes  1,900.00   \n",
       "3        Sentinel             Robot to kill humans       No  1,100.00   \n",
       "4     Agent Smith                 Neo's antagonist       No  1,800.00   \n",
       "5          Oracle         Guide of the freed minds      Yes  1,500.00   \n",
       "0  Luke Skywalker  Protagonist, son of Darth Vader      Yes  3,000.00   \n",
       "1  Princess Leia      Leader in the Rebel Alliance      Yes  3,700.00   \n",
       "2            Yoda                      Jedi master      Yes  3,900.00   \n",
       "3        Han Solo             Robot to kill humans      Yes  3,100.00   \n",
       "4     Darth Vader                       antagonist       No  3,800.00   \n",
       "\n",
       "  Department  \n",
       "0        NaN  \n",
       "1        NaN  \n",
       "2        NaN  \n",
       "3        NaN  \n",
       "4        NaN  \n",
       "5        NaN  \n",
       "0  Star Wars  \n",
       "1  Star Wars  \n",
       "2  Star Wars  \n",
       "3  Star Wars  \n",
       "4  Star Wars  "
      ]
     },
     "execution_count": 41,
     "metadata": {},
     "output_type": "execute_result"
    }
   ],
   "source": [
    "pd.concat([Employee_A, Employee_B], sort=False)"
   ]
  },
  {
   "cell_type": "code",
   "execution_count": 42,
   "metadata": {},
   "outputs": [
    {
     "data": {
      "text/html": [
       "<div>\n",
       "<style scoped>\n",
       "    .dataframe tbody tr th:only-of-type {\n",
       "        vertical-align: middle;\n",
       "    }\n",
       "\n",
       "    .dataframe tbody tr th {\n",
       "        vertical-align: top;\n",
       "    }\n",
       "\n",
       "    .dataframe thead th {\n",
       "        text-align: right;\n",
       "    }\n",
       "</style>\n",
       "<table border=\"1\" class=\"dataframe\">\n",
       "  <thead>\n",
       "    <tr style=\"text-align: right;\">\n",
       "      <th></th>\n",
       "      <th>name</th>\n",
       "      <th>position</th>\n",
       "      <th>good_guy</th>\n",
       "      <th>Salary</th>\n",
       "      <th>Department</th>\n",
       "    </tr>\n",
       "  </thead>\n",
       "  <tbody>\n",
       "    <tr>\n",
       "      <th>0</th>\n",
       "      <td>Neo</td>\n",
       "      <td>Protagonist</td>\n",
       "      <td>Yes</td>\n",
       "      <td>2,000.00</td>\n",
       "      <td>The matrix</td>\n",
       "    </tr>\n",
       "    <tr>\n",
       "      <th>1</th>\n",
       "      <td>Trinity</td>\n",
       "      <td>Underground hacker</td>\n",
       "      <td>Yes</td>\n",
       "      <td>1,700.00</td>\n",
       "      <td>The matrix</td>\n",
       "    </tr>\n",
       "    <tr>\n",
       "      <th>2</th>\n",
       "      <td>Morpheus</td>\n",
       "      <td>Leader</td>\n",
       "      <td>Yes</td>\n",
       "      <td>1,900.00</td>\n",
       "      <td>The matrix</td>\n",
       "    </tr>\n",
       "    <tr>\n",
       "      <th>3</th>\n",
       "      <td>Sentinel</td>\n",
       "      <td>Robot to kill humans</td>\n",
       "      <td>No</td>\n",
       "      <td>1,100.00</td>\n",
       "      <td>The matrix</td>\n",
       "    </tr>\n",
       "    <tr>\n",
       "      <th>4</th>\n",
       "      <td>Agent Smith</td>\n",
       "      <td>Neo's antagonist</td>\n",
       "      <td>No</td>\n",
       "      <td>1,800.00</td>\n",
       "      <td>The matrix</td>\n",
       "    </tr>\n",
       "    <tr>\n",
       "      <th>5</th>\n",
       "      <td>Oracle</td>\n",
       "      <td>Guide of the freed minds</td>\n",
       "      <td>Yes</td>\n",
       "      <td>1,500.00</td>\n",
       "      <td>The matrix</td>\n",
       "    </tr>\n",
       "  </tbody>\n",
       "</table>\n",
       "</div>"
      ],
      "text/plain": [
       "          name                  position good_guy    Salary  Department\n",
       "0          Neo              Protagonist       Yes  2,000.00  The matrix\n",
       "1      Trinity        Underground hacker      Yes  1,700.00  The matrix\n",
       "2     Morpheus                    Leader      Yes  1,900.00  The matrix\n",
       "3     Sentinel      Robot to kill humans       No  1,100.00  The matrix\n",
       "4  Agent Smith          Neo's antagonist       No  1,800.00  The matrix\n",
       "5       Oracle  Guide of the freed minds      Yes  1,500.00  The matrix"
      ]
     },
     "execution_count": 42,
     "metadata": {},
     "output_type": "execute_result"
    }
   ],
   "source": [
    "# Added the column Department to Employee_A\n",
    "dpto=['The matrix','The matrix','The matrix','The matrix','The matrix','The matrix']\n",
    "Employee_A['Department']=dpto\n",
    "Employee_A"
   ]
  },
  {
   "cell_type": "code",
   "execution_count": 43,
   "metadata": {},
   "outputs": [
    {
     "data": {
      "text/html": [
       "<div>\n",
       "<style scoped>\n",
       "    .dataframe tbody tr th:only-of-type {\n",
       "        vertical-align: middle;\n",
       "    }\n",
       "\n",
       "    .dataframe tbody tr th {\n",
       "        vertical-align: top;\n",
       "    }\n",
       "\n",
       "    .dataframe thead th {\n",
       "        text-align: right;\n",
       "    }\n",
       "</style>\n",
       "<table border=\"1\" class=\"dataframe\">\n",
       "  <thead>\n",
       "    <tr style=\"text-align: right;\">\n",
       "      <th></th>\n",
       "      <th>name</th>\n",
       "      <th>position</th>\n",
       "      <th>good_guy</th>\n",
       "      <th>Salary</th>\n",
       "      <th>Department</th>\n",
       "    </tr>\n",
       "  </thead>\n",
       "  <tbody>\n",
       "    <tr>\n",
       "      <th>0</th>\n",
       "      <td>Neo</td>\n",
       "      <td>Protagonist</td>\n",
       "      <td>Yes</td>\n",
       "      <td>2,000.00</td>\n",
       "      <td>The matrix</td>\n",
       "    </tr>\n",
       "    <tr>\n",
       "      <th>1</th>\n",
       "      <td>Trinity</td>\n",
       "      <td>Underground hacker</td>\n",
       "      <td>Yes</td>\n",
       "      <td>1,700.00</td>\n",
       "      <td>The matrix</td>\n",
       "    </tr>\n",
       "    <tr>\n",
       "      <th>2</th>\n",
       "      <td>Morpheus</td>\n",
       "      <td>Leader</td>\n",
       "      <td>Yes</td>\n",
       "      <td>1,900.00</td>\n",
       "      <td>The matrix</td>\n",
       "    </tr>\n",
       "    <tr>\n",
       "      <th>3</th>\n",
       "      <td>Sentinel</td>\n",
       "      <td>Robot to kill humans</td>\n",
       "      <td>No</td>\n",
       "      <td>1,100.00</td>\n",
       "      <td>The matrix</td>\n",
       "    </tr>\n",
       "    <tr>\n",
       "      <th>4</th>\n",
       "      <td>Agent Smith</td>\n",
       "      <td>Neo's antagonist</td>\n",
       "      <td>No</td>\n",
       "      <td>1,800.00</td>\n",
       "      <td>The matrix</td>\n",
       "    </tr>\n",
       "    <tr>\n",
       "      <th>5</th>\n",
       "      <td>Oracle</td>\n",
       "      <td>Guide of the freed minds</td>\n",
       "      <td>Yes</td>\n",
       "      <td>1,500.00</td>\n",
       "      <td>The matrix</td>\n",
       "    </tr>\n",
       "    <tr>\n",
       "      <th>0</th>\n",
       "      <td>Luke Skywalker</td>\n",
       "      <td>Protagonist, son of Darth Vader</td>\n",
       "      <td>Yes</td>\n",
       "      <td>3,000.00</td>\n",
       "      <td>Star Wars</td>\n",
       "    </tr>\n",
       "    <tr>\n",
       "      <th>1</th>\n",
       "      <td>Princess Leia</td>\n",
       "      <td>Leader in the Rebel Alliance</td>\n",
       "      <td>Yes</td>\n",
       "      <td>3,700.00</td>\n",
       "      <td>Star Wars</td>\n",
       "    </tr>\n",
       "    <tr>\n",
       "      <th>2</th>\n",
       "      <td>Yoda</td>\n",
       "      <td>Jedi master</td>\n",
       "      <td>Yes</td>\n",
       "      <td>3,900.00</td>\n",
       "      <td>Star Wars</td>\n",
       "    </tr>\n",
       "    <tr>\n",
       "      <th>3</th>\n",
       "      <td>Han Solo</td>\n",
       "      <td>Robot to kill humans</td>\n",
       "      <td>Yes</td>\n",
       "      <td>3,100.00</td>\n",
       "      <td>Star Wars</td>\n",
       "    </tr>\n",
       "    <tr>\n",
       "      <th>4</th>\n",
       "      <td>Darth Vader</td>\n",
       "      <td>antagonist</td>\n",
       "      <td>No</td>\n",
       "      <td>3,800.00</td>\n",
       "      <td>Star Wars</td>\n",
       "    </tr>\n",
       "  </tbody>\n",
       "</table>\n",
       "</div>"
      ],
      "text/plain": [
       "             name                         position good_guy    Salary  \\\n",
       "0             Neo                     Protagonist       Yes  2,000.00   \n",
       "1         Trinity               Underground hacker      Yes  1,700.00   \n",
       "2        Morpheus                           Leader      Yes  1,900.00   \n",
       "3        Sentinel             Robot to kill humans       No  1,100.00   \n",
       "4     Agent Smith                 Neo's antagonist       No  1,800.00   \n",
       "5          Oracle         Guide of the freed minds      Yes  1,500.00   \n",
       "0  Luke Skywalker  Protagonist, son of Darth Vader      Yes  3,000.00   \n",
       "1  Princess Leia      Leader in the Rebel Alliance      Yes  3,700.00   \n",
       "2            Yoda                      Jedi master      Yes  3,900.00   \n",
       "3        Han Solo             Robot to kill humans      Yes  3,100.00   \n",
       "4     Darth Vader                       antagonist       No  3,800.00   \n",
       "\n",
       "   Department  \n",
       "0  The matrix  \n",
       "1  The matrix  \n",
       "2  The matrix  \n",
       "3  The matrix  \n",
       "4  The matrix  \n",
       "5  The matrix  \n",
       "0   Star Wars  \n",
       "1   Star Wars  \n",
       "2   Star Wars  \n",
       "3   Star Wars  \n",
       "4   Star Wars  "
      ]
     },
     "execution_count": 43,
     "metadata": {},
     "output_type": "execute_result"
    }
   ],
   "source": [
    "pd.concat([Employee_A, Employee_B], sort=False)"
   ]
  },
  {
   "cell_type": "code",
   "execution_count": 44,
   "metadata": {},
   "outputs": [
    {
     "data": {
      "text/html": [
       "<div>\n",
       "<style scoped>\n",
       "    .dataframe tbody tr th:only-of-type {\n",
       "        vertical-align: middle;\n",
       "    }\n",
       "\n",
       "    .dataframe tbody tr th {\n",
       "        vertical-align: top;\n",
       "    }\n",
       "\n",
       "    .dataframe thead th {\n",
       "        text-align: right;\n",
       "    }\n",
       "</style>\n",
       "<table border=\"1\" class=\"dataframe\">\n",
       "  <thead>\n",
       "    <tr style=\"text-align: right;\">\n",
       "      <th></th>\n",
       "      <th>name</th>\n",
       "      <th>position</th>\n",
       "      <th>good_guy</th>\n",
       "      <th>Salary</th>\n",
       "      <th>Department</th>\n",
       "    </tr>\n",
       "  </thead>\n",
       "  <tbody>\n",
       "    <tr>\n",
       "      <th>0</th>\n",
       "      <td>Neo</td>\n",
       "      <td>Protagonist</td>\n",
       "      <td>Yes</td>\n",
       "      <td>2,000.00</td>\n",
       "      <td>The matrix</td>\n",
       "    </tr>\n",
       "    <tr>\n",
       "      <th>1</th>\n",
       "      <td>Trinity</td>\n",
       "      <td>Underground hacker</td>\n",
       "      <td>Yes</td>\n",
       "      <td>1,700.00</td>\n",
       "      <td>The matrix</td>\n",
       "    </tr>\n",
       "    <tr>\n",
       "      <th>2</th>\n",
       "      <td>Morpheus</td>\n",
       "      <td>Leader</td>\n",
       "      <td>Yes</td>\n",
       "      <td>1,900.00</td>\n",
       "      <td>The matrix</td>\n",
       "    </tr>\n",
       "    <tr>\n",
       "      <th>3</th>\n",
       "      <td>Sentinel</td>\n",
       "      <td>Robot to kill humans</td>\n",
       "      <td>No</td>\n",
       "      <td>1,100.00</td>\n",
       "      <td>The matrix</td>\n",
       "    </tr>\n",
       "    <tr>\n",
       "      <th>4</th>\n",
       "      <td>Agent Smith</td>\n",
       "      <td>Neo's antagonist</td>\n",
       "      <td>No</td>\n",
       "      <td>1,800.00</td>\n",
       "      <td>The matrix</td>\n",
       "    </tr>\n",
       "    <tr>\n",
       "      <th>5</th>\n",
       "      <td>Oracle</td>\n",
       "      <td>Guide of the freed minds</td>\n",
       "      <td>Yes</td>\n",
       "      <td>1,500.00</td>\n",
       "      <td>The matrix</td>\n",
       "    </tr>\n",
       "    <tr>\n",
       "      <th>0</th>\n",
       "      <td>Luke Skywalker</td>\n",
       "      <td>Protagonist, son of Darth Vader</td>\n",
       "      <td>Yes</td>\n",
       "      <td>3,000.00</td>\n",
       "      <td>Star Wars</td>\n",
       "    </tr>\n",
       "    <tr>\n",
       "      <th>1</th>\n",
       "      <td>Princess Leia</td>\n",
       "      <td>Leader in the Rebel Alliance</td>\n",
       "      <td>Yes</td>\n",
       "      <td>3,700.00</td>\n",
       "      <td>Star Wars</td>\n",
       "    </tr>\n",
       "    <tr>\n",
       "      <th>2</th>\n",
       "      <td>Yoda</td>\n",
       "      <td>Jedi master</td>\n",
       "      <td>Yes</td>\n",
       "      <td>3,900.00</td>\n",
       "      <td>Star Wars</td>\n",
       "    </tr>\n",
       "    <tr>\n",
       "      <th>3</th>\n",
       "      <td>Han Solo</td>\n",
       "      <td>Robot to kill humans</td>\n",
       "      <td>Yes</td>\n",
       "      <td>3,100.00</td>\n",
       "      <td>Star Wars</td>\n",
       "    </tr>\n",
       "    <tr>\n",
       "      <th>4</th>\n",
       "      <td>Darth Vader</td>\n",
       "      <td>antagonist</td>\n",
       "      <td>No</td>\n",
       "      <td>3,800.00</td>\n",
       "      <td>Star Wars</td>\n",
       "    </tr>\n",
       "  </tbody>\n",
       "</table>\n",
       "</div>"
      ],
      "text/plain": [
       "             name                         position good_guy    Salary  \\\n",
       "0             Neo                     Protagonist       Yes  2,000.00   \n",
       "1         Trinity               Underground hacker      Yes  1,700.00   \n",
       "2        Morpheus                           Leader      Yes  1,900.00   \n",
       "3        Sentinel             Robot to kill humans       No  1,100.00   \n",
       "4     Agent Smith                 Neo's antagonist       No  1,800.00   \n",
       "5          Oracle         Guide of the freed minds      Yes  1,500.00   \n",
       "0  Luke Skywalker  Protagonist, son of Darth Vader      Yes  3,000.00   \n",
       "1  Princess Leia      Leader in the Rebel Alliance      Yes  3,700.00   \n",
       "2            Yoda                      Jedi master      Yes  3,900.00   \n",
       "3        Han Solo             Robot to kill humans      Yes  3,100.00   \n",
       "4     Darth Vader                       antagonist       No  3,800.00   \n",
       "\n",
       "   Department  \n",
       "0  The matrix  \n",
       "1  The matrix  \n",
       "2  The matrix  \n",
       "3  The matrix  \n",
       "4  The matrix  \n",
       "5  The matrix  \n",
       "0   Star Wars  \n",
       "1   Star Wars  \n",
       "2   Star Wars  \n",
       "3   Star Wars  \n",
       "4   Star Wars  "
      ]
     },
     "execution_count": 44,
     "metadata": {},
     "output_type": "execute_result"
    }
   ],
   "source": [
    "#Using append to concatenate \n",
    "Employee_C = pd.DataFrame()#A empty DataFrame \n",
    "Employee_C.append([Employee_A,Employee_B], sort=False)\n"
   ]
  },
  {
   "cell_type": "code",
   "execution_count": 45,
   "metadata": {},
   "outputs": [
    {
     "data": {
      "text/html": [
       "<div>\n",
       "<style scoped>\n",
       "    .dataframe tbody tr th:only-of-type {\n",
       "        vertical-align: middle;\n",
       "    }\n",
       "\n",
       "    .dataframe tbody tr th {\n",
       "        vertical-align: top;\n",
       "    }\n",
       "\n",
       "    .dataframe thead th {\n",
       "        text-align: right;\n",
       "    }\n",
       "</style>\n",
       "<table border=\"1\" class=\"dataframe\">\n",
       "  <thead>\n",
       "    <tr style=\"text-align: right;\">\n",
       "      <th></th>\n",
       "      <th>name</th>\n",
       "      <th>position</th>\n",
       "      <th>good_guy</th>\n",
       "      <th>Salary</th>\n",
       "      <th>Department</th>\n",
       "    </tr>\n",
       "  </thead>\n",
       "  <tbody>\n",
       "    <tr>\n",
       "      <th>0</th>\n",
       "      <td>Neo</td>\n",
       "      <td>Protagonist</td>\n",
       "      <td>Yes</td>\n",
       "      <td>2,000.00</td>\n",
       "      <td>The matrix</td>\n",
       "    </tr>\n",
       "    <tr>\n",
       "      <th>1</th>\n",
       "      <td>Trinity</td>\n",
       "      <td>Underground hacker</td>\n",
       "      <td>Yes</td>\n",
       "      <td>1,700.00</td>\n",
       "      <td>The matrix</td>\n",
       "    </tr>\n",
       "    <tr>\n",
       "      <th>2</th>\n",
       "      <td>Morpheus</td>\n",
       "      <td>Leader</td>\n",
       "      <td>Yes</td>\n",
       "      <td>1,900.00</td>\n",
       "      <td>The matrix</td>\n",
       "    </tr>\n",
       "    <tr>\n",
       "      <th>3</th>\n",
       "      <td>Sentinel</td>\n",
       "      <td>Robot to kill humans</td>\n",
       "      <td>No</td>\n",
       "      <td>1,100.00</td>\n",
       "      <td>The matrix</td>\n",
       "    </tr>\n",
       "    <tr>\n",
       "      <th>4</th>\n",
       "      <td>Agent Smith</td>\n",
       "      <td>Neo's antagonist</td>\n",
       "      <td>No</td>\n",
       "      <td>1,800.00</td>\n",
       "      <td>The matrix</td>\n",
       "    </tr>\n",
       "    <tr>\n",
       "      <th>5</th>\n",
       "      <td>Oracle</td>\n",
       "      <td>Guide of the freed minds</td>\n",
       "      <td>Yes</td>\n",
       "      <td>1,500.00</td>\n",
       "      <td>The matrix</td>\n",
       "    </tr>\n",
       "  </tbody>\n",
       "</table>\n",
       "</div>"
      ],
      "text/plain": [
       "          name                  position good_guy    Salary  Department\n",
       "0          Neo              Protagonist       Yes  2,000.00  The matrix\n",
       "1      Trinity        Underground hacker      Yes  1,700.00  The matrix\n",
       "2     Morpheus                    Leader      Yes  1,900.00  The matrix\n",
       "3     Sentinel      Robot to kill humans       No  1,100.00  The matrix\n",
       "4  Agent Smith          Neo's antagonist       No  1,800.00  The matrix\n",
       "5       Oracle  Guide of the freed minds      Yes  1,500.00  The matrix"
      ]
     },
     "execution_count": 45,
     "metadata": {},
     "output_type": "execute_result"
    }
   ],
   "source": [
    "Employee_A"
   ]
  },
  {
   "cell_type": "markdown",
   "metadata": {},
   "source": [
    "## High-Performance Pandas: eval () and query()\n",
    "\n",
    "As you know the strengths of NumPy and Pandas lies in the fast operations that they are capable to do, due to the operations are push into C language syntax like vectorizing operation in Numpy and grouping operations in Pandas. This efficient management of the operations reduces computational time and memory use. \n",
    "\n",
    "**Evaly()** and **query()** functions allow you direct access to the speed of C without using any cost of allocation of intermediary arrays. \n",
    "\n",
    "The next example will show you how is reduced the computational time using Numpy array to perform operations instead of a loop in Python. \n",
    "\n",
    "First, we include the NumPy library."
   ]
  },
  {
   "cell_type": "code",
   "execution_count": 46,
   "metadata": {},
   "outputs": [],
   "source": [
    "import numpy as np\n",
    "import pandas as pd"
   ]
  },
  {
   "cell_type": "code",
   "execution_count": 47,
   "metadata": {},
   "outputs": [
    {
     "data": {
      "text/plain": [
       "(100000, 100)"
      ]
     },
     "execution_count": 47,
     "metadata": {},
     "output_type": "execute_result"
    }
   ],
   "source": [
    "# Creating an two-dimensional array 100000 rows of random numbers by 100 columns \n",
    "rows = 100000\n",
    "cols = 100\n",
    "df1, df2, df3, df4, df5, df6 = (pd.DataFrame(np.random.rand(rows, cols))for i in range(6))\n",
    "df1.shape"
   ]
  },
  {
   "cell_type": "markdown",
   "metadata": {},
   "source": [
    "Sum between DataFrames in a traditional way "
   ]
  },
  {
   "cell_type": "code",
   "execution_count": 48,
   "metadata": {},
   "outputs": [
    {
     "name": "stdout",
     "output_type": "stream",
     "text": [
      "149 ms ± 32.8 ms per loop (mean ± std. dev. of 7 runs, 1 loop each)\n"
     ]
    }
   ],
   "source": [
    "%timeit df1 + df2+ df3 + df4 + df5 + df6"
   ]
  },
  {
   "cell_type": "markdown",
   "metadata": {},
   "source": [
    "Sum between DataFrames using **eval()** method"
   ]
  },
  {
   "cell_type": "code",
   "execution_count": 49,
   "metadata": {},
   "outputs": [
    {
     "name": "stdout",
     "output_type": "stream",
     "text": [
      "50.1 ms ± 3.31 ms per loop (mean ± std. dev. of 7 runs, 10 loops each)\n"
     ]
    }
   ],
   "source": [
    "#Now using eval() function\n",
    "%timeit pd.eval('df1 + df2 + df3 + df4 + df5 + df6')"
   ]
  },
  {
   "cell_type": "markdown",
   "metadata": {},
   "source": [
    "it is evident that performing the sum with eval() method the time is reduced for more than 60%.\n",
    "\n",
    "### Operation supported by eval () method \n",
    "\n",
    "The eval() method supports several operations. Some of these operations are listed as follows: \n",
    "* Arithmetic operations\n",
    "* Comparison operators\n",
    "* Bitwise operators\n",
    "* Literal 'and' and 'or' in boolean expressions \n",
    "* Object attributes and indices\n",
    "\n",
    "However, eval() method **not** support functions calls, conditional statements, loops, and other more involved constructors. \n",
    "\n",
    "#### Examples of the supported operation by eval() method\n",
    "\n",
    "In the examples both ways (traditional and eval() method) will be presented and the comparison will be carried out with the NumPy  allclose() function, that compare two arrays and return a boolean (True or False) that idicate if two arrays are element-wise equal within a tolerance."
   ]
  },
  {
   "cell_type": "code",
   "execution_count": 50,
   "metadata": {},
   "outputs": [
    {
     "name": "stdout",
     "output_type": "stream",
     "text": [
      "The Arithmetic operations performed in both ways are equal: True\n",
      "The comparison operators performed in both ways are equal: True\n",
      "The Bitwise operators performed in both ways are equal: True\n",
      "'and' and 'or' in boolean expressions in both ways are equal: True\n",
      "Object attributes and indices in both ways are equal:  True\n"
     ]
    }
   ],
   "source": [
    "#Arithmetic operations\n",
    "\n",
    "result =(df3 + df4 + df6) / -df1 * df2   - df5\n",
    "resultEval = pd.eval('(df3 + df4 + df6) / -df1 * df2   - df5')\n",
    "print('The Arithmetic operations performed in both ways are equal:',\n",
    "      np.allclose(result, resultEval))\n",
    "# Comparison operators\n",
    "result = (df6 < df5) & (df5 < df4) & (df4 <= df3) & (df3 <= df2) & (df2 != df1) \n",
    "resultEval = pd.eval('df6 < df5 < df4 <= df3 <=df2 != df1')\n",
    "print('The comparison operators performed in both ways are equal:',\n",
    "      np.allclose(result, resultEval))\n",
    "# Bitwise operators\n",
    "result = (df6 < 0.5) & (df5 < 0.3) | (df4 <= df1) & (df2 != df1) \n",
    "resultEval = pd.eval('(df6 < 0.5) & (df5 < 0.3) | (df4 <= df1) & (df2 != df1) ')\n",
    "print('The Bitwise operators performed in both ways are equal:' ,\n",
    "      np.allclose(result, resultEval))\n",
    "#Literal 'and' and 'or' in boolean expressions\n",
    "#Using the previous expresion \n",
    "resultEval2 = pd.eval('(df6 < 0.5) and (df5 < 0.3) or (df4 <= df1) and (df2 != df1) ')\n",
    "print(\"'and' and 'or' in boolean expressions in both ways are equal:\"  ,\n",
    "      np.allclose(result, resultEval2))\n",
    "# Object attributes and indices\n",
    "#Transpose a Dataframe and chose one column \n",
    "#to multiplicate with one column from other DataFrame \n",
    "result = df5.T[0] + df3.iloc[5]\n",
    "resultEval2 = pd.eval('df5.T[0] + df3.iloc[5]')\n",
    "print('Object attributes and indices in both ways are equal: ' ,\n",
    "      np.allclose(result, resultEval2))\n"
   ]
  },
  {
   "cell_type": "markdown",
   "metadata": {},
   "source": [
    "### Eval operations to labeled columns\n",
    "\n",
    "You can use eval() method when the columns are labeled. These are some of the operations that you can perform with eval: \n",
    "* Compute arithmetic operations with filtering by column name.\n",
    "* Assigment to any column in a DataFrame.\n",
    "* Working with Python local variables. In eval method, the character @ is used to identify a variable name.\n",
    "\n",
    "#### Examples of the supported operation by eval() method over labeled columns\n",
    "\n",
    "In the examples both ways (traditional and eval() method) will be presented and the comparison will be performed with the NumPy allclose() function.\n",
    "    \n",
    "\n"
   ]
  },
  {
   "cell_type": "code",
   "execution_count": 51,
   "metadata": {},
   "outputs": [
    {
     "data": {
      "text/html": [
       "<div>\n",
       "<style scoped>\n",
       "    .dataframe tbody tr th:only-of-type {\n",
       "        vertical-align: middle;\n",
       "    }\n",
       "\n",
       "    .dataframe tbody tr th {\n",
       "        vertical-align: top;\n",
       "    }\n",
       "\n",
       "    .dataframe thead th {\n",
       "        text-align: right;\n",
       "    }\n",
       "</style>\n",
       "<table border=\"1\" class=\"dataframe\">\n",
       "  <thead>\n",
       "    <tr style=\"text-align: right;\">\n",
       "      <th></th>\n",
       "      <th>ColA</th>\n",
       "      <th>ColB</th>\n",
       "      <th>ColC</th>\n",
       "      <th>ColD</th>\n",
       "    </tr>\n",
       "  </thead>\n",
       "  <tbody>\n",
       "    <tr>\n",
       "      <th>0</th>\n",
       "      <td>0.993458</td>\n",
       "      <td>0.557831</td>\n",
       "      <td>0.981334</td>\n",
       "      <td>0.213798</td>\n",
       "    </tr>\n",
       "    <tr>\n",
       "      <th>1</th>\n",
       "      <td>0.864725</td>\n",
       "      <td>0.586292</td>\n",
       "      <td>0.505157</td>\n",
       "      <td>0.366039</td>\n",
       "    </tr>\n",
       "    <tr>\n",
       "      <th>2</th>\n",
       "      <td>0.712452</td>\n",
       "      <td>0.322635</td>\n",
       "      <td>0.735422</td>\n",
       "      <td>0.875522</td>\n",
       "    </tr>\n",
       "    <tr>\n",
       "      <th>3</th>\n",
       "      <td>0.561853</td>\n",
       "      <td>0.060063</td>\n",
       "      <td>0.001556</td>\n",
       "      <td>0.358558</td>\n",
       "    </tr>\n",
       "    <tr>\n",
       "      <th>4</th>\n",
       "      <td>0.420059</td>\n",
       "      <td>0.388533</td>\n",
       "      <td>0.842406</td>\n",
       "      <td>0.573913</td>\n",
       "    </tr>\n",
       "  </tbody>\n",
       "</table>\n",
       "</div>"
      ],
      "text/plain": [
       "       ColA      ColB      ColC      ColD\n",
       "0  0.993458  0.557831  0.981334  0.213798\n",
       "1  0.864725  0.586292  0.505157  0.366039\n",
       "2  0.712452  0.322635  0.735422  0.875522\n",
       "3  0.561853  0.060063  0.001556  0.358558\n",
       "4  0.420059  0.388533  0.842406  0.573913"
      ]
     },
     "execution_count": 51,
     "metadata": {},
     "output_type": "execute_result"
    }
   ],
   "source": [
    "#Creating a DataFrame with labeled columns\n",
    "df_1 = pd.DataFrame(np.random.rand(5000, 4), columns=['ColA', 'ColB', 'ColC', 'ColD'])\n",
    "df_1.head()"
   ]
  },
  {
   "cell_type": "code",
   "execution_count": 52,
   "metadata": {},
   "outputs": [
    {
     "name": "stdout",
     "output_type": "stream",
     "text": [
      "Operations over a DataFrame with a labaled columns\n",
      "The Arithmetic operations in both ways are equal: True\n",
      "The Arithmetic operations in both ways are equal: True\n",
      "Using a local variable in a calculation in both ways are equal: True\n",
      "Creating a new labeled column \n"
     ]
    },
    {
     "data": {
      "text/html": [
       "<div>\n",
       "<style scoped>\n",
       "    .dataframe tbody tr th:only-of-type {\n",
       "        vertical-align: middle;\n",
       "    }\n",
       "\n",
       "    .dataframe tbody tr th {\n",
       "        vertical-align: top;\n",
       "    }\n",
       "\n",
       "    .dataframe thead th {\n",
       "        text-align: right;\n",
       "    }\n",
       "</style>\n",
       "<table border=\"1\" class=\"dataframe\">\n",
       "  <thead>\n",
       "    <tr style=\"text-align: right;\">\n",
       "      <th></th>\n",
       "      <th>ColA</th>\n",
       "      <th>ColB</th>\n",
       "      <th>ColC</th>\n",
       "      <th>ColD</th>\n",
       "      <th>ColE</th>\n",
       "    </tr>\n",
       "  </thead>\n",
       "  <tbody>\n",
       "    <tr>\n",
       "      <th>0</th>\n",
       "      <td>0.993458</td>\n",
       "      <td>0.557831</td>\n",
       "      <td>0.981334</td>\n",
       "      <td>0.213798</td>\n",
       "      <td>-0.417083</td>\n",
       "    </tr>\n",
       "    <tr>\n",
       "      <th>1</th>\n",
       "      <td>0.864725</td>\n",
       "      <td>0.586292</td>\n",
       "      <td>0.505157</td>\n",
       "      <td>0.366039</td>\n",
       "      <td>0.149470</td>\n",
       "    </tr>\n",
       "    <tr>\n",
       "      <th>2</th>\n",
       "      <td>0.712452</td>\n",
       "      <td>0.322635</td>\n",
       "      <td>0.735422</td>\n",
       "      <td>0.875522</td>\n",
       "      <td>-0.201318</td>\n",
       "    </tr>\n",
       "    <tr>\n",
       "      <th>3</th>\n",
       "      <td>0.561853</td>\n",
       "      <td>0.060063</td>\n",
       "      <td>0.001556</td>\n",
       "      <td>0.358558</td>\n",
       "      <td>0.059189</td>\n",
       "    </tr>\n",
       "    <tr>\n",
       "      <th>4</th>\n",
       "      <td>0.420059</td>\n",
       "      <td>0.388533</td>\n",
       "      <td>0.842406</td>\n",
       "      <td>0.573913</td>\n",
       "      <td>0.034673</td>\n",
       "    </tr>\n",
       "  </tbody>\n",
       "</table>\n",
       "</div>"
      ],
      "text/plain": [
       "       ColA      ColB      ColC      ColD      ColE\n",
       "0  0.993458  0.557831  0.981334  0.213798 -0.417083\n",
       "1  0.864725  0.586292  0.505157  0.366039  0.149470\n",
       "2  0.712452  0.322635  0.735422  0.875522 -0.201318\n",
       "3  0.561853  0.060063  0.001556  0.358558  0.059189\n",
       "4  0.420059  0.388533  0.842406  0.573913  0.034673"
      ]
     },
     "execution_count": 52,
     "metadata": {},
     "output_type": "execute_result"
    }
   ],
   "source": [
    "print('Operations over a DataFrame with a labaled columns')\n",
    "#arithmetic operations with filtering by column name\n",
    "result = df_1['ColB']-df_1['ColA'] * df_1['ColC']/(df_1['ColD']-1.5)\n",
    "resultEval = pd.eval(\"(df_1.ColB-df_1.ColA * df_1.ColC/(df_1.ColD-1.5))\")\n",
    "print('The Arithmetic operations in both ways are equal:',\n",
    "      np.allclose(result, resultEval))\n",
    "#This is another way to perform the previous operation \n",
    "#without specify the name of the DataFrame, using eval directly from the DataFrame \n",
    "resultEval2 = df_1.eval(\"(ColB-ColA * ColC/(ColD-1.5))\")\n",
    "print('The Arithmetic operations in both ways are equal:',\n",
    "      np.allclose(result, resultEval2))\n",
    "#Using a local variable \n",
    "ColMean= df_1.mean(1) \n",
    "result = df_1.ColD+ ColMean\n",
    "resultEval = df_1.eval('ColD+ @ColMean')\n",
    "print('Using a local variable in a calculation in both ways are equal:',\n",
    "      np.allclose(result, resultEval))\n",
    "#Assigment to any column in a DataFrame or creating a new one\n",
    "print('Creating a new labeled column ')\n",
    "df_1.eval('ColE = ColB - ColA * ColC',inplace=True)\n",
    "df_1.head()"
   ]
  },
  {
   "cell_type": "markdown",
   "metadata": {},
   "source": [
    "### Operations supported by query() method\n",
    "Some operations that involve filtering in the columns can not be performed by eval () method. However, Pandas have another method called query(), which is based on evaluated strings as well and ready to perform filtering operations. \n",
    "\n",
    "Also, you can use local variables like in eval. \n",
    "\n",
    "#### Examples of filtering using query () method \n",
    "\n",
    "In the examples both ways (traditional and query() method) will be presented and the comparison will be performed with the NumPy allclose() function."
   ]
  },
  {
   "cell_type": "code",
   "execution_count": 53,
   "metadata": {},
   "outputs": [
    {
     "data": {
      "text/html": [
       "<div>\n",
       "<style scoped>\n",
       "    .dataframe tbody tr th:only-of-type {\n",
       "        vertical-align: middle;\n",
       "    }\n",
       "\n",
       "    .dataframe tbody tr th {\n",
       "        vertical-align: top;\n",
       "    }\n",
       "\n",
       "    .dataframe thead th {\n",
       "        text-align: right;\n",
       "    }\n",
       "</style>\n",
       "<table border=\"1\" class=\"dataframe\">\n",
       "  <thead>\n",
       "    <tr style=\"text-align: right;\">\n",
       "      <th></th>\n",
       "      <th>A</th>\n",
       "      <th>B</th>\n",
       "      <th>C</th>\n",
       "    </tr>\n",
       "  </thead>\n",
       "  <tbody>\n",
       "    <tr>\n",
       "      <th>0</th>\n",
       "      <td>0.112757</td>\n",
       "      <td>0.838759</td>\n",
       "      <td>0.689317</td>\n",
       "    </tr>\n",
       "    <tr>\n",
       "      <th>1</th>\n",
       "      <td>0.380465</td>\n",
       "      <td>0.027868</td>\n",
       "      <td>0.337713</td>\n",
       "    </tr>\n",
       "    <tr>\n",
       "      <th>2</th>\n",
       "      <td>0.041746</td>\n",
       "      <td>0.868757</td>\n",
       "      <td>0.932494</td>\n",
       "    </tr>\n",
       "    <tr>\n",
       "      <th>3</th>\n",
       "      <td>0.145743</td>\n",
       "      <td>0.112237</td>\n",
       "      <td>0.967034</td>\n",
       "    </tr>\n",
       "    <tr>\n",
       "      <th>4</th>\n",
       "      <td>0.817589</td>\n",
       "      <td>0.633431</td>\n",
       "      <td>0.937575</td>\n",
       "    </tr>\n",
       "  </tbody>\n",
       "</table>\n",
       "</div>"
      ],
      "text/plain": [
       "          A         B         C\n",
       "0  0.112757  0.838759  0.689317\n",
       "1  0.380465  0.027868  0.337713\n",
       "2  0.041746  0.868757  0.932494\n",
       "3  0.145743  0.112237  0.967034\n",
       "4  0.817589  0.633431  0.937575"
      ]
     },
     "execution_count": 53,
     "metadata": {},
     "output_type": "execute_result"
    }
   ],
   "source": [
    "#To perform the example we use df_1 DataFrame  previously created\n",
    "df = pd.DataFrame(np.random.rand(1000, 3), columns=['A', 'B', 'C'])\n",
    "df.head()\n"
   ]
  },
  {
   "cell_type": "code",
   "execution_count": 54,
   "metadata": {},
   "outputs": [
    {
     "data": {
      "text/plain": [
       "True"
      ]
     },
     "execution_count": 54,
     "metadata": {},
     "output_type": "execute_result"
    }
   ],
   "source": [
    "result1 = df[(df.A < 0.5) & (df.B < 0.5)]\n",
    "result2 = df.query('A < 0.5 and B < 0.5')\n",
    "np.allclose(result1, result2)"
   ]
  },
  {
   "cell_type": "code",
   "execution_count": 55,
   "metadata": {},
   "outputs": [
    {
     "data": {
      "text/plain": [
       "True"
      ]
     },
     "execution_count": 55,
     "metadata": {},
     "output_type": "execute_result"
    }
   ],
   "source": [
    "Cmean = df['C'].mean()\n",
    "result1 = df[(df.A < Cmean) & (df.B < Cmean)]\n",
    "result2 = df.query('A < @Cmean and B < @Cmean')\n",
    "np.allclose(result1, result2)"
   ]
  },
  {
   "cell_type": "markdown",
   "metadata": {},
   "source": [
    "# Aggregation in Pandas  "
   ]
  },
  {
   "cell_type": "markdown",
   "metadata": {},
   "source": [
    "Aggregations are  common summary statistics like the mean and standard deviation, which allow you to summarize the “typical” values  in  a  dataset,  but  other  aggregates  are  useful  as  well, such as the  sum,  product,  median, minimum and maximum, quantiles, etc.. When these operations are performed in Series, the aggregates return one value. \n",
    "\n",
    "This are the aggregation operations that can be performed in Series and DataFrames.\n",
    "\n",
    "* count(). Total number of items\n",
    "* first(). The first item \n",
    "* last(). The last item\n",
    "* mean(). Mean of the items \n",
    "* median().The Median of items\n",
    "* min(). The minimum value of the items\n",
    "* max(). The maximum value of the items \n",
    "* std(). The Standard deviation of the items \n",
    "* var(). The variance of the items \n",
    "* mad(). The Mean absolute deviation\n",
    "* prod(). The Product of all items\n",
    "* sum(). The sum of the items\n",
    "\n"
   ]
  },
  {
   "cell_type": "markdown",
   "metadata": {},
   "source": [
    "#### Example of aggregation in a Series  "
   ]
  },
  {
   "cell_type": "code",
   "execution_count": 56,
   "metadata": {},
   "outputs": [
    {
     "name": "stdout",
     "output_type": "stream",
     "text": [
      "0     0.431896\n",
      "1     4.976999\n",
      "2    11.192187\n",
      "3     1.018170\n",
      "4     1.967095\n",
      "5     5.936225\n",
      "6     6.865567\n",
      "7     1.274643\n",
      "8     4.031365\n",
      "9     8.417409\n",
      "dtype: float64\n",
      "Perform some aggregation functions: \n",
      "Count() -> 10\n",
      "min() -> 0.431895570166577\n",
      "max() -> 11.192186522431342\n",
      "mean() -> 4.611155632347397\n",
      "std() -> 3.5528524178538423\n",
      "mad() -> 2.8665217576370354\n",
      "prod() -> 84940.1302446703\n"
     ]
    }
   ],
   "source": [
    "# Create a Series \n",
    "#using a normal distribution \n",
    "mu, sigma = 5.5, 3.5\n",
    "#we create random numbers in a range using a normal distribution \n",
    "numbers=np.random.normal(mu, sigma, 10)\n",
    "#Create a Series\n",
    "s_data = pd.Series(numbers)\n",
    "print(s_data)\n",
    "print('Perform some aggregation functions: ')\n",
    "print('Count() ->', s_data.count())\n",
    "print('min() ->', s_data.min())\n",
    "print('max() ->', s_data.max())\n",
    "print('mean() ->', s_data.mean())\n",
    "print('std() ->', s_data.std())\n",
    "print('mad() ->', s_data.mad())\n",
    "print('prod() ->', s_data.prod())"
   ]
  }
 ],
 "metadata": {
  "celltoolbar": "Raw Cell Format",
  "kernelspec": {
   "display_name": "Python 3",
   "language": "python",
   "name": "python3"
  },
  "language_info": {
   "codemirror_mode": {
    "name": "ipython",
    "version": 3
   },
   "file_extension": ".py",
   "mimetype": "text/x-python",
   "name": "python",
   "nbconvert_exporter": "python",
   "pygments_lexer": "ipython3",
   "version": "3.7.6"
  }
 },
 "nbformat": 4,
 "nbformat_minor": 2
}
