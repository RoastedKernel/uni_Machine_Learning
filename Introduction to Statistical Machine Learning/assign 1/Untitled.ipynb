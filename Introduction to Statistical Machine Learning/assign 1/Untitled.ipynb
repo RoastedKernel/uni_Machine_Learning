{
 "cells": [
  {
   "cell_type": "code",
   "execution_count": 1,
   "metadata": {},
   "outputs": [],
   "source": [
    "#Common imports\n",
    "import numpy as np\n",
    "import pandas as pd\n",
    "import seaborn as sns\n",
    "from sklearn.metrics import accuracy_score\n",
    "from sklearn.metrics import classification_report\n",
    "import cvxpy as cp\n",
    "from numpy import linalg\n",
    "import scs\n",
    "import _scs_gpu\n",
    "\n",
    "# To plot pretty figures\n",
    "%matplotlib inline\n",
    "import matplotlib as mpl\n",
    "import matplotlib.pyplot as plt\n",
    "mpl.rc('axes', labelsize=14)\n",
    "mpl.rc('xtick', labelsize=12)\n",
    "mpl.rc('ytick', labelsize=12)"
   ]
  },
  {
   "cell_type": "code",
   "execution_count": 2,
   "metadata": {},
   "outputs": [],
   "source": [
    "df = pd.read_csv(\"diabetes.csv\")"
   ]
  },
  {
   "cell_type": "code",
   "execution_count": 3,
   "metadata": {
    "scrolled": false
   },
   "outputs": [
    {
     "name": "stdout",
     "output_type": "stream",
     "text": [
      "<class 'pandas.core.frame.DataFrame'>\n",
      "RangeIndex: 768 entries, 0 to 767\n",
      "Data columns (total 9 columns):\n",
      " #   Column                    Non-Null Count  Dtype  \n",
      "---  ------                    --------------  -----  \n",
      " 0   Pregnancies               768 non-null    int64  \n",
      " 1   Glucose                   768 non-null    int64  \n",
      " 2   BloodPressure             768 non-null    int64  \n",
      " 3   SkinThickness             768 non-null    int64  \n",
      " 4   Insulin                   768 non-null    int64  \n",
      " 5   BMI                       768 non-null    float64\n",
      " 6   DiabetesPedigreeFunction  768 non-null    float64\n",
      " 7   Age                       768 non-null    int64  \n",
      " 8   Outcome                   768 non-null    int64  \n",
      "dtypes: float64(2), int64(7)\n",
      "memory usage: 54.1 KB\n"
     ]
    }
   ],
   "source": [
    "df.info()"
   ]
  },
  {
   "cell_type": "code",
   "execution_count": 4,
   "metadata": {},
   "outputs": [],
   "source": [
    "# df1 = df.copy()\n",
    "# df1[\"dummy\"] = 1\n",
    "\n",
    "# df1 = df1[['dummy', 'Pregnancies', 'Glucose', 'BloodPressure', 'SkinThickness', 'Insulin', \n",
    "#          'BMI', 'DiabetesPedigreeFunction', 'Age', 'Outcome']]"
   ]
  },
  {
   "cell_type": "code",
   "execution_count": 5,
   "metadata": {},
   "outputs": [
    {
     "data": {
      "text/html": [
       "<div>\n",
       "<style scoped>\n",
       "    .dataframe tbody tr th:only-of-type {\n",
       "        vertical-align: middle;\n",
       "    }\n",
       "\n",
       "    .dataframe tbody tr th {\n",
       "        vertical-align: top;\n",
       "    }\n",
       "\n",
       "    .dataframe thead th {\n",
       "        text-align: right;\n",
       "    }\n",
       "</style>\n",
       "<table border=\"1\" class=\"dataframe\">\n",
       "  <thead>\n",
       "    <tr style=\"text-align: right;\">\n",
       "      <th></th>\n",
       "      <th>Pregnancies</th>\n",
       "      <th>Glucose</th>\n",
       "      <th>BloodPressure</th>\n",
       "      <th>SkinThickness</th>\n",
       "      <th>Insulin</th>\n",
       "      <th>BMI</th>\n",
       "      <th>DiabetesPedigreeFunction</th>\n",
       "      <th>Age</th>\n",
       "      <th>Outcome</th>\n",
       "    </tr>\n",
       "  </thead>\n",
       "  <tbody>\n",
       "    <tr>\n",
       "      <th>0</th>\n",
       "      <td>6</td>\n",
       "      <td>148</td>\n",
       "      <td>72</td>\n",
       "      <td>35</td>\n",
       "      <td>0</td>\n",
       "      <td>33.6</td>\n",
       "      <td>0.627</td>\n",
       "      <td>50</td>\n",
       "      <td>1</td>\n",
       "    </tr>\n",
       "    <tr>\n",
       "      <th>1</th>\n",
       "      <td>1</td>\n",
       "      <td>85</td>\n",
       "      <td>66</td>\n",
       "      <td>29</td>\n",
       "      <td>0</td>\n",
       "      <td>26.6</td>\n",
       "      <td>0.351</td>\n",
       "      <td>31</td>\n",
       "      <td>0</td>\n",
       "    </tr>\n",
       "    <tr>\n",
       "      <th>2</th>\n",
       "      <td>8</td>\n",
       "      <td>183</td>\n",
       "      <td>64</td>\n",
       "      <td>0</td>\n",
       "      <td>0</td>\n",
       "      <td>23.3</td>\n",
       "      <td>0.672</td>\n",
       "      <td>32</td>\n",
       "      <td>1</td>\n",
       "    </tr>\n",
       "    <tr>\n",
       "      <th>3</th>\n",
       "      <td>1</td>\n",
       "      <td>89</td>\n",
       "      <td>66</td>\n",
       "      <td>23</td>\n",
       "      <td>94</td>\n",
       "      <td>28.1</td>\n",
       "      <td>0.167</td>\n",
       "      <td>21</td>\n",
       "      <td>0</td>\n",
       "    </tr>\n",
       "    <tr>\n",
       "      <th>4</th>\n",
       "      <td>0</td>\n",
       "      <td>137</td>\n",
       "      <td>40</td>\n",
       "      <td>35</td>\n",
       "      <td>168</td>\n",
       "      <td>43.1</td>\n",
       "      <td>2.288</td>\n",
       "      <td>33</td>\n",
       "      <td>1</td>\n",
       "    </tr>\n",
       "    <tr>\n",
       "      <th>...</th>\n",
       "      <td>...</td>\n",
       "      <td>...</td>\n",
       "      <td>...</td>\n",
       "      <td>...</td>\n",
       "      <td>...</td>\n",
       "      <td>...</td>\n",
       "      <td>...</td>\n",
       "      <td>...</td>\n",
       "      <td>...</td>\n",
       "    </tr>\n",
       "    <tr>\n",
       "      <th>95</th>\n",
       "      <td>6</td>\n",
       "      <td>144</td>\n",
       "      <td>72</td>\n",
       "      <td>27</td>\n",
       "      <td>228</td>\n",
       "      <td>33.9</td>\n",
       "      <td>0.255</td>\n",
       "      <td>40</td>\n",
       "      <td>0</td>\n",
       "    </tr>\n",
       "    <tr>\n",
       "      <th>96</th>\n",
       "      <td>2</td>\n",
       "      <td>92</td>\n",
       "      <td>62</td>\n",
       "      <td>28</td>\n",
       "      <td>0</td>\n",
       "      <td>31.6</td>\n",
       "      <td>0.130</td>\n",
       "      <td>24</td>\n",
       "      <td>0</td>\n",
       "    </tr>\n",
       "    <tr>\n",
       "      <th>97</th>\n",
       "      <td>1</td>\n",
       "      <td>71</td>\n",
       "      <td>48</td>\n",
       "      <td>18</td>\n",
       "      <td>76</td>\n",
       "      <td>20.4</td>\n",
       "      <td>0.323</td>\n",
       "      <td>22</td>\n",
       "      <td>0</td>\n",
       "    </tr>\n",
       "    <tr>\n",
       "      <th>98</th>\n",
       "      <td>6</td>\n",
       "      <td>93</td>\n",
       "      <td>50</td>\n",
       "      <td>30</td>\n",
       "      <td>64</td>\n",
       "      <td>28.7</td>\n",
       "      <td>0.356</td>\n",
       "      <td>23</td>\n",
       "      <td>0</td>\n",
       "    </tr>\n",
       "    <tr>\n",
       "      <th>99</th>\n",
       "      <td>1</td>\n",
       "      <td>122</td>\n",
       "      <td>90</td>\n",
       "      <td>51</td>\n",
       "      <td>220</td>\n",
       "      <td>49.7</td>\n",
       "      <td>0.325</td>\n",
       "      <td>31</td>\n",
       "      <td>1</td>\n",
       "    </tr>\n",
       "  </tbody>\n",
       "</table>\n",
       "<p>100 rows × 9 columns</p>\n",
       "</div>"
      ],
      "text/plain": [
       "    Pregnancies  Glucose  BloodPressure  SkinThickness  Insulin   BMI  \\\n",
       "0             6      148             72             35        0  33.6   \n",
       "1             1       85             66             29        0  26.6   \n",
       "2             8      183             64              0        0  23.3   \n",
       "3             1       89             66             23       94  28.1   \n",
       "4             0      137             40             35      168  43.1   \n",
       "..          ...      ...            ...            ...      ...   ...   \n",
       "95            6      144             72             27      228  33.9   \n",
       "96            2       92             62             28        0  31.6   \n",
       "97            1       71             48             18       76  20.4   \n",
       "98            6       93             50             30       64  28.7   \n",
       "99            1      122             90             51      220  49.7   \n",
       "\n",
       "    DiabetesPedigreeFunction  Age  Outcome  \n",
       "0                      0.627   50        1  \n",
       "1                      0.351   31        0  \n",
       "2                      0.672   32        1  \n",
       "3                      0.167   21        0  \n",
       "4                      2.288   33        1  \n",
       "..                       ...  ...      ...  \n",
       "95                     0.255   40        0  \n",
       "96                     0.130   24        0  \n",
       "97                     0.323   22        0  \n",
       "98                     0.356   23        0  \n",
       "99                     0.325   31        1  \n",
       "\n",
       "[100 rows x 9 columns]"
      ]
     },
     "execution_count": 5,
     "metadata": {},
     "output_type": "execute_result"
    }
   ],
   "source": [
    "df.head(100)"
   ]
  },
  {
   "cell_type": "code",
   "execution_count": 6,
   "metadata": {},
   "outputs": [
    {
     "data": {
      "text/plain": [
       "<AxesSubplot:>"
      ]
     },
     "execution_count": 6,
     "metadata": {},
     "output_type": "execute_result"
    },
    {
     "data": {
      "image/png": "[encoded data removed]",
      "text/plain": [
       "<Figure size 432x288 with 1 Axes>"
      ]
     },
     "metadata": {
      "needs_background": "light"
     },
     "output_type": "display_data"
    }
   ],
   "source": [
    "df.Outcome.hist()"
   ]
  },
  {
   "cell_type": "code",
   "execution_count": 7,
   "metadata": {},
   "outputs": [],
   "source": [
    "X = df.drop(\"Outcome\", axis = 1)\n",
    "Y = df[\"Outcome\"].to_numpy()\n",
    "Y = np.where(Y == 0, -1, 1)"
   ]
  },
  {
   "cell_type": "code",
   "execution_count": 8,
   "metadata": {},
   "outputs": [],
   "source": [
    "from sklearn.preprocessing import MinMaxScaler\n",
    "\n",
    "mmscaler = MinMaxScaler()\n",
    "\n",
    "X_scaled = mmscaler.fit_transform(X)\n"
   ]
  },
  {
   "cell_type": "code",
   "execution_count": 9,
   "metadata": {
    "scrolled": false
   },
   "outputs": [
    {
     "data": {
      "text/plain": [
       "array([[0.35294118, 0.74371859, 0.59016393, ..., 0.50074516, 0.23441503,\n",
       "        0.48333333],\n",
       "       [0.05882353, 0.42713568, 0.54098361, ..., 0.39642325, 0.11656704,\n",
       "        0.16666667],\n",
       "       [0.47058824, 0.91959799, 0.52459016, ..., 0.34724292, 0.25362938,\n",
       "        0.18333333],\n",
       "       ...,\n",
       "       [0.29411765, 0.6080402 , 0.59016393, ..., 0.390462  , 0.07130658,\n",
       "        0.15      ],\n",
       "       [0.05882353, 0.63316583, 0.49180328, ..., 0.4485842 , 0.11571307,\n",
       "        0.43333333],\n",
       "       [0.05882353, 0.46733668, 0.57377049, ..., 0.45305514, 0.10119556,\n",
       "        0.03333333]])"
      ]
     },
     "execution_count": 9,
     "metadata": {},
     "output_type": "execute_result"
    }
   ],
   "source": [
    "X_scaled"
   ]
  },
  {
   "cell_type": "code",
   "execution_count": 12,
   "metadata": {
    "scrolled": true
   },
   "outputs": [
    {
     "data": {
      "text/plain": [
       "numpy.ndarray"
      ]
     },
     "execution_count": 12,
     "metadata": {},
     "output_type": "execute_result"
    }
   ],
   "source": [
    "type(Y)"
   ]
  },
  {
   "cell_type": "code",
   "execution_count": 56,
   "metadata": {},
   "outputs": [
    {
     "name": "stdout",
     "output_type": "stream",
     "text": [
      "100\n",
      "100\n"
     ]
    },
    {
     "data": {
      "text/plain": [
       "array([[5.1, 1.4],\n",
       "       [4.9, 1.4],\n",
       "       [4.7, 1.3],\n",
       "       [4.6, 1.5],\n",
       "       [5. , 1.4],\n",
       "       [5.4, 1.7],\n",
       "       [4.6, 1.4],\n",
       "       [5. , 1.5],\n",
       "       [4.4, 1.4],\n",
       "       [4.9, 1.5],\n",
       "       [5.4, 1.5],\n",
       "       [4.8, 1.6],\n",
       "       [4.8, 1.4],\n",
       "       [4.3, 1.1],\n",
       "       [5.8, 1.2],\n",
       "       [5.7, 1.5],\n",
       "       [5.4, 1.3],\n",
       "       [5.1, 1.4],\n",
       "       [5.7, 1.7],\n",
       "       [5.1, 1.5],\n",
       "       [5.4, 1.7],\n",
       "       [5.1, 1.5],\n",
       "       [4.6, 1. ],\n",
       "       [5.1, 1.7],\n",
       "       [4.8, 1.9],\n",
       "       [5. , 1.6],\n",
       "       [5. , 1.6],\n",
       "       [5.2, 1.5],\n",
       "       [5.2, 1.4],\n",
       "       [4.7, 1.6],\n",
       "       [4.8, 1.6],\n",
       "       [5.4, 1.5],\n",
       "       [5.2, 1.5],\n",
       "       [5.5, 1.4],\n",
       "       [4.9, 1.5],\n",
       "       [5. , 1.2],\n",
       "       [5.5, 1.3],\n",
       "       [4.9, 1.5],\n",
       "       [4.4, 1.3],\n",
       "       [5.1, 1.5],\n",
       "       [5. , 1.3],\n",
       "       [4.5, 1.3],\n",
       "       [4.4, 1.3],\n",
       "       [5. , 1.6],\n",
       "       [5.1, 1.9],\n",
       "       [4.8, 1.4],\n",
       "       [5.1, 1.6],\n",
       "       [4.6, 1.4],\n",
       "       [5.3, 1.5],\n",
       "       [5. , 1.4],\n",
       "       [7. , 4.7],\n",
       "       [6.4, 4.5],\n",
       "       [6.9, 4.9],\n",
       "       [5.5, 4. ],\n",
       "       [6.5, 4.6],\n",
       "       [5.7, 4.5],\n",
       "       [6.3, 4.7],\n",
       "       [4.9, 3.3],\n",
       "       [6.6, 4.6],\n",
       "       [5.2, 3.9],\n",
       "       [5. , 3.5],\n",
       "       [5.9, 4.2],\n",
       "       [6. , 4. ],\n",
       "       [6.1, 4.7],\n",
       "       [5.6, 3.6],\n",
       "       [6.7, 4.4],\n",
       "       [5.6, 4.5],\n",
       "       [5.8, 4.1],\n",
       "       [6.2, 4.5],\n",
       "       [5.6, 3.9],\n",
       "       [5.9, 4.8],\n",
       "       [6.1, 4. ],\n",
       "       [6.3, 4.9],\n",
       "       [6.1, 4.7],\n",
       "       [6.4, 4.3],\n",
       "       [6.6, 4.4],\n",
       "       [6.8, 4.8],\n",
       "       [6.7, 5. ],\n",
       "       [6. , 4.5],\n",
       "       [5.7, 3.5],\n",
       "       [5.5, 3.8],\n",
       "       [5.5, 3.7],\n",
       "       [5.8, 3.9],\n",
       "       [6. , 5.1],\n",
       "       [5.4, 4.5],\n",
       "       [6. , 4.5],\n",
       "       [6.7, 4.7],\n",
       "       [6.3, 4.4],\n",
       "       [5.6, 4.1],\n",
       "       [5.5, 4. ],\n",
       "       [5.5, 4.4],\n",
       "       [6.1, 4.6],\n",
       "       [5.8, 4. ],\n",
       "       [5. , 3.3],\n",
       "       [5.6, 4.2],\n",
       "       [5.7, 4.2],\n",
       "       [5.7, 4.2],\n",
       "       [6.2, 4.3],\n",
       "       [5.1, 3. ],\n",
       "       [5.7, 4.1]])"
      ]
     },
     "execution_count": 56,
     "metadata": {},
     "output_type": "execute_result"
    }
   ],
   "source": [
    "from sklearn.datasets import make_classification\n",
    "\n",
    "\n",
    "df_ToY = pd.read_csv('https://archive.ics.uci.edu/ml/machine-learning-databases/iris/iris.data', header=None)\n",
    "\n",
    "# setosa and versicolor\n",
    "Y_TOY = df_ToY.iloc[0:100, 4].values\n",
    "Y_TOY = np.where(Y_TOY == 'Iris-setosa', -1, 1)\n",
    "\n",
    "# sepal length and petal length\n",
    "X_TOY = df_ToY.iloc[0:100, [0,2]].values\n",
    "\n",
    "\n",
    "\n",
    "print(len(X_TOY))\n",
    "print(len(Y_TOY))\n",
    "\n",
    "\n",
    "#plt.scatter(X_TOY[0:,0],X_TOY[0:,1])\n",
    "\n",
    "#X_TOY"
   ]
  },
  {
   "cell_type": "code",
   "execution_count": 68,
   "metadata": {
    "scrolled": true
   },
   "outputs": [
    {
     "data": {
      "text/plain": [
       "<matplotlib.collections.PathCollection at 0x7f6ef4f64350>"
      ]
     },
     "execution_count": 68,
     "metadata": {},
     "output_type": "execute_result"
    },
    {
     "data": {
      "image/png": "[encoded data removed]",
      "text/plain": [
       "<Figure size 432x288 with 1 Axes>"
      ]
     },
     "metadata": {
      "needs_background": "light"
     },
     "output_type": "display_data"
    }
   ],
   "source": [
    "plt.scatter(X_TOY[0:,0],X_TOY[0:,1])"
   ]
  },
  {
   "cell_type": "code",
   "execution_count": 15,
   "metadata": {},
   "outputs": [],
   "source": [
    "from sklearn.datasets import make_moons, make_circles, make_classification\n",
    "X_class, y_class = make_classification(n_features=2, n_redundant=0, n_informative=2,\n",
    "                           random_state=1, n_clusters_per_class=1)\n",
    "y_class = np.where(y_class == 0, -1, 1)\n",
    "\n",
    "\n",
    "X_circles, y_circles = make_circles(n_samples=100, noise=0.2, factor=0.5, random_state=1)\n",
    "\n",
    "y_circles = np.where(y_circles == 0, -1, 1)\n",
    "\n",
    "\n",
    "\n",
    "X_moons, y_moons = make_moons(n_samples=100, noise=0.3, random_state=0)\n",
    "\n",
    "y_moons = np.where(y_moons == 0, -1, 1)"
   ]
  },
  {
   "cell_type": "code",
   "execution_count": 39,
   "metadata": {},
   "outputs": [],
   "source": [
    "n_samples = len(X_circles)\n",
    "n = X_circles.shape[1]\n",
    "d = X_circles.shape[0]\n",
    "\n",
    "alpha = cp.Variable(shape=(d),pos=True)\n",
    "C = cp.Parameter()\n",
    "C.value = 13000\n",
    "    \n",
    "H = np.dot((y_circles[:,None] * X_circles) , (  y_circles[:,None] * X_circles).T)\n",
    "\n",
    "   \n",
    "\n",
    "obj = cp.Minimize(- cp.sum(alpha)+(1/2)*cp.quad_form(alpha,H))\n",
    "\n",
    "constraint_1 = [alpha >= 0]\n",
    "constaint_2 = [alpha <= C/n]\n",
    "constraint_3 = [(y_circles@alpha) == 0]\n",
    "\n",
    "constraint = constraint_1 + constaint_2 + constraint_3\n",
    "\n",
    "prob = cp.Problem(obj, constraint)\n",
    "\n",
    "results = prob.solve()\n",
    "#print (prob.status)\n",
    "#print(alpha.value)\n",
    "    \n",
    "   \n",
    "aaa = alpha.value\n",
    "aaa = np.where(aaa>1e-5 , aaa, 0)\n",
    "w_dual = ((y_circles.T * aaa.T) @ X_circles)\n",
    "aaa = np.where(aaa>(13000/n)-0.1 , 0, aaa)\n",
    "S = (aaa > 0).flatten()\n",
    "b = y_circles[S] - np.dot(X_circles[S], w_dual)\n",
    "    \n",
    "weight_w_bias = np.concatenate(([b[0]],w_dual))"
   ]
  },
  {
   "cell_type": "code",
   "execution_count": 40,
   "metadata": {},
   "outputs": [
    {
     "data": {
      "text/plain": [
       "array([ 0.29023384,  0.75884662, -0.65151097])"
      ]
     },
     "execution_count": 40,
     "metadata": {},
     "output_type": "execute_result"
    }
   ],
   "source": [
    "# w =  [[ 1.53167533  5.99583022 -1.00913952 -0.73006476 -0.21293898  4.85424676\n",
    "#    2.56394536  0.52695855]]\n",
    "# b =  [-6.76750171]\n",
    "\n",
    "shaa=alpha.value\n",
    "\n",
    "weight_w_bias"
   ]
  },
  {
   "cell_type": "code",
   "execution_count": 41,
   "metadata": {},
   "outputs": [
    {
     "data": {
      "text/plain": [
       "array([0.29023384, 0.29023384, 0.29023384])"
      ]
     },
     "execution_count": 41,
     "metadata": {},
     "output_type": "execute_result"
    }
   ],
   "source": [
    "b"
   ]
  },
  {
   "cell_type": "code",
   "execution_count": 13,
   "metadata": {},
   "outputs": [],
   "source": [
    "class Perceptron:\n",
    "    \n",
    "    def __init__ (self, niter, LR):\n",
    "        \n",
    "        self.niter = niter \n",
    "        self.LR = LR \n",
    "        \n",
    "        \n",
    "    def fit (self, x, y ):\n",
    "        self.m = []\n",
    "        accuracy = {}\n",
    "        max_accuracy = 0\n",
    "        \n",
    "        self.weight = np.ones(1 + x.shape[1])\n",
    "        \n",
    "        for i in range(self.niter):\n",
    "            m_count = 0\n",
    "            for x_row , y_row in zip(x,y):\n",
    "                loss = self.LR * (y_row - self.activation_out(x_row))\n",
    "                self.weight[1:] += self.LR * x_row.dot(loss)\n",
    "                self.weight[0] += self.LR * loss\n",
    "                m_count += int(y_row *(self.activation_out(x_row)) >= 1.0)\n",
    "            self.m.append(m_count)\n",
    "            \n",
    "            accuracy[i] = accuracy_score(self.predict(x), y)\n",
    "            if (accuracy[i] > max_accuracy):\n",
    "                max_accuracy = accuracy[i]\n",
    "                chkptw = self.weight[1:]\n",
    "                chkptb = self.weight[0]\n",
    "                \n",
    "        self.weight[1:] = chkptw\n",
    "        self.weight[0] = chkptb\n",
    "                \n",
    "            \n",
    "        return self\n",
    "                \n",
    "                \n",
    "                \n",
    "                \n",
    "    def activation_out(self, x):\n",
    "        \n",
    "        #percep = np.dot(self.weight[1:], x) + self.weight[0]\n",
    "#         np.where(np.dot(self.weight[1:], x) + self.weight[0] >= 0.0 , 1, -1)\n",
    "        \n",
    "        return np.dot(self.weight[1:], x) + self.weight[0]\n",
    "    \n",
    "    def predict(self, x): \n",
    "        \n",
    "        y = []\n",
    "        \n",
    "        for x1 in x:\n",
    "            \n",
    "            results = np.where(self.activation_out(x1) >= 0.0 , 1, -1)\n",
    "            y.append(results)\n",
    "            \n",
    "        return np.array(y)\n",
    "    \n",
    "    def show_weights (self):\n",
    "        \n",
    "        print (\"W = \", self.weight[1:])\n",
    "        \n",
    "        print(\"\\n\")\n",
    "        \n",
    "        print(\"bias = \", self.weight[0])\n",
    "        \n",
    "    "
   ]
  },
  {
   "cell_type": "code",
   "execution_count": 14,
   "metadata": {},
   "outputs": [
    {
     "ename": "NameError",
     "evalue": "name 'x_train' is not defined",
     "output_type": "error",
     "traceback": [
      "\u001b[0;31m---------------------------------------------------------------------------\u001b[0m",
      "\u001b[0;31mNameError\u001b[0m                                 Traceback (most recent call last)",
      "\u001b[0;32m<ipython-input-14-854f2f00cb59>\u001b[0m in \u001b[0;36m<module>\u001b[0;34m\u001b[0m\n\u001b[0;32m----> 1\u001b[0;31m \u001b[0mx_train\u001b[0m\u001b[0;34m.\u001b[0m\u001b[0mshape\u001b[0m\u001b[0;34m[\u001b[0m\u001b[0;36m1\u001b[0m\u001b[0;34m]\u001b[0m\u001b[0;34m\u001b[0m\u001b[0;34m\u001b[0m\u001b[0m\n\u001b[0m",
      "\u001b[0;31mNameError\u001b[0m: name 'x_train' is not defined"
     ]
    }
   ],
   "source": [
    "x_train.shape[1]"
   ]
  },
  {
   "cell_type": "code",
   "execution_count": 1356,
   "metadata": {},
   "outputs": [],
   "source": [
    "\n",
    "\n",
    "# def svm_train_primal (data_train, label_train, regularisation_para_C):\n",
    "#     n_samples = len(data_train)\n",
    "#     d = data_train.shape[1]\n",
    "#     n = data_train.shape[0]\n",
    "\n",
    "#     W = cp.Variable((d))\n",
    "#     bias = cp.Variable()\n",
    "#     epi = cp.Variable(n)\n",
    "#     C = cp.Parameter()\n",
    "#     C.value = regularisation_para_C\n",
    "\n",
    "#     obj = cp.Minimize((1/2 * cp.norm(W) + 1/n_samples*C*cp.sum(epi) ))\n",
    "\n",
    "\n",
    "#     constranit_1 = [cp.multiply(label_train,(data_train@W+bias)) >= (1-epi)]\n",
    "\n",
    "#     constraint_2 = [epi >= 0]\n",
    "\n",
    "#     constraints = constranit_1 + constraint_2\n",
    "\n",
    "#     prob = cp.Problem(obj, constraints)\n",
    "\n",
    "#     prob.solve()\n",
    "\n",
    "#     #print (prob.status)\n",
    "\n",
    "#     w = W.value\n",
    "#     b = bias.value\n",
    "    \n",
    "#     weight_w_bias = np.concatenate(([b],w))\n",
    "    \n",
    "#     return weight_w_bias\n",
    "    \n",
    "\n",
    "# def svm_predict_primal(data_test , label_test , svm_model):\n",
    "    \n",
    "    \n",
    "#     predicted = []\n",
    "        \n",
    "#     for x1 in data_test:\n",
    "            \n",
    "#             results = np.where((np.dot(svm_model[1:], x1) + svm_model[0]) >= 0.0 , 1, -1)\n",
    "#             predicted.append(results)\n",
    "    \n",
    "    \n",
    "#     return accuracy_score(label_test, predicted)\n",
    "    "
   ]
  },
  {
   "cell_type": "code",
   "execution_count": 767,
   "metadata": {},
   "outputs": [],
   "source": [
    "# def svm_train_dual (data_train , label_train , regularisation_para_C):\n",
    "#     n_samples = len(data_train)\n",
    "#     n = data_train.shape[1]\n",
    "#     d = data_train.shape[0]\n",
    "\n",
    "#     alpha = cp.Variable(shape=(d,1),pos=True)\n",
    "#     C = cp.Parameter()\n",
    "#     C.value = regularisation_para_C\n",
    "    \n",
    "#     H = np.dot((label_train[:,None] * data_train) , (  label_train[:,None] * data_train).T)\n",
    "\n",
    "   \n",
    "\n",
    "#     obj = cp.Minimize(- cp.sum(alpha)+(1/2)*cp.quad_form(alpha,H))\n",
    "\n",
    "#     constraint_1 = [alpha >= 0]\n",
    "#     constaint_2 = [alpha <= C]\n",
    "#     constraint_3 = [(label_train@alpha) == 0]\n",
    "\n",
    "#     constraint = constraint_1 + constaint_2 + constraint_3\n",
    "\n",
    "#     prob = cp.Problem(obj, constraint)\n",
    "\n",
    "#     results = prob.solve()\n",
    "#     #print (prob.status)\n",
    "#     #print(alpha.value)\n",
    "    \n",
    "    \n",
    "#     aaa = alpha.value\n",
    "#     aaa = np.where(aaa>1e-5 , aaa, 0)\n",
    "#     w_dual = ((label_train.T * aaa.T) @ data_train)\n",
    "#     aaa = np.where(aaa>130-0.1 , 0, aaa)\n",
    "#     S = (aaa > 0).flatten()\n",
    "#     b = label_train[S] - np.dot(data_train[S], w_dual[0])\n",
    "    \n",
    "#     weight_w_bias = np.concatenate(([b[0]],w_dual[0]))\n",
    "    \n",
    "#     return weight_w_bias\n",
    "    \n",
    "\n",
    "    \n",
    "\n",
    "    \n",
    "    \n",
    "# def svm_predict_dual(data_test , label_test , svm_model):\n",
    "    \n",
    "#     predicted = []\n",
    "        \n",
    "#     for x1 in data_test:\n",
    "            \n",
    "#             results = np.where((np.dot(svm_model[1:], x1) + svm_model[0]) >= 0.0 , 1, -1)\n",
    "#             predicted.append(results)\n",
    "    \n",
    "    \n",
    "#     return accuracy_score(label_test, predicted)\n",
    "    \n",
    "    \n",
    "    "
   ]
  },
  {
   "cell_type": "code",
   "execution_count": 1357,
   "metadata": {},
   "outputs": [
    {
     "name": "stdout",
     "output_type": "stream",
     "text": [
      "0.7272727272727273\n"
     ]
    }
   ],
   "source": [
    "# svm_model = svm_train_primal( x_train , y_train , 130)\n",
    "\n",
    "# test_accuracy = svm_predict_primal(x_test , y_test , svm_model)\n",
    "\n",
    "# print(test_accuracy)\n",
    "\n",
    "\n",
    "\n",
    "# svm_model_d   = svm_train_dual(  x_train , y_train , 130)\n",
    "\n",
    "# test_accuracy_d = svm_predict_dual( x_test , y_test , svm_model_d)\n",
    "\n",
    "\n",
    "# print(test_accuracy_d)"
   ]
  },
  {
   "cell_type": "code",
   "execution_count": 43,
   "metadata": {},
   "outputs": [],
   "source": [
    "class SVM:\n",
    "\n",
    "\n",
    "    def __init__ (self, regularisation_para_C, kernel = linear_kernel ):\n",
    "        \n",
    "        self.regularisation_para_C = regularisation_para_C \n",
    "        self.kernel = kernel\n",
    "\n",
    "\n",
    "    def fit (self, data_train, label_train):\n",
    "        n_samples = len(data_train)\n",
    "        n = data_train.shape[1]\n",
    "        d = data_train.shape[0]\n",
    "\n",
    "        alpha = cp.Variable((d))\n",
    "        C = cp.Parameter()\n",
    "        C.value = self.regularisation_para_C\n",
    "        \n",
    "        K = np.zeros((n_samples, n_samples))\n",
    "        \n",
    "        for i in range(n_samples):\n",
    "            for j in range(n_samples):\n",
    "                K[i,j] = self.kernel(data_train[i], data_train[j])\n",
    "        \n",
    "        \n",
    "        H = np.outer(label_train[:,None],label_train[:,None]) * K      \n",
    "       \n",
    "       # H = np.dot((label_train[:,None] * data_train) , (  label_train[:,None] * data_train).T)\n",
    "\n",
    "        obj = cp.Minimize(- cp.sum(alpha)+(1/2)*cp.quad_form(alpha,H))\n",
    "\n",
    "        constraint_1 = [alpha >= 0]\n",
    "        constaint_2 = [alpha <= C]\n",
    "        constraint_3 = [(label_train@alpha) == 0]\n",
    "\n",
    "        constraint = constraint_1 + constaint_2 + constraint_3\n",
    "\n",
    "        prob = cp.Problem(obj, constraint)\n",
    "\n",
    "        results = prob.solve(solver= cp.SCS , verbose=True )\n",
    "#         results = prob.solve(solver=cp.SCS , gpu=True \n",
    "#                              , use_indirect=True ,acceleration_lookback =10,verbose=True)\n",
    "\n",
    "        #print (prob.status)\n",
    "        #print(alpha.value)\n",
    "\n",
    "\n",
    "#         aaa = alpha.value\n",
    "#         aaa = np.where(aaa>1e-5 , aaa, 0)\n",
    "#         w_dual = ((label_train.T * aaa.T) @ data_train)  \n",
    "#         aaa = np.where(aaa>self.regularisation_para_C-0.1 , 0, aaa)\n",
    "#         S = (aaa > 0).flatten()\n",
    "#         b = label_train[S] - np.dot(data_train[S], w_dual[0])\n",
    "\n",
    "#         self.weight_w_bias = np.concatenate(([b[0]],w_dual[0]))\n",
    "        aa = alpha.value\n",
    "        aa1 = aa.reshape(n_samples)\n",
    "        sv = aa1 > 1e-8\n",
    "        self.ind = (np.arange(len(aa1))[sv])\n",
    "        self.aa1 = aa1[sv]\n",
    "        self.sv_x = data_train[sv]\n",
    "        self.sv_y = label_train[sv]\n",
    "\n",
    "#         print(len(self.sv_y))\n",
    "#         print(self.sv_y)\n",
    "        \n",
    "        \n",
    "        self.bias = 0\n",
    "        for n in range(self.aa1.shape[0]):\n",
    "            self.bias += self.sv_y[n]\n",
    "            self.bias -= np.sum(self.aa1*self.sv_y * K[self.ind[n],sv])\n",
    "\n",
    "        self.bias /= self.aa1.shape[0]\n",
    "        \n",
    "        \n",
    "        \n",
    "        if self.kernel== linear_kernel :\n",
    "            self.w = np.zeros(8)\n",
    "            for n in range(len(self.aa1)):\n",
    "                self.w += (self.aa1[n] * self.sv_y[n] * self.sv_x[n])\n",
    "                \n",
    "        return self\n",
    "\n",
    "            \n",
    "            \n",
    "    def predict(self, X):\n",
    "        predicted = []\n",
    "        \n",
    "        if self.kernel == linear_kernel:\n",
    "            \n",
    "            for xi in X:\n",
    "                results = np.where((np.dot(xi, self.w) + self.bias) >= 0.0 , 1, -1)\n",
    "                predicted.append(results)\n",
    "                \n",
    "        elif self.kernel != linear_kernel:\n",
    "            \n",
    "            for i in range(len(X)):\n",
    "                y_predict = 0 \n",
    "                for b, a , c in zip(self.sv_x, self.aa1, self.sv_y):\n",
    "                    y_predict += a * c * self.kernel(X[i], b)\n",
    "                y_predict = y_predict+ self.bias\n",
    "                predicted.append(np.sign(y_predict))\n",
    "                    \n",
    "        return predicted\n",
    "\n",
    "            \n",
    "\n",
    "\n",
    "\n",
    "\n",
    "\n",
    "#     def predict(self, x):\n",
    "\n",
    "#         predicted = []\n",
    "\n",
    "#         for x1 in x:\n",
    "\n",
    "#                 results = np.where((np.dot(self.weight_w_bias[1:], x1) + self.weight_w_bias[0]) >= 0.0 , 1, -1)\n",
    "#                 predicted.append(results)\n",
    "\n",
    "\n",
    "#         return predicted\n",
    "    \n",
    "    def show_weights (self):\n",
    "        \n",
    "        print (\"W = \", self.w)\n",
    "        \n",
    "        print(\"\\n\")\n",
    "        \n",
    "        print(\"bias = \", self.bias)\n",
    "        \n",
    "#         return self.w\n",
    "\n",
    "    \n",
    "    "
   ]
  },
  {
   "cell_type": "code",
   "execution_count": 44,
   "metadata": {
    "scrolled": false
   },
   "outputs": [
    {
     "name": "stdout",
     "output_type": "stream",
     "text": [
      "----------------------------------------------------------------------------\n",
      "\tSCS v2.1.2 - Splitting Conic Solver\n",
      "\t(c) Brendan O'Donoghue, Stanford University, 2012\n",
      "----------------------------------------------------------------------------\n",
      "Lin-sys: sparse-direct, nnz in A = 7370\n",
      "eps = 1.00e-04, alpha = 1.50, max_iters = 5000, normalize = 1, scale = 1.00\n",
      "acceleration_lookback = 10, rho_x = 1.00e-03\n",
      "Variables n = 615, constraints m = 1240\n",
      "Cones:\tprimal zero / dual free vars: 1\n",
      "\tlinear vars: 1228\n",
      "\tsoc vars: 11, soc blks: 1\n",
      "Setup time: 6.56e-03s\n",
      "----------------------------------------------------------------------------\n",
      " Iter | pri res | dua res | rel gap | pri obj | dua obj | kap/tau | time (s)\n",
      "----------------------------------------------------------------------------\n",
      "     0| 1.15e+20  3.71e+20  9.99e-01 -3.17e+26 -9.05e+22  7.50e+26  5.55e-03 \n",
      "   100| 3.07e-02  1.04e-01  1.01e-02 -3.35e+06 -3.41e+06  1.93e-10  1.39e-02 \n",
      "   200| 5.63e-03  3.44e-03  1.30e-03 -3.26e+06 -3.27e+06  2.18e-10  2.25e-02 \n",
      "   300| 7.34e-03  1.34e-02  7.76e-04 -3.29e+06 -3.29e+06  1.35e-10  3.08e-02 \n",
      "   400| 2.66e-04  4.53e-03  9.79e-05 -3.27e+06 -3.27e+06  2.63e-10  3.90e-02 \n",
      "   500| 7.81e-04  3.65e-03  1.04e-04 -3.27e+06 -3.27e+06  1.21e-10  4.75e-02 \n",
      "   600| 1.40e-04  8.39e-04  2.08e-05 -3.27e+06 -3.27e+06  1.78e-10  5.56e-02 \n",
      "   700| 6.64e-05  1.72e-04  6.24e-06 -3.27e+06 -3.27e+06  2.02e-10  6.39e-02 \n",
      "   800| 1.04e-04  2.93e-04  3.29e-05 -3.27e+06 -3.27e+06  4.94e-11  7.26e-02 \n",
      "   900| 6.71e-04  9.14e-04  1.28e-04 -3.27e+06 -3.27e+06  1.95e-10  8.09e-02 \n",
      "  1000| 7.04e-04  8.11e-04  5.45e-05 -3.27e+06 -3.27e+06  1.05e-10  8.90e-02 \n",
      "  1020| 2.49e-05  5.36e-05  6.37e-07 -3.27e+06 -3.27e+06  2.68e-10  9.07e-02 \n",
      "----------------------------------------------------------------------------\n",
      "Status: Solved\n",
      "Timing: Solve time: 9.08e-02s\n",
      "\tLin-sys: nnz in L factor: 9270, avg solve time: 1.72e-05s\n",
      "\tCones: avg projection time: 1.81e-06s\n",
      "\tAcceleration: avg step time: 4.12e-05s\n",
      "----------------------------------------------------------------------------\n",
      "Error metrics:\n",
      "dist(s, K) = 9.6634e-13, dist(y, K*) = 1.4552e-11, s'y/|s||y| = -5.7556e-18\n",
      "primal res: |Ax + s - b|_2 / (1 + |b|_2) = 2.4912e-05\n",
      "dual res:   |A'y + c|_2 / (1 + |c|_2) = 5.3612e-05\n",
      "rel gap:    |c'x + b'y| / (1 + |c'x| + |b'y|) = 6.3700e-07\n",
      "----------------------------------------------------------------------------\n",
      "c'x = -3269828.6310, -b'y = -3269832.7968\n",
      "============================================================================\n",
      "Accuracy score:  0.7012987012987013\n",
      "Metrics Report\n",
      "              precision    recall  f1-score   support\n",
      "\n",
      "          -1       0.78      0.76      0.77       101\n",
      "           1       0.56      0.58      0.57        53\n",
      "\n",
      "    accuracy                           0.70       154\n",
      "   macro avg       0.67      0.67      0.67       154\n",
      "weighted avg       0.70      0.70      0.70       154\n",
      "\n"
     ]
    }
   ],
   "source": [
    "clf = SVM(10000, gaussian_kernel)\n",
    "\n",
    "clf.fit(x_train, y_train)\n",
    "\n",
    "predicted_svm = clf.predict(x_test)\n",
    "\n",
    "print('Accuracy score: ', accuracy_score(y_test, predicted_svm))\n",
    "print('Metrics Report')\n",
    "print(classification_report(y_test, predicted_svm))\n",
    "\n"
   ]
  },
  {
   "cell_type": "code",
   "execution_count": 10,
   "metadata": {},
   "outputs": [],
   "source": [
    "from sklearn.model_selection import train_test_split\n",
    "#from sklearn.linear_model import Perceptron\n",
    "#pred = Perceptron(200, 0.01)\n",
    "# use cross_validation\n",
    "x_train, x_test, y_train, y_test = train_test_split(X_scaled, Y, test_size=0.2, random_state=100)\n",
    "#pred.fit(x_train, y_train)\n",
    "\n"
   ]
  },
  {
   "cell_type": "code",
   "execution_count": 1010,
   "metadata": {},
   "outputs": [
    {
     "data": {
      "text/plain": [
       "614"
      ]
     },
     "execution_count": 1010,
     "metadata": {},
     "output_type": "execute_result"
    }
   ],
   "source": []
  },
  {
   "cell_type": "code",
   "execution_count": 574,
   "metadata": {},
   "outputs": [],
   "source": [
    "predicted = pred.predict(x_test)"
   ]
  },
  {
   "cell_type": "code",
   "execution_count": 616,
   "metadata": {
    "scrolled": false
   },
   "outputs": [
    {
     "name": "stdout",
     "output_type": "stream",
     "text": [
      "W =  [ 0.60506629  0.37155302 -0.18704989  0.42939749  0.75720934  0.27768506\n",
      "  0.74849375  0.69239037]\n",
      "\n",
      "\n",
      "bias =  -1.0522529857020821\n"
     ]
    }
   ],
   "source": [
    "pred.show_weights()"
   ]
  },
  {
   "cell_type": "code",
   "execution_count": 72,
   "metadata": {},
   "outputs": [],
   "source": [
    "from mlxtend.plotting import plot_decision_regions\n"
   ]
  },
  {
   "cell_type": "code",
   "execution_count": 584,
   "metadata": {
    "scrolled": true
   },
   "outputs": [
    {
     "data": {
      "image/png": "[encoded data removed]",
      "text/plain": [
       "<Figure size 432x288 with 1 Axes>"
      ]
     },
     "metadata": {
      "needs_background": "light"
     },
     "output_type": "display_data"
    }
   ],
   "source": [
    "plt.plot(range(1, len(pred.m) + 1), pred.m, marker='o')\n",
    "plt.xlabel('Epochs')\n",
    "plt.ylabel('Number of misclassifications')\n",
    "plt.show()"
   ]
  },
  {
   "cell_type": "code",
   "execution_count": 585,
   "metadata": {
    "scrolled": false
   },
   "outputs": [
    {
     "name": "stdout",
     "output_type": "stream",
     "text": [
      "Accuracy score:  0.6883116883116883\n",
      "Metrics Report\n",
      "              precision    recall  f1-score   support\n",
      "\n",
      "          -1       0.74      0.80      0.77       101\n",
      "           1       0.56      0.47      0.51        53\n",
      "\n",
      "    accuracy                           0.69       154\n",
      "   macro avg       0.65      0.64      0.64       154\n",
      "weighted avg       0.68      0.69      0.68       154\n",
      "\n"
     ]
    }
   ],
   "source": [
    "\n",
    "print('Accuracy score: ', accuracy_score(y_test, predicted))\n",
    "print('Metrics Report')\n",
    "print(classification_report(y_test, predicted))"
   ]
  },
  {
   "cell_type": "code",
   "execution_count": 1350,
   "metadata": {},
   "outputs": [],
   "source": [
    "pred_Toy = Perceptron(100, 0.01)\n",
    "\n",
    "predicted_TOY = pred_Toy.fit(X_TOY,Y_TOY)"
   ]
  },
  {
   "cell_type": "code",
   "execution_count": 609,
   "metadata": {},
   "outputs": [
    {
     "data": {
      "image/png": "[encoded data removed]",
      "text/plain": [
       "<Figure size 432x288 with 1 Axes>"
      ]
     },
     "metadata": {
      "needs_background": "light"
     },
     "output_type": "display_data"
    }
   ],
   "source": [
    "plt.plot(range(1, len(pred_Toy.m) + 1), pred_Toy.m, marker='o')\n",
    "plt.xlabel('Epochs')\n",
    "plt.ylabel('Number of misclassifications')\n",
    "plt.show()"
   ]
  },
  {
   "cell_type": "code",
   "execution_count": 1351,
   "metadata": {},
   "outputs": [
    {
     "data": {
      "text/plain": [
       "<matplotlib.axes._subplots.AxesSubplot at 0x7f6ed54fc250>"
      ]
     },
     "execution_count": 1351,
     "metadata": {},
     "output_type": "execute_result"
    },
    {
     "data": {
      "image/png": "[encoded data removed]",
      "text/plain": [
       "<Figure size 432x288 with 1 Axes>"
      ]
     },
     "metadata": {
      "needs_background": "light"
     },
     "output_type": "display_data"
    }
   ],
   "source": [
    "plot_decision_regions(X_TOY, Y_TOY, clf=predicted_TOY)"
   ]
  },
  {
   "cell_type": "code",
   "execution_count": 155,
   "metadata": {
    "scrolled": true
   },
   "outputs": [
    {
     "data": {
      "text/plain": [
       "614"
      ]
     },
     "execution_count": 155,
     "metadata": {},
     "output_type": "execute_result"
    }
   ],
   "source": [
    "len(x_train)"
   ]
  },
  {
   "cell_type": "code",
   "execution_count": 637,
   "metadata": {
    "scrolled": true
   },
   "outputs": [
    {
     "name": "stdout",
     "output_type": "stream",
     "text": [
      "optimal\n"
     ]
    }
   ],
   "source": [
    "import cvxpy as cp\n",
    "\n",
    "\n",
    "n_samples = len(x_train)\n",
    "d = x_train.shape[1]\n",
    "n = x_train.shape[0]\n",
    "\n",
    "W = cp.Variable((d))\n",
    "bias = cp.Variable()\n",
    "epi = cp.Variable(n)\n",
    "C = cp.Parameter()\n",
    "C.value = 130\n",
    "\n",
    "obj = cp.Minimize((1/2 * cp.norm(W) + 1/n_samples*C*cp.sum(epi) ))\n",
    "\n",
    "\n",
    "constranit_1 = [cp.multiply(y_train,(x_train@W+bias)) >= (1-epi)]\n",
    "\n",
    "constraint_2 = [epi >= 0]\n",
    "\n",
    "constraints = constranit_1 + constraint_2\n",
    "\n",
    "prob = cp.Problem(obj, constraints)\n",
    "\n",
    "prob.solve()\n",
    "\n",
    "print (prob.status)\n",
    "\n",
    "w = W.value\n",
    "b = bias.value\n",
    "\n",
    "abs_weight = np.concatenate(([b],w))"
   ]
  },
  {
   "cell_type": "code",
   "execution_count": 638,
   "metadata": {},
   "outputs": [
    {
     "data": {
      "text/plain": [
       "array([ 1.32504218,  5.43300321, -0.66773043, -0.59734178, -0.07754136,\n",
       "        4.02410562,  2.18675555,  0.73984986])"
      ]
     },
     "execution_count": 638,
     "metadata": {},
     "output_type": "execute_result"
    }
   ],
   "source": [
    "w\n",
    "\n",
    "# w =  [[ 1.53167533  5.99583022 -1.00913952 -0.73006476 -0.21293898  4.85424676\n",
    "#    2.56394536  0.52695855]]"
   ]
  },
  {
   "cell_type": "code",
   "execution_count": 635,
   "metadata": {},
   "outputs": [
    {
     "data": {
      "text/plain": [
       "array(-6.16357439)"
      ]
     },
     "execution_count": 635,
     "metadata": {},
     "output_type": "execute_result"
    }
   ],
   "source": [
    "b"
   ]
  },
  {
   "cell_type": "code",
   "execution_count": 639,
   "metadata": {},
   "outputs": [
    {
     "data": {
      "text/plain": [
       "array([ 1.32504218,  5.43300321, -0.66773043, -0.59734178, -0.07754136,\n",
       "        4.02410562,  2.18675555,  0.73984986])"
      ]
     },
     "execution_count": 639,
     "metadata": {},
     "output_type": "execute_result"
    }
   ],
   "source": [
    "abs_weight[1:]"
   ]
  },
  {
   "cell_type": "code",
   "execution_count": 75,
   "metadata": {},
   "outputs": [],
   "source": [
    "    \n",
    "def predict_array_svm(x, w, b): \n",
    "    \n",
    "    y = []\n",
    "        \n",
    "    for x1 in x:\n",
    "        results = np.where(np.dot(w, x1) + b >= 0.0 , 1, -1)\n",
    "        y.append(results)\n",
    "            \n",
    "    return np.array(y)\n",
    "        "
   ]
  },
  {
   "cell_type": "code",
   "execution_count": 1352,
   "metadata": {
    "scrolled": true
   },
   "outputs": [
    {
     "data": {
      "text/plain": [
       "array([  10.        ,   11.72102298,   13.73823796,   16.10262028,\n",
       "         18.87391822,   22.12216291,   25.92943797,   30.39195382,\n",
       "         35.6224789 ,   41.75318937,   48.93900918,   57.3615251 ,\n",
       "         67.23357536,   78.80462816,   92.36708572,  108.26367339,\n",
       "        126.89610032,  148.73521073,  174.33288222,  204.33597179,\n",
       "        239.502662  ,  280.72162039,  329.03445623,  385.66204212,\n",
       "        452.03536564,  529.83169063,  621.01694189,  727.8953844 ,\n",
       "        853.16785242, 1000.        ])"
      ]
     },
     "execution_count": 1352,
     "metadata": {},
     "output_type": "execute_result"
    }
   ],
   "source": [
    "np.logspace(1, 3 , 30)"
   ]
  },
  {
   "cell_type": "code",
   "execution_count": 1353,
   "metadata": {},
   "outputs": [
    {
     "data": {
      "text/plain": [
       "array([ 400.        ,  420.68965517,  441.37931034,  462.06896552,\n",
       "        482.75862069,  503.44827586,  524.13793103,  544.82758621,\n",
       "        565.51724138,  586.20689655,  606.89655172,  627.5862069 ,\n",
       "        648.27586207,  668.96551724,  689.65517241,  710.34482759,\n",
       "        731.03448276,  751.72413793,  772.4137931 ,  793.10344828,\n",
       "        813.79310345,  834.48275862,  855.17241379,  875.86206897,\n",
       "        896.55172414,  917.24137931,  937.93103448,  958.62068966,\n",
       "        979.31034483, 1000.        ])"
      ]
     },
     "execution_count": 1353,
     "metadata": {},
     "output_type": "execute_result"
    }
   ],
   "source": [
    "np.linspace(400, 1000, 30)"
   ]
  },
  {
   "cell_type": "code",
   "execution_count": 212,
   "metadata": {
    "scrolled": true
   },
   "outputs": [
    {
     "name": "stdout",
     "output_type": "stream",
     "text": [
      "Accuracy score:  0.7272727272727273\n",
      "Metrics Report\n",
      "              precision    recall  f1-score   support\n",
      "\n",
      "          -1       0.76      0.85      0.80       101\n",
      "           1       0.63      0.49      0.55        53\n",
      "\n",
      "    accuracy                           0.73       154\n",
      "   macro avg       0.70      0.67      0.68       154\n",
      "weighted avg       0.72      0.73      0.72       154\n",
      "\n"
     ]
    }
   ],
   "source": [
    "\n",
    "\n",
    "y = []\n",
    "        \n",
    "for x1 in x_test:\n",
    "    results = np.where(np.dot(w[1:], x1) + w[0] >= 0.0 , 1, -1)\n",
    "    y.append(results)\n",
    "\n",
    "\n",
    "\n",
    "\n",
    "\n",
    "\n",
    "#predicted_svm = predict_array_svm(x_test ,w, b)\n",
    "\n",
    "print('Accuracy score: ', accuracy_score(y_test, y))\n",
    "print('Metrics Report')\n",
    "print(classification_report(y_test, y))"
   ]
  },
  {
   "cell_type": "code",
   "execution_count": 33,
   "metadata": {},
   "outputs": [],
   "source": [
    "def linear_kernel(x1, x2):\n",
    "    return np.dot(x1.T, x2)\n",
    "\n",
    "def polynomial_kernel(x, y, p=4):\n",
    "    return (1 + np.dot(x.T, y)) ** p\n",
    "\n",
    "def gaussian_kernel(x, y, sigma=100):\n",
    "    return np.exp(-linalg.norm(x-y)**2 / (2 * (sigma ** 2)))"
   ]
  },
  {
   "cell_type": "code",
   "execution_count": 1209,
   "metadata": {},
   "outputs": [
    {
     "data": {
      "text/plain": [
       "154"
      ]
     },
     "execution_count": 1209,
     "metadata": {},
     "output_type": "execute_result"
    }
   ],
   "source": [
    "len(x_test)"
   ]
  },
  {
   "cell_type": "code",
   "execution_count": 1306,
   "metadata": {
    "scrolled": true
   },
   "outputs": [
    {
     "name": "stdout",
     "output_type": "stream",
     "text": [
      "optimal\n",
      "[ 1.30000000e+02  4.18854407e+01  1.30000000e+02  1.30000000e+02\n",
      "  8.54642302e+01  2.73091296e-13 -9.69622186e-15 -2.39184981e-14\n",
      "  1.30000000e+02  4.81394753e-14  1.30000000e+02  9.67479539e-14\n",
      "  6.90626876e-15 -5.92206877e-13 -4.51118590e-13 -3.02709259e-14\n",
      "  5.18739193e-13  8.53519952e-14  1.30000000e+02 -4.83015969e-13\n",
      " -5.15728748e-14 -1.73687152e-13  2.79316843e+01 -1.42411498e-13\n",
      "  1.49167192e-13 -2.08149079e-13  1.30000000e+02  6.40954450e+01\n",
      "  9.52848589e+01 -6.59308158e-15  1.30000000e+02  2.52157992e-14\n",
      "  7.80346256e-14  1.30000000e+02  2.89859406e+00  1.30000000e+02\n",
      "  8.24296934e-14  1.53025960e-13  9.22859186e+00  1.30000000e+02\n",
      "  2.63353296e-13 -2.00289478e-14 -2.07294475e-13  1.30000000e+02\n",
      "  1.30000000e+02  2.13399742e+01  4.45083197e+00 -1.44837362e-14\n",
      "  1.30000000e+02  7.84122131e+01 -2.61459103e-14 -1.85144063e-14\n",
      "  8.95304565e-13  9.49662627e+01 -3.59632504e-13 -1.69015445e-13\n",
      " -1.07160290e-13  1.30000000e+02  9.34382971e+01  1.30000000e+02\n",
      "  1.30000000e+02 -4.60266580e-15  1.30000000e+02  7.48722843e-14\n",
      " -6.55806793e-14 -1.21302936e-14  3.89982749e-13  5.38635598e+01\n",
      "  1.75772468e-13  1.30000000e+02 -4.06688093e-13 -5.02197315e-14\n",
      "  7.34757561e+00  8.96712177e-14 -7.28670139e-14  1.30000000e+02\n",
      " -2.10624699e-13  1.85546079e+01  1.30000000e+02  1.03436322e-12\n",
      "  3.59398305e+01  9.70811070e-14  1.30000000e+02  1.30000000e+02\n",
      "  2.10187020e+01 -3.06729604e-15 -1.17643877e-13  4.78954094e-14\n",
      "  1.30000000e+02  7.28608140e-14  1.30000000e+02  1.30000000e+02\n",
      " -6.79271241e-14 -6.67555332e-14  1.00867605e-14 -1.11239251e-13\n",
      "  6.65154579e-14  1.30000000e+02 -1.12233491e-13 -4.00836532e-13\n",
      " -3.77019081e-13  1.45866432e-14  1.41894421e-13  2.90190654e+01\n",
      "  1.30000000e+02 -3.25855762e-15  5.71444215e+01  5.38082610e-14\n",
      "  1.94278171e-13 -1.94687355e-13  2.08297650e-13  3.84550844e-14\n",
      "  1.30000000e+02  1.30000000e+02 -2.34963429e-13  6.48374969e+01\n",
      "  2.18468372e+00  1.30000000e+02  1.30000000e+02 -2.27042820e-14\n",
      " -2.81967109e-13 -2.69152524e-13  1.30000000e+02  1.17873420e+02\n",
      "  1.30000000e+02 -2.06217281e-14 -9.71686264e-14  1.11021237e-14\n",
      "  1.30000000e+02  2.08135885e+01 -5.29816017e-14  1.30000000e+02\n",
      "  6.92942104e+01 -3.41201714e-13 -2.41126639e-13  1.30000000e+02\n",
      " -1.57297328e-13  1.46067587e-14  8.24706079e-15 -1.58929671e-14\n",
      "  1.30000000e+02 -2.25345803e-13 -1.68533132e-13 -5.27819949e-13\n",
      "  4.12412017e-14  1.49207830e+01  2.47859945e-14  4.10029426e-14\n",
      "  3.86306940e-14 -8.57233515e-14 -1.39231577e-14  1.30000000e+02\n",
      "  1.30000000e+02  8.07127588e-13 -4.86253487e-14  4.04561589e-14\n",
      " -8.80003451e-14  1.19625921e+02  4.92564019e-14  2.67075577e-13\n",
      "  3.22912138e+01  1.30000000e+02  1.15623698e-13  1.30000000e+02\n",
      " -2.03349926e-13 -4.91122662e-14 -3.21798733e-13 -1.80471989e-13\n",
      " -3.62554218e-14 -1.59633979e-13  1.27439713e-13  3.47888060e-13\n",
      "  1.30000000e+02 -7.26203073e-14  2.13031957e+00  1.30000000e+02\n",
      "  1.30000000e+02  1.30000000e+02  1.30000000e+02 -5.46814919e-13\n",
      "  1.30000000e+02  1.30000000e+02 -1.89458100e-13 -2.44611875e-14\n",
      "  1.30000000e+02  1.30000000e+02  1.46494585e-13 -1.49024486e-13\n",
      "  4.88935881e-14  6.07247057e-15  2.69998478e+01  1.21431409e-13\n",
      " -4.47589520e-14  6.11649348e+00  1.30000000e+02  1.30000000e+02\n",
      "  3.30701264e+01  5.42526482e+01 -1.44766839e-13  1.82955402e-13\n",
      " -1.43212559e-12 -2.99958918e-13  7.18086676e+01 -7.43155140e-13\n",
      " -2.33151337e-13  5.70838493e+01  1.18925590e-14  1.30000000e+02\n",
      " -9.19665013e-14  1.30000000e+02  7.55446298e+00 -4.26577500e-15\n",
      " -6.44283862e-14  1.30000000e+02  1.26283853e+02  3.39693616e-14\n",
      "  9.98642595e+01 -3.64666797e-13  1.30000000e+02 -4.88668865e-14\n",
      "  1.30000000e+02  1.30000000e+02  1.30000000e+02  1.16361511e+02\n",
      "  1.30000000e+02  1.26147117e-12 -3.11504913e-13  1.30000000e+02\n",
      "  1.53858423e-13  1.30000000e+02  1.00283532e+02 -4.91883620e-13\n",
      "  3.87505623e-14  1.44853368e+01  1.30000000e+02  1.30000000e+02\n",
      "  1.30000000e+02  6.12521868e-15  1.16655735e+01  1.30000000e+02\n",
      " -1.11762248e-13 -1.72575184e-13  1.30000000e+02 -1.32177736e-12\n",
      " -9.35546286e-14 -1.59578466e-13  1.30000000e+02  1.30000000e+02\n",
      "  7.86492553e+01  1.30000000e+02  6.09881610e+01 -2.40929531e-13\n",
      " -7.55673726e-13  5.48816808e+01  2.15536288e-14  1.21088062e-13\n",
      "  4.31407570e+01  1.30000000e+02  3.73542209e+01  4.53714683e-14\n",
      "  1.53421002e-14  1.08255130e-12  1.30000000e+02 -3.07954203e-13\n",
      " -4.79964777e-13  1.30000000e+02 -1.03130008e-12 -5.23336074e-14\n",
      "  5.63017699e-15 -5.63820433e-15 -5.53521068e-14  1.61930193e-14\n",
      "  1.30000000e+02  1.30000000e+02 -3.95814463e-13  3.39448271e-14\n",
      "  9.64413749e-14 -4.15824995e-14  1.79703483e+00 -1.36904568e-13\n",
      " -2.66927172e-13  1.51431486e-13  7.02459548e+01  4.05370559e+01\n",
      "  4.65444858e+01 -2.47406364e-13 -8.77445378e-14 -5.35557954e-14\n",
      " -2.38888903e-13 -8.27056400e-14 -1.41702165e-13  1.30000000e+02\n",
      "  3.82454131e-15 -6.37603814e-14  4.46487172e-13  8.20733209e-15\n",
      " -1.03411327e-13 -1.90515350e-14  4.19509194e+01 -4.16000658e-13\n",
      " -6.65516656e-14 -1.29381718e-13 -4.65822697e-14  4.44932891e-15\n",
      "  1.30000000e+02  7.94021934e+01 -2.69343003e-13  3.31876717e-13\n",
      " -1.03330621e-13  7.20472996e-14 -2.42642878e-13 -1.07044418e-13\n",
      "  1.56661240e-13  1.30000000e+02  1.27371265e+02  7.99627205e+01\n",
      "  9.72000070e+01  1.30000000e+02 -1.02957319e-13  4.34851303e+01\n",
      "  1.59045181e-13  1.30000000e+02 -8.31850540e-14 -2.72367134e-13\n",
      "  1.30000000e+02 -1.88782777e-13 -2.65687828e-13  3.04904731e-14\n",
      "  1.30000000e+02 -2.13894094e-13  1.30000000e+02 -2.69287241e-13\n",
      "  1.30000000e+02  3.79898000e-14 -4.72337697e-14  1.52550628e-13\n",
      " -1.89146932e-13  1.25432319e-12  1.47954372e-13  1.30000000e+02\n",
      " -5.21992903e-13  3.97920993e-13 -5.14858003e-14  1.30000000e+02\n",
      "  1.30000000e+02  3.62798893e+01 -5.01734265e-13  1.30000000e+02\n",
      "  1.55411969e-13 -2.17495333e-13  1.30000000e+02  1.30000000e+02\n",
      "  1.48088277e-14 -4.62388552e-13 -2.20293159e-13  1.30000000e+02\n",
      " -6.13707297e-13  7.27114573e-16  1.30114366e-13 -1.44109516e-13\n",
      "  2.80725229e+01 -1.52877144e-14  1.30000000e+02  1.30000000e+02\n",
      " -9.06905235e-13  1.30000000e+02  7.73973345e+01  2.08722977e-14\n",
      "  5.59951191e+00  1.54778626e-14  6.27511625e-14 -2.25727458e-14\n",
      "  1.30000000e+02  1.52527017e+01 -1.54231043e-14  2.93099027e+01\n",
      "  6.04099006e-13 -8.41069695e-13 -2.31791617e-13 -1.59933413e-13\n",
      " -9.92462111e-14  2.84567779e+01 -2.99459424e-13  7.25013921e+01\n",
      "  1.30000000e+02  1.30000000e+02  3.19997141e-14  1.30000000e+02\n",
      "  5.32379276e-01  1.30000000e+02 -1.17311276e-13 -1.03261619e-13\n",
      "  1.29317004e+01 -2.17939043e-14 -5.41856061e-14  1.30000000e+02\n",
      "  6.23648745e+00 -6.70171725e-14 -6.67315166e-14 -9.33021139e-14\n",
      "  1.59502363e-13  1.30000000e+02 -5.24639653e-13  4.86852559e+01\n",
      "  1.30000000e+02  1.09734308e+01  9.26605757e+01 -1.03919790e-12\n",
      "  4.33509842e-14 -3.62760431e-13  9.40215626e+01  1.31292493e-13\n",
      " -1.34980999e-13  4.04637717e-14  1.30000000e+02  1.15782368e-14\n",
      "  2.37118953e-14  2.17176369e+01 -1.28308966e-14  1.30000000e+02\n",
      " -4.73842570e-13 -3.47483958e-14 -4.90588965e-14  1.30000000e+02\n",
      " -1.77399174e-14 -2.25910246e-13 -2.57385890e-13 -3.69717302e-14\n",
      " -8.54980923e-14  1.81685922e-13  1.30000000e+02  1.30000000e+02\n",
      "  1.30000000e+02  8.55737873e-14 -7.01299716e-15  9.91564399e+01\n",
      " -3.10250716e-13  1.66349774e-13  9.63709146e+01  1.30000000e+02\n",
      " -1.61206721e-14 -8.30098877e-13 -2.41545753e-12  1.00411249e+02\n",
      "  1.01692664e+02  1.14435364e+02 -4.47100791e-14 -3.59570527e-14\n",
      "  1.83505807e-13  1.30000000e+02  4.20645351e+01  6.55724977e+01\n",
      "  1.30000000e+02 -2.04013349e-14  5.29380058e-14  6.70014717e+01\n",
      "  1.23204263e+02 -1.01508700e-13 -1.12039857e-13 -2.97023500e-13\n",
      " -4.10930301e-13  4.97006314e+01  1.56290219e-13  1.40784315e-12\n",
      "  5.99024356e+00  1.30000000e+02  1.22001697e+02 -1.59700386e-13\n",
      "  1.57091236e-14  4.69911162e-15 -2.69719324e-14  1.30000000e+02\n",
      "  1.30000000e+02  5.02446593e+01 -3.57272445e-15  1.30000000e+02\n",
      " -6.95011672e-14  1.30000000e+02 -8.74072617e-16  1.30000000e+02\n",
      "  1.30000000e+02  3.85990685e+01  1.42547039e-12  1.20853298e+00\n",
      " -3.78630996e-13  2.95942837e-14  9.39765406e+01  6.11976087e-14\n",
      "  1.11083495e-13  1.10558214e-13  2.19416224e+00  1.30000000e+02\n",
      "  1.30000000e+02  9.67497392e+01  2.03242481e-13  7.20089853e-14\n",
      "  1.17943210e+02  9.59216281e-15 -1.90889658e-13  1.30000000e+02\n",
      "  1.13132983e+01  1.17388094e+02 -2.24069009e-13  1.30000000e+02\n",
      "  1.30000000e+02  1.33956838e+01  1.30000000e+02 -1.75910206e-14\n",
      "  7.92168638e+01  1.01251241e-12  1.30000000e+02  7.99367485e+00\n",
      "  1.30000000e+02 -1.84104415e-13 -4.61912230e-14 -4.63424627e-13\n",
      " -8.86670145e-14 -2.27536131e-13 -7.19338315e-14 -2.44936813e-13\n",
      "  1.30000000e+02  4.80753345e+00 -9.66958733e-14 -4.99835466e-13\n",
      " -2.97520425e-13  1.23886083e+02  1.30000000e+02 -1.67300676e-14\n",
      " -3.63091660e-14 -1.71690597e-13 -6.12587463e-14 -5.31856264e-14\n",
      "  1.30000000e+02  1.30000000e+02 -6.85880243e-14  1.30000000e+02\n",
      "  1.30000000e+02  1.30000000e+02 -3.78743237e-13 -1.01368114e-13\n",
      " -1.00875628e-13  7.32882798e-14  4.54290180e+01 -6.92322592e-14\n",
      "  2.51185528e-14 -1.93141108e-15  4.55549020e+01  1.73111197e-13\n",
      "  3.37784924e-14 -5.04083454e-14  1.93912434e+01 -1.46600968e-14\n",
      " -1.72569391e-13  4.06151351e+01  1.30000000e+02  2.48098289e+01\n",
      "  2.29986637e+00 -2.72418949e-13 -3.60972859e-13  1.30000000e+02\n",
      "  1.30000000e+02  1.18627229e+02  1.30000000e+02 -4.92587565e-13\n",
      "  2.39152468e+01 -7.40878670e-14 -3.32727042e-13  1.30000000e+02\n",
      "  1.91050979e-14  5.15393303e-14  1.56790135e-12  4.79140604e-14\n",
      "  5.91910392e+01  1.30000000e+02  3.28039897e+01  8.26964163e+01\n",
      "  1.30000000e+02  8.42150101e+01  9.87942155e+01  8.24967352e+01\n",
      " -1.28269320e-12  6.52477667e-14 -5.04643119e-13  2.67689885e-13\n",
      " -3.16094053e-14  3.09518007e+01  1.30000000e+02  5.93441145e-13\n",
      "  2.55902000e+01 -3.21337999e-14  1.23882818e-01 -4.35074132e-14\n",
      "  1.30000000e+02  1.30000000e+02  1.30000000e+02  1.30000000e+02\n",
      "  1.30000000e+02  4.08657348e+01  1.30000000e+02  2.07758407e+01\n",
      " -8.60002256e-14 -3.26712687e-13 -2.05877939e-13  3.04438217e-01\n",
      "  6.01170376e+01  6.87135682e+01 -1.58657456e-13 -2.97329589e-13\n",
      "  1.15559916e-13  1.30000000e+02  4.30430214e-14 -1.14522040e-13\n",
      " -1.75235698e-13 -2.87791731e-13]\n"
     ]
    }
   ],
   "source": [
    "ones = np.ones((614,1))\n",
    "x_train_one = np.hstack((ones,x_train))\n",
    "ones_test = np.ones((154,1))\n",
    "x_test_one = np.hstack((ones_test,x_test))\n",
    "n_samples = len(x_train)\n",
    "n = x_train.shape[1]\n",
    "d = x_train.shape[0]\n",
    "\n",
    "alpha = cp.Variable(d)\n",
    "# #bias = cp.Variable()\n",
    "# epi = cp.Variable(d(n))\n",
    "C = cp.Parameter()\n",
    "C.value = 130\n",
    "\n",
    "\n",
    "K = np.zeros((n_samples, n_samples))\n",
    "for i in range(n_samples):\n",
    "    for j in range(n_samples):\n",
    "        K[i,j] = polynomial_kernel(x_train[i], x_train[j])\n",
    "        \n",
    "        \n",
    "H = np.outer(y_train,y_train) * K      \n",
    "\n",
    "# H = np.dot((y_train[:,None] * x_train) , (y_train[:,None] * x_train).T)\n",
    "\n",
    "# K = y_train[:,None]*x_train\n",
    "# K = np.dot(K,K.T)\n",
    "\n",
    "\n",
    "obj = cp.Minimize(- cp.sum(alpha)+(1/2)*cp.quad_form(alpha,H))\n",
    "\n",
    "constraint_1 = [alpha >= 0]\n",
    "constaint_2 = [alpha <= C]\n",
    "constraint_3 = [(y_train@alpha) == 0]\n",
    "\n",
    "constraint = constraint_1 + constaint_2 + constraint_3\n",
    "\n",
    "prob = cp.Problem(obj, constraint)\n",
    "\n",
    "results = prob.solve()\n",
    "print (prob.status)\n",
    "print(alpha.value)\n"
   ]
  },
  {
   "cell_type": "code",
   "execution_count": 1307,
   "metadata": {
    "scrolled": true
   },
   "outputs": [],
   "source": [
    "aa = alpha.value\n",
    "aa1 = np.ravel(aa)\n",
    "sv = aa1 > 1e-8\n",
    "ind = (np.arange(len(aa1))[sv])\n",
    "aa1 = aa1[sv]\n",
    "sv_x = x_train[sv]\n",
    "sv_y = y_train[sv]\n",
    "\n",
    "w = np.zeros(8)\n",
    "for n in range(len(aa1)):\n",
    "    w += (aa1[n] * sv_y[n] * sv_x[n])\n",
    "\n",
    "f = 0\n",
    "for n in range(aa1.shape[0]):\n",
    "    f += sv_y[n]\n",
    "    f -= np.sum(aa1*sv_y * K[ind[n],sv])\n",
    "                \n",
    "f /= aa1.shape[0]\n",
    "\n",
    "\n",
    "#print (aa1)\n",
    "\n",
    "predicted_k_svm = []\n",
    "for i in range(len(x_test)):\n",
    "    y_predict = 0 \n",
    "    for b, a , c in zip(sv_x, aa1, sv_y):\n",
    "        y_predict += a * c * polynomial_kernel(x_test[i], b)\n",
    "    y_predict = y_predict+f\n",
    "    predicted_k_svm.append(np.sign(y_predict))\n"
   ]
  },
  {
   "cell_type": "code",
   "execution_count": 1309,
   "metadata": {},
   "outputs": [
    {
     "name": "stdout",
     "output_type": "stream",
     "text": [
      "[-1 -1 -1  1  1  1 -1  1 -1 -1 -1 -1  1 -1  1  1  1 -1  1 -1  1  1 -1 -1\n",
      " -1  1 -1  1  1 -1  1 -1  1 -1  1 -1  1  1  1 -1  1 -1 -1  1 -1 -1 -1 -1\n",
      " -1  1  1  1  1 -1 -1  1 -1  1  1 -1 -1  1  1  1  1 -1  1 -1 -1  1  1 -1\n",
      " -1  1  1  1  1  1  1  1  1 -1 -1  1  1 -1  1  1 -1 -1 -1 -1  1  1 -1  1\n",
      "  1 -1 -1  1  1  1 -1 -1  1  1 -1  1  1 -1  1 -1  1  1  1  1  1  1  1 -1\n",
      " -1  1 -1 -1 -1 -1  1  1  1 -1 -1 -1 -1  1  1 -1  1 -1  1 -1 -1 -1  1  1\n",
      "  1 -1 -1  1  1 -1 -1 -1  1 -1 -1  1  1 -1 -1 -1 -1  1  1  1  1 -1 -1 -1\n",
      "  1  1  1  1  1  1 -1  1 -1 -1  1  1 -1 -1  1  1 -1 -1  1 -1  1  1 -1 -1\n",
      " -1 -1 -1  1 -1 -1 -1 -1  1 -1  1 -1 -1 -1 -1  1  1 -1 -1 -1 -1  1  1  1\n",
      "  1 -1  1 -1 -1  1 -1  1 -1 -1  1 -1  1  1  1 -1  1 -1 -1  1  1 -1 -1 -1\n",
      "  1 -1  1  1 -1  1  1  1  1 -1 -1 -1 -1 -1 -1 -1  1 -1 -1  1  1  1 -1  1\n",
      " -1 -1  1  1 -1]\n"
     ]
    }
   ],
   "source": [
    "print(sv_y)"
   ]
  },
  {
   "cell_type": "code",
   "execution_count": 1308,
   "metadata": {},
   "outputs": [
    {
     "name": "stdout",
     "output_type": "stream",
     "text": [
      "              precision    recall  f1-score   support\n",
      "\n",
      "          -1       0.75      0.78      0.77       101\n",
      "           1       0.55      0.51      0.53        53\n",
      "\n",
      "    accuracy                           0.69       154\n",
      "   macro avg       0.65      0.65      0.65       154\n",
      "weighted avg       0.68      0.69      0.69       154\n",
      "\n"
     ]
    }
   ],
   "source": [
    "print(classification_report(y_test, predicted_k_svm))"
   ]
  },
  {
   "cell_type": "code",
   "execution_count": 1254,
   "metadata": {},
   "outputs": [
    {
     "data": {
      "text/plain": [
       "(308,)"
      ]
     },
     "execution_count": 1254,
     "metadata": {},
     "output_type": "execute_result"
    }
   ],
   "source": [
    "aa1.shape"
   ]
  },
  {
   "cell_type": "code",
   "execution_count": 1269,
   "metadata": {},
   "outputs": [
    {
     "data": {
      "text/plain": [
       "array([ 1.52996889,  5.99719254, -1.01078652, -0.72905247, -0.21439858,\n",
       "        4.85616575,  2.55864741,  0.52924043])"
      ]
     },
     "execution_count": 1269,
     "metadata": {},
     "output_type": "execute_result"
    }
   ],
   "source": [
    "w\n",
    "\n",
    "#print(classification_report(y_test, predicted_k_svm))"
   ]
  },
  {
   "cell_type": "code",
   "execution_count": 1271,
   "metadata": {},
   "outputs": [
    {
     "data": {
      "text/plain": [
       "-6.596396653934021"
      ]
     },
     "execution_count": 1271,
     "metadata": {},
     "output_type": "execute_result"
    }
   ],
   "source": [
    "f"
   ]
  },
  {
   "cell_type": "code",
   "execution_count": 935,
   "metadata": {},
   "outputs": [
    {
     "ename": "NameError",
     "evalue": "name 'int32' is not defined",
     "output_type": "error",
     "traceback": [
      "\u001b[0;31m---------------------------------------------------------------------------\u001b[0m",
      "\u001b[0;31mNameError\u001b[0m                                 Traceback (most recent call last)",
      "\u001b[0;32m<ipython-input-935-658164146674>\u001b[0m in \u001b[0;36m<module>\u001b[0;34m\u001b[0m\n\u001b[0;32m----> 1\u001b[0;31m \u001b[0msv_x\u001b[0m\u001b[0;34m.\u001b[0m\u001b[0mastype\u001b[0m\u001b[0;34m(\u001b[0m\u001b[0mint32\u001b[0m\u001b[0;34m)\u001b[0m\u001b[0;34m\u001b[0m\u001b[0;34m\u001b[0m\u001b[0m\n\u001b[0m",
      "\u001b[0;31mNameError\u001b[0m: name 'int32' is not defined"
     ]
    }
   ],
   "source": [
    "sv_x.astype(int32)"
   ]
  },
  {
   "cell_type": "code",
   "execution_count": 901,
   "metadata": {},
   "outputs": [
    {
     "data": {
      "text/plain": [
       "34.43678331926742"
      ]
     },
     "execution_count": 901,
     "metadata": {},
     "output_type": "execute_result"
    }
   ],
   "source": [
    "aa1"
   ]
  },
  {
   "cell_type": "code",
   "execution_count": 888,
   "metadata": {},
   "outputs": [
    {
     "data": {
      "text/plain": [
       "array([ 1.52996889,  5.99719254, -1.01078652, -0.72905247, -0.21439858,\n",
       "        4.85616575,  2.55864741,  0.52924043])"
      ]
     },
     "execution_count": 888,
     "metadata": {},
     "output_type": "execute_result"
    }
   ],
   "source": [
    "# w =  [[ 1.53167533  5.99583022 -1.00913952 -0.73006476 -0.21293898  4.85424676\n",
    "#    2.56394536  0.52695855]]\n",
    "w"
   ]
  },
  {
   "cell_type": "code",
   "execution_count": 842,
   "metadata": {
    "scrolled": true
   },
   "outputs": [
    {
     "data": {
      "text/plain": [
       "array([  0,   1,   2,   3,   4,   5,   6,   7,   8,   9,  10,  11,  12,\n",
       "        13,  14,  15,  16,  17,  18,  19,  20,  21,  22,  23,  24,  25,\n",
       "        26,  27,  28,  29,  30,  31,  32,  33,  34,  35,  36,  37,  38,\n",
       "        39,  40,  41,  42,  43,  44,  45,  46,  47,  48,  49,  50,  51,\n",
       "        52,  53,  54,  55,  56,  57,  58,  59,  60,  61,  62,  63,  64,\n",
       "        65,  66,  67,  68,  69,  70,  71,  72,  73,  74,  75,  76,  77,\n",
       "        78,  79,  80,  81,  82,  83,  84,  85,  86,  87,  88,  89,  90,\n",
       "        91,  92,  93,  94,  95,  96,  97,  98,  99, 100, 101, 102, 103,\n",
       "       104, 105, 106, 107, 108, 109, 110, 111, 112, 113, 114, 115, 116,\n",
       "       117, 118, 119, 120, 121, 122, 123, 124, 125, 126, 127, 128, 129,\n",
       "       130, 131, 132, 133, 134, 135, 136, 137, 138, 139, 140, 141, 142,\n",
       "       143, 144, 145, 146, 147, 148, 149, 150, 151, 152, 153, 154, 155,\n",
       "       156, 157, 158, 159, 160, 161, 162, 163, 164, 165, 166, 167, 168,\n",
       "       169, 170, 171, 172, 173, 174, 175, 176, 177, 178, 179, 180, 181,\n",
       "       182, 183, 184, 185, 186, 187, 188, 189, 190, 191, 192, 193, 194,\n",
       "       195, 196, 197, 198, 199, 200, 201, 202, 203, 204, 205, 206, 207,\n",
       "       208, 209, 210, 211, 212, 213, 214, 215, 216, 217, 218, 219, 220,\n",
       "       221, 222, 223, 224, 225, 226, 227, 228, 229, 230, 231, 232, 233,\n",
       "       234, 235, 236, 237, 238, 239, 240, 241, 242, 243, 244, 245, 246,\n",
       "       247, 248, 249, 250, 251, 252, 253, 254, 255, 256, 257, 258, 259,\n",
       "       260, 261, 262, 263, 264, 265, 266, 267, 268, 269, 270, 271, 272,\n",
       "       273, 274, 275, 276, 277, 278, 279, 280, 281, 282, 283, 284, 285,\n",
       "       286, 287, 288, 289, 290, 291, 292, 293, 294, 295, 296, 297, 298,\n",
       "       299, 300, 301, 302, 303, 304, 305, 306, 307])"
      ]
     },
     "execution_count": 842,
     "metadata": {},
     "output_type": "execute_result"
    }
   ],
   "source": [
    "ind"
   ]
  },
  {
   "cell_type": "code",
   "execution_count": null,
   "metadata": {},
   "outputs": [],
   "source": []
  },
  {
   "cell_type": "code",
   "execution_count": 853,
   "metadata": {},
   "outputs": [
    {
     "data": {
      "text/plain": [
       "(614,)"
      ]
     },
     "execution_count": 853,
     "metadata": {},
     "output_type": "execute_result"
    }
   ],
   "source": [
    "aa1 = aa.reshape(614)\n",
    "aa1.shape"
   ]
  },
  {
   "cell_type": "code",
   "execution_count": 703,
   "metadata": {},
   "outputs": [
    {
     "data": {
      "text/plain": [
       "(614, 614)"
      ]
     },
     "execution_count": 703,
     "metadata": {},
     "output_type": "execute_result"
    }
   ],
   "source": [
    "K.shape"
   ]
  },
  {
   "cell_type": "code",
   "execution_count": 729,
   "metadata": {},
   "outputs": [
    {
     "data": {
      "text/plain": [
       "array([17.9822436])"
      ]
     },
     "execution_count": 729,
     "metadata": {},
     "output_type": "execute_result"
    }
   ],
   "source": [
    "alpha[611].value"
   ]
  },
  {
   "cell_type": "code",
   "execution_count": 731,
   "metadata": {
    "scrolled": true
   },
   "outputs": [
    {
     "name": "stdout",
     "output_type": "stream",
     "text": [
      "[[130.        ]\n",
      " [130.        ]\n",
      " [  0.        ]\n",
      " [130.        ]\n",
      " [130.        ]\n",
      " [  0.        ]\n",
      " [  0.        ]\n",
      " [  0.        ]\n",
      " [130.        ]\n",
      " [  0.        ]\n",
      " [  0.        ]\n",
      " [  0.        ]\n",
      " [  0.        ]\n",
      " [  0.        ]\n",
      " [  0.        ]\n",
      " [  0.        ]\n",
      " [130.        ]\n",
      " [130.        ]\n",
      " [130.        ]\n",
      " [  0.        ]\n",
      " [130.        ]\n",
      " [130.        ]\n",
      " [130.        ]\n",
      " [  0.        ]\n",
      " [  0.        ]\n",
      " [  0.        ]\n",
      " [130.        ]\n",
      " [130.        ]\n",
      " [130.        ]\n",
      " [  0.        ]\n",
      " [130.        ]\n",
      " [  0.        ]\n",
      " [  0.        ]\n",
      " [130.        ]\n",
      " [130.        ]\n",
      " [130.        ]\n",
      " [  0.        ]\n",
      " [  0.        ]\n",
      " [  0.        ]\n",
      " [130.        ]\n",
      " [  0.        ]\n",
      " [  0.        ]\n",
      " [  0.        ]\n",
      " [130.        ]\n",
      " [130.        ]\n",
      " [  0.        ]\n",
      " [  0.        ]\n",
      " [  0.        ]\n",
      " [130.        ]\n",
      " [  0.        ]\n",
      " [130.        ]\n",
      " [130.        ]\n",
      " [  0.        ]\n",
      " [130.        ]\n",
      " [  0.        ]\n",
      " [130.        ]\n",
      " [  0.        ]\n",
      " [130.        ]\n",
      " [130.        ]\n",
      " [130.        ]\n",
      " [130.        ]\n",
      " [  0.        ]\n",
      " [130.        ]\n",
      " [130.        ]\n",
      " [  0.        ]\n",
      " [  0.        ]\n",
      " [  0.        ]\n",
      " [130.        ]\n",
      " [  0.        ]\n",
      " [  0.        ]\n",
      " [  0.        ]\n",
      " [  0.        ]\n",
      " [  0.        ]\n",
      " [  0.        ]\n",
      " [130.        ]\n",
      " [130.        ]\n",
      " [  0.        ]\n",
      " [  0.        ]\n",
      " [130.        ]\n",
      " [130.        ]\n",
      " [130.        ]\n",
      " [  0.        ]\n",
      " [130.        ]\n",
      " [130.        ]\n",
      " [  0.        ]\n",
      " [130.        ]\n",
      " [  0.        ]\n",
      " [130.        ]\n",
      " [130.        ]\n",
      " [  0.        ]\n",
      " [  0.        ]\n",
      " [130.        ]\n",
      " [  0.        ]\n",
      " [130.        ]\n",
      " [130.        ]\n",
      " [  0.        ]\n",
      " [130.        ]\n",
      " [130.        ]\n",
      " [  0.        ]\n",
      " [  0.        ]\n",
      " [  0.        ]\n",
      " [  0.        ]\n",
      " [130.        ]\n",
      " [  0.        ]\n",
      " [130.        ]\n",
      " [  0.        ]\n",
      " [130.        ]\n",
      " [130.        ]\n",
      " [130.        ]\n",
      " [  0.        ]\n",
      " [  0.        ]\n",
      " [130.        ]\n",
      " [  0.        ]\n",
      " [130.        ]\n",
      " [130.        ]\n",
      " [130.        ]\n",
      " [  0.        ]\n",
      " [130.        ]\n",
      " [  0.        ]\n",
      " [  0.        ]\n",
      " [  0.        ]\n",
      " [  0.        ]\n",
      " [130.        ]\n",
      " [130.        ]\n",
      " [130.        ]\n",
      " [130.        ]\n",
      " [  0.        ]\n",
      " [  0.        ]\n",
      " [130.        ]\n",
      " [130.        ]\n",
      " [  0.        ]\n",
      " [130.        ]\n",
      " [130.        ]\n",
      " [  0.        ]\n",
      " [  0.        ]\n",
      " [130.        ]\n",
      " [  0.        ]\n",
      " [  0.        ]\n",
      " [  0.        ]\n",
      " [130.        ]\n",
      " [130.        ]\n",
      " [  0.        ]\n",
      " [  0.        ]\n",
      " [  0.        ]\n",
      " [130.        ]\n",
      " [  0.        ]\n",
      " [  0.        ]\n",
      " [130.        ]\n",
      " [  0.        ]\n",
      " [  0.        ]\n",
      " [  0.        ]\n",
      " [130.        ]\n",
      " [130.        ]\n",
      " [  0.        ]\n",
      " [130.        ]\n",
      " [  0.        ]\n",
      " [  0.        ]\n",
      " [130.        ]\n",
      " [ 45.84714091]\n",
      " [130.        ]\n",
      " [130.        ]\n",
      " [130.        ]\n",
      " [  0.        ]\n",
      " [130.        ]\n",
      " [  0.        ]\n",
      " [  0.        ]\n",
      " [  0.        ]\n",
      " [  0.        ]\n",
      " [  0.        ]\n",
      " [  0.        ]\n",
      " [130.        ]\n",
      " [  0.        ]\n",
      " [130.        ]\n",
      " [  0.        ]\n",
      " [ 54.23760603]\n",
      " [130.        ]\n",
      " [130.        ]\n",
      " [130.        ]\n",
      " [130.        ]\n",
      " [  0.        ]\n",
      " [  0.        ]\n",
      " [130.        ]\n",
      " [  0.        ]\n",
      " [130.        ]\n",
      " [130.        ]\n",
      " [130.        ]\n",
      " [  0.        ]\n",
      " [  0.        ]\n",
      " [130.        ]\n",
      " [  0.        ]\n",
      " [130.        ]\n",
      " [130.        ]\n",
      " [  0.        ]\n",
      " [  0.        ]\n",
      " [130.        ]\n",
      " [130.        ]\n",
      " [  0.        ]\n",
      " [  0.        ]\n",
      " [  0.        ]\n",
      " [  0.        ]\n",
      " [  0.        ]\n",
      " [  0.        ]\n",
      " [  0.        ]\n",
      " [  0.        ]\n",
      " [  0.        ]\n",
      " [130.        ]\n",
      " [  0.        ]\n",
      " [ 18.68593581]\n",
      " [  0.        ]\n",
      " [  0.        ]\n",
      " [130.        ]\n",
      " [  0.        ]\n",
      " [  0.        ]\n",
      " [130.        ]\n",
      " [130.        ]\n",
      " [  0.        ]\n",
      " [130.        ]\n",
      " [  0.        ]\n",
      " [130.        ]\n",
      " [130.        ]\n",
      " [130.        ]\n",
      " [130.        ]\n",
      " [  0.        ]\n",
      " [130.        ]\n",
      " [130.        ]\n",
      " [  0.        ]\n",
      " [  0.        ]\n",
      " [130.        ]\n",
      " [  0.        ]\n",
      " [130.        ]\n",
      " [130.        ]\n",
      " [  0.        ]\n",
      " [130.        ]\n",
      " [130.        ]\n",
      " [130.        ]\n",
      " [130.        ]\n",
      " [130.        ]\n",
      " [  0.        ]\n",
      " [130.        ]\n",
      " [130.        ]\n",
      " [  0.        ]\n",
      " [  0.        ]\n",
      " [130.        ]\n",
      " [  0.        ]\n",
      " [  0.        ]\n",
      " [  0.        ]\n",
      " [130.        ]\n",
      " [130.        ]\n",
      " [130.        ]\n",
      " [130.        ]\n",
      " [130.        ]\n",
      " [  0.        ]\n",
      " [  0.        ]\n",
      " [130.        ]\n",
      " [130.        ]\n",
      " [  0.        ]\n",
      " [130.        ]\n",
      " [130.        ]\n",
      " [130.        ]\n",
      " [  0.        ]\n",
      " [130.        ]\n",
      " [  0.        ]\n",
      " [130.        ]\n",
      " [  0.        ]\n",
      " [  0.        ]\n",
      " [130.        ]\n",
      " [  0.        ]\n",
      " [  0.        ]\n",
      " [  0.        ]\n",
      " [130.        ]\n",
      " [  0.        ]\n",
      " [  0.        ]\n",
      " [130.        ]\n",
      " [130.        ]\n",
      " [130.        ]\n",
      " [130.        ]\n",
      " [  0.        ]\n",
      " [  0.        ]\n",
      " [130.        ]\n",
      " [  0.        ]\n",
      " [  0.        ]\n",
      " [130.        ]\n",
      " [130.        ]\n",
      " [130.        ]\n",
      " [130.        ]\n",
      " [  0.        ]\n",
      " [  0.        ]\n",
      " [  0.        ]\n",
      " [  0.        ]\n",
      " [130.        ]\n",
      " [  0.        ]\n",
      " [130.        ]\n",
      " [  0.        ]\n",
      " [  0.        ]\n",
      " [130.        ]\n",
      " [130.        ]\n",
      " [  0.        ]\n",
      " [130.        ]\n",
      " [130.        ]\n",
      " [  0.        ]\n",
      " [  0.        ]\n",
      " [  0.        ]\n",
      " [  0.        ]\n",
      " [  0.        ]\n",
      " [130.        ]\n",
      " [130.        ]\n",
      " [  0.        ]\n",
      " [  0.        ]\n",
      " [  0.        ]\n",
      " [130.        ]\n",
      " [  0.        ]\n",
      " [  0.        ]\n",
      " [  0.        ]\n",
      " [130.        ]\n",
      " [130.        ]\n",
      " [130.        ]\n",
      " [130.        ]\n",
      " [130.        ]\n",
      " [  0.        ]\n",
      " [130.        ]\n",
      " [  0.        ]\n",
      " [130.        ]\n",
      " [  0.        ]\n",
      " [130.        ]\n",
      " [130.        ]\n",
      " [  0.        ]\n",
      " [  0.        ]\n",
      " [  0.        ]\n",
      " [130.        ]\n",
      " [  0.        ]\n",
      " [130.        ]\n",
      " [  0.        ]\n",
      " [130.        ]\n",
      " [  0.        ]\n",
      " [  0.        ]\n",
      " [ 56.39094858]\n",
      " [  0.        ]\n",
      " [130.        ]\n",
      " [  0.        ]\n",
      " [130.        ]\n",
      " [  0.        ]\n",
      " [  0.        ]\n",
      " [  0.        ]\n",
      " [130.        ]\n",
      " [130.        ]\n",
      " [130.        ]\n",
      " [  0.        ]\n",
      " [130.        ]\n",
      " [130.        ]\n",
      " [  0.        ]\n",
      " [130.        ]\n",
      " [130.        ]\n",
      " [  0.        ]\n",
      " [  0.        ]\n",
      " [  0.        ]\n",
      " [130.        ]\n",
      " [  0.        ]\n",
      " [130.        ]\n",
      " [  0.        ]\n",
      " [  0.        ]\n",
      " [130.        ]\n",
      " [  0.        ]\n",
      " [130.        ]\n",
      " [130.        ]\n",
      " [  0.        ]\n",
      " [130.        ]\n",
      " [  0.        ]\n",
      " [  0.        ]\n",
      " [130.        ]\n",
      " [  0.        ]\n",
      " [  0.        ]\n",
      " [  0.        ]\n",
      " [130.        ]\n",
      " [130.        ]\n",
      " [130.        ]\n",
      " [130.        ]\n",
      " [  0.        ]\n",
      " [  0.        ]\n",
      " [  0.        ]\n",
      " [130.        ]\n",
      " [130.        ]\n",
      " [  0.        ]\n",
      " [  0.        ]\n",
      " [130.        ]\n",
      " [  0.        ]\n",
      " [130.        ]\n",
      " [  0.        ]\n",
      " [130.        ]\n",
      " [130.        ]\n",
      " [130.        ]\n",
      " [130.        ]\n",
      " [130.        ]\n",
      " [130.        ]\n",
      " [  0.        ]\n",
      " [130.        ]\n",
      " [130.        ]\n",
      " [  0.        ]\n",
      " [  0.        ]\n",
      " [  0.        ]\n",
      " [  0.        ]\n",
      " [130.        ]\n",
      " [130.        ]\n",
      " [  0.        ]\n",
      " [130.        ]\n",
      " [130.        ]\n",
      " [130.        ]\n",
      " [130.        ]\n",
      " [  0.        ]\n",
      " [  0.        ]\n",
      " [  0.        ]\n",
      " [130.        ]\n",
      " [130.        ]\n",
      " [  0.        ]\n",
      " [130.        ]\n",
      " [130.        ]\n",
      " [  0.        ]\n",
      " [130.        ]\n",
      " [  0.        ]\n",
      " [  0.        ]\n",
      " [130.        ]\n",
      " [  0.        ]\n",
      " [  0.        ]\n",
      " [  0.        ]\n",
      " [130.        ]\n",
      " [  0.        ]\n",
      " [  0.        ]\n",
      " [  0.        ]\n",
      " [130.        ]\n",
      " [  0.        ]\n",
      " [  0.        ]\n",
      " [130.        ]\n",
      " [130.        ]\n",
      " [  0.        ]\n",
      " [  0.        ]\n",
      " [  0.        ]\n",
      " [130.        ]\n",
      " [  0.        ]\n",
      " [  0.        ]\n",
      " [130.        ]\n",
      " [130.        ]\n",
      " [  0.        ]\n",
      " [  0.        ]\n",
      " [  0.        ]\n",
      " [130.        ]\n",
      " [  0.        ]\n",
      " [130.        ]\n",
      " [130.        ]\n",
      " [  0.        ]\n",
      " [130.        ]\n",
      " [130.        ]\n",
      " [  0.        ]\n",
      " [130.        ]\n",
      " [130.        ]\n",
      " [  0.        ]\n",
      " [130.        ]\n",
      " [130.        ]\n",
      " [  0.        ]\n",
      " [  0.        ]\n",
      " [  0.        ]\n",
      " [  0.        ]\n",
      " [  0.        ]\n",
      " [130.        ]\n",
      " [  0.        ]\n",
      " [  0.        ]\n",
      " [  0.        ]\n",
      " [130.        ]\n",
      " [130.        ]\n",
      " [  0.        ]\n",
      " [  0.        ]\n",
      " [  0.        ]\n",
      " [  0.        ]\n",
      " [  0.        ]\n",
      " [130.        ]\n",
      " [130.        ]\n",
      " [  0.        ]\n",
      " [130.        ]\n",
      " [  0.        ]\n",
      " [130.        ]\n",
      " [  0.        ]\n",
      " [130.        ]\n",
      " [130.        ]\n",
      " [130.        ]\n",
      " [130.        ]\n",
      " [130.        ]\n",
      " [  0.        ]\n",
      " [  0.        ]\n",
      " [130.        ]\n",
      " [  0.        ]\n",
      " [  0.        ]\n",
      " [  0.        ]\n",
      " [130.        ]\n",
      " [130.        ]\n",
      " [130.        ]\n",
      " [130.        ]\n",
      " [130.        ]\n",
      " [  0.        ]\n",
      " [130.        ]\n",
      " [  0.        ]\n",
      " [  0.        ]\n",
      " [130.        ]\n",
      " [130.        ]\n",
      " [130.        ]\n",
      " [  0.        ]\n",
      " [130.        ]\n",
      " [130.        ]\n",
      " [130.        ]\n",
      " [130.        ]\n",
      " [ 35.00388478]\n",
      " [130.        ]\n",
      " [130.        ]\n",
      " [130.        ]\n",
      " [  0.        ]\n",
      " [130.        ]\n",
      " [  0.        ]\n",
      " [  0.        ]\n",
      " [  0.        ]\n",
      " [  0.        ]\n",
      " [  0.        ]\n",
      " [  0.        ]\n",
      " [  0.        ]\n",
      " [130.        ]\n",
      " [  0.        ]\n",
      " [  0.        ]\n",
      " [  0.        ]\n",
      " [  0.        ]\n",
      " [  0.        ]\n",
      " [130.        ]\n",
      " [  0.        ]\n",
      " [130.        ]\n",
      " [  0.        ]\n",
      " [  0.        ]\n",
      " [  0.        ]\n",
      " [130.        ]\n",
      " [130.        ]\n",
      " [130.        ]\n",
      " [130.        ]\n",
      " [130.        ]\n",
      " [130.        ]\n",
      " [  0.        ]\n",
      " [  0.        ]\n",
      " [130.        ]\n",
      " [130.        ]\n",
      " [130.        ]\n",
      " [  0.        ]\n",
      " [130.        ]\n",
      " [130.        ]\n",
      " [128.53341059]\n",
      " [130.        ]\n",
      " [130.        ]\n",
      " [130.        ]\n",
      " [130.        ]\n",
      " [  0.        ]\n",
      " [ 41.97685329]\n",
      " [130.        ]\n",
      " [130.        ]\n",
      " [  0.        ]\n",
      " [  0.        ]\n",
      " [  0.        ]\n",
      " [  0.        ]\n",
      " [130.        ]\n",
      " [130.        ]\n",
      " [130.        ]\n",
      " [130.        ]\n",
      " [  0.        ]\n",
      " [130.        ]\n",
      " [  0.        ]\n",
      " [  0.        ]\n",
      " [130.        ]\n",
      " [130.        ]\n",
      " [130.        ]\n",
      " [  0.        ]\n",
      " [  0.        ]\n",
      " [130.        ]\n",
      " [130.        ]\n",
      " [  0.        ]\n",
      " [130.        ]\n",
      " [130.        ]\n",
      " [130.        ]\n",
      " [  0.        ]\n",
      " [  0.        ]\n",
      " [  0.        ]\n",
      " [  0.        ]\n",
      " [130.        ]\n",
      " [130.        ]\n",
      " [130.        ]\n",
      " [  0.        ]\n",
      " [  0.        ]\n",
      " [  0.        ]\n",
      " [130.        ]\n",
      " [ 38.85723332]\n",
      " [  0.        ]\n",
      " [  0.        ]\n",
      " [130.        ]\n",
      " [130.        ]\n",
      " [130.        ]\n",
      " [130.        ]\n",
      " [130.        ]\n",
      " [130.        ]\n",
      " [130.        ]\n",
      " [  0.        ]\n",
      " [130.        ]\n",
      " [  0.        ]\n",
      " [  0.        ]\n",
      " [130.        ]\n",
      " [130.        ]\n",
      " [130.        ]\n",
      " [  0.        ]\n",
      " [  0.        ]\n",
      " [  0.        ]\n",
      " [130.        ]\n",
      " [  0.        ]\n",
      " [ 17.9822436 ]\n",
      " [  0.        ]\n",
      " [  0.        ]]\n"
     ]
    }
   ],
   "source": [
    "aaa = alpha.value\n",
    "aaa = np.where(aaa>1e-5 , aaa, 0)\n",
    "#aaa = np.where(aaa>98 , 0, aaa)\n",
    "\n",
    "\n",
    "print(aaa)"
   ]
  },
  {
   "cell_type": "code",
   "execution_count": 432,
   "metadata": {
    "scrolled": false
   },
   "outputs": [
    {
     "data": {
      "text/plain": [
       "308"
      ]
     },
     "execution_count": 432,
     "metadata": {},
     "output_type": "execute_result"
    }
   ],
   "source": [
    "ann = []\n",
    "for i in aaa:\n",
    "    if i != 0:\n",
    "        ans = i\n",
    "        ann.append(ans)\n",
    "len(ann)"
   ]
  },
  {
   "cell_type": "code",
   "execution_count": 713,
   "metadata": {},
   "outputs": [
    {
     "name": "stdout",
     "output_type": "stream",
     "text": [
      "[[-130.        -130.        -130.        ... -130.        -130.\n",
      "  -130.       ]\n",
      " [-130.        -130.        -130.        ... -130.        -130.\n",
      "  -130.       ]\n",
      " [  -0.          -0.          -0.        ...   -0.          -0.\n",
      "    -0.       ]\n",
      " ...\n",
      " [ -17.9822436  -17.9822436  -17.9822436 ...  -17.9822436  -17.9822436\n",
      "   -17.9822436]\n",
      " [  -0.          -0.          -0.        ...   -0.          -0.\n",
      "    -0.       ]\n",
      " [  -0.          -0.          -0.        ...   -0.          -0.\n",
      "    -0.       ]]\n"
     ]
    }
   ],
   "source": [
    "print(aaa * y_train)"
   ]
  },
  {
   "cell_type": "code",
   "execution_count": 732,
   "metadata": {},
   "outputs": [],
   "source": [
    "w_dual = ((y_train.T * aaa.T) @ x_train)"
   ]
  },
  {
   "cell_type": "code",
   "execution_count": 733,
   "metadata": {
    "scrolled": true
   },
   "outputs": [
    {
     "name": "stdout",
     "output_type": "stream",
     "text": [
      "[ 1.52996889  5.99719254 -1.01078652 -0.72905247 -0.21439858  4.85616575\n",
      "  2.55864741  0.52924043]\n"
     ]
    }
   ],
   "source": [
    "print(w_dual[0])"
   ]
  },
  {
   "cell_type": "code",
   "execution_count": 716,
   "metadata": {},
   "outputs": [
    {
     "data": {
      "text/plain": [
       "array([0.23529412, 0.73366834, 0.69672131, 0.27272727, 0.11820331,\n",
       "       0.43070045, 0.04739539, 0.1       ])"
      ]
     },
     "execution_count": 716,
     "metadata": {},
     "output_type": "execute_result"
    }
   ],
   "source": [
    "x_train[1]"
   ]
  },
  {
   "cell_type": "code",
   "execution_count": 726,
   "metadata": {},
   "outputs": [],
   "source": [
    "#bias_dual = y_train[2] *(w_dual[0].T @ x_train[2].T)\n",
    "\n",
    "aaa = np.where(aaa>130-0.1 , 0, aaa)\n",
    "\n",
    "S = (aaa > 0).flatten()\n",
    "b = y_train[S] - np.dot(x_train[S], w_dual[0])"
   ]
  },
  {
   "cell_type": "code",
   "execution_count": 727,
   "metadata": {},
   "outputs": [
    {
     "data": {
      "text/plain": [
       "array([-6.76812827, -6.76812827, -6.76812827, -6.76812827, -6.76812827,\n",
       "       -6.76812827, -6.76812827, -6.76812827, -6.76812827])"
      ]
     },
     "execution_count": 727,
     "metadata": {},
     "output_type": "execute_result"
    }
   ],
   "source": [
    "b"
   ]
  },
  {
   "cell_type": "code",
   "execution_count": 734,
   "metadata": {},
   "outputs": [],
   "source": [
    "weight_w_bias = np.concatenate(([b[0]],w_dual[0]))"
   ]
  },
  {
   "cell_type": "code",
   "execution_count": 735,
   "metadata": {},
   "outputs": [
    {
     "data": {
      "text/plain": [
       "array([-6.76812827,  1.52996889,  5.99719254, -1.01078652, -0.72905247,\n",
       "       -0.21439858,  4.85616575,  2.55864741,  0.52924043])"
      ]
     },
     "execution_count": 735,
     "metadata": {},
     "output_type": "execute_result"
    }
   ],
   "source": [
    "weight_w_bias"
   ]
  },
  {
   "cell_type": "code",
   "execution_count": 240,
   "metadata": {},
   "outputs": [
    {
     "data": {
      "text/plain": [
       "(614, 614)"
      ]
     },
     "execution_count": 240,
     "metadata": {},
     "output_type": "execute_result"
    }
   ],
   "source": [
    "K.shape"
   ]
  },
  {
   "cell_type": "code",
   "execution_count": 1224,
   "metadata": {},
   "outputs": [
    {
     "name": "stdout",
     "output_type": "stream",
     "text": [
      "w =  [[ 1.53167533  5.99583022 -1.00913952 -0.73006476 -0.21293898  4.85424676\n",
      "   2.56394536  0.52695855]]\n",
      "b =  [-6.76750171]\n",
      "Indices of support vectors =  [  0   1  16  21  22  26  27  28  33  39  44  48  50  51  53  55  58  62\n",
      "  75  78  85  91  94  96 102 104 106 111 113 114 122 123 128 132 135 139\n",
      " 154 157 158 159 161 163 175 176 188 191 194 195 210 213 214 219 220 223\n",
      " 224 233 234 238 246 248 265 272 274 275 278 282 283 284 294 295 305 309\n",
      " 313 314 315 319 324 330 332 335 337 339 347 348 350 360 362 363 368 374\n",
      " 375 379 383 392 395 400 411 413 414 416 419 423 427 435 443 448 449 452\n",
      " 454 455 461 466 472 473 477 480 481 483 486 492 493 494 496 499 505 507\n",
      " 508 510 512 532 534 537 540 541 545 546 547 549 550 559 561 567 569 576\n",
      " 577 582 588 592 593 597 600 603 609 611   3   4   8  17  18  20  30  34\n",
      "  35  43  57  59  60  63  67  74  79  80  82  83  87  88  93  97 107 108\n",
      " 115 117 124 125 129 131 140 144 147 151 152 160 170 172 174 177 178 181\n",
      " 183 184 185 190 205 207 216 218 221 227 229 230 232 235 236 239 242 247\n",
      " 249 250 253 254 256 257 258 260 262 269 273 281 289 291 297 298 304 316\n",
      " 317 321 323 328 343 344 345 351 355 357 365 372 373 380 385 387 388 389\n",
      " 390 391 394 401 403 404 405 406 410 430 431 438 439 445 446 451 465 475\n",
      " 479 482 490 491 500 501 503 504 506 509 520 526 528 533 535 536 542 544\n",
      " 548 552 553 554 560 562 564 568 572 573 575 583 584 589 594 595 596 598\n",
      " 604 605]\n",
      "Support vectors =  [[0.58823529 0.81407035 0.68852459 ... 0.41281669 0.04440649 0.55      ]\n",
      " [0.23529412 0.73366834 0.69672131 ... 0.43070045 0.04739539 0.1       ]\n",
      " [0.11764706 0.42713568 0.53278689 ... 0.59016393 0.36379163 0.1       ]\n",
      " ...\n",
      " [0.23529412 0.67336683 0.59016393 ... 0.35469449 0.08497011 0.65      ]\n",
      " [0.11764706 0.77889447 0.42622951 ... 0.57675112 0.06917165 0.06666667]\n",
      " [0.         0.73366834 0.57377049 ... 0.56482861 0.10930828 0.11666667]]\n",
      "Number of support vectors for each class =  [154 154]\n",
      "Coefficients of the support vector in the decision function =  [[130.         130.         130.         130.         130.\n",
      "  130.         130.         130.         130.         130.\n",
      "  130.         130.         130.         130.         130.\n",
      "  130.         130.         130.         130.         130.\n",
      "  130.         130.         130.         130.         130.\n",
      "  130.         130.         130.         130.         130.\n",
      "  130.         130.         130.         130.         130.\n",
      "  130.         130.         130.          45.86352655 130.\n",
      "  130.         130.         130.         130.         130.\n",
      "  130.         130.         130.         130.         130.\n",
      "  130.         130.         130.         130.         130.\n",
      "  130.         130.         130.         130.         130.\n",
      "  130.         130.         130.         130.         130.\n",
      "  130.         130.         130.         130.         130.\n",
      "  130.         130.         130.         130.         130.\n",
      "  130.         130.         130.         130.          56.36975113\n",
      "  130.         130.         130.         130.         130.\n",
      "  130.         130.         130.         130.         130.\n",
      "  130.         130.         130.         130.         130.\n",
      "  130.         130.         130.         130.         130.\n",
      "  130.         130.         130.         130.         130.\n",
      "  130.         130.         130.         130.         130.\n",
      "  130.         130.         130.         130.         130.\n",
      "  130.         130.         130.         130.         130.\n",
      "  130.         130.         130.         130.         130.\n",
      "   35.02442237 130.         130.         130.         130.\n",
      "  130.         130.         130.         130.         130.\n",
      "  128.54718134 130.         130.         130.         130.\n",
      "  130.         130.         130.         130.         130.\n",
      "  130.         130.         130.         130.         130.\n",
      "  130.         130.         130.          17.95086207 130.\n",
      "  130.         130.         130.         130.         130.\n",
      "  130.         130.         130.         130.         130.\n",
      "  130.         130.         130.         130.         130.\n",
      "  130.         130.         130.         130.         130.\n",
      "  130.         130.         130.         130.         130.\n",
      "  130.         130.         130.         130.         130.\n",
      "  130.         130.         130.         130.         130.\n",
      "  130.         130.         130.         130.          54.21726567\n",
      "  130.         130.         130.         130.         130.\n",
      "  130.         130.         130.          18.66919397 130.\n",
      "  130.         130.         130.         130.         130.\n",
      "  130.         130.         130.         130.         130.\n",
      "  130.         130.         130.         130.         130.\n",
      "  130.         130.         130.         130.         130.\n",
      "  130.         130.         130.         130.         130.\n",
      "  130.         130.         130.         130.         130.\n",
      "  130.         130.         130.         130.         130.\n",
      "  130.         130.         130.         130.         130.\n",
      "  130.         130.         130.         130.         130.\n",
      "  130.         130.         130.         130.         130.\n",
      "  130.         130.         130.         130.         130.\n",
      "  130.         130.         130.         130.         130.\n",
      "  130.         130.         130.         130.         130.\n",
      "  130.         130.         130.         130.         130.\n",
      "  130.         130.         130.         130.         130.\n",
      "  130.         130.         130.         130.         130.\n",
      "  130.         130.         130.         130.          41.98121577\n",
      "  130.         130.         130.         130.         130.\n",
      "  130.         130.         130.         130.         130.\n",
      "  130.          38.88806806 130.         130.         130.\n",
      "  130.         130.         130.        ]]\n",
      "              precision    recall  f1-score   support\n",
      "\n",
      "          -1       0.78      0.83      0.80       101\n",
      "           1       0.63      0.55      0.59        53\n",
      "\n",
      "    accuracy                           0.73       154\n",
      "   macro avg       0.70      0.69      0.69       154\n",
      "weighted avg       0.73      0.73      0.73       154\n",
      "\n"
     ]
    }
   ],
   "source": [
    "from sklearn.svm import SVC\n",
    "\n",
    "X_t = df.drop(\"Outcome\", axis = 1)\n",
    "Y_t = df[\"Outcome\"].to_numpy()\n",
    "Y_t = np.where(Y_t == 0, -1, 1)\n",
    "\n",
    "X_scaled_t = mmscaler.fit_transform(X_t)\n",
    "\n",
    "x_train_t, x_test_t, y_train_t, y_test_t = train_test_split(X_scaled_t, Y_t, test_size=0.2, random_state=100)\n",
    "\n",
    "\n",
    "\n",
    "clf = SVC(C = 130, kernel = 'linear')\n",
    "clf.fit(x_train_t, y_train_t) \n",
    "predicted_svm_sk = clf.predict(x_test_t)\n",
    "print('w = ',clf.coef_)\n",
    "print('b = ',clf.intercept_)\n",
    "print('Indices of support vectors = ', clf.support_)\n",
    "print('Support vectors = ', clf.support_vectors_)\n",
    "print('Number of support vectors for each class = ', clf.n_support_)\n",
    "print('Coefficients of the support vector in the decision function = ', np.abs(clf.dual_coef_))\n",
    "print(classification_report(y_test_t, predicted_svm_sk))\n"
   ]
  },
  {
   "cell_type": "code",
   "execution_count": null,
   "metadata": {},
   "outputs": [],
   "source": []
  }
 ],
 "metadata": {
  "kernelspec": {
   "display_name": "Python 3",
   "language": "python",
   "name": "python3"
  },
  "language_info": {
   "codemirror_mode": {
    "name": "ipython",
    "version": 3
   },
   "file_extension": ".py",
   "mimetype": "text/x-python",
   "name": "python",
   "nbconvert_exporter": "python",
   "pygments_lexer": "ipython3",
   "version": "3.7.7"
  }
 },
 "nbformat": 4,
 "nbformat_minor": 4
}
