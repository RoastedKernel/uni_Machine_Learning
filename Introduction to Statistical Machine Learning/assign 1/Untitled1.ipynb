{
 "cells": [
  {
   "cell_type": "code",
   "execution_count": 1,
   "metadata": {},
   "outputs": [
    {
     "name": "stdout",
     "output_type": "stream",
     "text": [
      "[[3.35225294e-01]\n",
      " [6.64774706e-01]\n",
      " [6.15044588e-24]\n",
      " [2.53888529e-23]\n",
      " [6.64774706e-01]\n",
      " [7.28760498e-23]\n",
      " [0.00000000e+00]\n",
      " [3.35225294e-01]]\n"
     ]
    }
   ],
   "source": [
    "import numpy as np\n",
    "import cvxpy as cp\n",
    "x = np.array([[-1,-1], [0,0],[1,0],[0,-1],[-1,1],[-2,1],[-1,2],[-2,0]]) # training samples\n",
    "y = np.array([[-1],[-1],[-1],[-1],[1],[1],[1],[1]]) # training labels\n",
    "m = len(y) # # of samples\n",
    "d = x.shape[1] # dim of samples\n",
    "a = cp.Variable(shape=(m,1),pos=True) # lagrange multiplier\n",
    "C = 1 # trade-off parameter\n",
    "G = np.matmul(y*x, (y*x).T) # Gram matrix\n",
    "objective = cp.Maximize(cp.sum(a)-(1/2)*cp.quad_form(a, G))\n",
    "constraints = [a <= C, cp.sum(cp.multiply(a,y)) == 0] # box constraint\n",
    "prob = cp.Problem(objective, constraints)\n",
    "result = prob.solve()\n",
    "print(a.value)"
   ]
  },
  {
   "cell_type": "code",
   "execution_count": null,
   "metadata": {},
   "outputs": [],
   "source": []
  }
 ],
 "metadata": {
  "kernelspec": {
   "display_name": "Python 3",
   "language": "python",
   "name": "python3"
  },
  "language_info": {
   "codemirror_mode": {
    "name": "ipython",
    "version": 3
   },
   "file_extension": ".py",
   "mimetype": "text/x-python",
   "name": "python",
   "nbconvert_exporter": "python",
   "pygments_lexer": "ipython3",
   "version": "3.7.7"
  }
 },
 "nbformat": 4,
 "nbformat_minor": 4
}
