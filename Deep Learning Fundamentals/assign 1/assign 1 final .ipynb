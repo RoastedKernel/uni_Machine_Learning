{
 "cells": [
  {
   "cell_type": "code",
   "execution_count": 209,
   "metadata": {},
   "outputs": [],
   "source": [
    "#Common imports\n",
    "import numpy as np\n",
    "import pandas as pd\n",
    "import seaborn as sns\n",
    "from sklearn.model_selection import train_test_split\n",
    "from sklearn.metrics import accuracy_score\n",
    "from sklearn.metrics import precision_score\n",
    "from sklearn.metrics import f1_score\n",
    "from sklearn.metrics import classification_report\n",
    "import cvxpy as cp\n",
    "from numpy import linalg\n",
    "from sklearn.preprocessing import MinMaxScaler\n",
    "from sklearn.preprocessing import StandardScaler\n",
    "from sklearn.datasets import make_moons, make_circles, make_classification\n",
    "from mlxtend.plotting import plot_decision_regions\n",
    "from sklearn.svm import SVC\n",
    "from sklearn.model_selection import GridSearchCV\n",
    "from sklearn.model_selection import RepeatedStratifiedKFold\n",
    "import mosek\n",
    "\n",
    "# To plot pretty figures\n",
    "%matplotlib inline\n",
    "import matplotlib as mpl\n",
    "import matplotlib.pyplot as plt\n",
    "mpl.rc('axes', labelsize=14)\n",
    "mpl.rc('xtick', labelsize=12)\n",
    "mpl.rc('ytick', labelsize=12)"
   ]
  },
  {
   "cell_type": "code",
   "execution_count": 2,
   "metadata": {},
   "outputs": [
    {
     "data": {
      "text/plain": [
       "['CVXOPT', 'ECOS', 'GLPK', 'GLPK_MI', 'MOSEK', 'OSQP', 'SCS']"
      ]
     },
     "execution_count": 2,
     "metadata": {},
     "output_type": "execute_result"
    }
   ],
   "source": [
    "cp.installed_solvers()"
   ]
  },
  {
   "cell_type": "code",
   "execution_count": 101,
   "metadata": {},
   "outputs": [],
   "source": [
    "df = pd.read_csv(\"diabetes.csv\")"
   ]
  },
  {
   "cell_type": "code",
   "execution_count": 107,
   "metadata": {},
   "outputs": [],
   "source": [
    "X = df.drop(\"Outcome\", axis = 1)\n",
    "Y = df[\"Outcome\"].to_numpy()\n",
    "Y = np.where(Y == 0, -1, 1)\n",
    "\n",
    "mm_scaler = MinMaxScaler()\n",
    "X_scaled = mm_scaler.fit_transform(X)\n",
    "\n",
    "x_train, x_test, y_train, y_test = train_test_split(X_scaled, Y, test_size=0.2, random_state=100)\n"
   ]
  },
  {
   "cell_type": "code",
   "execution_count": 184,
   "metadata": {},
   "outputs": [],
   "source": [
    "X_class, y_class = make_classification(n_features=2, n_redundant=0, n_informative=2,\n",
    "                           random_state=1, n_clusters_per_class=1)\n",
    "\n",
    "y_class = np.where(y_class == 0, -1, 1)\n",
    "\n",
    "X_circles, y_circles = make_circles(n_samples=100, noise=0.2, factor=0.5, random_state=1)\n",
    "\n",
    "y_circles = np.where(y_circles == 0, -1, 1)\n",
    "\n",
    "\n",
    "X_moons, y_moons = make_moons(n_samples=100, noise=0.3, random_state=0)\n",
    "\n",
    "y_moons = np.where(y_moons == 0, -1, 1)\n"
   ]
  },
  {
   "cell_type": "code",
   "execution_count": 6,
   "metadata": {},
   "outputs": [
    {
     "data": {
      "text/plain": [
       "<matplotlib.collections.PathCollection at 0x7f422fa59410>"
      ]
     },
     "execution_count": 6,
     "metadata": {},
     "output_type": "execute_result"
    },
    {
     "data": {
      "image/png": "[encoded data removed]",
      "text/plain": [
       "<Figure size 432x288 with 1 Axes>"
      ]
     },
     "metadata": {
      "needs_background": "light"
     },
     "output_type": "display_data"
    }
   ],
   "source": [
    "plt.scatter(X_moons[0:,0], X_moons[0:,1])"
   ]
  },
  {
   "cell_type": "code",
   "execution_count": 234,
   "metadata": {},
   "outputs": [],
   "source": [
    "class Perceptron:\n",
    "    \n",
    "    def __init__ (self, niter = 10, LR = 10):\n",
    "        \n",
    "        self.niter = niter \n",
    "        self.LR = LR \n",
    "        \n",
    "        \n",
    "    def get_params(self, deep=True):\n",
    "        return {\"niter\" : self.niter, \"LR\" : self.LR}\n",
    "\n",
    "    def set_params(self, **parameters):\n",
    "        for parameter, value in parameters.items():\n",
    "            setattr(self, parameter, value)\n",
    "        return self\n",
    "        \n",
    "        \n",
    "    def fit (self, x, y ):\n",
    "        self.m = []\n",
    "        accuracy = np.ones(self.niter)\n",
    "        max_accuracy = 0\n",
    "        \n",
    "        self.weight = np.ones(1 + x.shape[1])\n",
    "        \n",
    "        for i in range(self.niter):\n",
    "            #m_count = 0\n",
    "            for x_row , y_row in zip(x,y):\n",
    "                loss = self.LR * (y_row - self.activation_out(x_row))\n",
    "                self.weight[1:] += self.LR * x_row.dot(loss)\n",
    "                self.weight[0] += self.LR * loss\n",
    "                #m_count += int((y_row *(self.activation_out(x_row))) >= 1.0)\n",
    "                #m_count += int(loss != 0.0)\n",
    "            m_count = ((y - self.activation_out(x))**2).sum() / 2.0\n",
    "            self.m.append(m_count)\n",
    "            \n",
    "            accuracy[i] = accuracy_score(self.predict(x), y)\n",
    "            if (accuracy[i] > max_accuracy):\n",
    "                max_accuracy = accuracy[i]\n",
    "                chkptw = self.weight[1:]\n",
    "                chkptb = self.weight[0]\n",
    "                \n",
    "        self.weight[1:] = chkptw\n",
    "        self.weight[0] = chkptb\n",
    "                \n",
    "            \n",
    "        return self\n",
    "                \n",
    "                \n",
    "                \n",
    "                \n",
    "    def activation_out(self, x):\n",
    "        \n",
    "        #percep = np.dot(self.weight[1:], x) + self.weight[0]\n",
    "#         np.where(np.dot(self.weight[1:], x) + self.weight[0] >= 0.0 , 1, -1)\n",
    "        \n",
    "        return np.dot(x , self.weight[1:] ) + self.weight[0]\n",
    "    \n",
    "    def predict(self, x): \n",
    "        \n",
    "        y = []\n",
    "        \n",
    "        for x1 in x:\n",
    "            \n",
    "            results = np.where(self.activation_out(x1) >= 0.0 , 1, -1)\n",
    "            y.append(results)\n",
    "            \n",
    "        return np.array(y)\n",
    "    \n",
    "    def show_weights (self):\n",
    "        \n",
    "        print (\"W = \", self.weight[1:])\n",
    "        print(\"\\n\")\n",
    "        \n",
    "        print(\"bias = \", self.weight[0])"
   ]
  },
  {
   "cell_type": "code",
   "execution_count": 154,
   "metadata": {},
   "outputs": [],
   "source": [
    "class SVM_PRIMAL:\n",
    "    \n",
    "    \n",
    "    def __init__ (self, regularisation_para_C =1 ):\n",
    "        \n",
    "        self.regularisation_para_C = regularisation_para_C \n",
    "        \n",
    "        \n",
    "        \n",
    "    def get_params(self, deep=True):\n",
    "        return {\"regularisation_para_C\" : self.regularisation_para_C}\n",
    "\n",
    "    def set_params(self, **parameters):\n",
    "        for parameter, value in parameters.items():\n",
    "            setattr(self, parameter, value)\n",
    "        return self\n",
    "    \n",
    "    \n",
    "    def fit (self, data_train, label_train):\n",
    "        \n",
    "        n_samples = len(data_train)\n",
    "        n = data_train.shape[0]\n",
    "        d = data_train.shape[1]\n",
    "\n",
    "        W = cp.Variable((d))\n",
    "        bias = cp.Variable()\n",
    "        epi = cp.Variable(n)\n",
    "        C = cp.Parameter()\n",
    "        C.value = self.regularisation_para_C\n",
    "\n",
    "        obj = cp.Minimize((1/2 * cp.norm(W) + 1/n_samples*C*cp.sum(epi) ))\n",
    "\n",
    "        constranit_1 = [cp.multiply(label_train,(data_train@W+bias)) >= (1-epi)]\n",
    "\n",
    "        constraint_2 = [epi >= 0]\n",
    "\n",
    "        constraints = constranit_1 + constraint_2\n",
    "\n",
    "        prob = cp.Problem(obj, constraints)\n",
    "\n",
    "        prob.solve(solver=cp.MOSEK)\n",
    "\n",
    "        #print (prob.status)\n",
    "\n",
    "        self.w = W.value\n",
    "        self.b = bias.value\n",
    "        \n",
    "        \n",
    "                                       \n",
    "        return self\n",
    "                                       \n",
    "    def predict(self, X):\n",
    "                                       \n",
    "        predicted = []\n",
    "    \n",
    "        for xi in X:\n",
    "            results = np.where((np.dot(xi, self.w) + self.b) >= 0.0 , 1, -1)\n",
    "            predicted.append(results)\n",
    "                \n",
    "                    \n",
    "        return np.array(predicted)\n",
    "                                       \n",
    "                                       \n",
    "                                       \n",
    "    def show_weights (self):\n",
    "\n",
    "        print (\"W = \", self.w)\n",
    "        print(\"\\n\")\n",
    "        print(\"bias = \", self.b)\n",
    "    \n",
    "            \n",
    "        \n",
    "    \n",
    "    "
   ]
  },
  {
   "cell_type": "code",
   "execution_count": 208,
   "metadata": {},
   "outputs": [],
   "source": [
    "class SVM_Dual:\n",
    "\n",
    "\n",
    "    def __init__ (self, regularisation_para_C =1, kernel = \"linear\", polyshift=1, degree=3, sigma = 1, gamma =1 ):\n",
    "        \n",
    "        self.regularisation_para_C = regularisation_para_C \n",
    "        self.kernel = kernel\n",
    "        self.degree = degree\n",
    "        self.polyshift = polyshift\n",
    "        self.sigma = sigma\n",
    "        self.gamma = gamma\n",
    "        self.kernel_choice = {\"linear\":self.linear_kernel,\n",
    "                                \"gaussian\":self.gaussian_kernel,\n",
    "                                \"poly\":self.polynomial_kernel,\n",
    "                                \"rbf\": self.rbf_kernel\n",
    "                             }\n",
    "        \n",
    "\n",
    "    \n",
    "    \n",
    "    def linear_kernel(self, x1, x2):\n",
    "        return np.dot(x1, x2)\n",
    "\n",
    "    def polynomial_kernel(self, x, y):\n",
    "        return (self.polyshift + np.dot(x, y)) ** self.degree\n",
    "\n",
    "    def gaussian_kernel(self, x, y):\n",
    "        return np.exp(-linalg.norm(x-y)**2 / (2 * (self.sigma ** 2)))\n",
    "    \n",
    "    def rbf_kernel(self, x, y):    \n",
    "        distance = np.linalg.norm(x - y) ** 2\n",
    "        return np.exp(-self.gamma * distance)\n",
    "    \n",
    "    def get_params(self, deep=True):\n",
    "        return {\"kernel\": self.kernel, \"degree\": self.degree,\n",
    "                \"polyshift\":self.polyshift, \"sigma\": self.sigma,\n",
    "               \"regularisation_para_C\" : self.regularisation_para_C,\n",
    "               \"gamma\":self.gamma}\n",
    "\n",
    "    def set_params(self, **parameters):\n",
    "        for parameter, value in parameters.items():\n",
    "            setattr(self, parameter, value)\n",
    "        return self\n",
    "    \n",
    "    \n",
    "    def fit (self, data_train, label_train):\n",
    "        n_samples = len(data_train)\n",
    "        n = data_train.shape[0]\n",
    "        d = data_train.shape[1]\n",
    "\n",
    "        alpha = cp.Variable((n))\n",
    "        C = cp.Parameter()\n",
    "        C.value = self.regularisation_para_C\n",
    "        \n",
    "        K = np.zeros((n_samples, n_samples))\n",
    "        \n",
    "        for i in range(n_samples):\n",
    "            for j in range(n_samples):\n",
    "                K[i,j] = self.kernel_choice[self.kernel](data_train[i], data_train[j])\n",
    "        \n",
    "        \n",
    "        H = np.outer(label_train[:,None],label_train[:,None]) * K      \n",
    "       \n",
    "       # H = np.dot((label_train[:,None] * data_train) , (  label_train[:,None] * data_train).T)\n",
    "\n",
    "        obj = cp.Minimize(- cp.sum(alpha)+(1/2)*cp.quad_form(alpha,H))\n",
    "\n",
    "        constraint_1 = [alpha >= 0]\n",
    "        constaint_2 = [alpha <= C]\n",
    "        constraint_3 = [(label_train@alpha) == 0]\n",
    "\n",
    "        constraint = constraint_1 + constaint_2 + constraint_3\n",
    "\n",
    "        prob = cp.Problem(obj, constraint)\n",
    "\n",
    "        results = prob.solve(solver=cp.MOSEK)\n",
    "        #print (prob.status)\n",
    "        #print(alpha.value)\n",
    "\n",
    "\n",
    "#         aaa = alpha.value\n",
    "#         aaa = np.where(aaa>1e-5 , aaa, 0)\n",
    "#         w_dual = ((label_train.T * aaa.T) @ data_train)  \n",
    "#         aaa = np.where(aaa>self.regularisation_para_C-0.1 , 0, aaa)\n",
    "#         S = (aaa > 0).flatten()\n",
    "#         b = label_train[S] - np.dot(data_train[S], w_dual[0])\n",
    "\n",
    "#         self.weight_w_bias = np.concatenate(([b[0]],w_dual[0]))\n",
    "        aa = alpha.value\n",
    "        aa1 = aa.reshape(n_samples)\n",
    "        sv = aa1 > 1e-8\n",
    "        self.ind = (np.arange(len(aa1))[sv])\n",
    "        self.aa1 = aa1[sv]\n",
    "        self.sv_x = data_train[sv]\n",
    "        self.sv_y = label_train[sv]\n",
    "\n",
    "#         print(len(self.sv_y))\n",
    "#         print(self.sv_y)\n",
    "        \n",
    "        \n",
    "        self.bias = 0\n",
    "        for n in range(self.aa1.shape[0]):\n",
    "            self.bias += self.sv_y[n]\n",
    "            self.bias -= np.sum(self.aa1*self.sv_y * K[self.ind[n],sv])\n",
    "\n",
    "        self.bias /= self.aa1.shape[0]\n",
    "        \n",
    "        \n",
    "        \n",
    "        if self.kernel== \"linear\" :\n",
    "            self.w = np.zeros(d)\n",
    "            for n in range(len(self.aa1)):\n",
    "                self.w += (self.aa1[n] * self.sv_y[n] * self.sv_x[n])\n",
    "                \n",
    "        return self\n",
    "\n",
    "            \n",
    "            \n",
    "    def predict(self, X):\n",
    "        predicted = []\n",
    "        \n",
    "        if self.kernel == \"linear\":\n",
    "            \n",
    "            for xi in X:\n",
    "                results = np.where((np.dot(xi, self.w) + self.bias) >= 0.0 , 1, -1)\n",
    "                predicted.append(results)\n",
    "                \n",
    "        elif self.kernel != \"linear\":\n",
    "            \n",
    "            for i in range(len(X)):\n",
    "                y_predict = 0 \n",
    "                for b, a , c in zip(self.sv_x, self.aa1, self.sv_y):\n",
    "                    y_predict += a * c * self.kernel_choice[self.kernel](b,X[i])\n",
    "                y_predict = y_predict+ self.bias\n",
    "                predicted.append(np.sign(y_predict))\n",
    "                    \n",
    "        return np.array(predicted)\n",
    "\n",
    "        \n",
    "    \n",
    "    def show_weights (self):\n",
    "        \n",
    "        if self.kernel == \"linear\":\n",
    "            print (\"W = \", self.w)\n",
    "            print(\"\\n\")\n",
    "            print(\"bias = \", self.bias)\n",
    "            print(\"\\n\")\n",
    "            print (\"Number of support vectors \", len(self.ind))\n",
    "            \n",
    "            \n",
    "        elif self.kernel != \"linear\":\n",
    "            print (\"Number of support vectors \", len(self.ind))\n",
    "            \n",
    "            \n",
    "        \n"
   ]
  },
  {
   "cell_type": "code",
   "execution_count": 160,
   "metadata": {
    "scrolled": false
   },
   "outputs": [
    {
     "data": {
      "image/png": "[encoded data removed]",
      "text/plain": [
       "<Figure size 432x288 with 1 Axes>"
      ]
     },
     "metadata": {
      "needs_background": "light"
     },
     "output_type": "display_data"
    },
    {
     "name": "stdout",
     "output_type": "stream",
     "text": [
      "Accuracy score:  0.84\n",
      "Metrics Report\n",
      "              precision    recall  f1-score   support\n",
      "\n",
      "          -1       0.83      0.86      0.84        50\n",
      "           1       0.85      0.82      0.84        50\n",
      "\n",
      "    accuracy                           0.84       100\n",
      "   macro avg       0.84      0.84      0.84       100\n",
      "weighted avg       0.84      0.84      0.84       100\n",
      "\n"
     ]
    },
    {
     "data": {
      "image/png": "[encoded data removed]",
      "text/plain": [
       "<Figure size 432x288 with 1 Axes>"
      ]
     },
     "metadata": {
      "needs_background": "light"
     },
     "output_type": "display_data"
    }
   ],
   "source": [
    "clf_percentron_moons = Perceptron(2000, 0.009)\n",
    "clf_percentron_moons.fit(X_moons, y_moons)\n",
    "\n",
    "predicted_percentron_moons = clf_percentron_moons.predict(X_moons)\n",
    "\n",
    "plt.plot(range(1, len(clf_percentron_moons.m) + 1), clf_percentron_moons.m, marker='o')\n",
    "plt.xlabel('Epochs')\n",
    "plt.ylabel('Number of misclassifications')\n",
    "plt.show()\n",
    "\n",
    "plot_decision_regions(X_moons, y_moons, clf=clf_percentron_moons)\n",
    "\n",
    "print('Accuracy score: ', accuracy_score(y_moons, predicted_percentron_moons))\n",
    "print('Metrics Report')\n",
    "print(classification_report(y_moons, predicted_percentron_moons))"
   ]
  },
  {
   "cell_type": "code",
   "execution_count": 191,
   "metadata": {},
   "outputs": [
    {
     "data": {
      "image/png": "[encoded data removed]",
      "text/plain": [
       "<Figure size 432x288 with 1 Axes>"
      ]
     },
     "metadata": {
      "needs_background": "light"
     },
     "output_type": "display_data"
    },
    {
     "name": "stdout",
     "output_type": "stream",
     "text": [
      "Accuracy score:  1.0\n",
      "Metrics Report\n",
      "              precision    recall  f1-score   support\n",
      "\n",
      "          -1       1.00      1.00      1.00        50\n",
      "           1       1.00      1.00      1.00        50\n",
      "\n",
      "    accuracy                           1.00       100\n",
      "   macro avg       1.00      1.00      1.00       100\n",
      "weighted avg       1.00      1.00      1.00       100\n",
      "\n"
     ]
    },
    {
     "data": {
      "image/png": "[encoded data removed]",
      "text/plain": [
       "<Figure size 432x288 with 1 Axes>"
      ]
     },
     "metadata": {
      "needs_background": "light"
     },
     "output_type": "display_data"
    }
   ],
   "source": [
    "clf_percentron_class = Perceptron(300, 0.009)\n",
    "clf_percentron_class.fit(X_class, y_class)\n",
    "predicted_percentron_class = clf_percentron_class.predict(X_class)\n",
    "\n",
    "plt.plot(range(1, len(clf_percentron_class.m) + 1), clf_percentron_class.m, marker='o')\n",
    "plt.xlabel('Epochs')\n",
    "plt.ylabel('Loss')\n",
    "plt.show()\n",
    "\n",
    "plot_decision_regions(X_class, y_class, clf=clf_percentron_class)\n",
    "\n",
    "print('Accuracy score: ', accuracy_score(y_class, predicted_percentron_class))\n",
    "print('Metrics Report')\n",
    "print(classification_report(y_class, predicted_percentron_class))"
   ]
  },
  {
   "cell_type": "code",
   "execution_count": 187,
   "metadata": {
    "scrolled": true
   },
   "outputs": [
    {
     "name": "stdout",
     "output_type": "stream",
     "text": [
      "Accuracy score:  1.0\n",
      "Metrics Report\n",
      "              precision    recall  f1-score   support\n",
      "\n",
      "          -1       1.00      1.00      1.00        50\n",
      "           1       1.00      1.00      1.00        50\n",
      "\n",
      "    accuracy                           1.00       100\n",
      "   macro avg       1.00      1.00      1.00       100\n",
      "weighted avg       1.00      1.00      1.00       100\n",
      "\n"
     ]
    },
    {
     "data": {
      "text/plain": [
       "<AxesSubplot:>"
      ]
     },
     "execution_count": 187,
     "metadata": {},
     "output_type": "execute_result"
    },
    {
     "data": {
      "image/png": "[encoded data removed]",
      "text/plain": [
       "<Figure size 432x288 with 1 Axes>"
      ]
     },
     "metadata": {
      "needs_background": "light"
     },
     "output_type": "display_data"
    }
   ],
   "source": [
    "# clf_svm_rbf = SVM(130, \"rbf\")\n",
    "# clf_svm_poly = SVM(kernel=\"poly\")\n",
    "clf_svm_linear = SVM_PRIMAL(1000)\n",
    "\n",
    "\n",
    "\n",
    "\n",
    "clf_svm_linear.fit(X_class, y_class)\n",
    "predicted_svm = clf_svm_linear.predict(X_class)\n",
    "\n",
    "# plt.plot(range(1, len(clf_percentron.m) + 1), clf_percentron.m, marker='o')\n",
    "# plt.xlabel('Epochs')\n",
    "# plt.ylabel('Number of misclassifications')\n",
    "# plt.show()\n",
    "\n",
    "print('Accuracy score: ', accuracy_score(y_class, predicted_svm))\n",
    "print('Metrics Report')\n",
    "print(classification_report(y_class, predicted_svm))\n",
    "\n",
    "plot_decision_regions(X_class, y_class, clf=clf_svm_linear)\n"
   ]
  },
  {
   "cell_type": "code",
   "execution_count": 206,
   "metadata": {},
   "outputs": [
    {
     "name": "stdout",
     "output_type": "stream",
     "text": [
      "Accuracy score:  0.8\n",
      "Metrics Report\n",
      "              precision    recall  f1-score   support\n",
      "\n",
      "          -1       0.79      0.82      0.80        50\n",
      "           1       0.81      0.78      0.80        50\n",
      "\n",
      "    accuracy                           0.80       100\n",
      "   macro avg       0.80      0.80      0.80       100\n",
      "weighted avg       0.80      0.80      0.80       100\n",
      "\n"
     ]
    },
    {
     "data": {
      "text/plain": [
       "<AxesSubplot:>"
      ]
     },
     "execution_count": 206,
     "metadata": {},
     "output_type": "execute_result"
    },
    {
     "data": {
      "image/png": "[encoded data removed]",
      "text/plain": [
       "<Figure size 432x288 with 1 Axes>"
      ]
     },
     "metadata": {
      "needs_background": "light"
     },
     "output_type": "display_data"
    }
   ],
   "source": [
    "clf_svm_non_linear = SVM_PRIMAL(0.9)\n",
    "\n",
    "\n",
    "\n",
    "\n",
    "clf_svm_non_linear.fit(X_moons, y_moons)\n",
    "predicted_non_svm = clf_svm_non_linear.predict(X_moons)\n",
    "\n",
    "# plt.plot(range(1, len(clf_percentron.m) + 1), clf_percentron.m, marker='o')\n",
    "# plt.xlabel('Epochs')\n",
    "# plt.ylabel('Number of misclassifications')\n",
    "# plt.show()\n",
    "\n",
    "print('Accuracy score: ', accuracy_score(y_moons, predicted_non_svm))\n",
    "print('Metrics Report')\n",
    "print(classification_report(y_moons, predicted_non_svm))\n",
    "\n",
    "plot_decision_regions(X_moons, y_moons, clf=clf_svm_non_linear)"
   ]
  },
  {
   "cell_type": "code",
   "execution_count": 156,
   "metadata": {},
   "outputs": [
    {
     "name": "stdout",
     "output_type": "stream",
     "text": [
      "W =  [-1.75451613  0.0777831 ]\n",
      "\n",
      "\n",
      "bias =  0.0038148619732457476\n"
     ]
    }
   ],
   "source": [
    "clf_svm_linear.show_weights()"
   ]
  },
  {
   "cell_type": "code",
   "execution_count": 157,
   "metadata": {},
   "outputs": [
    {
     "name": "stdout",
     "output_type": "stream",
     "text": [
      "w =  [[-1.75535085  0.07782019]]\n",
      "b =  [0.00365806]\n"
     ]
    }
   ],
   "source": [
    "from sklearn.svm import SVC\n",
    "\n",
    "clf = SVC(C = 1000, kernel = 'linear')\n",
    "clf.fit(X_class, y_class) \n",
    "predicted_svm_sk = clf.predict(X_class)\n",
    "print('w = ',clf.coef_)\n",
    "print('b = ',clf.intercept_)"
   ]
  },
  {
   "cell_type": "code",
   "execution_count": 207,
   "metadata": {
    "scrolled": true
   },
   "outputs": [
    {
     "name": "stdout",
     "output_type": "stream",
     "text": [
      "Fitting 4 folds for each of 900 candidates, totalling 3600 fits\n"
     ]
    },
    {
     "name": "stderr",
     "output_type": "stream",
     "text": [
      "[Parallel(n_jobs=-2)]: Using backend LokyBackend with 11 concurrent workers.\n",
      "[Parallel(n_jobs=-2)]: Done   3 tasks      | elapsed:    0.9s\n",
      "[Parallel(n_jobs=-2)]: Done  10 tasks      | elapsed:    1.0s\n",
      "[Parallel(n_jobs=-2)]: Done  19 tasks      | elapsed:    1.2s\n",
      "[Parallel(n_jobs=-2)]: Done  28 tasks      | elapsed:    1.3s\n",
      "[Parallel(n_jobs=-2)]: Done  39 tasks      | elapsed:    1.5s\n",
      "[Parallel(n_jobs=-2)]: Done  50 tasks      | elapsed:    1.7s\n",
      "[Parallel(n_jobs=-2)]: Done  63 tasks      | elapsed:    1.9s\n",
      "[Parallel(n_jobs=-2)]: Done  76 tasks      | elapsed:    2.2s\n",
      "[Parallel(n_jobs=-2)]: Done  91 tasks      | elapsed:    2.5s\n",
      "[Parallel(n_jobs=-2)]: Done 106 tasks      | elapsed:    2.7s\n",
      "[Parallel(n_jobs=-2)]: Done 123 tasks      | elapsed:    3.1s\n",
      "[Parallel(n_jobs=-2)]: Done 140 tasks      | elapsed:    3.4s\n",
      "[Parallel(n_jobs=-2)]: Done 159 tasks      | elapsed:    3.8s\n",
      "[Parallel(n_jobs=-2)]: Done 178 tasks      | elapsed:    4.1s\n",
      "[Parallel(n_jobs=-2)]: Done 199 tasks      | elapsed:    4.5s\n",
      "[Parallel(n_jobs=-2)]: Done 220 tasks      | elapsed:    4.9s\n",
      "[Parallel(n_jobs=-2)]: Done 243 tasks      | elapsed:    5.4s\n",
      "[Parallel(n_jobs=-2)]: Done 266 tasks      | elapsed:    5.8s\n",
      "[Parallel(n_jobs=-2)]: Done 291 tasks      | elapsed:    6.2s\n",
      "[Parallel(n_jobs=-2)]: Done 316 tasks      | elapsed:    6.7s\n",
      "[Parallel(n_jobs=-2)]: Done 343 tasks      | elapsed:    7.2s\n",
      "[Parallel(n_jobs=-2)]: Done 370 tasks      | elapsed:    7.7s\n",
      "[Parallel(n_jobs=-2)]: Done 399 tasks      | elapsed:    8.2s\n",
      "[Parallel(n_jobs=-2)]: Done 428 tasks      | elapsed:    8.8s\n",
      "[Parallel(n_jobs=-2)]: Done 459 tasks      | elapsed:    9.3s\n",
      "[Parallel(n_jobs=-2)]: Done 490 tasks      | elapsed:    9.9s\n",
      "[Parallel(n_jobs=-2)]: Done 523 tasks      | elapsed:   10.5s\n",
      "[Parallel(n_jobs=-2)]: Done 556 tasks      | elapsed:   11.0s\n",
      "[Parallel(n_jobs=-2)]: Done 591 tasks      | elapsed:   11.7s\n",
      "[Parallel(n_jobs=-2)]: Done 626 tasks      | elapsed:   12.4s\n",
      "[Parallel(n_jobs=-2)]: Done 663 tasks      | elapsed:   13.0s\n",
      "[Parallel(n_jobs=-2)]: Done 700 tasks      | elapsed:   13.7s\n",
      "[Parallel(n_jobs=-2)]: Done 739 tasks      | elapsed:   14.4s\n",
      "[Parallel(n_jobs=-2)]: Done 778 tasks      | elapsed:   15.1s\n",
      "[Parallel(n_jobs=-2)]: Done 819 tasks      | elapsed:   15.9s\n",
      "[Parallel(n_jobs=-2)]: Done 860 tasks      | elapsed:   16.6s\n",
      "[Parallel(n_jobs=-2)]: Done 903 tasks      | elapsed:   17.3s\n",
      "[Parallel(n_jobs=-2)]: Done 946 tasks      | elapsed:   18.1s\n",
      "[Parallel(n_jobs=-2)]: Done 991 tasks      | elapsed:   18.9s\n",
      "[Parallel(n_jobs=-2)]: Done 1036 tasks      | elapsed:   19.8s\n",
      "[Parallel(n_jobs=-2)]: Done 1083 tasks      | elapsed:   20.6s\n",
      "[Parallel(n_jobs=-2)]: Done 1130 tasks      | elapsed:   21.6s\n",
      "[Parallel(n_jobs=-2)]: Done 1179 tasks      | elapsed:   22.4s\n",
      "[Parallel(n_jobs=-2)]: Done 1228 tasks      | elapsed:   23.3s\n",
      "[Parallel(n_jobs=-2)]: Done 1279 tasks      | elapsed:   24.2s\n",
      "[Parallel(n_jobs=-2)]: Done 1330 tasks      | elapsed:   25.1s\n",
      "[Parallel(n_jobs=-2)]: Done 1383 tasks      | elapsed:   26.1s\n",
      "[Parallel(n_jobs=-2)]: Done 1436 tasks      | elapsed:   27.1s\n",
      "[Parallel(n_jobs=-2)]: Done 1491 tasks      | elapsed:   28.2s\n",
      "[Parallel(n_jobs=-2)]: Done 1546 tasks      | elapsed:   29.3s\n",
      "[Parallel(n_jobs=-2)]: Done 1603 tasks      | elapsed:   30.4s\n",
      "[Parallel(n_jobs=-2)]: Done 1660 tasks      | elapsed:   31.4s\n",
      "[Parallel(n_jobs=-2)]: Done 1719 tasks      | elapsed:   32.6s\n",
      "[Parallel(n_jobs=-2)]: Done 1778 tasks      | elapsed:   33.8s\n",
      "[Parallel(n_jobs=-2)]: Done 1839 tasks      | elapsed:   35.0s\n",
      "[Parallel(n_jobs=-2)]: Done 1900 tasks      | elapsed:   36.2s\n",
      "[Parallel(n_jobs=-2)]: Done 1963 tasks      | elapsed:   37.5s\n",
      "[Parallel(n_jobs=-2)]: Done 2026 tasks      | elapsed:   38.8s\n",
      "[Parallel(n_jobs=-2)]: Done 2091 tasks      | elapsed:   40.1s\n",
      "[Parallel(n_jobs=-2)]: Done 2156 tasks      | elapsed:   41.4s\n",
      "[Parallel(n_jobs=-2)]: Done 2223 tasks      | elapsed:   42.8s\n",
      "[Parallel(n_jobs=-2)]: Done 2290 tasks      | elapsed:   44.4s\n",
      "[Parallel(n_jobs=-2)]: Done 2359 tasks      | elapsed:   45.8s\n",
      "[Parallel(n_jobs=-2)]: Done 2428 tasks      | elapsed:   47.3s\n",
      "[Parallel(n_jobs=-2)]: Done 2499 tasks      | elapsed:   48.9s\n",
      "[Parallel(n_jobs=-2)]: Done 2570 tasks      | elapsed:   50.4s\n",
      "[Parallel(n_jobs=-2)]: Done 2643 tasks      | elapsed:   51.9s\n",
      "[Parallel(n_jobs=-2)]: Done 2716 tasks      | elapsed:   53.4s\n",
      "[Parallel(n_jobs=-2)]: Done 2791 tasks      | elapsed:   55.1s\n",
      "[Parallel(n_jobs=-2)]: Done 2866 tasks      | elapsed:   56.7s\n",
      "[Parallel(n_jobs=-2)]: Done 2943 tasks      | elapsed:   58.4s\n",
      "[Parallel(n_jobs=-2)]: Done 3020 tasks      | elapsed:   60.0s\n",
      "[Parallel(n_jobs=-2)]: Done 3099 tasks      | elapsed:  1.0min\n",
      "[Parallel(n_jobs=-2)]: Done 3178 tasks      | elapsed:  1.1min\n",
      "[Parallel(n_jobs=-2)]: Done 3259 tasks      | elapsed:  1.1min\n",
      "[Parallel(n_jobs=-2)]: Done 3340 tasks      | elapsed:  1.1min\n",
      "[Parallel(n_jobs=-2)]: Done 3423 tasks      | elapsed:  1.2min\n",
      "[Parallel(n_jobs=-2)]: Done 3506 tasks      | elapsed:  1.2min\n",
      "[Parallel(n_jobs=-2)]: Done 3600 out of 3600 | elapsed:  1.2min finished\n"
     ]
    },
    {
     "data": {
      "text/plain": [
       "GridSearchCV(cv=4, estimator=<__main__.SVM_Dual object at 0x7f41e8874890>,\n",
       "             n_jobs=-2,\n",
       "             param_grid={'regularisation_para_C': array([1.00000000e+05, 1.48735211e+05, 2.21221629e+05, 3.29034456e+05,\n",
       "       4.89390092e+05, 7.27895384e+05, 1.08263673e+06, 1.61026203e+06,\n",
       "       2.39502662e+06, 3.56224789e+06, 5.29831691e+06, 7.88046282e+06,\n",
       "       1.17210230e+07, 1.74332882e+07, 2.59294380e+07, 3....\n",
       "       4.52035366e-04, 7.27895384e-04, 1.17210230e-03, 1.88739182e-03,\n",
       "       3.03919538e-03, 4.89390092e-03, 7.88046282e-03, 1.26896100e-02,\n",
       "       2.04335972e-02, 3.29034456e-02, 5.29831691e-02, 8.53167852e-02,\n",
       "       1.37382380e-01, 2.21221629e-01, 3.56224789e-01, 5.73615251e-01,\n",
       "       9.23670857e-01, 1.48735211e+00, 2.39502662e+00, 3.85662042e+00,\n",
       "       6.21016942e+00, 1.00000000e+01])},\n",
       "             scoring='f1', verbose=10)"
      ]
     },
     "execution_count": 207,
     "metadata": {},
     "output_type": "execute_result"
    }
   ],
   "source": [
    "\n",
    "C_range = np.logspace(5, 10, 30)\n",
    "gamma_range = np.logspace(-5, 1, 30)\n",
    "\n",
    "params = dict(sigma=gamma_range, regularisation_para_C=C_range)\n",
    "cv = RepeatedStratifiedKFold(n_splits=5, n_repeats=3, random_state=1)\n",
    "\n",
    "svm_rbf = GridSearchCV(SVM_Dual(kernel=\"rbf\"), param_grid=params, cv=4 , scoring='f1', verbose = 10, n_jobs= -2 )\n",
    "svm_rbf.fit(X_moons, y_moons, **{})"
   ]
  },
  {
   "cell_type": "code",
   "execution_count": 196,
   "metadata": {},
   "outputs": [
    {
     "data": {
      "text/plain": [
       "{'regularisation_para_C': 148735.21072935118, 'sigma': 1e-10}"
      ]
     },
     "execution_count": 196,
     "metadata": {},
     "output_type": "execute_result"
    }
   ],
   "source": [
    "svm_rbf.best_params_"
   ]
  },
  {
   "cell_type": "code",
   "execution_count": 197,
   "metadata": {
    "scrolled": true
   },
   "outputs": [
    {
     "name": "stdout",
     "output_type": "stream",
     "text": [
      "Accuracy score:  0.87\n",
      "Metrics Report\n",
      "              precision    recall  f1-score   support\n",
      "\n",
      "          -1       1.00      0.74      0.85        50\n",
      "           1       0.79      1.00      0.88        50\n",
      "\n",
      "    accuracy                           0.87       100\n",
      "   macro avg       0.90      0.87      0.87       100\n",
      "weighted avg       0.90      0.87      0.87       100\n",
      "\n"
     ]
    },
    {
     "data": {
      "image/png": "[encoded data removed]",
      "text/plain": [
       "<Figure size 432x288 with 1 Axes>"
      ]
     },
     "metadata": {
      "needs_background": "light"
     },
     "output_type": "display_data"
    }
   ],
   "source": [
    "plot_decision_regions(X_moons,y_moons, clf=svm_rbf.best_estimator_)\n",
    "\n",
    "predicted_SVM_rbf_class = svm_rbf.predict(X_moons)\n",
    "print('Accuracy score: ', accuracy_score(y_moons, predicted_SVM_rbf_class))\n",
    "print('Metrics Report')\n",
    "print(classification_report(y_moons, predicted_SVM_rbf_class))"
   ]
  },
  {
   "cell_type": "code",
   "execution_count": 15,
   "metadata": {
    "scrolled": true
   },
   "outputs": [
    {
     "name": "stdout",
     "output_type": "stream",
     "text": [
      "Fitting 4 folds for each of 600 candidates, totalling 2400 fits\n"
     ]
    },
    {
     "name": "stderr",
     "output_type": "stream",
     "text": [
      "[Parallel(n_jobs=-2)]: Using backend LokyBackend with 11 concurrent workers.\n",
      "[Parallel(n_jobs=-2)]: Batch computation too fast (0.0753s.) Setting batch_size=2.\n",
      "[Parallel(n_jobs=-2)]: Done   3 tasks      | elapsed:    0.1s\n",
      "[Parallel(n_jobs=-2)]: Done  10 tasks      | elapsed:    0.2s\n",
      "[Parallel(n_jobs=-2)]: Done  19 tasks      | elapsed:    0.3s\n",
      "[Parallel(n_jobs=-2)]: Done  34 tasks      | elapsed:    0.5s\n",
      "[Parallel(n_jobs=-2)]: Done  56 tasks      | elapsed:    0.6s\n",
      "[Parallel(n_jobs=-2)]: Done  78 tasks      | elapsed:    0.8s\n",
      "[Parallel(n_jobs=-2)]: Done 104 tasks      | elapsed:    1.0s\n",
      "[Parallel(n_jobs=-2)]: Done 130 tasks      | elapsed:    1.1s\n",
      "[Parallel(n_jobs=-2)]: Done 160 tasks      | elapsed:    1.5s\n",
      "[Parallel(n_jobs=-2)]: Done 190 tasks      | elapsed:    1.6s\n",
      "[Parallel(n_jobs=-2)]: Done 224 tasks      | elapsed:    1.9s\n",
      "[Parallel(n_jobs=-2)]: Done 258 tasks      | elapsed:    2.2s\n",
      "[Parallel(n_jobs=-2)]: Done 296 tasks      | elapsed:    2.5s\n",
      "[Parallel(n_jobs=-2)]: Done 334 tasks      | elapsed:    2.8s\n",
      "[Parallel(n_jobs=-2)]: Done 376 tasks      | elapsed:    3.1s\n",
      "[Parallel(n_jobs=-2)]: Done 418 tasks      | elapsed:    3.5s\n",
      "[Parallel(n_jobs=-2)]: Done 464 tasks      | elapsed:    3.9s\n",
      "[Parallel(n_jobs=-2)]: Done 510 tasks      | elapsed:    4.2s\n",
      "[Parallel(n_jobs=-2)]: Done 560 tasks      | elapsed:    4.6s\n",
      "[Parallel(n_jobs=-2)]: Done 610 tasks      | elapsed:    5.0s\n",
      "[Parallel(n_jobs=-2)]: Done 664 tasks      | elapsed:    5.5s\n",
      "[Parallel(n_jobs=-2)]: Done 718 tasks      | elapsed:    5.9s\n",
      "[Parallel(n_jobs=-2)]: Done 776 tasks      | elapsed:    6.4s\n",
      "[Parallel(n_jobs=-2)]: Done 834 tasks      | elapsed:    6.8s\n",
      "[Parallel(n_jobs=-2)]: Done 896 tasks      | elapsed:    7.3s\n",
      "[Parallel(n_jobs=-2)]: Done 958 tasks      | elapsed:    7.8s\n",
      "[Parallel(n_jobs=-2)]: Done 1024 tasks      | elapsed:    8.4s\n",
      "[Parallel(n_jobs=-2)]: Done 1090 tasks      | elapsed:    8.9s\n",
      "[Parallel(n_jobs=-2)]: Done 1160 tasks      | elapsed:    9.5s\n",
      "[Parallel(n_jobs=-2)]: Done 1230 tasks      | elapsed:   10.1s\n",
      "[Parallel(n_jobs=-2)]: Done 1304 tasks      | elapsed:   10.6s\n",
      "[Parallel(n_jobs=-2)]: Done 1378 tasks      | elapsed:   11.2s\n",
      "[Parallel(n_jobs=-2)]: Done 1456 tasks      | elapsed:   11.9s\n",
      "[Parallel(n_jobs=-2)]: Done 1534 tasks      | elapsed:   12.6s\n",
      "[Parallel(n_jobs=-2)]: Done 1616 tasks      | elapsed:   13.2s\n",
      "[Parallel(n_jobs=-2)]: Done 1698 tasks      | elapsed:   13.8s\n",
      "[Parallel(n_jobs=-2)]: Done 1784 tasks      | elapsed:   14.5s\n",
      "[Parallel(n_jobs=-2)]: Done 1870 tasks      | elapsed:   15.2s\n",
      "[Parallel(n_jobs=-2)]: Done 1960 tasks      | elapsed:   15.9s\n",
      "[Parallel(n_jobs=-2)]: Done 2050 tasks      | elapsed:   16.7s\n",
      "[Parallel(n_jobs=-2)]: Done 2144 tasks      | elapsed:   17.5s\n",
      "[Parallel(n_jobs=-2)]: Done 2238 tasks      | elapsed:   18.2s\n",
      "[Parallel(n_jobs=-2)]: Done 2336 tasks      | elapsed:   19.1s\n",
      "[Parallel(n_jobs=-2)]: Done 2400 out of 2400 | elapsed:   19.5s finished\n"
     ]
    },
    {
     "data": {
      "text/plain": [
       "GridSearchCV(cv=4, estimator=<__main__.SVM object at 0x7f422f612850>, n_jobs=-2,\n",
       "             param_grid={'degree': [3, 2],\n",
       "                         'polyshift': array([ 1.,  2.,  3.,  4.,  5.,  6.,  7.,  8.,  9., 10.]),\n",
       "                         'regularisation_para_C': array([ 10.        ,  30.34482759,  50.68965517,  71.03448276,\n",
       "        91.37931034, 111.72413793, 132.06896552, 152.4137931 ,\n",
       "       172.75862069, 193.10344828, 213.44827586, 233.79310345,\n",
       "       254.13793103, 274.48275862, 294.82758621, 315.17241379,\n",
       "       335.51724138, 355.86206897, 376.20689655, 396.55172414,\n",
       "       416.89655172, 437.24137931, 457.5862069 , 477.93103448,\n",
       "       498.27586207, 518.62068966, 538.96551724, 559.31034483,\n",
       "       579.65517241, 600.        ])},\n",
       "             scoring='f1', verbose=10)"
      ]
     },
     "execution_count": 15,
     "metadata": {},
     "output_type": "execute_result"
    }
   ],
   "source": [
    "#C_range = np.logspace(1, 3 , 30)\n",
    "C_range = np.linspace(10, 600, 30)\n",
    "degree = [3,2]\n",
    "polyshift = np.linspace(1, 10, 10)\n",
    "\n",
    "\n",
    "params = dict(degree=degree, regularisation_para_C=C_range, polyshift = polyshift)\n",
    "\n",
    "svm_poly = GridSearchCV(SVM_Dual(kernel=\"poly\"), param_grid=params, cv=4 , scoring='f1', verbose = 10, n_jobs= -2 )\n",
    "svm_poly.fit(X_moons, y_moons, **{})"
   ]
  },
  {
   "cell_type": "code",
   "execution_count": 16,
   "metadata": {
    "scrolled": true
   },
   "outputs": [
    {
     "data": {
      "text/plain": [
       "{'degree': 3, 'polyshift': 1.0, 'regularisation_para_C': 600.0}"
      ]
     },
     "execution_count": 16,
     "metadata": {},
     "output_type": "execute_result"
    }
   ],
   "source": [
    "svm_poly.best_params_"
   ]
  },
  {
   "cell_type": "code",
   "execution_count": 17,
   "metadata": {},
   "outputs": [
    {
     "data": {
      "text/plain": [
       "<AxesSubplot:>"
      ]
     },
     "execution_count": 17,
     "metadata": {},
     "output_type": "execute_result"
    },
    {
     "data": {
      "image/png": "[encoded data removed]",
      "text/plain": [
       "<Figure size 432x288 with 1 Axes>"
      ]
     },
     "metadata": {
      "needs_background": "light"
     },
     "output_type": "display_data"
    }
   ],
   "source": [
    "plot_decision_regions(X_moons,y_moons, clf=svm_poly.best_estimator_)"
   ]
  },
  {
   "cell_type": "code",
   "execution_count": 18,
   "metadata": {
    "scrolled": true
   },
   "outputs": [
    {
     "name": "stdout",
     "output_type": "stream",
     "text": [
      "Accuracy score:  0.96\n",
      "Metrics Report\n",
      "              precision    recall  f1-score   support\n",
      "\n",
      "          -1       0.98      0.94      0.96        50\n",
      "           1       0.94      0.98      0.96        50\n",
      "\n",
      "    accuracy                           0.96       100\n",
      "   macro avg       0.96      0.96      0.96       100\n",
      "weighted avg       0.96      0.96      0.96       100\n",
      "\n"
     ]
    }
   ],
   "source": [
    "predicted_SVM_poly_class = svm_poly.predict(X_moons)\n",
    "print('Accuracy score: ', accuracy_score(y_moons, predicted_SVM_poly_class))\n",
    "print('Metrics Report')\n",
    "print(classification_report(y_moons, predicted_SVM_poly_class))"
   ]
  },
  {
   "cell_type": "code",
   "execution_count": null,
   "metadata": {},
   "outputs": [],
   "source": []
  },
  {
   "cell_type": "code",
   "execution_count": null,
   "metadata": {},
   "outputs": [],
   "source": []
  },
  {
   "cell_type": "code",
   "execution_count": 309,
   "metadata": {
    "scrolled": true
   },
   "outputs": [
    {
     "name": "stdout",
     "output_type": "stream",
     "text": [
      "Fitting 15 folds for each of 20 candidates, totalling 300 fits\n"
     ]
    },
    {
     "name": "stderr",
     "output_type": "stream",
     "text": [
      "[Parallel(n_jobs=-2)]: Using backend LokyBackend with 11 concurrent workers.\n",
      "[Parallel(n_jobs=-2)]: Batch computation too fast (0.0717s.) Setting batch_size=2.\n",
      "[Parallel(n_jobs=-2)]: Done   3 tasks      | elapsed:    0.1s\n",
      "[Parallel(n_jobs=-2)]: Done  10 tasks      | elapsed:    0.1s\n",
      "[Parallel(n_jobs=-2)]: Done  19 tasks      | elapsed:    0.2s\n",
      "[Parallel(n_jobs=-2)]: Done  34 tasks      | elapsed:    0.4s\n",
      "[Parallel(n_jobs=-2)]: Done  56 tasks      | elapsed:    0.5s\n",
      "[Parallel(n_jobs=-2)]: Done  78 tasks      | elapsed:    0.7s\n",
      "[Parallel(n_jobs=-2)]: Done 104 tasks      | elapsed:    0.8s\n",
      "[Parallel(n_jobs=-2)]: Done 130 tasks      | elapsed:    1.0s\n",
      "[Parallel(n_jobs=-2)]: Done 160 tasks      | elapsed:    1.3s\n",
      "[Parallel(n_jobs=-2)]: Done 190 tasks      | elapsed:    1.5s\n",
      "[Parallel(n_jobs=-2)]: Done 224 tasks      | elapsed:    1.8s\n",
      "[Parallel(n_jobs=-2)]: Done 258 tasks      | elapsed:    2.1s\n",
      "[Parallel(n_jobs=-2)]: Done 300 out of 300 | elapsed:    2.5s finished\n"
     ]
    },
    {
     "data": {
      "text/plain": [
       "GridSearchCV(cv=RepeatedStratifiedKFold(n_repeats=3, n_splits=5, random_state=1),\n",
       "             estimator=<__main__.SVM_PRIMAL object at 0x7f41e8a71410>,\n",
       "             n_jobs=-2,\n",
       "             param_grid={'regularisation_para_C': array([1.00000000e-05, 6.15848211e-05, 3.79269019e-04, 2.33572147e-03,\n",
       "       1.43844989e-02, 8.85866790e-02, 5.45559478e-01, 3.35981829e+00,\n",
       "       2.06913808e+01, 1.27427499e+02, 7.84759970e+02, 4.83293024e+03,\n",
       "       2.97635144e+04, 1.83298071e+05, 1.12883789e+06, 6.95192796e+06,\n",
       "       4.28133240e+07, 2.63665090e+08, 1.62377674e+09, 1.00000000e+10])},\n",
       "             scoring='f1', verbose=10)"
      ]
     },
     "execution_count": 309,
     "metadata": {},
     "output_type": "execute_result"
    }
   ],
   "source": [
    "C_range = np.logspace(-5,10 , 20)\n",
    "\n",
    "\n",
    "params = dict(regularisation_para_C=C_range)\n",
    "cv = RepeatedStratifiedKFold(n_splits=5, n_repeats=3, random_state=1)\n",
    "\n",
    "svm_linear_final = GridSearchCV(SVM_PRIMAL(), param_grid=params, cv=cv , scoring='f1', verbose = 10, n_jobs= -2 )\n",
    "svm_linear_final.fit(x_train, y_train, **{})"
   ]
  },
  {
   "cell_type": "code",
   "execution_count": 310,
   "metadata": {
    "scrolled": true
   },
   "outputs": [
    {
     "data": {
      "text/plain": [
       "{'regularisation_para_C': 4832.930238571752}"
      ]
     },
     "execution_count": 310,
     "metadata": {},
     "output_type": "execute_result"
    }
   ],
   "source": [
    "svm_linear_final.best_params_"
   ]
  },
  {
   "cell_type": "code",
   "execution_count": 311,
   "metadata": {},
   "outputs": [],
   "source": [
    "svm_linear_final_best = svm_linear_final.best_estimator_"
   ]
  },
  {
   "cell_type": "code",
   "execution_count": 312,
   "metadata": {},
   "outputs": [
    {
     "name": "stdout",
     "output_type": "stream",
     "text": [
      "Accuracy score:  0.7337662337662337\n",
      "precision_score:  0.6304347826086957\n",
      "f1_score:  0.5858585858585859\n",
      "Metrics Report\n",
      "              precision    recall  f1-score   support\n",
      "\n",
      "          -1       0.78      0.83      0.80       101\n",
      "           1       0.63      0.55      0.59        53\n",
      "\n",
      "    accuracy                           0.73       154\n",
      "   macro avg       0.70      0.69      0.69       154\n",
      "weighted avg       0.73      0.73      0.73       154\n",
      "\n"
     ]
    }
   ],
   "source": [
    "predicted_svm_linear_final = svm_linear_final_best.predict(x_test)\n",
    "print('Accuracy score: ', accuracy_score(y_test, predicted_svm_linear_final))\n",
    "print('precision_score: ', precision_score(y_test, predicted_svm_linear_final))\n",
    "print('f1_score: ', f1_score(y_test, predicted_svm_linear_final))\n",
    "print('Metrics Report')\n",
    "print(classification_report(y_test, predicted_svm_linear_final))"
   ]
  },
  {
   "cell_type": "code",
   "execution_count": null,
   "metadata": {},
   "outputs": [],
   "source": []
  },
  {
   "cell_type": "code",
   "execution_count": null,
   "metadata": {},
   "outputs": [],
   "source": []
  },
  {
   "cell_type": "code",
   "execution_count": null,
   "metadata": {},
   "outputs": [],
   "source": []
  },
  {
   "cell_type": "code",
   "execution_count": null,
   "metadata": {},
   "outputs": [],
   "source": []
  },
  {
   "cell_type": "code",
   "execution_count": 244,
   "metadata": {
    "scrolled": true
   },
   "outputs": [
    {
     "name": "stdout",
     "output_type": "stream",
     "text": [
      "Fitting 4 folds for each of 100 candidates, totalling 400 fits\n"
     ]
    },
    {
     "name": "stderr",
     "output_type": "stream",
     "text": [
      "[Parallel(n_jobs=-2)]: Using backend LokyBackend with 11 concurrent workers.\n",
      "[Parallel(n_jobs=-2)]: Done   3 tasks      | elapsed:   11.9s\n",
      "[Parallel(n_jobs=-2)]: Done  10 tasks      | elapsed:   37.1s\n",
      "[Parallel(n_jobs=-2)]: Done  19 tasks      | elapsed:  1.1min\n",
      "[Parallel(n_jobs=-2)]: Done  28 tasks      | elapsed:  1.2min\n",
      "[Parallel(n_jobs=-2)]: Done  39 tasks      | elapsed:  1.3min\n",
      "[Parallel(n_jobs=-2)]: Done  50 tasks      | elapsed:  1.8min\n",
      "[Parallel(n_jobs=-2)]: Done  63 tasks      | elapsed:  2.2min\n",
      "[Parallel(n_jobs=-2)]: Done  76 tasks      | elapsed:  2.3min\n",
      "[Parallel(n_jobs=-2)]: Done  91 tasks      | elapsed:  2.9min\n",
      "[Parallel(n_jobs=-2)]: Done 106 tasks      | elapsed:  3.2min\n",
      "[Parallel(n_jobs=-2)]: Done 123 tasks      | elapsed:  3.6min\n",
      "[Parallel(n_jobs=-2)]: Done 140 tasks      | elapsed:  4.3min\n",
      "[Parallel(n_jobs=-2)]: Done 159 tasks      | elapsed:  4.5min\n",
      "[Parallel(n_jobs=-2)]: Done 178 tasks      | elapsed:  5.4min\n",
      "[Parallel(n_jobs=-2)]: Done 199 tasks      | elapsed:  5.6min\n",
      "[Parallel(n_jobs=-2)]: Done 220 tasks      | elapsed:  6.5min\n",
      "[Parallel(n_jobs=-2)]: Done 243 tasks      | elapsed:  7.1min\n",
      "[Parallel(n_jobs=-2)]: Done 266 tasks      | elapsed:  8.0min\n",
      "[Parallel(n_jobs=-2)]: Done 291 tasks      | elapsed:  8.7min\n",
      "[Parallel(n_jobs=-2)]: Done 316 tasks      | elapsed:  9.1min\n",
      "[Parallel(n_jobs=-2)]: Done 343 tasks      | elapsed: 10.0min\n",
      "[Parallel(n_jobs=-2)]: Done 370 tasks      | elapsed: 10.7min\n",
      "[Parallel(n_jobs=-2)]: Done 400 out of 400 | elapsed: 11.4min finished\n"
     ]
    },
    {
     "data": {
      "text/plain": [
       "GridSearchCV(cv=RepeatedStratifiedKFold(n_repeats=1, n_splits=4, random_state=1),\n",
       "             estimator=<__main__.SVM_Dual object at 0x7f41e8b3bd10>, n_jobs=-2,\n",
       "             param_grid={'regularisation_para_C': array([1.00000000e-02, 2.15443469e-01, 4.64158883e+00, 1.00000000e+02,\n",
       "       2.15443469e+03, 4.64158883e+04, 1.00000000e+06, 2.15443469e+07,\n",
       "       4.64158883e+08, 1.00000000e+10]),\n",
       "                         'sigma': array([   10.        ,    21.5443469 ,    46.41588834,   100.        ,\n",
       "         215.443469  ,   464.15888336,  1000.        ,  2154.43469003,\n",
       "        4641.58883361, 10000.        ])},\n",
       "             scoring='f1', verbose=10)"
      ]
     },
     "execution_count": 244,
     "metadata": {},
     "output_type": "execute_result"
    }
   ],
   "source": [
    "C_range = np.logspace(-2, 10, 10)\n",
    "sigma_range = np.logspace(1, 4, 10)\n",
    "\n",
    "# C_range = [1,0.1,0.001,0.0001]\n",
    "# sigma_range = [1,10,100,1000,10000]\n",
    "\n",
    "\n",
    "\n",
    "params = dict(sigma=sigma_range, regularisation_para_C=C_range)\n",
    "cv = RepeatedStratifiedKFold(n_splits=4, n_repeats=1, random_state=1)\n",
    "svm_rbf_final = GridSearchCV(SVM_Dual(kernel=\"gaussian\"), param_grid=params, cv=cv , scoring='f1', verbose = 10, n_jobs= -2 )\n",
    "svm_rbf_final.fit(x_train, y_train, **{})"
   ]
  },
  {
   "cell_type": "code",
   "execution_count": 245,
   "metadata": {},
   "outputs": [
    {
     "data": {
      "text/plain": [
       "{'regularisation_para_C': 21544346.90031878, 'sigma': 46.41588833612777}"
      ]
     },
     "execution_count": 245,
     "metadata": {},
     "output_type": "execute_result"
    }
   ],
   "source": [
    "svm_rbf_final.best_params_"
   ]
  },
  {
   "cell_type": "code",
   "execution_count": 246,
   "metadata": {},
   "outputs": [],
   "source": [
    "svm_rbf_final_best = svm_rbf_final.best_estimator_"
   ]
  },
  {
   "cell_type": "code",
   "execution_count": 247,
   "metadata": {},
   "outputs": [
    {
     "name": "stdout",
     "output_type": "stream",
     "text": [
      "Accuracy score:  0.7142857142857143\n",
      "precision_score:  0.5849056603773585\n",
      "f1_score:  0.5849056603773585\n",
      "Metrics Report\n",
      "              precision    recall  f1-score   support\n",
      "\n",
      "          -1       0.78      0.78      0.78       101\n",
      "           1       0.58      0.58      0.58        53\n",
      "\n",
      "    accuracy                           0.71       154\n",
      "   macro avg       0.68      0.68      0.68       154\n",
      "weighted avg       0.71      0.71      0.71       154\n",
      "\n"
     ]
    }
   ],
   "source": [
    "predicted_SVM_rbf_final = svm_rbf_final_best.predict(x_test)\n",
    "print('Accuracy score: ', accuracy_score(y_test, predicted_SVM_rbf_final))\n",
    "print('precision_score: ', precision_score(y_test, predicted_SVM_rbf_final))\n",
    "print('f1_score: ', f1_score(y_test, predicted_SVM_rbf_final))\n",
    "print('Metrics Report')\n",
    "print(classification_report(y_test, predicted_SVM_rbf_final))"
   ]
  },
  {
   "cell_type": "code",
   "execution_count": 248,
   "metadata": {},
   "outputs": [
    {
     "name": "stdout",
     "output_type": "stream",
     "text": [
      "Number of support vectors  614\n"
     ]
    }
   ],
   "source": [
    "aaa =svm_rbf_final.best_estimator_\n",
    "\n",
    "aaa.show_weights()"
   ]
  },
  {
   "cell_type": "code",
   "execution_count": null,
   "metadata": {},
   "outputs": [],
   "source": []
  },
  {
   "cell_type": "code",
   "execution_count": null,
   "metadata": {},
   "outputs": [],
   "source": []
  },
  {
   "cell_type": "code",
   "execution_count": null,
   "metadata": {},
   "outputs": [],
   "source": []
  },
  {
   "cell_type": "code",
   "execution_count": null,
   "metadata": {},
   "outputs": [],
   "source": []
  },
  {
   "cell_type": "code",
   "execution_count": 249,
   "metadata": {
    "scrolled": true
   },
   "outputs": [
    {
     "name": "stdout",
     "output_type": "stream",
     "text": [
      "Fitting 4 folds for each of 50 candidates, totalling 200 fits\n"
     ]
    },
    {
     "name": "stderr",
     "output_type": "stream",
     "text": [
      "[Parallel(n_jobs=-2)]: Using backend LokyBackend with 11 concurrent workers.\n",
      "[Parallel(n_jobs=-2)]: Done   3 tasks      | elapsed:    1.8s\n",
      "[Parallel(n_jobs=-2)]: Done  10 tasks      | elapsed:    2.0s\n",
      "[Parallel(n_jobs=-2)]: Done  19 tasks      | elapsed:    3.9s\n",
      "[Parallel(n_jobs=-2)]: Done  28 tasks      | elapsed:    5.9s\n",
      "[Parallel(n_jobs=-2)]: Done  39 tasks      | elapsed:    7.9s\n",
      "[Parallel(n_jobs=-2)]: Done  50 tasks      | elapsed:    9.7s\n",
      "[Parallel(n_jobs=-2)]: Done  63 tasks      | elapsed:   11.7s\n",
      "[Parallel(n_jobs=-2)]: Done  76 tasks      | elapsed:   14.1s\n",
      "[Parallel(n_jobs=-2)]: Done  91 tasks      | elapsed:   17.1s\n",
      "[Parallel(n_jobs=-2)]: Done 106 tasks      | elapsed:   19.2s\n",
      "[Parallel(n_jobs=-2)]: Done 123 tasks      | elapsed:   22.2s\n",
      "[Parallel(n_jobs=-2)]: Done 140 tasks      | elapsed:   24.8s\n",
      "[Parallel(n_jobs=-2)]: Done 159 tasks      | elapsed:   28.6s\n",
      "[Parallel(n_jobs=-2)]: Done 178 tasks      | elapsed:   31.1s\n",
      "[Parallel(n_jobs=-2)]: Done 200 out of 200 | elapsed:   34.6s remaining:    0.0s\n",
      "[Parallel(n_jobs=-2)]: Done 200 out of 200 | elapsed:   34.6s finished\n"
     ]
    },
    {
     "data": {
      "text/plain": [
       "GridSearchCV(cv=4, estimator=<__main__.SVM_Dual object at 0x7f41e8bc7c50>,\n",
       "             n_jobs=-2,\n",
       "             param_grid={'polyshift': [1, 2, 3, 4, 5],\n",
       "                         'regularisation_para_C': array([1.00000000e-02, 2.15443469e-01, 4.64158883e+00, 1.00000000e+02,\n",
       "       2.15443469e+03, 4.64158883e+04, 1.00000000e+06, 2.15443469e+07,\n",
       "       4.64158883e+08, 1.00000000e+10])},\n",
       "             scoring='f1', verbose=10)"
      ]
     },
     "execution_count": 249,
     "metadata": {},
     "output_type": "execute_result"
    }
   ],
   "source": [
    "C_range = np.logspace(-2, 10, 10)\n",
    "polyshift = [1,2,3,4,5]\n",
    "\n",
    "\n",
    "params = dict(regularisation_para_C=C_range, polyshift = polyshift)\n",
    "cv = RepeatedStratifiedKFold(n_splits=5, n_repeats=1, random_state=1)\n",
    "svm_poly_final = GridSearchCV(SVM_Dual(kernel=\"poly\", degree=3), param_grid=params, cv=4 , scoring='f1', verbose = 10, n_jobs= -2 )\n",
    "svm_poly_final.fit(x_train, y_train, **{})"
   ]
  },
  {
   "cell_type": "code",
   "execution_count": 250,
   "metadata": {
    "scrolled": true
   },
   "outputs": [
    {
     "data": {
      "text/plain": [
       "{'polyshift': 2, 'regularisation_para_C': 0.21544346900318834}"
      ]
     },
     "execution_count": 250,
     "metadata": {},
     "output_type": "execute_result"
    }
   ],
   "source": [
    "svm_poly_final.best_params_"
   ]
  },
  {
   "cell_type": "code",
   "execution_count": 251,
   "metadata": {},
   "outputs": [],
   "source": [
    "svm_poly_final_best = svm_poly_final.best_estimator_"
   ]
  },
  {
   "cell_type": "code",
   "execution_count": 252,
   "metadata": {},
   "outputs": [
    {
     "name": "stdout",
     "output_type": "stream",
     "text": [
      "Accuracy score:  0.7272727272727273\n",
      "precision_score:  0.6222222222222222\n",
      "f1_score:  0.5714285714285715\n",
      "Metrics Report\n",
      "              precision    recall  f1-score   support\n",
      "\n",
      "          -1       0.77      0.83      0.80       101\n",
      "           1       0.62      0.53      0.57        53\n",
      "\n",
      "    accuracy                           0.73       154\n",
      "   macro avg       0.70      0.68      0.69       154\n",
      "weighted avg       0.72      0.73      0.72       154\n",
      "\n"
     ]
    }
   ],
   "source": [
    "predicted_SVM_poly_final = svm_poly_final_best.predict(x_test)\n",
    "print('Accuracy score: ', accuracy_score(y_test, predicted_SVM_poly_final))\n",
    "print('precision_score: ', precision_score(y_test, predicted_SVM_poly_final))\n",
    "print('f1_score: ', f1_score(y_test, predicted_SVM_poly_final))\n",
    "print('Metrics Report')\n",
    "print(classification_report(y_test, predicted_SVM_poly_final))"
   ]
  },
  {
   "cell_type": "code",
   "execution_count": 253,
   "metadata": {},
   "outputs": [
    {
     "name": "stdout",
     "output_type": "stream",
     "text": [
      "Number of support vectors  537\n"
     ]
    }
   ],
   "source": [
    "aaa1 =svm_poly_final.best_estimator_\n",
    "\n",
    "aaa1.show_weights()"
   ]
  },
  {
   "cell_type": "code",
   "execution_count": null,
   "metadata": {},
   "outputs": [],
   "source": []
  },
  {
   "cell_type": "code",
   "execution_count": null,
   "metadata": {},
   "outputs": [],
   "source": []
  },
  {
   "cell_type": "code",
   "execution_count": null,
   "metadata": {},
   "outputs": [],
   "source": []
  },
  {
   "cell_type": "code",
   "execution_count": 254,
   "metadata": {},
   "outputs": [
    {
     "name": "stdout",
     "output_type": "stream",
     "text": [
      "Fitting 15 folds for each of 10 candidates, totalling 150 fits\n"
     ]
    },
    {
     "name": "stderr",
     "output_type": "stream",
     "text": [
      "[Parallel(n_jobs=-2)]: Using backend LokyBackend with 11 concurrent workers.\n",
      "[Parallel(n_jobs=-2)]: Done   3 tasks      | elapsed:   21.3s\n",
      "[Parallel(n_jobs=-2)]: Done  10 tasks      | elapsed:   24.6s\n",
      "[Parallel(n_jobs=-2)]: Done  19 tasks      | elapsed:   48.2s\n",
      "[Parallel(n_jobs=-2)]: Done  28 tasks      | elapsed:  1.2min\n",
      "[Parallel(n_jobs=-2)]: Done  39 tasks      | elapsed:  1.6min\n",
      "[Parallel(n_jobs=-2)]: Done  50 tasks      | elapsed:  2.0min\n",
      "[Parallel(n_jobs=-2)]: Done  63 tasks      | elapsed:  2.4min\n",
      "[Parallel(n_jobs=-2)]: Done  76 tasks      | elapsed:  2.9min\n",
      "[Parallel(n_jobs=-2)]: Done  91 tasks      | elapsed:  3.5min\n",
      "[Parallel(n_jobs=-2)]: Done 106 tasks      | elapsed:  4.0min\n",
      "[Parallel(n_jobs=-2)]: Done 123 tasks      | elapsed:  4.6min\n",
      "[Parallel(n_jobs=-2)]: Done 145 out of 150 | elapsed:  5.3min remaining:   10.9s\n",
      "[Parallel(n_jobs=-2)]: Done 150 out of 150 | elapsed:  5.4min finished\n"
     ]
    },
    {
     "data": {
      "text/plain": [
       "GridSearchCV(cv=RepeatedStratifiedKFold(n_repeats=3, n_splits=5, random_state=1),\n",
       "             estimator=<__main__.Perceptron object at 0x7f41e89d0550>,\n",
       "             n_jobs=-2,\n",
       "             param_grid={'LR': array([0.1       , 0.04641589, 0.02154435, 0.01      , 0.00464159,\n",
       "       0.00215443, 0.001     , 0.00046416, 0.00021544, 0.0001    ])},\n",
       "             scoring='f1', verbose=10)"
      ]
     },
     "execution_count": 254,
     "metadata": {},
     "output_type": "execute_result"
    }
   ],
   "source": [
    "LR1 = np.logspace(-1, -4, 10)\n",
    "\n",
    "\n",
    "\n",
    "params = dict(LR=LR1)\n",
    "cv = RepeatedStratifiedKFold(n_splits=5, n_repeats=3, random_state=1)\n",
    "Perceptron_final = GridSearchCV(Perceptron(niter=2000), param_grid=params, cv=cv \n",
    "                                , scoring='f1', verbose = 10, n_jobs= -2 )\n",
    "\n",
    "Perceptron_final.fit(x_train, y_train, **{})\n",
    "\n",
    "\n"
   ]
  },
  {
   "cell_type": "code",
   "execution_count": 255,
   "metadata": {},
   "outputs": [
    {
     "data": {
      "text/plain": [
       "{'LR': 0.1}"
      ]
     },
     "execution_count": 255,
     "metadata": {},
     "output_type": "execute_result"
    }
   ],
   "source": [
    "Perceptron_final.best_params_"
   ]
  },
  {
   "cell_type": "code",
   "execution_count": 256,
   "metadata": {},
   "outputs": [],
   "source": [
    "Perceptron_final_best = Perceptron_final.best_estimator_"
   ]
  },
  {
   "cell_type": "code",
   "execution_count": 257,
   "metadata": {},
   "outputs": [
    {
     "name": "stdout",
     "output_type": "stream",
     "text": [
      "Accuracy score:  0.7207792207792207\n",
      "precision_score:  0.6041666666666666\n",
      "f1_score:  0.5742574257425742\n",
      "Metrics Report\n",
      "              precision    recall  f1-score   support\n",
      "\n",
      "          -1       0.77      0.81      0.79       101\n",
      "           1       0.60      0.55      0.57        53\n",
      "\n",
      "    accuracy                           0.72       154\n",
      "   macro avg       0.69      0.68      0.68       154\n",
      "weighted avg       0.72      0.72      0.72       154\n",
      "\n"
     ]
    }
   ],
   "source": [
    "Perceptron_final_best_predicted = Perceptron_final_best.predict(x_test)\n",
    "print('Accuracy score: ', accuracy_score(y_test, Perceptron_final_best_predicted))\n",
    "print('precision_score: ', precision_score(y_test, Perceptron_final_best_predicted))\n",
    "print('f1_score: ', f1_score(y_test, Perceptron_final_best_predicted))\n",
    "print('Metrics Report')\n",
    "print(classification_report(y_test, Perceptron_final_best_predicted))"
   ]
  },
  {
   "cell_type": "code",
   "execution_count": null,
   "metadata": {},
   "outputs": [],
   "source": []
  },
  {
   "cell_type": "code",
   "execution_count": null,
   "metadata": {},
   "outputs": [],
   "source": []
  }
 ],
 "metadata": {
  "kernelspec": {
   "display_name": "Python 3",
   "language": "python",
   "name": "python3"
  },
  "language_info": {
   "codemirror_mode": {
    "name": "ipython",
    "version": 3
   },
   "file_extension": ".py",
   "mimetype": "text/x-python",
   "name": "python",
   "nbconvert_exporter": "python",
   "pygments_lexer": "ipython3",
   "version": "3.7.7"
  }
 },
 "nbformat": 4,
 "nbformat_minor": 4
}
