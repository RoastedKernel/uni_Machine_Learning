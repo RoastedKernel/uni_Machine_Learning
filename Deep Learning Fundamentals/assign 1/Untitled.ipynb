{
 "cells": [
  {
   "cell_type": "code",
   "execution_count": 2,
   "metadata": {},
   "outputs": [],
   "source": [
    "#Common imports\n",
    "import numpy as np\n",
    "import pandas as pd\n",
    "import seaborn as sns\n",
    "from sklearn.metrics import accuracy_score\n",
    "from sklearn.metrics import classification_report\n",
    "\n",
    "# To plot pretty figures\n",
    "%matplotlib inline\n",
    "import matplotlib as mpl\n",
    "import matplotlib.pyplot as plt\n",
    "mpl.rc('axes', labelsize=14)\n",
    "mpl.rc('xtick', labelsize=12)\n",
    "mpl.rc('ytick', labelsize=12)"
   ]
  },
  {
   "cell_type": "code",
   "execution_count": 3,
   "metadata": {},
   "outputs": [],
   "source": [
    "df = pd.read_csv(\"diabetes.csv\")"
   ]
  },
  {
   "cell_type": "code",
   "execution_count": 4,
   "metadata": {
    "scrolled": true
   },
   "outputs": [
    {
     "name": "stdout",
     "output_type": "stream",
     "text": [
      "<class 'pandas.core.frame.DataFrame'>\n",
      "RangeIndex: 768 entries, 0 to 767\n",
      "Data columns (total 9 columns):\n",
      " #   Column                    Non-Null Count  Dtype  \n",
      "---  ------                    --------------  -----  \n",
      " 0   Pregnancies               768 non-null    int64  \n",
      " 1   Glucose                   768 non-null    int64  \n",
      " 2   BloodPressure             768 non-null    int64  \n",
      " 3   SkinThickness             768 non-null    int64  \n",
      " 4   Insulin                   768 non-null    int64  \n",
      " 5   BMI                       768 non-null    float64\n",
      " 6   DiabetesPedigreeFunction  768 non-null    float64\n",
      " 7   Age                       768 non-null    int64  \n",
      " 8   Outcome                   768 non-null    int64  \n",
      "dtypes: float64(2), int64(7)\n",
      "memory usage: 54.1 KB\n"
     ]
    }
   ],
   "source": [
    "df.info()"
   ]
  },
  {
   "cell_type": "code",
   "execution_count": 5,
   "metadata": {},
   "outputs": [
    {
     "data": {
      "text/html": [
       "<div>\n",
       "<style scoped>\n",
       "    .dataframe tbody tr th:only-of-type {\n",
       "        vertical-align: middle;\n",
       "    }\n",
       "\n",
       "    .dataframe tbody tr th {\n",
       "        vertical-align: top;\n",
       "    }\n",
       "\n",
       "    .dataframe thead th {\n",
       "        text-align: right;\n",
       "    }\n",
       "</style>\n",
       "<table border=\"1\" class=\"dataframe\">\n",
       "  <thead>\n",
       "    <tr style=\"text-align: right;\">\n",
       "      <th></th>\n",
       "      <th>Pregnancies</th>\n",
       "      <th>Glucose</th>\n",
       "      <th>BloodPressure</th>\n",
       "      <th>SkinThickness</th>\n",
       "      <th>Insulin</th>\n",
       "      <th>BMI</th>\n",
       "      <th>DiabetesPedigreeFunction</th>\n",
       "      <th>Age</th>\n",
       "      <th>Outcome</th>\n",
       "    </tr>\n",
       "  </thead>\n",
       "  <tbody>\n",
       "    <tr>\n",
       "      <th>0</th>\n",
       "      <td>6</td>\n",
       "      <td>148</td>\n",
       "      <td>72</td>\n",
       "      <td>35</td>\n",
       "      <td>0</td>\n",
       "      <td>33.6</td>\n",
       "      <td>0.627</td>\n",
       "      <td>50</td>\n",
       "      <td>1</td>\n",
       "    </tr>\n",
       "    <tr>\n",
       "      <th>1</th>\n",
       "      <td>1</td>\n",
       "      <td>85</td>\n",
       "      <td>66</td>\n",
       "      <td>29</td>\n",
       "      <td>0</td>\n",
       "      <td>26.6</td>\n",
       "      <td>0.351</td>\n",
       "      <td>31</td>\n",
       "      <td>0</td>\n",
       "    </tr>\n",
       "    <tr>\n",
       "      <th>2</th>\n",
       "      <td>8</td>\n",
       "      <td>183</td>\n",
       "      <td>64</td>\n",
       "      <td>0</td>\n",
       "      <td>0</td>\n",
       "      <td>23.3</td>\n",
       "      <td>0.672</td>\n",
       "      <td>32</td>\n",
       "      <td>1</td>\n",
       "    </tr>\n",
       "    <tr>\n",
       "      <th>3</th>\n",
       "      <td>1</td>\n",
       "      <td>89</td>\n",
       "      <td>66</td>\n",
       "      <td>23</td>\n",
       "      <td>94</td>\n",
       "      <td>28.1</td>\n",
       "      <td>0.167</td>\n",
       "      <td>21</td>\n",
       "      <td>0</td>\n",
       "    </tr>\n",
       "    <tr>\n",
       "      <th>4</th>\n",
       "      <td>0</td>\n",
       "      <td>137</td>\n",
       "      <td>40</td>\n",
       "      <td>35</td>\n",
       "      <td>168</td>\n",
       "      <td>43.1</td>\n",
       "      <td>2.288</td>\n",
       "      <td>33</td>\n",
       "      <td>1</td>\n",
       "    </tr>\n",
       "    <tr>\n",
       "      <th>...</th>\n",
       "      <td>...</td>\n",
       "      <td>...</td>\n",
       "      <td>...</td>\n",
       "      <td>...</td>\n",
       "      <td>...</td>\n",
       "      <td>...</td>\n",
       "      <td>...</td>\n",
       "      <td>...</td>\n",
       "      <td>...</td>\n",
       "    </tr>\n",
       "    <tr>\n",
       "      <th>95</th>\n",
       "      <td>6</td>\n",
       "      <td>144</td>\n",
       "      <td>72</td>\n",
       "      <td>27</td>\n",
       "      <td>228</td>\n",
       "      <td>33.9</td>\n",
       "      <td>0.255</td>\n",
       "      <td>40</td>\n",
       "      <td>0</td>\n",
       "    </tr>\n",
       "    <tr>\n",
       "      <th>96</th>\n",
       "      <td>2</td>\n",
       "      <td>92</td>\n",
       "      <td>62</td>\n",
       "      <td>28</td>\n",
       "      <td>0</td>\n",
       "      <td>31.6</td>\n",
       "      <td>0.130</td>\n",
       "      <td>24</td>\n",
       "      <td>0</td>\n",
       "    </tr>\n",
       "    <tr>\n",
       "      <th>97</th>\n",
       "      <td>1</td>\n",
       "      <td>71</td>\n",
       "      <td>48</td>\n",
       "      <td>18</td>\n",
       "      <td>76</td>\n",
       "      <td>20.4</td>\n",
       "      <td>0.323</td>\n",
       "      <td>22</td>\n",
       "      <td>0</td>\n",
       "    </tr>\n",
       "    <tr>\n",
       "      <th>98</th>\n",
       "      <td>6</td>\n",
       "      <td>93</td>\n",
       "      <td>50</td>\n",
       "      <td>30</td>\n",
       "      <td>64</td>\n",
       "      <td>28.7</td>\n",
       "      <td>0.356</td>\n",
       "      <td>23</td>\n",
       "      <td>0</td>\n",
       "    </tr>\n",
       "    <tr>\n",
       "      <th>99</th>\n",
       "      <td>1</td>\n",
       "      <td>122</td>\n",
       "      <td>90</td>\n",
       "      <td>51</td>\n",
       "      <td>220</td>\n",
       "      <td>49.7</td>\n",
       "      <td>0.325</td>\n",
       "      <td>31</td>\n",
       "      <td>1</td>\n",
       "    </tr>\n",
       "  </tbody>\n",
       "</table>\n",
       "<p>100 rows × 9 columns</p>\n",
       "</div>"
      ],
      "text/plain": [
       "    Pregnancies  Glucose  BloodPressure  SkinThickness  Insulin   BMI  \\\n",
       "0             6      148             72             35        0  33.6   \n",
       "1             1       85             66             29        0  26.6   \n",
       "2             8      183             64              0        0  23.3   \n",
       "3             1       89             66             23       94  28.1   \n",
       "4             0      137             40             35      168  43.1   \n",
       "..          ...      ...            ...            ...      ...   ...   \n",
       "95            6      144             72             27      228  33.9   \n",
       "96            2       92             62             28        0  31.6   \n",
       "97            1       71             48             18       76  20.4   \n",
       "98            6       93             50             30       64  28.7   \n",
       "99            1      122             90             51      220  49.7   \n",
       "\n",
       "    DiabetesPedigreeFunction  Age  Outcome  \n",
       "0                      0.627   50        1  \n",
       "1                      0.351   31        0  \n",
       "2                      0.672   32        1  \n",
       "3                      0.167   21        0  \n",
       "4                      2.288   33        1  \n",
       "..                       ...  ...      ...  \n",
       "95                     0.255   40        0  \n",
       "96                     0.130   24        0  \n",
       "97                     0.323   22        0  \n",
       "98                     0.356   23        0  \n",
       "99                     0.325   31        1  \n",
       "\n",
       "[100 rows x 9 columns]"
      ]
     },
     "execution_count": 5,
     "metadata": {},
     "output_type": "execute_result"
    }
   ],
   "source": [
    "df.head(100)"
   ]
  },
  {
   "cell_type": "code",
   "execution_count": 6,
   "metadata": {},
   "outputs": [
    {
     "data": {
      "text/plain": [
       "<matplotlib.axes._subplots.AxesSubplot at 0x7f2762dd6410>"
      ]
     },
     "execution_count": 6,
     "metadata": {},
     "output_type": "execute_result"
    },
    {
     "data": {
      "image/png": "[encoded data removed]",
      "text/plain": [
       "<Figure size 432x288 with 1 Axes>"
      ]
     },
     "metadata": {
      "needs_background": "light"
     },
     "output_type": "display_data"
    }
   ],
   "source": [
    "df.Outcome.hist()"
   ]
  },
  {
   "cell_type": "code",
   "execution_count": 7,
   "metadata": {},
   "outputs": [],
   "source": [
    "X = df.drop(\"Outcome\", axis = 1)\n",
    "Y = df[\"Outcome\"].to_numpy()\n",
    "Y = np.where(Y == 0, -1, 1)"
   ]
  },
  {
   "cell_type": "code",
   "execution_count": 8,
   "metadata": {},
   "outputs": [],
   "source": [
    "from sklearn.preprocessing import MinMaxScaler\n",
    "\n",
    "mmscaler = MinMaxScaler()\n",
    "\n",
    "X_scaled = mmscaler.fit_transform(X)\n"
   ]
  },
  {
   "cell_type": "code",
   "execution_count": 9,
   "metadata": {
    "scrolled": false
   },
   "outputs": [
    {
     "data": {
      "text/plain": [
       "array([[0.35294118, 0.74371859, 0.59016393, ..., 0.50074516, 0.23441503,\n",
       "        0.48333333],\n",
       "       [0.05882353, 0.42713568, 0.54098361, ..., 0.39642325, 0.11656704,\n",
       "        0.16666667],\n",
       "       [0.47058824, 0.91959799, 0.52459016, ..., 0.34724292, 0.25362938,\n",
       "        0.18333333],\n",
       "       ...,\n",
       "       [0.29411765, 0.6080402 , 0.59016393, ..., 0.390462  , 0.07130658,\n",
       "        0.15      ],\n",
       "       [0.05882353, 0.63316583, 0.49180328, ..., 0.4485842 , 0.11571307,\n",
       "        0.43333333],\n",
       "       [0.05882353, 0.46733668, 0.57377049, ..., 0.45305514, 0.10119556,\n",
       "        0.03333333]])"
      ]
     },
     "execution_count": 9,
     "metadata": {},
     "output_type": "execute_result"
    }
   ],
   "source": [
    "X_scaled"
   ]
  },
  {
   "cell_type": "code",
   "execution_count": 9,
   "metadata": {},
   "outputs": [
    {
     "data": {
      "text/plain": [
       "numpy.ndarray"
      ]
     },
     "execution_count": 9,
     "metadata": {},
     "output_type": "execute_result"
    }
   ],
   "source": [
    "type(Y)"
   ]
  },
  {
   "cell_type": "code",
   "execution_count": 98,
   "metadata": {},
   "outputs": [],
   "source": [
    "class Perceptron:\n",
    "    \n",
    "    def __init__ (self, niter, LR):\n",
    "        \n",
    "        self.niter = niter \n",
    "        self.LR = LR \n",
    "        \n",
    "        \n",
    "    def fit (self, x, y ):\n",
    "        self.m = []\n",
    "        accuracy = {}\n",
    "        max_accuracy = 0\n",
    "        \n",
    "        self.weight = np.ones(1 + x.shape[1])\n",
    "        \n",
    "        for i in range(self.niter):\n",
    "            m_count = 0\n",
    "            for x_row , y_row in zip(x,y):\n",
    "                updated_W = self.LR * (y_row - self.predict(x_row))\n",
    "                self.weight[1:] += x_row * updated_W\n",
    "                self.weight[0] += updated_W\n",
    "                m_count += int(updated_W != 0.0)\n",
    "            self.m.append(m_count)\n",
    "            \n",
    "            accuracy[i] = accuracy_score(self.predict_array(x), y)\n",
    "            if (accuracy[i] > max_accuracy):\n",
    "                max_accuracy = accuracy[i]\n",
    "                chkptw = self.weight[1:]\n",
    "                chkptb = self.weight[0]\n",
    "                \n",
    "        self.weight[1:] = chkptw\n",
    "        self.weight[0] = chkptb\n",
    "                \n",
    "            \n",
    "        return self\n",
    "                \n",
    "                \n",
    "                \n",
    "                \n",
    "    def predict(self, x):\n",
    "        \n",
    "        #percep = np.dot(self.weight[1:], x) + self.weight[0]\n",
    "        \n",
    "        return np.where(np.dot(self.weight[1:], x) + self.weight[0] >= 0.0 , 1, -1)\n",
    "    \n",
    "    def predict_array(self, x): \n",
    "        \n",
    "        y = []\n",
    "        \n",
    "        for x1 in x:\n",
    "            \n",
    "            results = self.predict(x1)\n",
    "            y.append(results)\n",
    "            \n",
    "        return np.array(y)\n",
    "    \n",
    "    def show_weights (self):\n",
    "        \n",
    "        print (\"W\", self.weight[1:])\n",
    "        \n",
    "        print(\"/n\")\n",
    "        \n",
    "        print(\"bias\", self.weight[0])\n",
    "        \n",
    "    "
   ]
  },
  {
   "cell_type": "code",
   "execution_count": 100,
   "metadata": {},
   "outputs": [
    {
     "data": {
      "text/plain": [
       "<__main__.Perceptron at 0x7f2757fa4c10>"
      ]
     },
     "execution_count": 100,
     "metadata": {},
     "output_type": "execute_result"
    }
   ],
   "source": [
    "from sklearn.model_selection import train_test_split\n",
    "#from sklearn.linear_model import Perceptron\n",
    "pred = Perceptron(6000, 0.00001)\n",
    "# use cross_validation\n",
    "x_train, x_test, y_train, y_test = train_test_split(X_scaled, Y, test_size=0.2, random_state=100)\n",
    "pred.fit(x_train, y_train)\n",
    "\n"
   ]
  },
  {
   "cell_type": "code",
   "execution_count": 101,
   "metadata": {},
   "outputs": [],
   "source": [
    "predicted = pred.predict_array(x_test)"
   ]
  },
  {
   "cell_type": "code",
   "execution_count": 102,
   "metadata": {},
   "outputs": [
    {
     "name": "stdout",
     "output_type": "stream",
     "text": [
      "W [ 0.02497647  0.10726704 -0.01713967 -0.03459455 -0.01637447  0.18696316\n",
      "  0.06137853  0.00994467]\n",
      "/n\n",
      "bias -0.2796800000007167\n"
     ]
    }
   ],
   "source": [
    "pred.show_weights()"
   ]
  },
  {
   "cell_type": "code",
   "execution_count": 17,
   "metadata": {
    "scrolled": true
   },
   "outputs": [
    {
     "data": {
      "image/png": "[encoded data removed]",
      "text/plain": [
       "<Figure size 432x288 with 1 Axes>"
      ]
     },
     "metadata": {
      "needs_background": "light"
     },
     "output_type": "display_data"
    }
   ],
   "source": [
    "plt.plot(range(1, len(pred.m) + 1), pred.m, marker='o')\n",
    "plt.xlabel('Epochs')\n",
    "plt.ylabel('Number of misclassifications')\n",
    "plt.show()"
   ]
  },
  {
   "cell_type": "code",
   "execution_count": 14,
   "metadata": {
    "scrolled": true
   },
   "outputs": [
    {
     "name": "stdout",
     "output_type": "stream",
     "text": [
      "Accuracy score:  0.7012987012987013\n",
      "Metrics Report\n",
      "              precision    recall  f1-score   support\n",
      "\n",
      "          -1       0.79      0.74      0.77       101\n",
      "           1       0.56      0.62      0.59        53\n",
      "\n",
      "    accuracy                           0.70       154\n",
      "   macro avg       0.67      0.68      0.68       154\n",
      "weighted avg       0.71      0.70      0.70       154\n",
      "\n"
     ]
    }
   ],
   "source": [
    "\n",
    "print('Accuracy score: ', accuracy_score(y_test, predicted))\n",
    "print('Metrics Report')\n",
    "print(classification_report(y_test, predicted))"
   ]
  },
  {
   "cell_type": "code",
   "execution_count": 155,
   "metadata": {},
   "outputs": [
    {
     "data": {
      "text/plain": [
       "614"
      ]
     },
     "execution_count": 155,
     "metadata": {},
     "output_type": "execute_result"
    }
   ],
   "source": [
    "len(x_train)"
   ]
  },
  {
   "cell_type": "code",
   "execution_count": 210,
   "metadata": {
    "scrolled": true
   },
   "outputs": [
    {
     "name": "stdout",
     "output_type": "stream",
     "text": [
      "optimal\n"
     ]
    }
   ],
   "source": [
    "import cvxpy as cp\n",
    "\n",
    "\n",
    "n_samples = len(x_train)\n",
    "d = x_train.shape[1]\n",
    "n = x_train.shape[0]\n",
    "\n",
    "W = cp.Variable((d+1))\n",
    "#bias = cp.Variable()\n",
    "epi = cp.Variable((n))\n",
    "C = cp.Parameter()\n",
    "C.value = 130\n",
    "\n",
    "obj = cp.Minimize((1*cp.norm(W,2) + 1/n_samples*C*cp.sum(epi) ))\n",
    "\n",
    "\n",
    "constranit_1 = [cp.multiply(y_train,(x_train@W[1:]+W[0])) >= (1-epi)]\n",
    "\n",
    "constraint_2 = [epi >= 0]\n",
    "\n",
    "constraints = constranit_1 + constraint_2\n",
    "\n",
    "prob = cp.Problem(obj, constraints)\n",
    "\n",
    "prob.solve()\n",
    "\n",
    "print (prob.status)\n",
    "\n",
    "w = W.value\n",
    "#b = bias.value"
   ]
  },
  {
   "cell_type": "code",
   "execution_count": 211,
   "metadata": {},
   "outputs": [
    {
     "data": {
      "text/plain": [
       "array([-5.26485022,  1.16199015,  4.83190248, -0.81369621, -0.39204682,\n",
       "        0.06746031,  3.2323634 ,  1.83135414,  0.77769527])"
      ]
     },
     "execution_count": 211,
     "metadata": {},
     "output_type": "execute_result"
    }
   ],
   "source": [
    "w"
   ]
  },
  {
   "cell_type": "code",
   "execution_count": 174,
   "metadata": {},
   "outputs": [
    {
     "data": {
      "text/plain": [
       "array(-1.)"
      ]
     },
     "execution_count": 174,
     "metadata": {},
     "output_type": "execute_result"
    }
   ],
   "source": [
    "b"
   ]
  },
  {
   "cell_type": "code",
   "execution_count": 75,
   "metadata": {},
   "outputs": [],
   "source": [
    "    \n",
    "def predict_array_svm(x, w, b): \n",
    "    \n",
    "    y = []\n",
    "        \n",
    "    for x1 in x:\n",
    "        results = np.where(np.dot(w, x1) + b >= 0.0 , 1, -1)\n",
    "        y.append(results)\n",
    "            \n",
    "    return np.array(y)\n",
    "        "
   ]
  },
  {
   "cell_type": "code",
   "execution_count": 212,
   "metadata": {
    "scrolled": true
   },
   "outputs": [
    {
     "name": "stdout",
     "output_type": "stream",
     "text": [
      "Accuracy score:  0.7272727272727273\n",
      "Metrics Report\n",
      "              precision    recall  f1-score   support\n",
      "\n",
      "          -1       0.76      0.85      0.80       101\n",
      "           1       0.63      0.49      0.55        53\n",
      "\n",
      "    accuracy                           0.73       154\n",
      "   macro avg       0.70      0.67      0.68       154\n",
      "weighted avg       0.72      0.73      0.72       154\n",
      "\n"
     ]
    }
   ],
   "source": [
    "\n",
    "\n",
    "y = []\n",
    "        \n",
    "for x1 in x_test:\n",
    "    results = np.where(np.dot(w[1:], x1) + w[0] >= 0.0 , 1, -1)\n",
    "    y.append(results)\n",
    "\n",
    "\n",
    "\n",
    "\n",
    "\n",
    "\n",
    "#predicted_svm = predict_array_svm(x_test ,w, b)\n",
    "\n",
    "print('Accuracy score: ', accuracy_score(y_test, y))\n",
    "print('Metrics Report')\n",
    "print(classification_report(y_test, y))"
   ]
  },
  {
   "cell_type": "code",
   "execution_count": 213,
   "metadata": {},
   "outputs": [
    {
     "data": {
      "text/plain": [
       "[array(-1),\n",
       " array(-1),\n",
       " array(1),\n",
       " array(-1),\n",
       " array(-1),\n",
       " array(1),\n",
       " array(1),\n",
       " array(-1),\n",
       " array(1),\n",
       " array(-1),\n",
       " array(-1),\n",
       " array(1),\n",
       " array(-1),\n",
       " array(-1),\n",
       " array(1),\n",
       " array(-1),\n",
       " array(-1),\n",
       " array(-1),\n",
       " array(-1),\n",
       " array(-1),\n",
       " array(-1),\n",
       " array(-1),\n",
       " array(1),\n",
       " array(1),\n",
       " array(-1),\n",
       " array(1),\n",
       " array(-1),\n",
       " array(-1),\n",
       " array(-1),\n",
       " array(1),\n",
       " array(-1),\n",
       " array(1),\n",
       " array(-1),\n",
       " array(1),\n",
       " array(-1),\n",
       " array(-1),\n",
       " array(1),\n",
       " array(-1),\n",
       " array(-1),\n",
       " array(-1),\n",
       " array(-1),\n",
       " array(1),\n",
       " array(-1),\n",
       " array(-1),\n",
       " array(-1),\n",
       " array(1),\n",
       " array(-1),\n",
       " array(-1),\n",
       " array(1),\n",
       " array(1),\n",
       " array(-1),\n",
       " array(-1),\n",
       " array(-1),\n",
       " array(1),\n",
       " array(1),\n",
       " array(1),\n",
       " array(-1),\n",
       " array(-1),\n",
       " array(1),\n",
       " array(-1),\n",
       " array(-1),\n",
       " array(-1),\n",
       " array(-1),\n",
       " array(-1),\n",
       " array(-1),\n",
       " array(-1),\n",
       " array(-1),\n",
       " array(-1),\n",
       " array(-1),\n",
       " array(-1),\n",
       " array(-1),\n",
       " array(1),\n",
       " array(-1),\n",
       " array(-1),\n",
       " array(-1),\n",
       " array(-1),\n",
       " array(-1),\n",
       " array(1),\n",
       " array(-1),\n",
       " array(-1),\n",
       " array(-1),\n",
       " array(-1),\n",
       " array(-1),\n",
       " array(-1),\n",
       " array(-1),\n",
       " array(-1),\n",
       " array(-1),\n",
       " array(-1),\n",
       " array(1),\n",
       " array(-1),\n",
       " array(-1),\n",
       " array(-1),\n",
       " array(1),\n",
       " array(-1),\n",
       " array(-1),\n",
       " array(1),\n",
       " array(-1),\n",
       " array(1),\n",
       " array(-1),\n",
       " array(-1),\n",
       " array(1),\n",
       " array(-1),\n",
       " array(1),\n",
       " array(-1),\n",
       " array(-1),\n",
       " array(1),\n",
       " array(1),\n",
       " array(-1),\n",
       " array(-1),\n",
       " array(1),\n",
       " array(-1),\n",
       " array(-1),\n",
       " array(1),\n",
       " array(-1),\n",
       " array(-1),\n",
       " array(-1),\n",
       " array(1),\n",
       " array(-1),\n",
       " array(-1),\n",
       " array(-1),\n",
       " array(-1),\n",
       " array(1),\n",
       " array(-1),\n",
       " array(-1),\n",
       " array(-1),\n",
       " array(-1),\n",
       " array(-1),\n",
       " array(-1),\n",
       " array(-1),\n",
       " array(-1),\n",
       " array(-1),\n",
       " array(1),\n",
       " array(1),\n",
       " array(-1),\n",
       " array(-1),\n",
       " array(1),\n",
       " array(-1),\n",
       " array(-1),\n",
       " array(-1),\n",
       " array(-1),\n",
       " array(1),\n",
       " array(1),\n",
       " array(-1),\n",
       " array(1),\n",
       " array(-1),\n",
       " array(-1),\n",
       " array(-1),\n",
       " array(-1),\n",
       " array(-1),\n",
       " array(-1),\n",
       " array(-1),\n",
       " array(-1),\n",
       " array(-1),\n",
       " array(-1)]"
      ]
     },
     "execution_count": 213,
     "metadata": {},
     "output_type": "execute_result"
    }
   ],
   "source": [
    "y"
   ]
  },
  {
   "cell_type": "code",
   "execution_count": null,
   "metadata": {},
   "outputs": [],
   "source": []
  }
 ],
 "metadata": {
  "kernelspec": {
   "display_name": "Python 3",
   "language": "python",
   "name": "python3"
  },
  "language_info": {
   "codemirror_mode": {
    "name": "ipython",
    "version": 3
   },
   "file_extension": ".py",
   "mimetype": "text/x-python",
   "name": "python",
   "nbconvert_exporter": "python",
   "pygments_lexer": "ipython3",
   "version": "3.7.7"
  }
 },
 "nbformat": 4,
 "nbformat_minor": 4
}
