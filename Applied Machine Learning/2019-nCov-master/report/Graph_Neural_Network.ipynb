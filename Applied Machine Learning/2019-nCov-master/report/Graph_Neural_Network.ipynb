{
 "cells": [
  {
   "cell_type": "code",
   "execution_count": 1,
   "metadata": {},
   "outputs": [],
   "source": [
    "#from chembl_webresource_client.new_client import new_client\n",
    "import matplotlib\n",
    "import pandas as pd\n",
    "#import modin.pandas as pd\n",
    "import torch\n",
    "from torch import nn\n",
    "from torch import optim\n",
    "from torch.utils.data import DataLoader\n",
    "\n",
    "import EMNN.gnn\n",
    "\n",
    "import EMNN.gnn.emn_implementations\n",
    "from EMNN.losses import LOSS_FUNCTIONS\n",
    "from EMNN.train_logging import LOG_FUNCTIONS\n",
    "from EMNN.gnn.molgraph_data import MolGraphDataset, molgraph_collate_fn\n",
    "from EMNN.train_logging import feed_net\n",
    "from EMNN.train_logging import compute_mse\n",
    "import datetime"
   ]
  },
  {
   "cell_type": "code",
   "execution_count": 2,
   "metadata": {},
   "outputs": [],
   "source": [
    "drug_c = pd.read_csv(\"drugCentral.csv\")\n",
    "endogenous = pd.read_csv(\"endogenous.csv\")\n",
    "in_trails = pd.read_csv(\"in-trials.csv\")\n",
    "world = pd.read_csv(\"world.csv\")\n",
    "df1 = pd.read_csv('Bioactivities2.csv',sep='\\t',low_memory=False)"
   ]
  },
  {
   "cell_type": "code",
   "execution_count": 3,
   "metadata": {},
   "outputs": [],
   "source": [
    "# uniprot_id = \"O15648\"\n",
    "# records = new_client.target.filter(target_components__accession=uniprot_id)\n",
    "# print([(x['target_chembl_id'], x['pref_name']) for x in records])"
   ]
  },
  {
   "cell_type": "code",
   "execution_count": 4,
   "metadata": {},
   "outputs": [],
   "source": [
    "# chembl_id = \"CHEMBL5686\"\n",
    "# records = new_client.activity.filter(target_chembl_id=chembl_id)\n",
    "# len(records)"
   ]
  },
  {
   "cell_type": "code",
   "execution_count": 5,
   "metadata": {},
   "outputs": [],
   "source": [
    "# Bio = records[0:7870]"
   ]
  },
  {
   "cell_type": "code",
   "execution_count": 6,
   "metadata": {
    "scrolled": true
   },
   "outputs": [],
   "source": [
    "# df= pd.DataFrame(list(Bio.all()))"
   ]
  },
  {
   "cell_type": "code",
   "execution_count": 7,
   "metadata": {
    "scrolled": true
   },
   "outputs": [],
   "source": [
    "# pd.DataFrame(df).to_csv(\"Bioactivities.csv\", index=True, sep='\\t')"
   ]
  },
  {
   "cell_type": "code",
   "execution_count": 8,
   "metadata": {},
   "outputs": [],
   "source": [
    "data = pd.read_csv(\"Bioactivities.csv\",sep='\\t')"
   ]
  },
  {
   "cell_type": "code",
   "execution_count": 3,
   "metadata": {},
   "outputs": [
    {
     "name": "stdout",
     "output_type": "stream",
     "text": [
      "<class 'pandas.core.frame.DataFrame'>\n",
      "RangeIndex: 64726 entries, 0 to 64725\n",
      "Data columns (total 48 columns):\n",
      " #   Column                      Non-Null Count  Dtype  \n",
      "---  ------                      --------------  -----  \n",
      " 0   Unnamed: 0                  64726 non-null  int64  \n",
      " 1   Molecule ChEMBL ID          64726 non-null  object \n",
      " 2   Molecule Max Phase          64726 non-null  int64  \n",
      " 3   Molecular Weight            64726 non-null  float64\n",
      " 4   #RO5 Violations             64726 non-null  object \n",
      " 5   AlogP                       64726 non-null  object \n",
      " 6   Compound Key                64726 non-null  object \n",
      " 7   Smiles                      64726 non-null  object \n",
      " 8   Standard Type               64726 non-null  object \n",
      " 9   Standard Relation           64726 non-null  object \n",
      " 10  Standard Value              64726 non-null  float64\n",
      " 11  Standard Units              64726 non-null  object \n",
      " 12  Uo Units                    64726 non-null  object \n",
      " 13  Potential Duplicate         64726 non-null  bool   \n",
      " 14  Assay ChEMBL ID             64726 non-null  object \n",
      " 15  Assay Description           64726 non-null  object \n",
      " 16  Assay Type                  64726 non-null  object \n",
      " 17  BAO Format ID               64726 non-null  object \n",
      " 18  BAO Label                   64726 non-null  object \n",
      " 19  Assay Organism              64726 non-null  object \n",
      " 20  Assay Tissue ChEMBL ID      64726 non-null  object \n",
      " 21  Assay Tissue Name           64726 non-null  object \n",
      " 22  Assay Cell Type             64726 non-null  object \n",
      " 23  Assay Subcellular Fraction  64726 non-null  object \n",
      " 24  Target ChEMBL ID            64726 non-null  object \n",
      " 25  Target Name                 64726 non-null  object \n",
      " 26  Target Organism             64726 non-null  object \n",
      " 27  Target Type                 64726 non-null  object \n",
      " 28  Document ChEMBL ID          64726 non-null  object \n",
      " 29  Source ID                   64726 non-null  int64  \n",
      " 30  Source Description          64726 non-null  object \n",
      " 31  Cell ChEMBL ID              64726 non-null  object \n",
      " 32  mol                         64726 non-null  object \n",
      " 33  HeavyAtomCount              64726 non-null  int64  \n",
      " 34  HAccept                     64726 non-null  int64  \n",
      " 35  HDonor                      64726 non-null  int64  \n",
      " 36  Heteroatoms                 64726 non-null  int64  \n",
      " 37  RingCount                   64726 non-null  int64  \n",
      " 38  SaturatedRings              64726 non-null  int64  \n",
      " 39  AliphaticRings              64726 non-null  int64  \n",
      " 40  AromaticRings               64726 non-null  int64  \n",
      " 41  Ipc                         64726 non-null  float64\n",
      " 42  HallKierAlpha               64726 non-null  float64\n",
      " 43  NumValenceElectrons         64726 non-null  int64  \n",
      " 44  MolLogP                     64726 non-null  float64\n",
      " 45  AMW                         64726 non-null  float64\n",
      " 46  NumRotatableBonds           64726 non-null  int64  \n",
      " 47  logValue                    64726 non-null  float64\n",
      "dtypes: bool(1), float64(7), int64(13), object(27)\n",
      "memory usage: 23.3+ MB\n"
     ]
    }
   ],
   "source": [
    "df1.info()"
   ]
  },
  {
   "cell_type": "code",
   "execution_count": 10,
   "metadata": {},
   "outputs": [],
   "source": [
    "data = data.dropna(subset=['canonical_smiles', 'molecule_chembl_id']).drop_duplicates(subset=['molecule_chembl_id'])"
   ]
  },
  {
   "cell_type": "code",
   "execution_count": 11,
   "metadata": {},
   "outputs": [
    {
     "data": {
      "text/plain": [
       "Potency     5798\n",
       "Activity      53\n",
       "INH           36\n",
       "IC50          10\n",
       "Ki             3\n",
       "Ki/Km          1\n",
       "Name: type, dtype: int64"
      ]
     },
     "execution_count": 11,
     "metadata": {},
     "output_type": "execute_result"
    }
   ],
   "source": [
    "data.type.value_counts()"
   ]
  },
  {
   "cell_type": "code",
   "execution_count": 12,
   "metadata": {},
   "outputs": [
    {
     "data": {
      "text/plain": [
       "0              OC[C@H]1O[C@H](CNC2CCCC2)[C@@H](O)[C@@H]1O\n",
       "1       OC[C@H]1O[C@H](CNCc2ccc(Cl)cc2Cl)[C@@H](O)[C@@...\n",
       "2            OC[C@H]1O[C@H](CNC2CCCCCC2)[C@@H](O)[C@@H]1O\n",
       "3       OC[C@H]1O[C@H](CNCc2ccc(-c3ccccc3)cc2)[C@@H](O...\n",
       "4        Cc1ccc(CNC[C@H]2O[C@H](CO)[C@@H](O)[C@@H]2O)cc1C\n",
       "                              ...                        \n",
       "7846    COc1ccc(CC(=O)Nc2ccc(S(=O)(=O)Nc3cc(C)on3)cc2)...\n",
       "7857    Cc1cc(NC(=O)c2ccc(NC(=O)Cc3ccc(Cl)c(Cl)c3)cc2)no1\n",
       "7863     Cc1cc(NC(=O)c2csc(NC(=O)Cc3ccc(Cl)c(Cl)c3)n2)no1\n",
       "7868    OC[C@H]1O[C@H](CNc2ccc3ccccc3c2)[C@@H](O)[C@@H]1O\n",
       "7869    OC[C@H]1O[C@H](CNc2ccc(Cl)c(Cl)c2)[C@@H](O)[C@...\n",
       "Name: canonical_smiles, Length: 5901, dtype: object"
      ]
     },
     "execution_count": 12,
     "metadata": {},
     "output_type": "execute_result"
    }
   ],
   "source": [
    "data.canonical_smiles"
   ]
  },
  {
   "cell_type": "code",
   "execution_count": 3,
   "metadata": {},
   "outputs": [],
   "source": [
    "data_reduced = df1[['Smiles','logValue']]"
   ]
  },
  {
   "cell_type": "code",
   "execution_count": 9,
   "metadata": {},
   "outputs": [
    {
     "name": "stdout",
     "output_type": "stream",
     "text": [
      "<class 'pandas.core.frame.DataFrame'>\n",
      "RangeIndex: 64726 entries, 0 to 64725\n",
      "Data columns (total 2 columns):\n",
      " #   Column    Non-Null Count  Dtype  \n",
      "---  ------    --------------  -----  \n",
      " 0   Smiles    64726 non-null  object \n",
      " 1   logValue  64726 non-null  float64\n",
      "dtypes: float64(1), object(1)\n",
      "memory usage: 1011.5+ KB\n"
     ]
    }
   ],
   "source": [
    "data_reduced.info()"
   ]
  },
  {
   "cell_type": "code",
   "execution_count": 14,
   "metadata": {},
   "outputs": [],
   "source": [
    "drop_low_types = data_reduced[(data_reduced['type'] == 'IC50') | (data_reduced['type']== 'Activity') | (data_reduced['type']== 'INH') | (data_reduced['type']== 'Ki')| (data_reduced['type']== 'Ki/Km')].index"
   ]
  },
  {
   "cell_type": "code",
   "execution_count": 15,
   "metadata": {},
   "outputs": [],
   "source": [
    "data_reduced_PotOnly = data_reduced.drop(drop_low_types)"
   ]
  },
  {
   "cell_type": "code",
   "execution_count": 16,
   "metadata": {},
   "outputs": [],
   "source": [
    "data_reduced_PotOnly = data_reduced_PotOnly.dropna()"
   ]
  },
  {
   "cell_type": "code",
   "execution_count": 17,
   "metadata": {},
   "outputs": [
    {
     "name": "stdout",
     "output_type": "stream",
     "text": [
      "<class 'pandas.core.frame.DataFrame'>\n",
      "Int64Index: 5798 entries, 66 to 6835\n",
      "Data columns (total 3 columns):\n",
      " #   Column            Non-Null Count  Dtype  \n",
      "---  ------            --------------  -----  \n",
      " 0   canonical_smiles  5798 non-null   object \n",
      " 1   type              5798 non-null   object \n",
      " 2   value             5798 non-null   float64\n",
      "dtypes: float64(1), object(2)\n",
      "memory usage: 181.2+ KB\n"
     ]
    }
   ],
   "source": [
    "data_reduced_PotOnly.info()"
   ]
  },
  {
   "cell_type": "code",
   "execution_count": 18,
   "metadata": {
    "scrolled": true
   },
   "outputs": [
    {
     "data": {
      "text/plain": [
       "<AxesSubplot:>"
      ]
     },
     "execution_count": 18,
     "metadata": {},
     "output_type": "execute_result"
    },
    {
     "data": {
      "image/png": "[encoded data removed]",
      "text/plain": [
       "<Figure size 432x288 with 1 Axes>"
      ]
     },
     "metadata": {
      "needs_background": "light"
     },
     "output_type": "display_data"
    }
   ],
   "source": [
    "data_reduced_PotOnly['value'].hist()"
   ]
  },
  {
   "cell_type": "code",
   "execution_count": 19,
   "metadata": {},
   "outputs": [],
   "source": [
    "import numpy as np\n",
    "data_reduced_PotOnly['logValue'] = -1 * np.log(data_reduced_PotOnly['value'])"
   ]
  },
  {
   "cell_type": "code",
   "execution_count": 20,
   "metadata": {},
   "outputs": [],
   "source": [
    "# data_prepared = data_reduced_PotOnly.drop(columns = \"type\")\n",
    "data_prepared = data_reduced.drop(columns = \"value\")"
   ]
  },
  {
   "cell_type": "code",
   "execution_count": 21,
   "metadata": {},
   "outputs": [
    {
     "data": {
      "text/html": [
       "<div>\n",
       "<style scoped>\n",
       "    .dataframe tbody tr th:only-of-type {\n",
       "        vertical-align: middle;\n",
       "    }\n",
       "\n",
       "    .dataframe tbody tr th {\n",
       "        vertical-align: top;\n",
       "    }\n",
       "\n",
       "    .dataframe thead th {\n",
       "        text-align: right;\n",
       "    }\n",
       "</style>\n",
       "<table border=\"1\" class=\"dataframe\">\n",
       "  <thead>\n",
       "    <tr style=\"text-align: right;\">\n",
       "      <th></th>\n",
       "      <th>canonical_smiles</th>\n",
       "      <th>logValue</th>\n",
       "    </tr>\n",
       "  </thead>\n",
       "  <tbody>\n",
       "    <tr>\n",
       "      <th>66</th>\n",
       "      <td>Cc1cc(C(=O)NNC(=O)Cc2ccc(Cl)c(Cl)c2)c(C)o1</td>\n",
       "      <td>-3.405564</td>\n",
       "    </tr>\n",
       "    <tr>\n",
       "      <th>67</th>\n",
       "      <td>O=C(NC(=S)Nc1ccccc1C(=O)O)c1ccc2ccccc2c1</td>\n",
       "      <td>-2.484532</td>\n",
       "    </tr>\n",
       "    <tr>\n",
       "      <th>68</th>\n",
       "      <td>O=C(NCCCN1CCCCCC1)c1ccc(CS(=O)(=O)Cc2ccccc2F)o1</td>\n",
       "      <td>-1.908890</td>\n",
       "    </tr>\n",
       "    <tr>\n",
       "      <th>69</th>\n",
       "      <td>NS(=O)(=O)c1ccc(NC(=O)Nc2ccc(C(F)(F)F)cc2)cc1</td>\n",
       "      <td>-2.599655</td>\n",
       "    </tr>\n",
       "    <tr>\n",
       "      <th>70</th>\n",
       "      <td>CCNC(=O)C1CCCc2c1[nH]c1ccc(Cl)cc21</td>\n",
       "      <td>-3.060175</td>\n",
       "    </tr>\n",
       "    <tr>\n",
       "      <th>...</th>\n",
       "      <td>...</td>\n",
       "      <td>...</td>\n",
       "    </tr>\n",
       "    <tr>\n",
       "      <th>6831</th>\n",
       "      <td>C[N+](C)(C)CCO</td>\n",
       "      <td>1.775492</td>\n",
       "    </tr>\n",
       "    <tr>\n",
       "      <th>6832</th>\n",
       "      <td>Cc1cc([C@@H]2CCCN2C)on1</td>\n",
       "      <td>-3.981209</td>\n",
       "    </tr>\n",
       "    <tr>\n",
       "      <th>6833</th>\n",
       "      <td>Cc1cccc(C2CN(C)CCc3c2cc(O)c(O)c3Cl)c1</td>\n",
       "      <td>0.163461</td>\n",
       "    </tr>\n",
       "    <tr>\n",
       "      <th>6834</th>\n",
       "      <td>CC(=O)O[C@H]1CC2(C)[C@@H](C[C@@H](O)[C@H]3[C@@...</td>\n",
       "      <td>-2.024008</td>\n",
       "    </tr>\n",
       "    <tr>\n",
       "      <th>6835</th>\n",
       "      <td>CC[C@@H](CO)Nc1nc(NCc2ccccc2)c2ncn(C(C)C)c2n1</td>\n",
       "      <td>0.278524</td>\n",
       "    </tr>\n",
       "  </tbody>\n",
       "</table>\n",
       "<p>5798 rows × 2 columns</p>\n",
       "</div>"
      ],
      "text/plain": [
       "                                       canonical_smiles  logValue\n",
       "66           Cc1cc(C(=O)NNC(=O)Cc2ccc(Cl)c(Cl)c2)c(C)o1 -3.405564\n",
       "67             O=C(NC(=S)Nc1ccccc1C(=O)O)c1ccc2ccccc2c1 -2.484532\n",
       "68      O=C(NCCCN1CCCCCC1)c1ccc(CS(=O)(=O)Cc2ccccc2F)o1 -1.908890\n",
       "69        NS(=O)(=O)c1ccc(NC(=O)Nc2ccc(C(F)(F)F)cc2)cc1 -2.599655\n",
       "70                   CCNC(=O)C1CCCc2c1[nH]c1ccc(Cl)cc21 -3.060175\n",
       "...                                                 ...       ...\n",
       "6831                                     C[N+](C)(C)CCO  1.775492\n",
       "6832                            Cc1cc([C@@H]2CCCN2C)on1 -3.981209\n",
       "6833              Cc1cccc(C2CN(C)CCc3c2cc(O)c(O)c3Cl)c1  0.163461\n",
       "6834  CC(=O)O[C@H]1CC2(C)[C@@H](C[C@@H](O)[C@H]3[C@@... -2.024008\n",
       "6835      CC[C@@H](CO)Nc1nc(NCc2ccccc2)c2ncn(C(C)C)c2n1  0.278524\n",
       "\n",
       "[5798 rows x 2 columns]"
      ]
     },
     "execution_count": 21,
     "metadata": {},
     "output_type": "execute_result"
    }
   ],
   "source": [
    "data_prepared"
   ]
  },
  {
   "cell_type": "code",
   "execution_count": 22,
   "metadata": {},
   "outputs": [],
   "source": [
    "from sklearn.preprocessing import StandardScaler\n",
    "scaler = StandardScaler()\n",
    "data_prepared['logValue_scaled'] = scaler.fit_transform(data_prepared[['logValue']].values[:,0].reshape(-1, 1))\n",
    "# df.insert(2, 'value_scaled', scaler.transform(data_prepared[['value']].values[:,0].reshape(-1, 1)), True)"
   ]
  },
  {
   "cell_type": "code",
   "execution_count": 4,
   "metadata": {},
   "outputs": [],
   "source": [
    "# data_prepared_sacled = data_prepared.drop(columns = \"logValue\")\n",
    "# data_prepared_sacled_np = data_prepared_sacled.to_numpy()\n",
    "data_reduced_np = data_reduced.to_numpy()"
   ]
  },
  {
   "cell_type": "code",
   "execution_count": 63,
   "metadata": {},
   "outputs": [],
   "source": [
    "import numpy as np\n",
    "np.random.shuffle(data_reduced_np)\n",
    "train, valid, test = np.split(data_reduced_np, [int(.76*data_reduced_np.shape[0]), int(.9*data_reduced_np.shape[0])])\n",
    "train = np.insert(train, 0, [None]*train.shape[0], 1)\n",
    "valid = np.insert(valid, 0, [None]*valid.shape[0], 1)\n",
    "test = np.insert(test, 0, [None]*test.shape[0], 1)"
   ]
  },
  {
   "cell_type": "code",
   "execution_count": 11,
   "metadata": {},
   "outputs": [],
   "source": [
    "import numpy as np\n"
   ]
  },
  {
   "cell_type": "code",
   "execution_count": 64,
   "metadata": {},
   "outputs": [
    {
     "data": {
      "text/plain": [
       "49191"
      ]
     },
     "execution_count": 64,
     "metadata": {},
     "output_type": "execute_result"
    }
   ],
   "source": [
    "len(train)"
   ]
  },
  {
   "cell_type": "code",
   "execution_count": 65,
   "metadata": {},
   "outputs": [
    {
     "data": {
      "text/plain": [
       "9062"
      ]
     },
     "execution_count": 65,
     "metadata": {},
     "output_type": "execute_result"
    }
   ],
   "source": [
    "len(valid)"
   ]
  },
  {
   "cell_type": "code",
   "execution_count": 66,
   "metadata": {},
   "outputs": [
    {
     "data": {
      "text/plain": [
       "6473"
      ]
     },
     "execution_count": 66,
     "metadata": {},
     "output_type": "execute_result"
    }
   ],
   "source": [
    "len(test)"
   ]
  },
  {
   "cell_type": "code",
   "execution_count": 5,
   "metadata": {},
   "outputs": [
    {
     "ename": "NameError",
     "evalue": "name 'train' is not defined",
     "output_type": "error",
     "traceback": [
      "\u001b[0;31m---------------------------------------------------------------------------\u001b[0m",
      "\u001b[0;31mNameError\u001b[0m                                 Traceback (most recent call last)",
      "\u001b[0;32m<ipython-input-5-e7e3f6327344>\u001b[0m in \u001b[0;36m<module>\u001b[0;34m\u001b[0m\n\u001b[0;32m----> 1\u001b[0;31m \u001b[0mpd\u001b[0m\u001b[0;34m.\u001b[0m\u001b[0mDataFrame\u001b[0m\u001b[0;34m(\u001b[0m\u001b[0mtrain\u001b[0m\u001b[0;34m)\u001b[0m\u001b[0;34m.\u001b[0m\u001b[0mto_csv\u001b[0m\u001b[0;34m(\u001b[0m\u001b[0;34m\"Data/leishmaniasis_train.csv.gz\"\u001b[0m\u001b[0;34m,\u001b[0m \u001b[0mindex\u001b[0m\u001b[0;34m=\u001b[0m\u001b[0;32mFalse\u001b[0m\u001b[0;34m,\u001b[0m \u001b[0mcompression\u001b[0m\u001b[0;34m=\u001b[0m\u001b[0;34m'gzip'\u001b[0m\u001b[0;34m,\u001b[0m \u001b[0msep\u001b[0m\u001b[0;34m=\u001b[0m\u001b[0;34m'\\t'\u001b[0m\u001b[0;34m)\u001b[0m\u001b[0;34m\u001b[0m\u001b[0;34m\u001b[0m\u001b[0m\n\u001b[0m\u001b[1;32m      2\u001b[0m \u001b[0mpd\u001b[0m\u001b[0;34m.\u001b[0m\u001b[0mDataFrame\u001b[0m\u001b[0;34m(\u001b[0m\u001b[0mvalid\u001b[0m\u001b[0;34m)\u001b[0m\u001b[0;34m.\u001b[0m\u001b[0mto_csv\u001b[0m\u001b[0;34m(\u001b[0m\u001b[0;34m\"Data/leishmaniasis_valid.csv.gz\"\u001b[0m\u001b[0;34m,\u001b[0m \u001b[0mindex\u001b[0m\u001b[0;34m=\u001b[0m\u001b[0;32mFalse\u001b[0m\u001b[0;34m,\u001b[0m \u001b[0mcompression\u001b[0m\u001b[0;34m=\u001b[0m\u001b[0;34m'gzip'\u001b[0m\u001b[0;34m,\u001b[0m \u001b[0msep\u001b[0m\u001b[0;34m=\u001b[0m\u001b[0;34m'\\t'\u001b[0m\u001b[0;34m)\u001b[0m\u001b[0;34m\u001b[0m\u001b[0;34m\u001b[0m\u001b[0m\n\u001b[1;32m      3\u001b[0m \u001b[0mpd\u001b[0m\u001b[0;34m.\u001b[0m\u001b[0mDataFrame\u001b[0m\u001b[0;34m(\u001b[0m\u001b[0mtest\u001b[0m\u001b[0;34m)\u001b[0m\u001b[0;34m.\u001b[0m\u001b[0mto_csv\u001b[0m\u001b[0;34m(\u001b[0m\u001b[0;34m\"Data/leishmaniasis_test.csv.gz\"\u001b[0m\u001b[0;34m,\u001b[0m \u001b[0mindex\u001b[0m\u001b[0;34m=\u001b[0m\u001b[0;32mFalse\u001b[0m\u001b[0;34m,\u001b[0m \u001b[0mcompression\u001b[0m\u001b[0;34m=\u001b[0m\u001b[0;34m'gzip'\u001b[0m\u001b[0;34m,\u001b[0m \u001b[0msep\u001b[0m\u001b[0;34m=\u001b[0m\u001b[0;34m'\\t'\u001b[0m\u001b[0;34m)\u001b[0m\u001b[0;34m\u001b[0m\u001b[0;34m\u001b[0m\u001b[0m\n",
      "\u001b[0;31mNameError\u001b[0m: name 'train' is not defined"
     ]
    }
   ],
   "source": [
    "pd.DataFrame(train).to_csv(\"Data/leishmaniasis_train.csv.gz\", index=False, compression='gzip', sep='\\t')\n",
    "pd.DataFrame(valid).to_csv(\"Data/leishmaniasis_valid.csv.gz\", index=False, compression='gzip', sep='\\t')\n",
    "pd.DataFrame(test).to_csv(\"Data/leishmaniasis_test.csv.gz\", index=False, compression='gzip', sep='\\t')"
   ]
  },
  {
   "cell_type": "code",
   "execution_count": 12,
   "metadata": {},
   "outputs": [],
   "source": [
    "train_dataset = MolGraphDataset('Data/leishmaniasis_train.csv.gz')\n",
    "train_dataloader = DataLoader(train_dataset, batch_size=64, shuffle=True, collate_fn=molgraph_collate_fn)\n",
    "validation_dataset = MolGraphDataset('Data/leishmaniasis_valid.csv.gz')\n",
    "validation_dataloader = DataLoader(validation_dataset, batch_size=64, collate_fn=molgraph_collate_fn)\n",
    "test_dataset = MolGraphDataset('Data/leishmaniasis_test.csv.gz')\n",
    "test_dataloader = DataLoader(test_dataset, batch_size=64, collate_fn=molgraph_collate_fn)"
   ]
  },
  {
   "cell_type": "code",
   "execution_count": 13,
   "metadata": {},
   "outputs": [],
   "source": [
    "# ((sample_adjacency, sample_nodes, sample_edges), sample_target) = train_dataset[0]\n",
    "\n",
    "# net = EMNN.gnn.emn_implementations.EMNImplementation(node_features=len(sample_nodes[0]), \n",
    "#                                                 edge_features=len(sample_edges[0, 0]), \n",
    "#                                                 out_features=len(sample_target), \n",
    "#                                                 message_passes=5, edge_embedding_size=30, \n",
    "#                                                 edge_emb_depth=2, edge_emb_hidden_dim=60, \n",
    "#                                                 edge_emb_dropout_p=0.0, att_depth=2, att_hidden_dim=50, \n",
    "#                                                 att_dropout_p=0.0, msg_depth=2, msg_hidden_dim=50, \n",
    "#                                                 msg_dropout_p=0.0, gather_width=30, gather_att_depth=2, \n",
    "#                                                 gather_att_hidden_dim=15, gather_att_dropout_p=0.0, \n",
    "#                                                 gather_emb_depth=2, gather_emb_hidden_dim=15, \n",
    "#                                                 gather_emb_dropout_p=0.0, out_depth=2, out_hidden_dim=360, \n",
    "#                                                 out_dropout_p=0.1, out_layer_shrinkage=0.6)\n",
    "                                                \n",
    "# if True:\n",
    "#     net = net.cuda()\n",
    "\n",
    "# optimizer = optim.Adam(net.parameters(), lr=1e-4)\n",
    "# criterion = nn.MSELoss()"
   ]
  },
  {
   "cell_type": "code",
   "execution_count": 14,
   "metadata": {},
   "outputs": [],
   "source": [
    "((sample_adjacency, sample_nodes, sample_edges), sample_target) = train_dataset[0]\n",
    "\n",
    "net = EMNN.gnn.emn_implementations.EMNImplementation(node_features=len(sample_nodes[0]), \n",
    "                                                edge_features=len(sample_edges[0, 0]), \n",
    "                                                out_features=len(sample_target), \n",
    "                                                message_passes=8, edge_embedding_size=50, \n",
    "                                                edge_emb_depth=2, edge_emb_hidden_dim=150, \n",
    "                                                edge_emb_dropout_p=0.0, att_depth=2, att_hidden_dim=85, \n",
    "                                                att_dropout_p=0.0, msg_depth=2, msg_hidden_dim=150, \n",
    "                                                msg_dropout_p=0.0, gather_width=45, gather_att_depth=2, \n",
    "                                                gather_att_hidden_dim=45, gather_att_dropout_p=0.0, \n",
    "                                                gather_emb_depth=2, gather_emb_hidden_dim=45, \n",
    "                                                gather_emb_dropout_p=0.0, out_depth=2, out_hidden_dim=450, \n",
    "                                                out_dropout_p=0.1, out_layer_shrinkage=0.6)\n",
    "                                                \n",
    "if True:\n",
    "    net = net.cuda()\n",
    "\n",
    "optimizer = optim.Adam(net.parameters(), lr=1e-4)\n",
    "criterion = nn.MSELoss()"
   ]
  },
  {
   "cell_type": "code",
   "execution_count": 15,
   "metadata": {},
   "outputs": [],
   "source": [
    "SAVEDMODELS_DIR = \"EMNN/savedmodels/\"\n",
    "def evaluate_net(net, train_dataloader, validation_dataloader, test_dataloader, criterion):\n",
    "    global evaluate_called\n",
    "    global DATETIME_STR\n",
    "    global best_mean_train_score\n",
    "    global best_mean_validation_score\n",
    "    global best_mean_test_score\n",
    "    global train_subset_loader\n",
    "    \n",
    "    if not evaluate_called:\n",
    "        evaluate_called = True\n",
    "        best_mean_train_score, best_mean_validation_score, best_mean_test_score = 10, 10, 10\n",
    "        train_subset_loader = train_dataloader\n",
    "\n",
    "    train_output, train_loss, train_target = feed_net(net, train_subset_loader, criterion, True)\n",
    "    validation_output, validation_loss, validation_target = feed_net(net, validation_dataloader, criterion, True)\n",
    "    test_output, test_loss, test_target = feed_net(net, test_dataloader, criterion, True)\n",
    "\n",
    "    train_scores = compute_mse(train_output, train_target)\n",
    "    train_mean_score = np.nanmean(train_scores)\n",
    "    validation_scores = compute_mse(validation_output, validation_target)\n",
    "    validation_mean_score = np.nanmean(validation_scores)\n",
    "    test_scores = compute_mse(test_output, test_target)\n",
    "    test_mean_score = np.nanmean(test_scores)\n",
    "\n",
    "    new_best_model_found = validation_mean_score < best_mean_validation_score\n",
    "\n",
    "    if new_best_model_found:\n",
    "        best_mean_train_score = train_mean_score\n",
    "        best_mean_validation_score = validation_mean_score\n",
    "        best_mean_test_score = test_mean_score\n",
    "\n",
    "        path = SAVEDMODELS_DIR + type(net).__name__ + DATETIME_STR\n",
    "        torch.save(net, path)\n",
    "\n",
    "    target_names = train_dataloader.dataset.target_names\n",
    "    return {  # if made deeper, tensorboardx writing breaks I think\n",
    "        'loss': {'train': train_loss, 'test': test_loss},\n",
    "        'mean {}'.format(\"MSE\"):\n",
    "            {'train': train_mean_score, 'validation': validation_mean_score, 'test': test_mean_score},\n",
    "        'train {}s'.format(\"MSE\"): {target_names[i]: train_scores[i] for i in range(len(target_names))},\n",
    "        'test {}s'.format(\"MSE\"): {target_names[i]: test_scores[i] for i in range(len(target_names))},\n",
    "        'best mean {}'.format(\"MSE\"):\n",
    "            {'train': best_mean_train_score, 'validation': best_mean_validation_score, 'test': best_mean_test_score}\n",
    "    }"
   ]
  },
  {
   "cell_type": "code",
   "execution_count": 16,
   "metadata": {},
   "outputs": [],
   "source": [
    "def less_log(net, train_dataloader, validation_dataloader, test_dataloader, criterion, epoch):\n",
    "    scalars = evaluate_net(net, train_dataloader, validation_dataloader, test_dataloader, criterion)\n",
    "    mean_score_key = 'mean {}'.format(\"MSE\")\n",
    "    print('epoch {}, training mean {}: {}, validation mean {}: {}, testing mean {}: {}'.format(\n",
    "        epoch + 1,\n",
    "        \"MSE\", scalars[mean_score_key]['train'],\n",
    "        \"MSE\", scalars[mean_score_key]['validation'],\n",
    "        \"MSE\", scalars[mean_score_key]['test'])\n",
    "    )"
   ]
  },
  {
   "cell_type": "code",
   "execution_count": null,
   "metadata": {
    "scrolled": true
   },
   "outputs": [
    {
     "name": "stdout",
     "output_type": "stream",
     "text": [
      "epoch 1, training mean MSE: 0.5146155953407288, validation mean MSE: 0.5127953290939331, testing mean MSE: 0.5301437973976135\n",
      "epoch 2, training mean MSE: 0.6003549098968506, validation mean MSE: 0.6008053421974182, testing mean MSE: 0.617516279220581\n",
      "epoch 3, training mean MSE: 0.610195517539978, validation mean MSE: 0.6104124188423157, testing mean MSE: 0.6281699538230896\n"
     ]
    }
   ],
   "source": [
    "evaluate_called = False\n",
    "best_mean_train_score, best_mean_validation_score, best_mean_test_score = 10, 10, 10\n",
    "train_subset_loader = None\n",
    "DATETIME_STR = datetime.datetime.now().strftime('%Y-%m-%d %H:%M:%S.%f')\n",
    "\n",
    "for epoch in range(15):\n",
    "    net.train()\n",
    "    for i_batch, batch in enumerate(train_dataloader):\n",
    "\n",
    "        if True:\n",
    "            batch = [tensor.cuda() for tensor in batch]\n",
    "        adjacency, nodes, edges, target = batch\n",
    "\n",
    "        optimizer.zero_grad()\n",
    "        output = net(adjacency, nodes, edges)\n",
    "        loss = criterion(output, target)\n",
    "        loss.backward()\n",
    "        torch.nn.utils.clip_grad_value_(net.parameters(), 5.0)\n",
    "        optimizer.step()\n",
    "\n",
    "    with torch.no_grad():\n",
    "        net.eval()\n",
    "        less_log(net, train_dataloader, validation_dataloader, test_dataloader, criterion, epoch)"
   ]
  },
  {
   "cell_type": "code",
   "execution_count": null,
   "metadata": {},
   "outputs": [],
   "source": [
    "def predict(test_set):\n",
    "    with torch.no_grad():\n",
    "        #Change this path to predict using different trained models\n",
    "        net = torch.load(\"EMNN/savedmodels/EMNImplementation2020-10-29 16:54:38.320439\")\n",
    "        if True:\n",
    "            net = net.cuda()\n",
    "        else:\n",
    "            net = net.cpu()\n",
    "        net.eval()\n",
    "\n",
    "        dataset = MolGraphDataset(test_set, prediction=True)\n",
    "        dataloader = DataLoader(dataset, batch_size=50, collate_fn=molgraph_collate_fn)\n",
    "\n",
    "        batch_outputs = []\n",
    "        for i_batch, batch in enumerate(dataloader):\n",
    "            if True:\n",
    "                batch = [tensor.cuda() for tensor in batch]\n",
    "            adjacency, nodes, edges, target = batch\n",
    "            batch_output = net(adjacency, nodes, edges)\n",
    "            batch_outputs.append(batch_output)\n",
    "\n",
    "        output = torch.cat(batch_outputs).cpu().numpy()\n",
    "        \n",
    "        df = pd.read_csv(test_set)\n",
    "        \n",
    "        df.insert(1, 'value_scaled', output, True)\n",
    "        \n",
    "        return df"
   ]
  },
  {
   "cell_type": "code",
   "execution_count": 166,
   "metadata": {},
   "outputs": [
    {
     "name": "stdout",
     "output_type": "stream",
     "text": [
      "<class 'modin.pandas.dataframe.DataFrame'>\n",
      "RangeIndex: 4052 entries, 0 to 4051\n",
      "Data columns (total 7 columns):\n",
      " #   Column      Non-Null Count  Dtype \n",
      "---  ----------  --------------  ----- \n",
      " 0   Unnamed: 0  4052 non-null   int64\n",
      " 1   SMILES      4052 non-null   object\n",
      " 2   InChI       4052 non-null   object\n",
      " 3   InChIKey    4052 non-null   object\n",
      " 4   ID          4052 non-null   int64\n",
      " 5   INN         4052 non-null   object\n",
      " 6   CAS_RN      4050 non-null   object\n",
      "dtypes: object(5), int64(2)\n",
      "memory usage: 221.7 KB\n"
     ]
    }
   ],
   "source": [
    "drug_c.info()"
   ]
  },
  {
   "cell_type": "code",
   "execution_count": 26,
   "metadata": {},
   "outputs": [],
   "source": [
    "in_trails_smiles= in_trails.copy()\n",
    "drug_c_smiles = drug_c.copy()\n",
    "endogenous_smiles = endogenous.copy()\n",
    "world_smiles = world.copy()"
   ]
  },
  {
   "cell_type": "code",
   "execution_count": 27,
   "metadata": {},
   "outputs": [],
   "source": [
    "in_trails_smiles = in_trails_smiles.drop(columns = \"zinc_id\")\n",
    "drug_c_smiles = drug_c_smiles.drop(['InChI', 'INN','Unnamed: 0','ID','CAS_RN','InChIKey'], axis = 1) \n",
    "endogenous_smiles = endogenous_smiles.drop(columns = \"zinc_id\")\n",
    "world_smiles = world_smiles.drop(columns = \"zinc_id\")"
   ]
  },
  {
   "cell_type": "code",
   "execution_count": 28,
   "metadata": {},
   "outputs": [],
   "source": [
    "in_trails_smiles.insert(0, 'empty', [None]*len(in_trails_smiles), True)\n",
    "drug_c_smiles.insert(0, 'empty', [None]*len(drug_c_smiles), True)\n",
    "endogenous_smiles.insert(0, 'empty', [None]*len(endogenous_smiles), True)\n",
    "world_smiles.insert(0, 'empty', [None]*len(world_smiles), True)"
   ]
  },
  {
   "cell_type": "code",
   "execution_count": 29,
   "metadata": {},
   "outputs": [],
   "source": [
    "in_trails_smiles[[\"empty\",\"smiles\"]].to_csv(\"Data/in_trails_smiles.csv.gz\"\n",
    "                                            , index=False, compression='gzip', sep='\\t')\n",
    "\n",
    "drug_c_smiles[[\"empty\",\"SMILES\"]].to_csv(\"Data/drug_c_smiles.csv.gz\"\n",
    "                                            , index=False, compression='gzip', sep='\\t')\n",
    "\n",
    "endogenous_smiles[[\"empty\",\"smiles\"]].to_csv(\"Data/endogenous_smiles.csv.gz\"\n",
    "                                            , index=False, compression='gzip', sep='\\t')\n",
    "\n",
    "world_smiles[[\"empty\",\"smiles\"]].to_csv(\"Data/world_smiles.csv.gz\"\n",
    "                                            , index=False, compression='gzip', sep='\\t')"
   ]
  },
  {
   "cell_type": "code",
   "execution_count": 119,
   "metadata": {},
   "outputs": [],
   "source": [
    "predictions_in_trails = predict(\"Data/in_trails_smiles.csv.gz\")\n",
    "predictions_drug_c = predict(\"Data/drug_c_smiles.csv.gz\")\n",
    "predictions_endogenous = predict(\"Data/endogenous_smiles.csv.gz\")\n",
    "predictions_world = predict(\"Data/world_smiles.csv.gz\")"
   ]
  },
  {
   "cell_type": "code",
   "execution_count": 120,
   "metadata": {
    "scrolled": true
   },
   "outputs": [
    {
     "data": {
      "text/html": [
       "<div>\n",
       "<style scoped>\n",
       "    .dataframe tbody tr th:only-of-type {\n",
       "        vertical-align: middle;\n",
       "    }\n",
       "\n",
       "    .dataframe tbody tr th {\n",
       "        vertical-align: top;\n",
       "    }\n",
       "\n",
       "    .dataframe thead th {\n",
       "        text-align: right;\n",
       "    }\n",
       "</style>\n",
       "<table border=\"1\" class=\"dataframe\">\n",
       "  <thead>\n",
       "    <tr style=\"text-align: right;\">\n",
       "      <th></th>\n",
       "      <th>empty\\tsmiles</th>\n",
       "      <th>value_scaled</th>\n",
       "    </tr>\n",
       "  </thead>\n",
       "  <tbody>\n",
       "    <tr>\n",
       "      <th>0</th>\n",
       "      <td>\\tO=P(=O)O</td>\n",
       "      <td>[-0.06922221]</td>\n",
       "    </tr>\n",
       "    <tr>\n",
       "      <th>1</th>\n",
       "      <td>\\tCOc1cccc2c1[C@@H]1CN(CCCCn3c(O)nc4c(sc5ncc(-...</td>\n",
       "      <td>[-0.0641703]</td>\n",
       "    </tr>\n",
       "    <tr>\n",
       "      <th>2</th>\n",
       "      <td>\\tCN(C)c1cc(CNCC(C)(C)C)c(O)c2c1C[C@H]1C[C@H]3...</td>\n",
       "      <td>[-0.0037107468]</td>\n",
       "    </tr>\n",
       "    <tr>\n",
       "      <th>3</th>\n",
       "      <td>\\tCN(C)c1cc(CNCC(C)(C)C)c(O)c2c1C[C@H]1C[C@H]3...</td>\n",
       "      <td>[-0.0037107468]</td>\n",
       "    </tr>\n",
       "    <tr>\n",
       "      <th>4</th>\n",
       "      <td>\\tCN(C)c1cc(CNCC(C)(C)C)c(O)c2c1C[C@H]1C[C@H]3...</td>\n",
       "      <td>[-0.0037107468]</td>\n",
       "    </tr>\n",
       "    <tr>\n",
       "      <th>...</th>\n",
       "      <td>...</td>\n",
       "      <td>...</td>\n",
       "    </tr>\n",
       "    <tr>\n",
       "      <th>9795</th>\n",
       "      <td>\\tO=C1CC2(CCCC2)CC(=O)N1CCNC[C@H]1COc2ccccc2O1</td>\n",
       "      <td>[0.14398]</td>\n",
       "    </tr>\n",
       "    <tr>\n",
       "      <th>9796</th>\n",
       "      <td>\\tCCCCCCCCCOc1ccc2[nH]cc(CCN)c2c1</td>\n",
       "      <td>[0.0023374557]</td>\n",
       "    </tr>\n",
       "    <tr>\n",
       "      <th>9797</th>\n",
       "      <td>\\tCOc1cc2c(cc1OC)[C@@]13CCN4CC5=CCO[C@H]6CC(=O...</td>\n",
       "      <td>[0.09909004]</td>\n",
       "    </tr>\n",
       "    <tr>\n",
       "      <th>9798</th>\n",
       "      <td>\\tCOc1ccc([C@H]2CNC(=O)C2)cc1OC1CCCC1</td>\n",
       "      <td>[-0.017078549]</td>\n",
       "    </tr>\n",
       "    <tr>\n",
       "      <th>9799</th>\n",
       "      <td>\\tCCOC(=O)c1ccc(OC(=O)CCCCCNC(=N)N)cc1</td>\n",
       "      <td>[0.24858287]</td>\n",
       "    </tr>\n",
       "  </tbody>\n",
       "</table>\n",
       "<p>9800 rows x 2 columns</p>\n",
       "</div>"
      ],
      "text/plain": [
       "                                          empty\\tsmiles     value_scaled\n",
       "0                                            \\tO=P(=O)O    [-0.06922221]\n",
       "1     \\tCOc1cccc2c1[C@@H]1CN(CCCCn3c(O)nc4c(sc5ncc(-...     [-0.0641703]\n",
       "2     \\tCN(C)c1cc(CNCC(C)(C)C)c(O)c2c1C[C@H]1C[C@H]3...  [-0.0037107468]\n",
       "3     \\tCN(C)c1cc(CNCC(C)(C)C)c(O)c2c1C[C@H]1C[C@H]3...  [-0.0037107468]\n",
       "4     \\tCN(C)c1cc(CNCC(C)(C)C)c(O)c2c1C[C@H]1C[C@H]3...  [-0.0037107468]\n",
       "...                                                 ...              ...\n",
       "9795     \\tO=C1CC2(CCCC2)CC(=O)N1CCNC[C@H]1COc2ccccc2O1        [0.14398]\n",
       "9796                  \\tCCCCCCCCCOc1ccc2[nH]cc(CCN)c2c1   [0.0023374557]\n",
       "9797  \\tCOc1cc2c(cc1OC)[C@@]13CCN4CC5=CCO[C@H]6CC(=O...     [0.09909004]\n",
       "9798              \\tCOc1ccc([C@H]2CNC(=O)C2)cc1OC1CCCC1   [-0.017078549]\n",
       "9799             \\tCCOC(=O)c1ccc(OC(=O)CCCCCNC(=N)N)cc1     [0.24858287]\n",
       "\n",
       "[9800 rows x 2 columns]"
      ]
     },
     "execution_count": 120,
     "metadata": {},
     "output_type": "execute_result"
    }
   ],
   "source": [
    "predictions"
   ]
  },
  {
   "cell_type": "code",
   "execution_count": 121,
   "metadata": {
    "scrolled": true
   },
   "outputs": [
    {
     "data": {
      "text/html": [
       "<div>\n",
       "<style scoped>\n",
       "    .dataframe tbody tr th:only-of-type {\n",
       "        vertical-align: middle;\n",
       "    }\n",
       "\n",
       "    .dataframe tbody tr th {\n",
       "        vertical-align: top;\n",
       "    }\n",
       "\n",
       "    .dataframe thead th {\n",
       "        text-align: right;\n",
       "    }\n",
       "</style>\n",
       "<table border=\"1\" class=\"dataframe\">\n",
       "  <thead>\n",
       "    <tr style=\"text-align: right;\">\n",
       "      <th></th>\n",
       "      <th>empty\\tsmiles</th>\n",
       "      <th>value_scaled</th>\n",
       "    </tr>\n",
       "  </thead>\n",
       "  <tbody>\n",
       "    <tr>\n",
       "      <th>3612</th>\n",
       "      <td>\\tCCCCCCCCCCCCOCCOCCOCCOCCOCCOCCOCCOCCOCCO</td>\n",
       "      <td>[1.0734531]</td>\n",
       "    </tr>\n",
       "    <tr>\n",
       "      <th>6675</th>\n",
       "      <td>\\tO=S(=O)(O)OC[C@H]1O[C@@H](O[C@@]2(COS(=O)(=O...</td>\n",
       "      <td>[0.95221484]</td>\n",
       "    </tr>\n",
       "    <tr>\n",
       "      <th>7543</th>\n",
       "      <td>\\tO=S(=O)(O)OC[C@H]1O[C@@H](O[C@]2(COS(=O)(=O)...</td>\n",
       "      <td>[0.95221484]</td>\n",
       "    </tr>\n",
       "    <tr>\n",
       "      <th>1570</th>\n",
       "      <td>\\tCCCCCCCC/C=C\\CCCCCCCC(=O)OCC(COC(=O)CCCCCCC/...</td>\n",
       "      <td>[0.93222225]</td>\n",
       "    </tr>\n",
       "    <tr>\n",
       "      <th>6738</th>\n",
       "      <td>\\tCCCCCCCC/C=C\\CCCCCCCC(=O)OC[C@@H](OC(=O)CCCC...</td>\n",
       "      <td>[0.8744521]</td>\n",
       "    </tr>\n",
       "    <tr>\n",
       "      <th>...</th>\n",
       "      <td>...</td>\n",
       "      <td>...</td>\n",
       "    </tr>\n",
       "    <tr>\n",
       "      <th>4365</th>\n",
       "      <td>\\tOC[C@H](O)[C@H](O)[C@@H](O)[C@H](O)CO</td>\n",
       "      <td>[-0.47302383]</td>\n",
       "    </tr>\n",
       "    <tr>\n",
       "      <th>6975</th>\n",
       "      <td>\\tOC[C@H](O)[C@H](O)[C@@H](O)[C@@H](O)CO</td>\n",
       "      <td>[-0.47302383]</td>\n",
       "    </tr>\n",
       "    <tr>\n",
       "      <th>7277</th>\n",
       "      <td>\\tOC[C@@H](O)[C@@H](O)[C@H](O)[C@H](O)CO</td>\n",
       "      <td>[-0.47302392]</td>\n",
       "    </tr>\n",
       "    <tr>\n",
       "      <th>3673</th>\n",
       "      <td>\\tOC[C@H](O)[C@@H](O)[C@H](O)[C@H](O)CO</td>\n",
       "      <td>[-0.47302392]</td>\n",
       "    </tr>\n",
       "    <tr>\n",
       "      <th>4471</th>\n",
       "      <td>\\tOCC(CO)N[C@H]1C[C@](O)(CO)[C@@H](O)[C@H](O)[...</td>\n",
       "      <td>[-0.51762724]</td>\n",
       "    </tr>\n",
       "  </tbody>\n",
       "</table>\n",
       "<p>9800 rows x 2 columns</p>\n",
       "</div>"
      ],
      "text/plain": [
       "                                          empty\\tsmiles   value_scaled\n",
       "3612         \\tCCCCCCCCCCCCOCCOCCOCCOCCOCCOCCOCCOCCOCCO    [1.0734531]\n",
       "6675  \\tO=S(=O)(O)OC[C@H]1O[C@@H](O[C@@]2(COS(=O)(=O...   [0.95221484]\n",
       "7543  \\tO=S(=O)(O)OC[C@H]1O[C@@H](O[C@]2(COS(=O)(=O)...   [0.95221484]\n",
       "1570  \\tCCCCCCCC/C=C\\CCCCCCCC(=O)OCC(COC(=O)CCCCCCC/...   [0.93222225]\n",
       "6738  \\tCCCCCCCC/C=C\\CCCCCCCC(=O)OC[C@@H](OC(=O)CCCC...    [0.8744521]\n",
       "...                                                 ...            ...\n",
       "4365            \\tOC[C@H](O)[C@H](O)[C@@H](O)[C@H](O)CO  [-0.47302383]\n",
       "6975           \\tOC[C@H](O)[C@H](O)[C@@H](O)[C@@H](O)CO  [-0.47302383]\n",
       "7277           \\tOC[C@@H](O)[C@@H](O)[C@H](O)[C@H](O)CO  [-0.47302392]\n",
       "3673            \\tOC[C@H](O)[C@@H](O)[C@H](O)[C@H](O)CO  [-0.47302392]\n",
       "4471  \\tOCC(CO)N[C@H]1C[C@](O)(CO)[C@@H](O)[C@H](O)[...  [-0.51762724]\n",
       "\n",
       "[9800 rows x 2 columns]"
      ]
     },
     "execution_count": 121,
     "metadata": {},
     "output_type": "execute_result"
    }
   ],
   "source": [
    "predictions.sort_values(\"value_scaled\", ascending=False)"
   ]
  },
  {
   "cell_type": "code",
   "execution_count": 123,
   "metadata": {},
   "outputs": [],
   "source": [
    "best_predicted = predictions[[\"empty\\tsmiles\"]].values[:10,0]"
   ]
  },
  {
   "cell_type": "code",
   "execution_count": 124,
   "metadata": {},
   "outputs": [],
   "source": [
    "best_predicted = [best_predicted[i][1:] for i in range(len(best_predicted))]"
   ]
  },
  {
   "cell_type": "code",
   "execution_count": 125,
   "metadata": {},
   "outputs": [
    {
     "data": {
      "text/plain": [
       "['O=P(=O)O',\n",
       " 'COc1cccc2c1[C@@H]1CN(CCCCn3c(O)nc4c(sc5ncc(-c6ccccc6)nc54)c3=O)C[C@@H]1CO2',\n",
       " 'CN(C)c1cc(CNCC(C)(C)C)c(O)c2c1C[C@H]1C[C@H]3[C@H](N(C)C)C(=O)[C@H](C(N)=O)C(=O)[C@@]3(O)C(=O)[C@H]1C2=O',\n",
       " 'CN(C)c1cc(CNCC(C)(C)C)c(O)c2c1C[C@H]1C[C@H]3[C@H](N(C)C)C(=O)[C@@H](C(N)=O)C(=O)[C@@]3(O)C(=O)[C@@H]1C2=O',\n",
       " 'CN(C)c1cc(CNCC(C)(C)C)c(O)c2c1C[C@H]1C[C@H]3[C@H](N(C)C)C(=O)[C@@H](C(N)=O)C(=O)[C@@]3(O)C(=O)[C@H]1C2=O',\n",
       " 'Cc1ccc2c(n1)Oc1ccc([C@@H](C)C(=O)OCC(=O)N(C)C)cc1C2',\n",
       " 'CN(C)c1cc(CNCC(C)(C)C)c(O)c2c1C[C@H]1C[C@H]3[C@H](N(C)C)C(=O)[C@H](C(N)=O)C(=O)[C@@]3(O)C(=O)[C@@H]1C2=O',\n",
       " 'CCOc1cc(N)c(Cl)cc1C(=O)NC[C@@H]1CN(Cc2ccc(F)cc2)CCO1',\n",
       " 'CCOc1cc(N)c(Cl)cc1C(=O)NC[C@H]1CN(Cc2ccc(F)cc2)CCO1',\n",
       " 'CC(=O)C(=Cc1cc(O)c(O)c([N+](=O)[O-])c1)C(C)=O']"
      ]
     },
     "execution_count": 125,
     "metadata": {},
     "output_type": "execute_result"
    }
   ],
   "source": [
    "best_predicted"
   ]
  },
  {
   "cell_type": "code",
   "execution_count": 126,
   "metadata": {},
   "outputs": [],
   "source": [
    "import pickle\n",
    "pickle.dump(best_predicted, open(\"Data/best_predicted_smiles.pkl\", \"wb\"))"
   ]
  },
  {
   "cell_type": "code",
   "execution_count": 127,
   "metadata": {},
   "outputs": [],
   "source": [
    "best_predicted = pickle.load(open(\"Data/best_predicted_smiles.pkl\", \"rb\"))"
   ]
  },
  {
   "cell_type": "code",
   "execution_count": 128,
   "metadata": {},
   "outputs": [],
   "source": [
    "import rdkit\n",
    "from rdkit.Chem import AllChem as Chem\n",
    "from rdkit.DataStructs import cDataStructs\n",
    "best_predicted_mols = [Chem.MolFromSmiles(x) for x in best_predicted]"
   ]
  },
  {
   "cell_type": "code",
   "execution_count": 129,
   "metadata": {},
   "outputs": [
    {
     "data": {
      "image/png": "[encoded data removed]",
      "text/plain": [
       "<PIL.PngImagePlugin.PngImageFile image mode=RGB size=800x2000 at 0x7F838770D350>"
      ]
     },
     "execution_count": 129,
     "metadata": {},
     "output_type": "execute_result"
    }
   ],
   "source": [
    "rdkit.Chem.Draw.MolsToGridImage(best_predicted_mols, molsPerRow=2, maxMols=100, subImgSize=(400, 400))"
   ]
  },
  {
   "cell_type": "code",
   "execution_count": null,
   "metadata": {},
   "outputs": [],
   "source": []
  }
 ],
 "metadata": {
  "kernelspec": {
   "display_name": "Python 3",
   "language": "python",
   "name": "python3"
  },
  "language_info": {
   "codemirror_mode": {
    "name": "ipython",
    "version": 3
   },
   "file_extension": ".py",
   "mimetype": "text/x-python",
   "name": "python",
   "nbconvert_exporter": "python",
   "pygments_lexer": "ipython3",
   "version": "3.7.9"
  }
 },
 "nbformat": 4,
 "nbformat_minor": 4
}
