{
 "cells": [
  {
   "cell_type": "code",
   "execution_count": 1,
   "metadata": {},
   "outputs": [],
   "source": [
    "import tensorflow as tf\n",
    "from tensorflow.keras import datasets, layers, models\n",
    "from tensorflow.keras.callbacks import EarlyStopping\n",
    "from tensorflow.keras.callbacks import ModelCheckpoint\n",
    "from tensorflow.keras.models import Sequential\n",
    "from tensorflow.keras.layers import BatchNormalization, Conv2D, MaxPooling2D, Flatten, Dense, Dropout\n",
    "from sklearn.preprocessing import LabelBinarizer\n",
    "from tensorflow.keras.optimizers import SGD\n",
    "from tensorflow.keras.optimizers import Adam\n",
    "from tensorflow.keras.datasets import cifar10\n",
    "import matplotlib.pyplot as plt\n",
    "import numpy as np\n",
    "import wandb\n",
    "from wandb.keras import WandbCallback"
   ]
  },
  {
   "cell_type": "code",
   "execution_count": 2,
   "metadata": {},
   "outputs": [],
   "source": [
    "((trainX, trainY), (testX, testY)) = cifar10.load_data()\n",
    "\n",
    "trainX = trainX.astype(\"float\") / 255.0\n",
    "testX = testX.astype(\"float\") / 255.0"
   ]
  },
  {
   "cell_type": "code",
   "execution_count": 3,
   "metadata": {},
   "outputs": [],
   "source": [
    "lb = LabelBinarizer()\n",
    "trainY = lb.fit_transform(trainY)\n",
    "testY = lb.transform(testY)\n",
    "\n",
    "labelNames = [\"airplane\", \"automobile\", \"bird\", \"cat\", \"deer\",\n",
    "\"dog\", \"frog\", \"horse\", \"ship\", \"truck\"]"
   ]
  },
  {
   "cell_type": "code",
   "execution_count": 6,
   "metadata": {},
   "outputs": [
    {
     "name": "stdout",
     "output_type": "stream",
     "text": [
      "Create sweep with ID: zjyxsm43\n",
      "Sweep URL: https://app.wandb.ai/roastedkernel/MINI_VGG_4blocks_With_BN_DropOut/sweeps/zjyxsm43\n"
     ]
    }
   ],
   "source": [
    "sweep_config = {\n",
    "\n",
    "     'method': 'grid',\n",
    "\n",
    "    'parameters': {\n",
    "        'learning_rate': \n",
    "         {'values': [1e-2,1e-3,1e-4,]},\n",
    "        \n",
    "        'Drop_1': \n",
    "            {'values': [ 0.25,0.35,0.45,0.15]\n",
    "                   \n",
    "                   \n",
    "                },\n",
    "        \n",
    "        'Drop_2': \n",
    "            {'values': [ 0.5,0.6,0.4]\n",
    "                   \n",
    "                   \n",
    "                }\n",
    "     \n",
    "    \n",
    "        }\n",
    "\n",
    "    }\n",
    "sweep_id = wandb.sweep(sweep_config, project= \"MINI_VGG_4blocks_With_BN_DropOut\") "
   ]
  },
  {
   "cell_type": "code",
   "execution_count": null,
   "metadata": {},
   "outputs": [],
   "source": []
  },
  {
   "cell_type": "code",
   "execution_count": null,
   "metadata": {},
   "outputs": [],
   "source": [
    "def train():\n",
    "    wandb.init()\n",
    "    configs = {'learning_rate': 0.0001,'Drop_1': 0.25, 'Drop_2': 0.5 }\n",
    "    config = wandb.config\n",
    "    config.epochs = 100\n",
    "    \n",
    "    \n",
    "    \n",
    "    model6 = Sequential()\n",
    "    model6.add(Conv2D(32, (3, 3), activation='relu', kernel_initializer='he_uniform', padding='same', input_shape=(32, 32, 3)))\n",
    "    model6.add(BatchNormalization())\n",
    "    model6.add(Conv2D(32, (3, 3), activation='relu', kernel_initializer='he_uniform', padding='same'))\n",
    "    model6.add(BatchNormalization())\n",
    "    model6.add(MaxPooling2D((2, 2)))\n",
    "    model6.add(Dropout(wandb.config.Drop_1))\n",
    "    model6.add(Conv2D(64, (3, 3), activation='relu', kernel_initializer='he_uniform', padding='same'))\n",
    "    model6.add(BatchNormalization())\n",
    "    model6.add(Conv2D(64, (3, 3), activation='relu', kernel_initializer='he_uniform', padding='same'))\n",
    "    model6.add(BatchNormalization())\n",
    "    model6.add(MaxPooling2D((2, 2)))\n",
    "    model6.add(Dropout(wandb.config.Drop_1))\n",
    "    model6.add(Conv2D(128, (3, 3), activation='relu', kernel_initializer='he_uniform', padding='same'))\n",
    "    model6.add(BatchNormalization())\n",
    "    model6.add(Conv2D(128, (3, 3), activation='relu', kernel_initializer='he_uniform', padding='same'))\n",
    "    model6.add(BatchNormalization())\n",
    "    model6.add(MaxPooling2D((2, 2)))\n",
    "    model6.add(Dropout(wandb.config.Drop_1))\n",
    "    model6.add(Conv2D(256, (3, 3), activation='relu', kernel_initializer='he_uniform', padding='same'))\n",
    "    model6.add(BatchNormalization())\n",
    "    model6.add(Conv2D(256, (3, 3), activation='relu', kernel_initializer='he_uniform', padding='same'))\n",
    "    model6.add(BatchNormalization())\n",
    "    model6.add(MaxPooling2D((2, 2)))\n",
    "    model6.add(Dropout(wandb.config.Drop_1))\n",
    "    model6.add(Flatten())\n",
    "    model6.add(Dense(512, activation='relu', kernel_initializer='he_uniform'))\n",
    "    model6.add(BatchNormalization())\n",
    "    model6.add(Dropout(wandb.config.Drop_2))\n",
    "    model6.add(Dense(10, activation='softmax'))\n",
    "    \n",
    "    es = EarlyStopping(monitor='val_loss', mode='min', verbose=1, patience=35)\n",
    "\n",
    "    metric = \"val_accuracy\"\n",
    "\n",
    "    checkpoint = ModelCheckpoint(\"MINI_VGG.h5\", monitor= metric, verbose=1, save_best_only=True,\n",
    "                             save_weights_only=False, mode='auto')\n",
    "    \n",
    "    \n",
    "    #n_epochs = 100\n",
    "    batch = 2048\n",
    "    opt = Adam(lr=wandb.config.learning_rate,amsgrad=True)\n",
    "    \n",
    "    \n",
    "    model6.compile(optimizer=opt,\n",
    "              loss=\"categorical_crossentropy\",\n",
    "              metrics=['accuracy'])\n",
    "    \n",
    "    wandb_callback = WandbCallback(data_type= \"image\", validation_data=(testX, testY)\n",
    "                                 , labels = labelNames)\n",
    "\n",
    "    history = model6.fit(trainX, trainY, epochs=config.epochs, \n",
    "                    validation_data=(testX, testY), use_multiprocessing=True,\n",
    "                   callbacks=[es,checkpoint,wandb_callback], batch_size=batch,verbose=10)\n"
   ]
  },
  {
   "cell_type": "code",
   "execution_count": null,
   "metadata": {},
   "outputs": [],
   "source": [
    "wandb.agent(sweep_id, function=train)"
   ]
  }
 ],
 "metadata": {
  "kernelspec": {
   "display_name": "Python 3",
   "language": "python",
   "name": "python3"
  },
  "language_info": {
   "codemirror_mode": {
    "name": "ipython",
    "version": 3
   },
   "file_extension": ".py",
   "mimetype": "text/x-python",
   "name": "python",
   "nbconvert_exporter": "python",
   "pygments_lexer": "ipython3",
   "version": "3.8.2"
  }
 },
 "nbformat": 4,
 "nbformat_minor": 4
}
