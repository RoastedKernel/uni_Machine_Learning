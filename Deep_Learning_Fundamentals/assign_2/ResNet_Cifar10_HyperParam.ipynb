{
 "cells": [
  {
   "cell_type": "code",
   "execution_count": 1,
   "metadata": {},
   "outputs": [],
   "source": [
    "import tensorflow as tf\n",
    "from tensorflow import keras\n",
    "from tensorflow.keras import datasets, layers, models\n",
    "from tensorflow.keras.callbacks import EarlyStopping\n",
    "from tensorflow.keras.callbacks import ModelCheckpoint\n",
    "from tensorflow.keras.models import Sequential, Model\n",
    "from tensorflow.keras.layers import BatchNormalization, Conv2D, MaxPooling2D, Flatten, Dense, AveragePooling2D\n",
    "from tensorflow.keras.layers import ZeroPadding2D, add, Input, Activation\n",
    "from tensorflow.keras.regularizers import l2\n",
    "from sklearn.preprocessing import LabelBinarizer\n",
    "from tensorflow.keras.optimizers import SGD\n",
    "from tensorflow.keras.optimizers import Adam\n",
    "from tensorflow.keras.datasets import cifar10\n",
    "from tensorflow.keras import backend as K\n",
    "import matplotlib.pyplot as plt\n",
    "import numpy as np\n",
    "import wandb\n",
    "from wandb.keras import WandbCallback"
   ]
  },
  {
   "cell_type": "code",
   "execution_count": 2,
   "metadata": {},
   "outputs": [],
   "source": [
    "((trainX, trainY), (testX, testY)) = cifar10.load_data()\n",
    "\n",
    "trainX = trainX.astype(\"float\") / 255.0\n",
    "testX = testX.astype(\"float\") / 255.0"
   ]
  },
  {
   "cell_type": "code",
   "execution_count": 3,
   "metadata": {},
   "outputs": [],
   "source": [
    "lb = LabelBinarizer()\n",
    "trainY = lb.fit_transform(trainY)\n",
    "testY = lb.transform(testY)\n",
    "\n",
    "labelNames = [\"airplane\", \"automobile\", \"bird\", \"cat\", \"deer\",\n",
    "\"dog\", \"frog\", \"horse\", \"ship\", \"truck\"]"
   ]
  },
  {
   "cell_type": "code",
   "execution_count": 4,
   "metadata": {},
   "outputs": [
    {
     "name": "stdout",
     "output_type": "stream",
     "text": [
      "Create sweep with ID: mcomexkl\n",
      "Sweep URL: https://app.wandb.ai/roastedkernel/ResNet_Cifar10_HyperParam_Adam/sweeps/mcomexkl\n"
     ]
    }
   ],
   "source": [
    "sweep_config = {\n",
    "\n",
    "     'method': 'grid',\n",
    "\n",
    "    'parameters': {\n",
    "        'learning_rate': \n",
    "         {'values': [1e-2,1e-3]},\n",
    "        \n",
    "        'reg': \n",
    "            {'values': [0.001, 0.005, 0.009]\n",
    "                   \n",
    "                   \n",
    "                },\n",
    "        \n",
    "        'decay': \n",
    "            {'values': [1e-1,1e-2,1e-3,1e-4]\n",
    "                   \n",
    "                   \n",
    "                }\n",
    "     \n",
    "    \n",
    "        }\n",
    "\n",
    "    }\n",
    "sweep_id = wandb.sweep(sweep_config, project= \"ResNet_Cifar10_HyperParam_Adam\") "
   ]
  },
  {
   "cell_type": "code",
   "execution_count": null,
   "metadata": {},
   "outputs": [],
   "source": []
  },
  {
   "cell_type": "code",
   "execution_count": 5,
   "metadata": {},
   "outputs": [],
   "source": [
    "def residual_module(data, K, stride, chanDim,\n",
    "                    reg=0.0001, bnEps=2e-5, bnMom=0.9, reduce=False):\n",
    "    \n",
    "    shortcut = data\n",
    "    \n",
    "    bn1 = BatchNormalization(axis=chanDim, epsilon=bnEps,\n",
    "            momentum=bnMom)(data)\n",
    "    act1 = Activation(\"relu\")(bn1)\n",
    "    \n",
    "    conv1 = Conv2D(int(K * 0.25), (1, 1), use_bias=False,\n",
    "                kernel_regularizer=l2(reg))(act1)\n",
    "    \n",
    "    \n",
    "    bn2 = BatchNormalization(axis=chanDim, epsilon=bnEps,\n",
    "                momentum=bnMom)(conv1)\n",
    "    act2 = Activation(\"relu\")(bn2)\n",
    "    conv2 = Conv2D(int(K * 0.25), (3, 3), strides=stride,\n",
    "                padding=\"same\", use_bias=False,\n",
    "    kernel_regularizer=l2(reg))(act2)\n",
    "    \n",
    "    \n",
    "    bn3 = BatchNormalization(axis=chanDim, epsilon=bnEps,\n",
    "                momentum=bnMom)(conv2)\n",
    "    act3 = Activation(\"relu\")(bn3)\n",
    "    conv3 = Conv2D(K, (1, 1), use_bias=False,\n",
    "                kernel_regularizer=l2(reg))(act3)\n",
    "    \n",
    "    \n",
    "    \n",
    "    if reduce:\n",
    "        shortcut = Conv2D(K, (1, 1), strides=stride,\n",
    "            use_bias=False, kernel_regularizer=l2(reg))(act1)\n",
    "    \n",
    "    x = add([conv3, shortcut])\n",
    "    \n",
    "    \n",
    "    \n",
    "    return x\n",
    "\n",
    "\n",
    "\n",
    "\n",
    "\n",
    "\n",
    "def build_Resnet(width, height, depth, classes, stages, filters,\n",
    "                reg=0.0001, bnEps=2e-5, bnMom=0.9):\n",
    "    \n",
    "    \n",
    "    inputShape = (height, width, depth)\n",
    "    chanDim = -1\n",
    "    inputs = Input(shape=inputShape)\n",
    "    x = BatchNormalization(axis=chanDim, epsilon=bnEps,\n",
    "                            momentum=bnMom)(inputs)\n",
    "    x = Conv2D(filters[0], (3, 3), use_bias=False,padding=\"same\", kernel_regularizer=l2(reg))(x)\n",
    "    \n",
    "    \n",
    "    \n",
    "    for i in range(0, len(stages)):\n",
    "\n",
    "        stride = (1, 1) if i == 0 else (2, 2)\n",
    "        \n",
    "        x = residual_module(x, filters[i + 1], stride,\n",
    "                chanDim, reduce=True, bnEps=bnEps, bnMom=bnMom)\n",
    "        \n",
    "        for j in range(0, stages[i] - 1):\n",
    "            \n",
    "            x = residual_module(x, filters[i + 1],\n",
    "                    (1, 1), chanDim, bnEps=bnEps, bnMom=bnMom)\n",
    "            \n",
    "    x = BatchNormalization(axis=chanDim, epsilon=bnEps,\n",
    "                            momentum=bnMom)(x)\n",
    "    x = Activation(\"relu\")(x)\n",
    "    x = AveragePooling2D((8, 8))(x) \n",
    "    x = Flatten()(x)\n",
    "    x = Dense(classes, kernel_regularizer=l2(reg))(x)\n",
    "    x = Activation(\"softmax\")(x)\n",
    "    \n",
    "    model = Model(inputs, x, name=\"resnet\")\n",
    "    \n",
    "    \n",
    "    \n",
    "    return model\n"
   ]
  },
  {
   "cell_type": "code",
   "execution_count": 6,
   "metadata": {},
   "outputs": [],
   "source": [
    "def train():\n",
    "    wandb.init()\n",
    "    configs = {'learning_rate': 1e-2,'reg': 0.005, 'decay': 1e-2 }\n",
    "    config = wandb.config\n",
    "    config.epochs = 100\n",
    "    \n",
    "    \n",
    "    \n",
    "    model = build_Resnet(32, 32, 3, 10, (9, 9, 9),\n",
    "                                (64, 64, 128, 256), reg=wandb.config.reg)\n",
    "    \n",
    "    es = EarlyStopping(monitor='val_loss', mode='min', verbose=1, patience=20)\n",
    "\n",
    "    metric = \"val_accuracy\"\n",
    "\n",
    "    checkpoint = ModelCheckpoint(\"ResNet_Cifar10.h5\", monitor= metric, verbose=1, save_best_only=True,\n",
    "                             save_weights_only=False, mode='auto')\n",
    "    \n",
    "    \n",
    "    #n_epochs = 100\n",
    "    batch = 512\n",
    "    s = 100 * len(trainX) // batch # number of steps in 20 epochs (batch size = 32)\n",
    "    learning_rate0 = keras.optimizers.schedules.ExponentialDecay(wandb.config.learning_rate, s, wandb.config.decay)\n",
    "\n",
    "    opt = Adam(learning_rate0,amsgrad=True)\n",
    "    #opt = opt = SGD(lr= wandb.config.learning_rate ,decay = wandb.config.decay ,  momentum= 0.9, nesterov=True)\n",
    "    \n",
    "    \n",
    "    model.compile(optimizer=opt,\n",
    "              loss=\"categorical_crossentropy\",\n",
    "              metrics=['accuracy'])\n",
    "    \n",
    "    wandb_callback = WandbCallback(data_type= \"image\", validation_data=(testX, testY)\n",
    "                                 , labels = labelNames)\n",
    "\n",
    "    history = model.fit(trainX, trainY, epochs=config.epochs, \n",
    "                    validation_data=(testX, testY), use_multiprocessing=True,\n",
    "                   callbacks=[es,checkpoint,wandb_callback], batch_size=batch,verbose=10)\n"
   ]
  },
  {
   "cell_type": "code",
   "execution_count": null,
   "metadata": {
    "scrolled": true
   },
   "outputs": [
    {
     "name": "stdout",
     "output_type": "stream",
     "text": [
      "wandb: Agent Starting Run: i6belcys with config:\n",
      "\tdecay: 0.1\n",
      "\tlearning_rate: 0.01\n",
      "\treg: 0.001\n",
      "wandb: Agent Started Run: i6belcys\n"
     ]
    },
    {
     "data": {
      "text/html": [
       "\n",
       "                Logging results to <a href=\"https://wandb.com\" target=\"_blank\">Weights & Biases</a> <a href=\"https://docs.wandb.com/integrations/jupyter.html\" target=\"_blank\">(Documentation)</a>.<br/>\n",
       "                Project page: <a href=\"https://app.wandb.ai/roastedkernel/ResNet_Cifar10_HyperParam_Adam\" target=\"_blank\">https://app.wandb.ai/roastedkernel/ResNet_Cifar10_HyperParam_Adam</a><br/>\n",
       "                Sweep page: <a href=\"https://app.wandb.ai/roastedkernel/ResNet_Cifar10_HyperParam_Adam/sweeps/mcomexkl\" target=\"_blank\">https://app.wandb.ai/roastedkernel/ResNet_Cifar10_HyperParam_Adam/sweeps/mcomexkl</a><br/>\n",
       "Run page: <a href=\"https://app.wandb.ai/roastedkernel/ResNet_Cifar10_HyperParam_Adam/runs/i6belcys\" target=\"_blank\">https://app.wandb.ai/roastedkernel/ResNet_Cifar10_HyperParam_Adam/runs/i6belcys</a><br/>\n",
       "            "
      ],
      "text/plain": [
       "<IPython.core.display.HTML object>"
      ]
     },
     "metadata": {},
     "output_type": "display_data"
    },
    {
     "name": "stdout",
     "output_type": "stream",
     "text": [
      "Epoch 1/100\n",
      "\n",
      "Epoch 00001: val_accuracy improved from -inf to 0.43640, saving model to ResNet_Cifar10.h5\n",
      "Epoch 2/100\n",
      "\n",
      "Epoch 00002: val_accuracy improved from 0.43640 to 0.52510, saving model to ResNet_Cifar10.h5\n",
      "Epoch 3/100\n",
      "\n",
      "Epoch 00003: val_accuracy improved from 0.52510 to 0.56440, saving model to ResNet_Cifar10.h5\n",
      "Epoch 4/100\n",
      "\n",
      "Epoch 00004: val_accuracy improved from 0.56440 to 0.65980, saving model to ResNet_Cifar10.h5\n",
      "Epoch 5/100\n",
      "\n",
      "Epoch 00005: val_accuracy did not improve from 0.65980\n",
      "Epoch 6/100\n",
      "\n",
      "Epoch 00006: val_accuracy improved from 0.65980 to 0.67310, saving model to ResNet_Cifar10.h5\n",
      "Epoch 7/100\n",
      "\n",
      "Epoch 00007: val_accuracy improved from 0.67310 to 0.71430, saving model to ResNet_Cifar10.h5\n",
      "Epoch 8/100\n",
      "\n",
      "Epoch 00008: val_accuracy improved from 0.71430 to 0.73670, saving model to ResNet_Cifar10.h5\n",
      "Epoch 9/100\n",
      "\n",
      "Epoch 00009: val_accuracy did not improve from 0.73670\n",
      "Epoch 10/100\n",
      "\n",
      "Epoch 00010: val_accuracy improved from 0.73670 to 0.74570, saving model to ResNet_Cifar10.h5\n",
      "Epoch 11/100\n",
      "\n",
      "Epoch 00011: val_accuracy did not improve from 0.74570\n",
      "Epoch 12/100\n",
      "\n",
      "Epoch 00012: val_accuracy did not improve from 0.74570\n",
      "Epoch 13/100\n",
      "\n",
      "Epoch 00013: val_accuracy did not improve from 0.74570\n",
      "Epoch 14/100\n",
      "\n",
      "Epoch 00014: val_accuracy did not improve from 0.74570\n",
      "Epoch 15/100\n",
      "\n",
      "Epoch 00015: val_accuracy improved from 0.74570 to 0.80700, saving model to ResNet_Cifar10.h5\n",
      "Epoch 16/100\n"
     ]
    }
   ],
   "source": [
    "wandb.agent(sweep_id, function=train)"
   ]
  },
  {
   "cell_type": "code",
   "execution_count": null,
   "metadata": {},
   "outputs": [],
   "source": []
  },
  {
   "cell_type": "code",
   "execution_count": null,
   "metadata": {},
   "outputs": [],
   "source": []
  }
 ],
 "metadata": {
  "kernelspec": {
   "display_name": "Python 3",
   "language": "python",
   "name": "python3"
  },
  "language_info": {
   "codemirror_mode": {
    "name": "ipython",
    "version": 3
   },
   "file_extension": ".py",
   "mimetype": "text/x-python",
   "name": "python",
   "nbconvert_exporter": "python",
   "pygments_lexer": "ipython3",
   "version": "3.8.2"
  }
 },
 "nbformat": 4,
 "nbformat_minor": 4
}
