{
 "cells": [
  {
   "cell_type": "markdown",
   "metadata": {},
   "source": [
    "# Levels of Blood Glucose\n",
    "## All the date presented are randomly generated.\n",
    "### Glocuse in blood in Mg/dl\n"
   ]
  },
  {
   "cell_type": "code",
   "execution_count": 14,
   "metadata": {},
   "outputs": [
    {
     "name": "stdout",
     "output_type": "stream",
     "text": [
      "level of glucose for patient 1 : 125 mg/dl\n",
      "level of glucose for patient 2 : 86 mg/dl\n",
      "level of glucose for patient 3 : 120 mg/dl\n",
      "level of glucose for patient 4 : 115 mg/dl\n",
      "level of glucose for patient 5 : 88 mg/dl\n"
     ]
    }
   ],
   "source": [
    "#------------------------------------\n",
    "# Importing the necessrily libaries \n",
    "\n",
    "import random as R\n",
    "#------------------------------------\n",
    "#------------------------------------\n",
    "# generating the date\n",
    "\n",
    "Person_1 = R.randint(60, 126)\n",
    "Person_2 = R.randint(60, 126)\n",
    "Person_3 = R.randint(60, 126)\n",
    "Person_4 = R.randint(60, 126)\n",
    "Person_5 = R.randint(60, 126)\n",
    "#------------------------------------\n",
    "\n",
    "#------------------------------------\n",
    "# printing the data\n",
    "\n",
    "print(\"level of glucose for patient 1 :\", Person_1,\"mg/dl\")\n",
    "print(\"level of glucose for patient 2 :\", Person_2,\"mg/dl\")\n",
    "print(\"level of glucose for patient 3 :\", Person_3,\"mg/dl\")\n",
    "print(\"level of glucose for patient 4 :\", Person_4,\"mg/dl\")\n",
    "print(\"level of glucose for patient 5 :\", Person_5,\"mg/dl\")\n",
    "\n",
    "#-----------------------------------------------------\n",
    "\n"
   ]
  },
  {
   "cell_type": "markdown",
   "metadata": {},
   "source": [
    "# BMI Calculator\n"
   ]
  },
  {
   "cell_type": "code",
   "execution_count": 19,
   "metadata": {},
   "outputs": [
    {
     "name": "stdout",
     "output_type": "stream",
     "text": [
      "Enter your Weight in Kg 62.7\n",
      "Enter your Height in Meters 165\n",
      "your BMI is : 0.0023\n"
     ]
    }
   ],
   "source": [
    "\n",
    "Weight = float(input(\"Enter your Weight in Kg \"))\n",
    "\n",
    "Height = float(input(\"Enter your Height in Meters \"))\n",
    "\n",
    "BMI = round(Weight/Height**2, 4)\n",
    "\n",
    "print(\"your BMI is :\", BMI)"
   ]
  },
  {
   "cell_type": "markdown",
   "metadata": {},
   "source": [
    "# DNA \n",
    "##  Counts the number of adenine, guanine, cytosine and thymine \n"
   ]
  },
  {
   "cell_type": "code",
   "execution_count": 27,
   "metadata": {},
   "outputs": [
    {
     "name": "stdout",
     "output_type": "stream",
     "text": [
      "Enter your DNA sequence GAATACA\n",
      "Adenine:  4\n",
      "Guanine:  1\n",
      "Cytosine: 1\n",
      "Thymine:  1\n"
     ]
    }
   ],
   "source": [
    "DNA = input(\"Enter your DNA sequence \")\n",
    "DNA_UPPER = DNA.upper()\n",
    "\n",
    "Adenine = DNA_UPPER.count(\"A\")\n",
    "Guanine = DNA_UPPER.count(\"G\")\n",
    "Cytosine = DNA_UPPER.count(\"C\")\n",
    "Thymine = DNA_UPPER.count(\"T\")\n",
    "\n",
    "print(\"Adenine: \", Adenine)\n",
    "print(\"Guanine: \", Guanine) \n",
    "print(\"Cytosine:\", Cytosine) \n",
    "print(\"Thymine: \", Thymine) "
   ]
  },
  {
   "cell_type": "code",
   "execution_count": null,
   "metadata": {},
   "outputs": [],
   "source": []
  }
 ],
 "metadata": {
  "kernelspec": {
   "display_name": "Python 3",
   "language": "python",
   "name": "python3"
  },
  "language_info": {
   "codemirror_mode": {
    "name": "ipython",
    "version": 3
   },
   "file_extension": ".py",
   "mimetype": "text/x-python",
   "name": "python",
   "nbconvert_exporter": "python",
   "pygments_lexer": "ipython3",
   "version": "3.7.4"
  }
 },
 "nbformat": 4,
 "nbformat_minor": 2
}
