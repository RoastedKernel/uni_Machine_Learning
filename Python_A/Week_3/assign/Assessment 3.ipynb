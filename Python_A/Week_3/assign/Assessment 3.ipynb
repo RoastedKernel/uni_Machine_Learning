{
 "cells": [
  {
   "cell_type": "markdown",
   "metadata": {},
   "source": [
    "# The Weather In Australia\n",
    "## Reading and preparing the data"
   ]
  },
  {
   "cell_type": "code",
   "execution_count": 1,
   "metadata": {},
   "outputs": [
    {
     "name": "stdout",
     "output_type": "stream",
     "text": [
      "[OrderedDict([('Date', '1/12/08'), ('Location', 'Albury'), ('MinTemp', '13.4'), ('MaxTemp', '22.9'), ('Rainfall', '0.6'), ('Evaporation', 'NA'), ('Sunshine', 'NA'), ('WindGustDir', 'W'), ('WindGustSpeed', '44'), ('WindDir9am', 'W'), ('WindDir3pm', 'WNW'), ('WindSpeed9am', '20'), ('WindSpeed3pm', '24'), ('Humidity9am', '71'), ('Humidity3pm', '22'), ('Pressure9am', '1007.7'), ('Pressure3pm', '1007.1'), ('Cloud9am', '8'), ('Cloud3pm', 'NA'), ('Temp9am', '16.9'), ('Temp3pm', '21.8'), ('RainToday', 'No'), ('RISK_MM', '0'), ('RainTomorrow', 'No')]), OrderedDict([('Date', '2/12/08'), ('Location', 'Albury'), ('MinTemp', '7.4'), ('MaxTemp', '25.1'), ('Rainfall', '0'), ('Evaporation', 'NA'), ('Sunshine', 'NA'), ('WindGustDir', 'WNW'), ('WindGustSpeed', '44'), ('WindDir9am', 'NNW'), ('WindDir3pm', 'WSW'), ('WindSpeed9am', '4'), ('WindSpeed3pm', '22'), ('Humidity9am', '44'), ('Humidity3pm', '25'), ('Pressure9am', '1010.6'), ('Pressure3pm', '1007.8'), ('Cloud9am', 'NA'), ('Cloud3pm', 'NA'), ('Temp9am', '17.2'), ('Temp3pm', '24.3'), ('RainToday', 'No'), ('RISK_MM', '0'), ('RainTomorrow', 'No')]), OrderedDict([('Date', '3/12/08'), ('Location', 'Albury'), ('MinTemp', '12.9'), ('MaxTemp', '25.7'), ('Rainfall', '0'), ('Evaporation', 'NA'), ('Sunshine', 'NA'), ('WindGustDir', 'WSW'), ('WindGustSpeed', '46'), ('WindDir9am', 'W'), ('WindDir3pm', 'WSW'), ('WindSpeed9am', '19'), ('WindSpeed3pm', '26'), ('Humidity9am', '38'), ('Humidity3pm', '30'), ('Pressure9am', '1007.6'), ('Pressure3pm', '1008.7'), ('Cloud9am', 'NA'), ('Cloud3pm', '2'), ('Temp9am', '21'), ('Temp3pm', '23.2'), ('RainToday', 'No'), ('RISK_MM', '0'), ('RainTomorrow', 'No')]), OrderedDict([('Date', '4/12/08'), ('Location', 'Albury'), ('MinTemp', '9.2'), ('MaxTemp', '28'), ('Rainfall', '0'), ('Evaporation', 'NA'), ('Sunshine', 'NA'), ('WindGustDir', 'NE'), ('WindGustSpeed', '24'), ('WindDir9am', 'SE'), ('WindDir3pm', 'E'), ('WindSpeed9am', '11'), ('WindSpeed3pm', '9'), ('Humidity9am', '45'), ('Humidity3pm', '16'), ('Pressure9am', '1017.6'), ('Pressure3pm', '1012.8'), ('Cloud9am', 'NA'), ('Cloud3pm', 'NA'), ('Temp9am', '18.1'), ('Temp3pm', '26.5'), ('RainToday', 'No'), ('RISK_MM', '1'), ('RainTomorrow', 'No')]), OrderedDict([('Date', '5/12/08'), ('Location', 'Albury'), ('MinTemp', '17.5'), ('MaxTemp', '32.3'), ('Rainfall', '1'), ('Evaporation', 'NA'), ('Sunshine', 'NA'), ('WindGustDir', 'W'), ('WindGustSpeed', '41'), ('WindDir9am', 'ENE'), ('WindDir3pm', 'NW'), ('WindSpeed9am', '7'), ('WindSpeed3pm', '20'), ('Humidity9am', '82'), ('Humidity3pm', '33'), ('Pressure9am', '1010.8'), ('Pressure3pm', '1006'), ('Cloud9am', '7'), ('Cloud3pm', '8'), ('Temp9am', '17.8'), ('Temp3pm', '29.7'), ('RainToday', 'No'), ('RISK_MM', '0.2'), ('RainTomorrow', 'No')])]\n"
     ]
    }
   ],
   "source": [
    "#------------------------------------\n",
    "# Importing the necessrily libaries \n",
    "import csv\n",
    "#------------------------------------\n",
    "\n",
    "\n",
    "#------------------------------------\n",
    "#Parameters cofiguration\n",
    "dataFile =  open('weatherAUS.csv')\n",
    "dreader1 = csv.DictReader(dataFile)\n",
    "dreader = list(dreader1)\n",
    "#------------------------------------\n",
    "\n",
    "\n",
    "print (dreader[:5])"
   ]
  },
  {
   "cell_type": "markdown",
   "metadata": {},
   "source": [
    "# Creating a function to analysis the data"
   ]
  },
  {
   "cell_type": "code",
   "execution_count": 2,
   "metadata": {
    "scrolled": true
   },
   "outputs": [
    {
     "name": "stdout",
     "output_type": "stream",
     "text": [
      "---------------------------------------------\n",
      "Testing\n",
      "The Number Of Days over 40C in Adelaide is 54\n",
      "---------------------------------------------\n",
      "\n",
      "\n",
      "The Number Of Days over 35C in Adelaide is 199\n",
      "The Number Of Days over 35C in Perth is 252\n",
      "The Number Of Days over 35C in Melbourne is 68\n",
      "The Number Of Days over 35C in Canberra is 94\n",
      "The Number Of Days over 35C in Sydney is 37\n",
      "The Number Of Days over 35C in Brisbane is 28\n",
      "The Number Of Days over 35C in Darwin is 146\n"
     ]
    }
   ],
   "source": [
    "#---------------------------------------------\n",
    "# Creating a function to read the data \n",
    "def daysOver(dictionaryData, state, temp):\n",
    "    count = 0\n",
    "    for row in dictionaryData:\n",
    "        if row['MaxTemp'] != 'NA':\n",
    "            if (row['Location'] == state) and (float(row['MaxTemp']) > temp ):\n",
    "                count += 1\n",
    "    return count\n",
    "#----------------------------------------------\n",
    "\n",
    "#----------------------------------------------\n",
    "# Testing the Function\n",
    "\n",
    "Adelaide = daysOver(dreader, 'Adelaide', 40)\n",
    "print(\"---------------------------------------------\")\n",
    "print(\"Testing\")\n",
    "print (\"The Number Of Days over 40C in Adelaide is\", Adelaide)\n",
    "print(\"---------------------------------------------\")\n",
    "#-----------------------------------------------\n",
    "\n",
    "\n",
    "#-----------------------------------------------\n",
    "\n",
    "# printing the Temperatures values\n",
    "print(\"\\n\")\n",
    "\n",
    "Adelaide = daysOver(dreader, 'Adelaide', 35)\n",
    "print (\"The Number Of Days over 35C in Adelaide is\", Adelaide)\n",
    "\n",
    "Perth = daysOver(dreader, 'Perth', 35)\n",
    "print(\"The Number Of Days over 35C in Perth is\", Perth)\n",
    "\n",
    "Melbourne = daysOver(dreader, 'Melbourne', 35)\n",
    "print(\"The Number Of Days over 35C in Melbourne is\", Melbourne)\n",
    "\n",
    "Canberra = daysOver(dreader, 'Canberra', 35)\n",
    "print(\"The Number Of Days over 35C in Canberra is\", Canberra)\n",
    "                    \n",
    "Sydney = daysOver(dreader, 'Sydney', 35)\n",
    "print(\"The Number Of Days over 35C in Sydney is\", Sydney)\n",
    "                    \n",
    "Brisbane = daysOver(dreader, 'Brisbane', 35)\n",
    "print(\"The Number Of Days over 35C in Brisbane is\", Brisbane)\n",
    "\n",
    "Darwin = daysOver(dreader, 'Darwin', 35)\n",
    "print(\"The Number Of Days over 35C in Darwin is\", Darwin)\n",
    "#--------------------------------------------------"
   ]
  },
  {
   "cell_type": "markdown",
   "metadata": {},
   "source": [
    "# Write the results into a CSV file"
   ]
  },
  {
   "cell_type": "code",
   "execution_count": 3,
   "metadata": {},
   "outputs": [],
   "source": [
    "#---------------------------------------------\n",
    "#Creating the function\n",
    "def writeTempData (Dict,File_name, Temp):\n",
    "    City_data = ['Adelaide','Perth','Melbourne','Canberra','Sydney','Brisbane','Darwin']\n",
    "    Dict_cities_temp = {}\n",
    "    name = File_name + '.csv'\n",
    "        \n",
    "    # Loop over the cities    \n",
    "    for i in City_data:\n",
    "        Dict_cities_temp [i] = daysOver(Dict, i, Temp)      \n",
    "    #return Dict_cities_temp\n",
    "    data = [Dict_cities_temp]\n",
    "    \n",
    "    # Write the data into CSV file\n",
    "    with open(name,'w') as file:     \n",
    "        writer = csv.DictWriter(file,City_data)\n",
    "        writer.writeheader()\n",
    "        for dictionary in data:\n",
    "            writer.writerow(dictionary)\n",
    "#---------------------------------------------\n",
    "\n",
    "#---------------------------------------------\n",
    "# Writing the results into a CSV file.\n",
    "writeTempData(dreader, 'why', 40)\n"
   ]
  },
  {
   "cell_type": "markdown",
   "metadata": {},
   "source": [
    "# Reading the generated CSV file"
   ]
  },
  {
   "cell_type": "code",
   "execution_count": 4,
   "metadata": {},
   "outputs": [
    {
     "name": "stdout",
     "output_type": "stream",
     "text": [
      "[OrderedDict([('Adelaide', '54'), ('Perth', '28'), ('Melbourne', '16'), ('Canberra', '6'), ('Sydney', '7'), ('Brisbane', '0'), ('Darwin', '0')])]\n"
     ]
    }
   ],
   "source": [
    "#------------------------------------\n",
    "#Importing the necessrily libaries \n",
    "import csv\n",
    "#------------------------------------\n",
    "\n",
    "#------------------------------------\n",
    "#Parameters cofiguration\n",
    "dataFile =  open('why.csv')\n",
    "dreader1_results = csv.DictReader(dataFile)\n",
    "dreader_results = list(dreader1_results)\n",
    "#------------------------------------\n",
    "\n",
    "# Testing the Generated CSV file\n",
    "print(dreader_results)"
   ]
  },
  {
   "cell_type": "code",
   "execution_count": null,
   "metadata": {},
   "outputs": [],
   "source": []
  }
 ],
 "metadata": {
  "kernelspec": {
   "display_name": "Python 3",
   "language": "python",
   "name": "python3"
  },
  "language_info": {
   "codemirror_mode": {
    "name": "ipython",
    "version": 3
   },
   "file_extension": ".py",
   "mimetype": "text/x-python",
   "name": "python",
   "nbconvert_exporter": "python",
   "pygments_lexer": "ipython3",
   "version": "3.7.4"
  }
 },
 "nbformat": 4,
 "nbformat_minor": 2
}
