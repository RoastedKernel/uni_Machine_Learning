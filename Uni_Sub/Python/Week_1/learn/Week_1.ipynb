{
 "cells": [
  {
   "cell_type": "code",
   "execution_count": 7,
   "metadata": {},
   "outputs": [],
   "source": [
    "5 + 10 * 2 / 3\n",
    "import math as m"
   ]
  },
  {
   "cell_type": "code",
   "execution_count": 4,
   "metadata": {},
   "outputs": [
    {
     "data": {
      "text/plain": [
       "['__doc__',\n",
       " '__file__',\n",
       " '__loader__',\n",
       " '__name__',\n",
       " '__package__',\n",
       " '__spec__',\n",
       " 'acos',\n",
       " 'acosh',\n",
       " 'asin',\n",
       " 'asinh',\n",
       " 'atan',\n",
       " 'atan2',\n",
       " 'atanh',\n",
       " 'ceil',\n",
       " 'copysign',\n",
       " 'cos',\n",
       " 'cosh',\n",
       " 'degrees',\n",
       " 'e',\n",
       " 'erf',\n",
       " 'erfc',\n",
       " 'exp',\n",
       " 'expm1',\n",
       " 'fabs',\n",
       " 'factorial',\n",
       " 'floor',\n",
       " 'fmod',\n",
       " 'frexp',\n",
       " 'fsum',\n",
       " 'gamma',\n",
       " 'gcd',\n",
       " 'hypot',\n",
       " 'inf',\n",
       " 'isclose',\n",
       " 'isfinite',\n",
       " 'isinf',\n",
       " 'isnan',\n",
       " 'ldexp',\n",
       " 'lgamma',\n",
       " 'log',\n",
       " 'log10',\n",
       " 'log1p',\n",
       " 'log2',\n",
       " 'modf',\n",
       " 'nan',\n",
       " 'pi',\n",
       " 'pow',\n",
       " 'radians',\n",
       " 'remainder',\n",
       " 'sin',\n",
       " 'sinh',\n",
       " 'sqrt',\n",
       " 'tan',\n",
       " 'tanh',\n",
       " 'tau',\n",
       " 'trunc']"
      ]
     },
     "execution_count": 4,
     "metadata": {},
     "output_type": "execute_result"
    }
   ],
   "source": [
    "dir(math)"
   ]
  },
  {
   "cell_type": "code",
   "execution_count": 5,
   "metadata": {},
   "outputs": [
    {
     "name": "stdout",
     "output_type": "stream",
     "text": [
      "Help on built-in function isnan in module math:\n",
      "\n",
      "isnan(x, /)\n",
      "    Return True if x is a NaN (not a number), and False otherwise.\n",
      "\n"
     ]
    }
   ],
   "source": [
    "help(math.isnan)"
   ]
  },
  {
   "cell_type": "code",
   "execution_count": 18,
   "metadata": {},
   "outputs": [
    {
     "name": "stdout",
     "output_type": "stream",
     "text": [
      "enter a number 50\n",
      "0.6427876096865394 3.912023005428146 -0.27190061199763077\n"
     ]
    }
   ],
   "source": [
    "a1 = float(input(\"enter a number \"))\n",
    "\n",
    "\n",
    "a = m.cos(m.radians(a1))\n",
    "b = m.log(a1)\n",
    "c = m.tan(a1)\n",
    "\n",
    "print (a,b,c)"
   ]
  },
  {
   "cell_type": "code",
   "execution_count": 19,
   "metadata": {},
   "outputs": [],
   "source": [
    "import random as R"
   ]
  },
  {
   "cell_type": "code",
   "execution_count": 24,
   "metadata": {},
   "outputs": [
    {
     "name": "stdout",
     "output_type": "stream",
     "text": [
      "0.5623040697895029\n",
      "the person getting the prize is :  rayzel\n"
     ]
    }
   ],
   "source": [
    "R_1 = R.uniform(0.0,1.0)\n",
    "print(R_1)\n",
    "\n",
    "L_1 = [\"joe\", \"moaz\", \"rayzel\", \"the_danish_one\", \"ahmed\", \"why\"]\n",
    "\n",
    "print(\"the person getting the prize is : \", R.choice(L_1))"
   ]
  },
  {
   "cell_type": "code",
   "execution_count": 25,
   "metadata": {},
   "outputs": [
    {
     "name": "stdout",
     "output_type": "stream",
     "text": [
      "length of str1-> 12\n",
      "str1[0:5]-> HELLO\n",
      "str1[0:5:1]-> HELLO\n",
      "str1[ :5]-> HELLO\n",
      "str1[6:12]-> WORLD!\n",
      "str1[6: ]-> WORLD!\n",
      "str1[-3: ]-> LD!\n",
      "str1[ : :2]-> HLOWRD\n",
      "str1[0:6:2]-> HLO\n",
      "str1[ : :-1]-> !DLROW OLLEH\n",
      "str1[:]-> HELLO WORLD!\n"
     ]
    }
   ],
   "source": [
    "\n",
    "\n",
    "# Examples with slices\n",
    "str1 = 'HELLO WORLD!' # This string has 12 characters \n",
    "print('length of str1->',len(str1))\n",
    "print('str1[0:5]->',str1[0:5])#without step\n",
    "print('str1[0:5:1]->',str1[0:5:1])#with step\n",
    "print('str1[ :5]->',str1[:5])#When the start position is not specified for default it starts in 0\n",
    "print('str1[6:12]->',str1[6:12])#Return the characters from position 6 to 12\n",
    "print('str1[6: ]->',str1[6: ])#When the stop position is not specified for default it stops at the end of the string\n",
    "print('str1[-3: ]->',str1[-3: ])#Return the last 3 characters of the string\n",
    "print('str1[ : :2]->',str1[ : :2])#Return characters every 2 positions\n",
    "print('str1[0:6:2]->',str1[ 0:6:2])#Return the characters from position 0 to 6 every 2 positions\n",
    "print('str1[ : :-1]->',str1[ : :-1])#a negative step reverses the string\n",
    "print('str1[:]->',str1[:])#Return all the characters of the string\n",
    "\n"
   ]
  },
  {
   "cell_type": "code",
   "execution_count": null,
   "metadata": {},
   "outputs": [],
   "source": []
  }
 ],
 "metadata": {
  "kernelspec": {
   "display_name": "Python 3",
   "language": "python",
   "name": "python3"
  },
  "language_info": {
   "codemirror_mode": {
    "name": "ipython",
    "version": 3
   },
   "file_extension": ".py",
   "mimetype": "text/x-python",
   "name": "python",
   "nbconvert_exporter": "python",
   "pygments_lexer": "ipython3",
   "version": "3.7.4"
  }
 },
 "nbformat": 4,
 "nbformat_minor": 2
}
