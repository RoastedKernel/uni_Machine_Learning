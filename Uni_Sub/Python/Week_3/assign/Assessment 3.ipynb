{
 "cells": [
  {
   "cell_type": "code",
   "execution_count": 13,
   "metadata": {},
   "outputs": [
    {
     "name": "stdout",
     "output_type": "stream",
     "text": [
      "OrderedDict([('Date', '1/12/08'), ('Location', 'Albury'), ('MinTemp', '13.4'), ('MaxTemp', '22.9'), ('Rainfall', '0.6'), ('Evaporation', 'NA'), ('Sunshine', 'NA'), ('WindGustDir', 'W'), ('WindGustSpeed', '44'), ('WindDir9am', 'W'), ('WindDir3pm', 'WNW'), ('WindSpeed9am', '20'), ('WindSpeed3pm', '24'), ('Humidity9am', '71'), ('Humidity3pm', '22'), ('Pressure9am', '1007.7'), ('Pressure3pm', '1007.1'), ('Cloud9am', '8'), ('Cloud3pm', 'NA'), ('Temp9am', '16.9'), ('Temp3pm', '21.8'), ('RainToday', 'No'), ('RISK_MM', '0'), ('RainTomorrow', 'No')])\n",
      "\n",
      "\n",
      "OrderedDict([('Date', '1/12/08'), ('Location', 'Albury'), ('MinTemp', '13.4'), ('MaxTemp', '22.9'), ('Rainfall', '0.6'), ('Evaporation', 'NA'), ('Sunshine', 'NA'), ('WindGustDir', 'W'), ('WindGustSpeed', '44'), ('WindDir9am', 'W'), ('WindDir3pm', 'WNW'), ('WindSpeed9am', '20'), ('WindSpeed3pm', '24'), ('Humidity9am', '71'), ('Humidity3pm', '22'), ('Pressure9am', '1007.7'), ('Pressure3pm', '1007.1'), ('Cloud9am', '8'), ('Cloud3pm', 'NA'), ('Temp9am', '16.9'), ('Temp3pm', '21.8'), ('RainToday', 'No'), ('RISK_MM', '0'), ('RainTomorrow', 'No')])\n",
      "\n",
      "\n",
      "OrderedDict([('Date', '1/12/08'), ('Location', 'Albury'), ('MinTemp', '13.4'), ('MaxTemp', '22.9'), ('Rainfall', '0.6'), ('Evaporation', 'NA'), ('Sunshine', 'NA'), ('WindGustDir', 'W'), ('WindGustSpeed', '44'), ('WindDir9am', 'W'), ('WindDir3pm', 'WNW'), ('WindSpeed9am', '20'), ('WindSpeed3pm', '24'), ('Humidity9am', '71'), ('Humidity3pm', '22'), ('Pressure9am', '1007.7'), ('Pressure3pm', '1007.1'), ('Cloud9am', '8'), ('Cloud3pm', 'NA'), ('Temp9am', '16.9'), ('Temp3pm', '21.8'), ('RainToday', 'No'), ('RISK_MM', '0'), ('RainTomorrow', 'No')])\n",
      "\n",
      "\n",
      "OrderedDict([('Date', '1/12/08'), ('Location', 'Albury'), ('MinTemp', '13.4'), ('MaxTemp', '22.9'), ('Rainfall', '0.6'), ('Evaporation', 'NA'), ('Sunshine', 'NA'), ('WindGustDir', 'W'), ('WindGustSpeed', '44'), ('WindDir9am', 'W'), ('WindDir3pm', 'WNW'), ('WindSpeed9am', '20'), ('WindSpeed3pm', '24'), ('Humidity9am', '71'), ('Humidity3pm', '22'), ('Pressure9am', '1007.7'), ('Pressure3pm', '1007.1'), ('Cloud9am', '8'), ('Cloud3pm', 'NA'), ('Temp9am', '16.9'), ('Temp3pm', '21.8'), ('RainToday', 'No'), ('RISK_MM', '0'), ('RainTomorrow', 'No')])\n",
      "\n",
      "\n",
      "OrderedDict([('Date', '1/12/08'), ('Location', 'Albury'), ('MinTemp', '13.4'), ('MaxTemp', '22.9'), ('Rainfall', '0.6'), ('Evaporation', 'NA'), ('Sunshine', 'NA'), ('WindGustDir', 'W'), ('WindGustSpeed', '44'), ('WindDir9am', 'W'), ('WindDir3pm', 'WNW'), ('WindSpeed9am', '20'), ('WindSpeed3pm', '24'), ('Humidity9am', '71'), ('Humidity3pm', '22'), ('Pressure9am', '1007.7'), ('Pressure3pm', '1007.1'), ('Cloud9am', '8'), ('Cloud3pm', 'NA'), ('Temp9am', '16.9'), ('Temp3pm', '21.8'), ('RainToday', 'No'), ('RISK_MM', '0'), ('RainTomorrow', 'No')])\n",
      "\n",
      "\n"
     ]
    }
   ],
   "source": [
    "import csv\n",
    "dataFile =  open('weatherAUS.csv')\n",
    "dreader1 = csv.DictReader(dataFile)\n",
    "dreader = list(dreader1)\n",
    "\n",
    "Count_read = 0\n",
    "\n",
    "for row in dreader:\n",
    "    while Count_read < 5:\n",
    "        Count_read += 1\n",
    "        print(row)\n",
    "        print('\\n')\n",
    "            \n"
   ]
  },
  {
   "cell_type": "code",
   "execution_count": 14,
   "metadata": {},
   "outputs": [
    {
     "name": "stdout",
     "output_type": "stream",
     "text": [
      "28\n"
     ]
    }
   ],
   "source": [
    "\n",
    "def daysOver(dictionaryData, state, temp):\n",
    "    count = 0\n",
    "    for row in dictionaryData:\n",
    "        if row['MaxTemp'] != 'NA':\n",
    "            if (row['Location'] == state) and (float(row['MaxTemp']) > temp ):\n",
    "                count += 1\n",
    "    return count\n",
    "\n",
    "\n",
    "num = daysOver(dreader, 'Perth', 40)\n",
    "print (num)\n",
    "\n",
    "        \n",
    "    \n",
    "    \n",
    "\n",
    "    "
   ]
  },
  {
   "cell_type": "code",
   "execution_count": 25,
   "metadata": {},
   "outputs": [],
   "source": [
    "\n",
    "def writeTempData (Dict,File_name, Temp):\n",
    "    City_data = ['Adelaide','Perth','Melbourne','Canberra','Sydney','Brisbane','Darwin']\n",
    "    Dict_cities_temp = {}\n",
    "    name = File_name + '.csv'\n",
    "    for i in City_data:\n",
    "        Dict_cities_temp [i] = daysOver(Dict, i, Temp)      \n",
    "    #return Dict_cities_temp\n",
    "    data = [Dict_cities_temp]\n",
    "    with open(name,'w') as file:\n",
    "        # note when you create the DictWriter, you need to give the headers\n",
    "        writer = csv.DictWriter(file,City_data)\n",
    "    \n",
    "        # with DictWriter you need to write the headers first and then write the rows\n",
    "        writer.writeheader()\n",
    "        for dictionary in data:\n",
    "            writer.writerow(dictionary)\n",
    "\n",
    "\n",
    "\n",
    "writeTempData(dreader, 'why', 40)\n",
    "#print (all)"
   ]
  },
  {
   "cell_type": "code",
   "execution_count": null,
   "metadata": {},
   "outputs": [],
   "source": []
  },
  {
   "cell_type": "code",
   "execution_count": null,
   "metadata": {},
   "outputs": [],
   "source": []
  }
 ],
 "metadata": {
  "kernelspec": {
   "display_name": "Python 3",
   "language": "python",
   "name": "python3"
  },
  "language_info": {
   "codemirror_mode": {
    "name": "ipython",
    "version": 3
   },
   "file_extension": ".py",
   "mimetype": "text/x-python",
   "name": "python",
   "nbconvert_exporter": "python",
   "pygments_lexer": "ipython3",
   "version": "3.7.4"
  }
 },
 "nbformat": 4,
 "nbformat_minor": 2
}
