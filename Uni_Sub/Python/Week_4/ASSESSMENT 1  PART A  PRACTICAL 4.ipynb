{
 "cells": [
  {
   "cell_type": "code",
   "execution_count": 2,
   "metadata": {},
   "outputs": [],
   "source": [
    "#------------------------------------\n",
    "# Importing the necessrily libaries \n",
    "import numpy as np\n",
    "import random as R\n",
    "#------------------------------------"
   ]
  },
  {
   "cell_type": "code",
   "execution_count": 5,
   "metadata": {},
   "outputs": [
    {
     "name": "stdout",
     "output_type": "stream",
     "text": [
      "[ 0  1  2  3  4  5  6  7  8  9 10 11 12 13 14]\n",
      "\n",
      "\n",
      "[24, 88, 66, 34, 83, 32, 2, 6, 89, 56, 97, 46, 80, 25, 60]\n"
     ]
    }
   ],
   "source": [
    "#------------------------------------\n",
    "# Creating variables for testing\n",
    "a1 = np.arange(15)\n",
    "a5 = R.sample(range(1,100), 15)\n",
    "#------------------------------------\n",
    "\n",
    "print(a1)\n",
    "\n",
    "print('\\n')\n",
    "\n",
    "print(a5)"
   ]
  },
  {
   "cell_type": "code",
   "execution_count": 6,
   "metadata": {},
   "outputs": [
    {
     "name": "stdout",
     "output_type": "stream",
     "text": [
      "[   0    1    8   27   64  125  216  343  512  729 1000 1331 1728 2197\n",
      " 2744]\n",
      "\n",
      "\n",
      "[13824, 681472, 287496, 39304, 571787, 32768, 8, 216, 704969, 175616, 912673, 97336, 512000, 15625, 216000]\n"
     ]
    }
   ],
   "source": [
    "#------------------------------------\n",
    "\n",
    "# numpy cubefunction\n",
    "def cube_np(array):\n",
    "    array_cube = np.power(array,3)\n",
    "    return array_cube\n",
    "#------------------------------------\n",
    "\n",
    "\n",
    "#------------------------------------\n",
    "\n",
    "# nlist cube function\n",
    "def cube_list(List):\n",
    "    return [ x**3 for x in List ]\n",
    "#------------------------------------\n",
    "\n",
    "\n",
    "#------------------------------------\n",
    "# Testing both fucntions\n",
    "\n",
    "a2 = cube_np(a1)\n",
    "print(a2)\n",
    "\n",
    "print('\\n')\n",
    "a3 = cube_list(a5)\n",
    "\n",
    "print(a3)\n",
    "#------------------------------------\n",
    "\n",
    "\n",
    "#------------------------------------\n",
    "# a NumPy array of 100,000 integer numbers\n",
    "narray = np.random.randint(low=1, high=100, size=100000)\n",
    "#------------------------------------\n",
    "# a nlist a Python list of 100,000 integer numbers\n",
    "nlist = [R.randint(0, 100) for x in range(1, 100001)]\n",
    "#------------------------------------"
   ]
  },
  {
   "cell_type": "code",
   "execution_count": 22,
   "metadata": {},
   "outputs": [
    {
     "name": "stdout",
     "output_type": "stream",
     "text": [
      "235 µs ± 1.86 µs per loop (mean ± std. dev. of 7 runs, 1000 loops each)\n"
     ]
    }
   ],
   "source": [
    "%timeit cube_np(narray)"
   ]
  },
  {
   "cell_type": "code",
   "execution_count": 23,
   "metadata": {},
   "outputs": [
    {
     "name": "stdout",
     "output_type": "stream",
     "text": [
      "17.9 ms ± 88.3 µs per loop (mean ± std. dev. of 7 runs, 100 loops each)\n"
     ]
    }
   ],
   "source": [
    "%timeit cube_list(nlist)"
   ]
  },
  {
   "cell_type": "code",
   "execution_count": 34,
   "metadata": {},
   "outputs": [],
   "source": [
    "#------------------------------------\n",
    "# 1D array converted to 2D array shaped to (4,5)\n",
    "D2_array = np.arange(20).reshape(4,5)\n",
    "#------------------------------------\n",
    "\n",
    "#------------------------------------\n",
    "# coverting it back to 1D\n",
    "D1_array = D2_array.flatten()\n",
    "#------------------------------------"
   ]
  },
  {
   "cell_type": "code",
   "execution_count": 49,
   "metadata": {},
   "outputs": [
    {
     "name": "stdout",
     "output_type": "stream",
     "text": [
      "[[ 5  6  7]\n",
      " [ 8  9 10]]\n"
     ]
    }
   ],
   "source": [
    "array_A = np.array([[1,2],[3,4]])\n",
    "array_B = np.array([[5,6,7],[8,9,10]])\n",
    "\n",
    "print(array_B)"
   ]
  },
  {
   "cell_type": "code",
   "execution_count": 69,
   "metadata": {},
   "outputs": [
    {
     "name": "stdout",
     "output_type": "stream",
     "text": [
      "[[ 7]\n",
      " [10]]\n",
      "\n",
      "\n",
      "[[5 6]\n",
      " [8 9]]\n",
      "\n",
      "\n",
      "[[ 5 12  7]\n",
      " [24 36 10]]\n"
     ]
    }
   ],
   "source": [
    "array_B_slice = array_B[:2, 2:]\n",
    "array_B_slice2 = array_B[:2, :2] \n",
    "\n",
    "print(array_B_slice)\n",
    "print('\\n')\n",
    "print(array_B_slice2)\n",
    "print('\\n')\n",
    "\n",
    "A_mul_B = np.hstack([np.multiply(array_B_slice2, array_A),array_B_slice]) \n",
    "print(A_mul_B)"
   ]
  },
  {
   "cell_type": "code",
   "execution_count": null,
   "metadata": {},
   "outputs": [],
   "source": []
  }
 ],
 "metadata": {
  "kernelspec": {
   "display_name": "Python 3",
   "language": "python",
   "name": "python3"
  },
  "language_info": {
   "codemirror_mode": {
    "name": "ipython",
    "version": 3
   },
   "file_extension": ".py",
   "mimetype": "text/x-python",
   "name": "python",
   "nbconvert_exporter": "python",
   "pygments_lexer": "ipython3",
   "version": "3.7.4"
  }
 },
 "nbformat": 4,
 "nbformat_minor": 2
}
