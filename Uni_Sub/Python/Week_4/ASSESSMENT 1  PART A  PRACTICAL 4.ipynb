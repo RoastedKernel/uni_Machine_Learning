{
 "cells": [
  {
   "cell_type": "markdown",
   "metadata": {},
   "source": [
    "# Q1 Python List vs Numpy Array\n",
    "### expolaring the diffrenence between numpy vs python list from computational speed prospective"
   ]
  },
  {
   "cell_type": "code",
   "execution_count": 1,
   "metadata": {},
   "outputs": [],
   "source": [
    "#------------------------------------\n",
    "# Importing the necessrily libaries \n",
    "import numpy as np\n",
    "import random as R\n",
    "#------------------------------------"
   ]
  },
  {
   "cell_type": "code",
   "execution_count": 2,
   "metadata": {},
   "outputs": [
    {
     "name": "stdout",
     "output_type": "stream",
     "text": [
      "[ 0  1  2  3  4  5  6  7  8  9 10 11 12 13 14]\n",
      "\n",
      "\n",
      "[36, 9, 56, 46, 95, 31, 91, 43, 10, 82, 29, 35, 37, 97, 34]\n"
     ]
    }
   ],
   "source": [
    "#------------------------------------\n",
    "# Creating variables for testing\n",
    "a1 = np.arange(15)\n",
    "a5 = R.sample(range(1,100), 15)\n",
    "#------------------------------------\n",
    "\n",
    "print(a1)\n",
    "\n",
    "print('\\n')\n",
    "\n",
    "print(a5)"
   ]
  },
  {
   "cell_type": "code",
   "execution_count": 3,
   "metadata": {
    "scrolled": true
   },
   "outputs": [
    {
     "name": "stdout",
     "output_type": "stream",
     "text": [
      "[   0    1    8   27   64  125  216  343  512  729 1000 1331 1728 2197\n",
      " 2744]\n",
      "\n",
      "\n",
      "[46656, 729, 175616, 97336, 857375, 29791, 753571, 79507, 1000, 551368, 24389, 42875, 50653, 912673, 39304]\n"
     ]
    }
   ],
   "source": [
    "#------------------------------------\n",
    "\n",
    "# numpy cubefunction\n",
    "def cube_np(array):\n",
    "    array_cube = np.power(array,3)\n",
    "    return array_cube\n",
    "#------------------------------------\n",
    "\n",
    "\n",
    "#------------------------------------\n",
    "\n",
    "# nlist cube function\n",
    "def cube_list(List):\n",
    "    return [ x**3 for x in List ]\n",
    "#------------------------------------\n",
    "\n",
    "\n",
    "#------------------------------------\n",
    "# Testing both fucntions\n",
    "\n",
    "a2 = cube_np(a1)\n",
    "print(a2)\n",
    "\n",
    "print('\\n')\n",
    "a3 = cube_list(a5)\n",
    "\n",
    "print(a3)\n",
    "#------------------------------------\n",
    "\n",
    "\n",
    "#------------------------------------\n",
    "# a NumPy array of 100,000 integer numbers\n",
    "narray = np.random.randint(low=1, high=100, size=100000)\n",
    "#------------------------------------\n",
    "# a nlist a Python list of 100,000 integer numbers\n",
    "nlist = [R.randint(0, 100) for x in range(1, 100001)]\n",
    "#------------------------------------"
   ]
  },
  {
   "cell_type": "markdown",
   "metadata": {},
   "source": [
    "## Q2 Measuring the speed of both fucntions. "
   ]
  },
  {
   "cell_type": "code",
   "execution_count": 4,
   "metadata": {},
   "outputs": [
    {
     "name": "stdout",
     "output_type": "stream",
     "text": [
      "234 µs ± 2.9 µs per loop (mean ± std. dev. of 7 runs, 1000 loops each)\n"
     ]
    }
   ],
   "source": [
    "%timeit cube_np(narray)"
   ]
  },
  {
   "cell_type": "code",
   "execution_count": 5,
   "metadata": {
    "scrolled": true
   },
   "outputs": [
    {
     "name": "stdout",
     "output_type": "stream",
     "text": [
      "18.3 ms ± 163 µs per loop (mean ± std. dev. of 7 runs, 100 loops each)\n"
     ]
    }
   ],
   "source": [
    "%timeit cube_list(nlist)"
   ]
  },
  {
   "cell_type": "markdown",
   "metadata": {},
   "source": [
    "### Numpy array is signfically faster than python list. \n",
    "#### One should always consider to leverage the computation advantage of numpy arrays during machine learning workflow.\n",
    "#### the reason for the difference is how data is being stored"
   ]
  },
  {
   "cell_type": "markdown",
   "metadata": {},
   "source": [
    "# Q3 Array manipulations."
   ]
  },
  {
   "cell_type": "code",
   "execution_count": 6,
   "metadata": {},
   "outputs": [],
   "source": [
    "#------------------------------------\n",
    "# 1D array converted to 2D array shaped to (4,5)\n",
    "D2_array = np.arange(20).reshape(4,5)\n",
    "#------------------------------------\n",
    "\n",
    "#------------------------------------\n",
    "# coverting it back to 1D\n",
    "D1_array = D2_array.flatten()\n",
    "#------------------------------------"
   ]
  },
  {
   "cell_type": "code",
   "execution_count": 7,
   "metadata": {},
   "outputs": [
    {
     "name": "stdout",
     "output_type": "stream",
     "text": [
      "Array B is\n",
      "[[ 5  6  7]\n",
      " [ 8  9 10]]\n"
     ]
    }
   ],
   "source": [
    "#------------------------------------\n",
    "# creating Array A\n",
    "array_A = np.array([[1,2],[3,4]])\n",
    "#------------------------------------\n",
    "\n",
    "#------------------------------------\n",
    "# Creating Array B\n",
    "array_B = np.array([[5,6,7],[8,9,10]])\n",
    "#------------------------------------\n",
    "\n",
    "print('Array B is')\n",
    "print(array_B)"
   ]
  },
  {
   "cell_type": "code",
   "execution_count": 8,
   "metadata": {},
   "outputs": [
    {
     "name": "stdout",
     "output_type": "stream",
     "text": [
      "[[ 7]\n",
      " [10]]\n",
      "\n",
      "\n",
      "[[5 6]\n",
      " [8 9]]\n",
      "\n",
      "\n",
      "[[ 5 12  7]\n",
      " [24 36 10]]\n"
     ]
    }
   ],
   "source": [
    "#------------------------------------\n",
    "# slice to add \n",
    "array_B_slice1 = array_B[:2, 2:]\n",
    "#------------------------------------\n",
    "\n",
    "#------------------------------------\n",
    "# Slice to multiply\n",
    "array_B_slice2 = array_B[:2, :2] \n",
    "#------------------------------------\n",
    "\n",
    "#------------------------------------\n",
    "print(array_B_slice1)\n",
    "print('\\n')\n",
    "print(array_B_slice2)\n",
    "print('\\n')\n",
    "#------------------------------------\n",
    "\n",
    "#------------------------------------\n",
    "# multiply slice2 with array A then add slice 1 \n",
    "A_mul_B = np.hstack([np.multiply(array_B_slice2, array_A),array_B_slice1]) \n",
    "#------------------------------------\n",
    "print(A_mul_B)"
   ]
  },
  {
   "cell_type": "code",
   "execution_count": null,
   "metadata": {},
   "outputs": [],
   "source": []
  }
 ],
 "metadata": {
  "kernelspec": {
   "display_name": "Python 3",
   "language": "python",
   "name": "python3"
  },
  "language_info": {
   "codemirror_mode": {
    "name": "ipython",
    "version": 3
   },
   "file_extension": ".py",
   "mimetype": "text/x-python",
   "name": "python",
   "nbconvert_exporter": "python",
   "pygments_lexer": "ipython3",
   "version": "3.7.4"
  }
 },
 "nbformat": 4,
 "nbformat_minor": 2
}
