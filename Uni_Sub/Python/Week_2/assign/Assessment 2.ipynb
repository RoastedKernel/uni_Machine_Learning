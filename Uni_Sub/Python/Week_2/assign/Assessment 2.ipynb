{
 "cells": [
  {
   "cell_type": "markdown",
   "metadata": {},
   "source": [
    "# Levels of Blood Glucose\n",
    "## All the date presented are randomly generated.\n",
    "### Glocuse in blood in Mg/dl\n"
   ]
  },
  {
   "cell_type": "code",
   "execution_count": null,
   "metadata": {},
   "outputs": [],
   "source": [
    "#------------------------------------\n",
    "# Importing the necessrily libaries \n",
    "\n",
    "import random as R\n",
    "#------------------------------------\n",
    "#------------------------------------\n",
    "# generating the date\n",
    "\n",
    "Person_1 = R.randint(60, 126)\n",
    "Person_2 = R.randint(60, 126)\n",
    "Person_3 = R.randint(60, 126)\n",
    "Person_4 = R.randint(60, 126)\n",
    "Person_5 = R.randint(60, 126)\n",
    "#------------------------------------\n",
    "\n",
    "#------------------------------------\n",
    "# printing the data\n",
    "\n",
    "print(\"level of glucose for patient 1 :\", Person_1,\"mg/dl\")\n",
    "print(\"level of glucose for patient 2 :\", Person_2,\"mg/dl\")\n",
    "print(\"level of glucose for patient 3 :\", Person_3,\"mg/dl\")\n",
    "print(\"level of glucose for patient 4 :\", Person_4,\"mg/dl\")\n",
    "print(\"level of glucose for patient 5 :\", Person_5,\"mg/dl\")\n",
    "\n",
    "#-----------------------------------------------------\n",
    "\n"
   ]
  },
  {
   "cell_type": "markdown",
   "metadata": {},
   "source": [
    "# BMI Calculator\n"
   ]
  },
  {
   "cell_type": "code",
   "execution_count": null,
   "metadata": {},
   "outputs": [],
   "source": [
    "\n",
    "Weight = float(input(\"Enter your Weight in Kg \"))\n",
    "\n",
    "Height = float(input(\"Enter your Height in Meters \"))\n",
    "\n",
    "BMI = round(Weight/Height**2, 4)\n",
    "\n",
    "print(\"your BMI is :\", BMI)"
   ]
  },
  {
   "cell_type": "markdown",
   "metadata": {},
   "source": [
    "# DNA \n",
    "##  Counts the number of adenine, guanine, cytosine and thymine \n"
   ]
  },
  {
   "cell_type": "code",
   "execution_count": null,
   "metadata": {},
   "outputs": [],
   "source": [
    "DNA = input(\"Enter your DNA sequence \")\n",
    "DNA_UPPER = DNA.upper()\n",
    "\n",
    "Adenine = DNA_UPPER.count(\"A\")\n",
    "Guanine = DNA_UPPER.count(\"G\")\n",
    "Cytosine = DNA_UPPER.count(\"C\")\n",
    "Thymine = DNA_UPPER.count(\"T\")\n",
    "\n",
    "print(\"Adenine: \", Adenine)\n",
    "print(\"Guanine: \", Guanine) \n",
    "print(\"Cytosine:\", Cytosine) \n",
    "print(\"Thymine: \", Thymine) "
   ]
  },
  {
   "cell_type": "code",
   "execution_count": null,
   "metadata": {},
   "outputs": [],
   "source": []
  },
  {
   "cell_type": "code",
   "execution_count": null,
   "metadata": {},
   "outputs": [],
   "source": []
  },
  {
   "cell_type": "code",
   "execution_count": null,
   "metadata": {},
   "outputs": [],
   "source": [
    "#------------------------------------\n",
    "# Importing the necessrily libaries \n",
    "\n",
    "import random as R\n",
    "#------------------------------------\n",
    "index = 0\n",
    "#No_patients = int(input('Enter the Number of Patients'))\n",
    "Data_dict = {}\n",
    "\n",
    "#------------------------------------\n",
    "# generating the data\n",
    "\n",
    "Person_1 = R.randint(60, 126)\n",
    "Person_2 = R.randint(60, 126)\n",
    "Person_3 = R.randint(60, 126)\n",
    "Person_4 = R.randint(60, 126)\n",
    "Person_5 = R.randint(60, 126)\n",
    "#------------------------------------\n",
    "\n",
    "#------------------------------------\n",
    "# printing the data\n",
    "\n",
    "print(\"level of glucose for patient 1 :\", Person_1,\"mg/dl\")\n",
    "print(\"level of glucose for patient 2 :\", Person_2,\"mg/dl\")\n",
    "print(\"level of glucose for patient 3 :\", Person_3,\"mg/dl\")\n",
    "print(\"level of glucose for patient 4 :\", Person_4,\"mg/dl\")\n",
    "print(\"level of glucose for patient 5 :\", Person_5,\"mg/dl\")\n",
    "\n",
    "#-----------------------------------------------------"
   ]
  },
  {
   "cell_type": "code",
   "execution_count": null,
   "metadata": {
    "scrolled": true
   },
   "outputs": [],
   "source": [
    "#------------------------------------\n",
    "# Importing the necessrily libaries \n",
    "import random as R\n",
    "#------------------------------------\n",
    "\n",
    "# Parameters cofiguration\n",
    "index = 1\n",
    "i = 1\n",
    "No_patients = 500\n",
    "Data_dict = {}\n",
    "#------------------------------------\n",
    "\n",
    "#------------------------------------\n",
    "# iterating over the numbers of patients\n",
    "# to generate the data.\n",
    "\n",
    "while index <= No_patients:\n",
    "    Data_dict[index] = R.randint(60, 126)\n",
    "    index += 1\n",
    "#------------------------------------\n",
    "\n",
    "#------------------------------------\n",
    "# printing the patients data.\n",
    "while i <= len(Data_dict):\n",
    "    print(\"level of glucose for patient\",i,'is', Data_dict[i], \"mg/dl\")\n",
    "    i += 1\n",
    "    \n",
    "#------------------------------------\n",
    "\n",
    "    \n",
    "    "
   ]
  },
  {
   "cell_type": "code",
   "execution_count": null,
   "metadata": {},
   "outputs": [],
   "source": [
    "#------------------------------------\n",
    "# Importing the necessrily libaries \n",
    "import random as R\n",
    "#------------------------------------\n",
    "\n",
    "# Parameters cofiguration\n",
    "index = 1\n",
    "i = 1\n",
    "Desired_unit = (input('what is your prefered unit? mmol/L or mg/dL ')).upper()\n",
    "print(Desired_unit)\n",
    "No_patients = 10\n",
    "Data_dict = {}\n",
    "#------------------------------------\n",
    "\n",
    "#------------------------------------\n",
    "# iterating over the numbers of patients\n",
    "# to generate the data.\n",
    "\n",
    "while index <= No_patients:\n",
    "    Data_dict[index] = R.randint(60, 126)\n",
    "    index += 1\n",
    "#------------------------------------\n",
    "\n",
    "#------------------------------------\n",
    "# printing the patients data.\n",
    "while i <= len(Data_dict):\n",
    "    if Desired_unit == 'MG/DL':\n",
    "        print(\"level of glucose for patient\",i, Data_dict[i], \"mg/dL\")\n",
    "        i += 1\n",
    "    elif Desired_unit == 'MMOL/L':\n",
    "        print(\"level of glucose for patient\",i,'is', round((Data_dict[i])/18, 2), \"mmol/L\")\n",
    "        i += 1\n",
    "    else:\n",
    "        print('error')\n",
    "        i += len(Data_dict)\n",
    "   \n",
    "   \n",
    "    \n",
    "#------------------------------------\n",
    "\n",
    "    "
   ]
  },
  {
   "cell_type": "code",
   "execution_count": 1,
   "metadata": {},
   "outputs": [
    {
     "name": "stdout",
     "output_type": "stream",
     "text": [
      "what is your prefered unit? mmol/L or mg/dL mg/dl\n",
      "what is the number of patients5\n",
      "level of glucose for patient 1 82 mg/dL\n",
      "level of glucose for patient 2 118 mg/dL\n",
      "level of glucose for patient 3 104 mg/dL\n",
      "level of glucose for patient 4 78 mg/dL\n",
      "level of glucose for patient 5 67 mg/dL\n"
     ]
    }
   ],
   "source": [
    "#------------------------------------\n",
    "# Importing the necessrily libaries \n",
    "import random as R\n",
    "#------------------------------------\n",
    "\n",
    "# Parameters cofiguration\n",
    "index = 1\n",
    "i = 1\n",
    "Desired_unit = (input('what is your prefered unit? mmol/L or mg/dL ')).upper()\n",
    "No_patients = int(input('what is the number of patients? '))\n",
    "Data_dict = {}\n",
    "#------------------------------------\n",
    "\n",
    "#------------------------------------\n",
    "# iterating over the numbers of patients\n",
    "# to generate the data.\n",
    "\n",
    "while index <= No_patients:\n",
    "    Data_dict[index] = R.randint(60, 126)\n",
    "    index += 1\n",
    "#------------------------------------\n",
    "\n",
    "#------------------------------------\n",
    "# printing the patients data.\n",
    "while i <= len(Data_dict):\n",
    "    if Desired_unit == 'MG/DL':\n",
    "        print(\"level of glucose for patient\",i, Data_dict[i], \"mg/dL\")\n",
    "        i += 1\n",
    "    elif Desired_unit == 'MMOL/L':\n",
    "        print(\"level of glucose for patient\",i,'is', round((Data_dict[i])/18, 2), \"mmol/L\")\n",
    "        i += 1\n",
    "    else:\n",
    "        print('error')\n",
    "        i += len(Data_dict)\n",
    "   \n",
    "   \n",
    "    \n",
    "#------------------------------------\n",
    "\n",
    "    "
   ]
  },
  {
   "cell_type": "code",
   "execution_count": null,
   "metadata": {},
   "outputs": [],
   "source": []
  }
 ],
 "metadata": {
  "kernelspec": {
   "display_name": "Python 3",
   "language": "python",
   "name": "python3"
  },
  "language_info": {
   "codemirror_mode": {
    "name": "ipython",
    "version": 3
   },
   "file_extension": ".py",
   "mimetype": "text/x-python",
   "name": "python",
   "nbconvert_exporter": "python",
   "pygments_lexer": "ipython3",
   "version": "3.7.4"
  }
 },
 "nbformat": 4,
 "nbformat_minor": 2
}
