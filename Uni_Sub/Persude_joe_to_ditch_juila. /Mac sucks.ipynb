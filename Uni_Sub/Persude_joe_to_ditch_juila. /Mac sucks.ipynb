{
 "cells": [
  {
   "cell_type": "code",
   "execution_count": 1,
   "metadata": {},
   "outputs": [
    {
     "ename": "ErrorException",
     "evalue": "syntax: invalid assignment location \"export JULIA_NUM_THREADS\"",
     "output_type": "error",
     "traceback": [
      "syntax: invalid assignment location \"export JULIA_NUM_THREADS\"",
      ""
     ]
    }
   ],
   "source": [
    "export JULIA_NUM_THREADS=12\n",
    "julia"
   ]
  },
  {
   "cell_type": "code",
   "execution_count": 2,
   "metadata": {},
   "outputs": [
    {
     "ename": "LoadError",
     "evalue": "syntax: extra token \"JULIA_NUM_THREADS\" after end of expression",
     "output_type": "error",
     "traceback": [
      "syntax: extra token \"JULIA_NUM_THREADS\" after end of expression",
      ""
     ]
    }
   ],
   "source": [
    "set JULIA_NUM_THREADS=12\n",
    "julia"
   ]
  },
  {
   "cell_type": "code",
   "execution_count": 3,
   "metadata": {},
   "outputs": [
    {
     "ename": "ErrorException",
     "evalue": "syntax: invalid assignment location \"export JULIA_NUM_THREADS\"",
     "output_type": "error",
     "traceback": [
      "syntax: invalid assignment location \"export JULIA_NUM_THREADS\"",
      ""
     ]
    }
   ],
   "source": [
    "export JULIA_NUM_THREADS=12"
   ]
  },
  {
   "cell_type": "code",
   "execution_count": 4,
   "metadata": {},
   "outputs": [
    {
     "ename": "ErrorException",
     "evalue": "IJulia is already running",
     "output_type": "error",
     "traceback": [
      "IJulia is already running",
      "",
      "Stacktrace:",
      " [1] error(::String) at ./error.jl:33",
      " [2] #notebook#8(::String, ::Bool, ::Function) at /home/roasted_kernel/.julia/packages/IJulia/DrVMH/src/jupyter.jl:95",
      " [3] notebook() at /home/roasted_kernel/.julia/packages/IJulia/DrVMH/src/jupyter.jl:95",
      " [4] top-level scope at In[4]:3"
     ]
    }
   ],
   "source": [
    "ENV[\"JULIA_NUM_THREADS\"] = 12\n",
    "using IJulia\n",
    "notebook()"
   ]
  },
  {
   "cell_type": "code",
   "execution_count": 7,
   "metadata": {},
   "outputs": [
    {
     "ename": "UndefVarError",
     "evalue": "UndefVarError: julia not defined",
     "output_type": "error",
     "traceback": [
      "UndefVarError: julia not defined",
      "",
      "Stacktrace:",
      " [1] top-level scope at In[7]:2"
     ]
    }
   ],
   "source": [
    "JULIA_NUM_THREADS = 12 \n",
    "julia"
   ]
  },
  {
   "cell_type": "code",
   "execution_count": 8,
   "metadata": {},
   "outputs": [
    {
     "name": "stderr",
     "output_type": "stream",
     "text": [
      "┌ Info: Installing Julia 12 Threads kernelspec in /home/roasted_kernel/.local/share/jupyter/kernels/julia-12-threads-1.0\n",
      "└ @ IJulia /home/roasted_kernel/.julia/packages/IJulia/DrVMH/deps/kspec.jl:78\n"
     ]
    },
    {
     "data": {
      "text/plain": [
       "\"/home/roasted_kernel/.local/share/jupyter/kernels/julia-12-threads-1.0\""
      ]
     },
     "execution_count": 8,
     "metadata": {},
     "output_type": "execute_result"
    }
   ],
   "source": [
    "IJulia.installkernel(\"Julia 12 Threads\", env=Dict(\n",
    "    \"JULIA_NUM_THREADS\" => \"12\",\n",
    "))"
   ]
  },
  {
   "cell_type": "code",
   "execution_count": 1,
   "metadata": {},
   "outputs": [
    {
     "data": {
      "text/plain": [
       "12"
      ]
     },
     "execution_count": 1,
     "metadata": {},
     "output_type": "execute_result"
    }
   ],
   "source": [
    "using Base.Threads\n",
    "nthreads()"
   ]
  },
  {
   "cell_type": "code",
   "execution_count": null,
   "metadata": {},
   "outputs": [],
   "source": []
  }
 ],
 "metadata": {
  "kernelspec": {
   "display_name": "Julia 12 Threads 1.0.4",
   "language": "julia",
   "name": "julia-12-threads-1.0"
  },
  "language_info": {
   "file_extension": ".jl",
   "mimetype": "application/julia",
   "name": "julia",
   "version": "1.0.4"
  }
 },
 "nbformat": 4,
 "nbformat_minor": 4
}
