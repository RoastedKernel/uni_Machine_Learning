{
 "cells": [
  {
   "cell_type": "markdown",
   "metadata": {},
   "source": [
    "# Q1 & Q3"
   ]
  },
  {
   "cell_type": "code",
   "execution_count": 52,
   "metadata": {},
   "outputs": [],
   "source": [
    "\n",
    "#---------------------------------------------------------------------------\n",
    "class PC:\n",
    "    def __init__(self, cpu, mobo, ram, gpu, psu, hdd):\n",
    "        self.cpu = cpu\n",
    "        self.mobo = mobo\n",
    "        self.ram = ram\n",
    "        self.gpu = gpu\n",
    "        self.psu = psu\n",
    "        self.hdd = hdd\n",
    "        \n",
    "    def __repr__(self):\n",
    "        return (\"A personal computer with \"+self.cpu+\" on \"+self.mobo+\" with \"+self.ram+\" of ram \"+\n",
    "                \" in addition to a dedicated video card \"+self.gpu+\" powered by \"+self.psu+ \" power supply \"+\n",
    "                \" with a storage capacity of \"+self.hdd)\n",
    "    def TurnOn(self):\n",
    "        print(\"The PC is turned on\")\n",
    "    \n",
    "    def TurnOff(self):\n",
    "        print(\"The PC is Turned Off\")\n",
    "        \n",
    "#---------------------------------------------------------------------------\n",
    "\n",
    "\n",
    "#---------------------------------------------------------------------------\n",
    "class HPC(PC):\n",
    "    def __init__(self, cpu, mobo, ram, gpu, psu, hdd, Number_Of_Cores):\n",
    "        \n",
    "        PC.__init__(self, cpu, mobo, ram, gpu, psu, hdd)\n",
    "        \n",
    "        self.Number_Of_Cores = Number_Of_Cores\n",
    "    \n",
    "    def __repr__(self):\n",
    "        return (\"A High Perfomace computer with \"+self.cpu+\" with \"+str(self.Number_Of_Cores)+\" cores \"+\n",
    "                \" on \"+self.mobo+\" with \"+self.ram+\" of ram \"+\n",
    "                \" also a dedicated video card \"+self.gpu+\" powered by \"+self.psu+ \" power supply \"+\n",
    "                \" with a storage capacity of \"+self.hdd)\n",
    "    def TurnOn(self):\n",
    "        print(\"The HPC is turned on\")\n",
    "    \n",
    "    def TurnOff(self):\n",
    "        print(\"The HPC is Turned Off\")\n",
    "        \n",
    "    def Simulation_On(self):\n",
    "        print(\"The Simualtion has started\")\n",
    "    \n",
    "    def Simulation_Off(self):\n",
    "        print(\"The Simulation has ended\")\n",
    "#---------------------------------------------------------------------------    \n",
    "    \n",
    "    \n",
    "    \n",
    "#---------------------------------------------------------------------------    \n",
    "class Laptop(PC):\n",
    "    def __init__(self, cpu, mobo, ram, gpu, psu, hdd, Battery):\n",
    "        PC.__init__(self, cpu, mobo, ram, gpu, psu, hdd)\n",
    "            \n",
    "        self.Battery = Battery\n",
    "            \n",
    "    def __repr__(self):\n",
    "        \n",
    "        return (\"A Laptop with \"+self.cpu+\" on \"+self.mobo+\" with \"+self.ram+\" of ram \"+\n",
    "                \" in addition to a dedicated video card \"+self.gpu+\" powered by \"+self.psu+\n",
    "                \" with a storage capacity of \"+str(self.hdd)+\" With a battery life of \"+ self.Battery)\n",
    "    \n",
    "    def TurnOn(self):\n",
    "        print(\"The Laptop is turned on\")\n",
    "    \n",
    "    def TurnOff(self):\n",
    "        print(\"The Laptop is Turned Off\")\n",
    "        \n",
    "    def Battery_Low(Self):\n",
    "        print(\"Battery life is low please connect the charger\")\n",
    "    \n",
    "    def Warning (self):\n",
    "        print(\"Battrey is low. system will shutoff\")\n",
    "        \n",
    "#---------------------------------------------------------------------------       \n"
   ]
  },
  {
   "cell_type": "code",
   "execution_count": 56,
   "metadata": {},
   "outputs": [
    {
     "name": "stdout",
     "output_type": "stream",
     "text": [
      "A personal computer with AMD Ryzen 5 3550H on Gigabyte Aorus AX370 with 8GB of ram  in addition to a dedicated video card GeForce GTX 1070 powered by 500W power supply  with a storage capacity of 1TB\n",
      "\n",
      "\n",
      "The PC is turned on\n",
      "\n",
      "\n",
      "The PC is Turned Off\n"
     ]
    }
   ],
   "source": [
    "Average_Pc = PC(\"AMD Ryzen 5 3550H\", \"Gigabyte Aorus AX370\",\"8GB\",\"GeForce GTX 1070\", \"500W\",\"1TB\")\n",
    "print(Average_Pc)\n",
    "print('\\n')\n",
    "Average_Pc.TurnOn()\n",
    "print('\\n')\n",
    "Average_Pc.TurnOff()"
   ]
  },
  {
   "cell_type": "code",
   "execution_count": 57,
   "metadata": {},
   "outputs": [
    {
     "name": "stdout",
     "output_type": "stream",
     "text": [
      "A High Perfomace computer with AMD 1950X Threadripper with 16 cores  on ROG ZENITH EXTREME ALPHA with 32GB of ram  also a dedicated video card ASUS GeForce® RTX 2080 Ti powered by 700W power supply  with a storage capacity of 4TB\n",
      "\n",
      "\n",
      "The HPC is turned on\n",
      "\n",
      "\n",
      "The Simualtion has started\n",
      "\n",
      "\n",
      "The Simulation has ended\n",
      "\n",
      "\n",
      "The HPC is Turned Off\n"
     ]
    }
   ],
   "source": [
    "ML_PC = HPC(\"AMD 1950X Threadripper\", \"ROG ZENITH EXTREME ALPHA\", \"32GB\", \n",
    "            \"ASUS GeForce® RTX 2080 Ti\",\"700W\",\"4TB\",\"16\")\n",
    "print(ML_PC)\n",
    "print('\\n')\n",
    "ML_PC.TurnOn()\n",
    "print('\\n')\n",
    "ML_PC.Simulation_On()\n",
    "print('\\n')\n",
    "ML_PC.Simulation_Off()\n",
    "print('\\n')\n",
    "ML_PC.TurnOff()"
   ]
  },
  {
   "cell_type": "code",
   "execution_count": 55,
   "metadata": {
    "scrolled": true
   },
   "outputs": [
    {
     "name": "stdout",
     "output_type": "stream",
     "text": [
      "A Laptop with AMD Ryzen 7 4800H on Custom Motherboard with 16GB of ram  in addition to a dedicated video card NVIDIA GeForce RTX 2060 powered by 250W with a storage capacity of 2TB With a battery life of 7 Hours\n",
      "\n",
      "\n",
      "The Laptop is turned on\n",
      "\n",
      "\n",
      "Battery life is low please connect the charger\n",
      "\n",
      "\n",
      "Battrey is low. system will shutoff\n",
      "\n",
      "\n",
      "The Laptop is Turned Off\n"
     ]
    }
   ],
   "source": [
    "Portable_PC = Laptop(\"AMD Ryzen 7 4800H\", \"Custom Motherboard\", \"16GB\", \"NVIDIA GeForce RTX 2060\",\n",
    "                     \"250W\",\"2TB\",\"7 Hours\")\n",
    "print(Portable_PC)\n",
    "print('\\n')\n",
    "Portable_PC.TurnOn()\n",
    "print('\\n')\n",
    "Portable_PC.Battery_Low()\n",
    "print('\\n')\n",
    "Portable_PC.Warning()\n",
    "print('\\n')\n",
    "Portable_PC.TurnOff()\n",
    "\n"
   ]
  },
  {
   "cell_type": "markdown",
   "metadata": {},
   "source": [
    "# Q2"
   ]
  },
  {
   "cell_type": "code",
   "execution_count": 70,
   "metadata": {},
   "outputs": [],
   "source": [
    "class Bios:\n",
    "    def __init__(self, bios_version, last_update_check):\n",
    "        \n",
    "        self.bios_version = bios_version\n",
    "        self.last_update_check = last_update_check\n",
    "        \n",
    "    def System_check(self):\n",
    "        print (\"check interal PC components for faults\")\n",
    "        \n",
    "        \n",
    "    def Load_boot_partition(self):\n",
    "        print(\"load operating system\")"
   ]
  },
  {
   "cell_type": "code",
   "execution_count": 71,
   "metadata": {},
   "outputs": [],
   "source": [
    "class Operating_system:\n",
    "    def __init__(self, Type):\n",
    "        \n",
    "        self.Type = Type\n",
    "        \n",
    "    def Startup(self):\n",
    "        print(\"load startup programs\")\n",
    "        \n",
    "    def Internet(self):\n",
    "        print(\"connect to pervious viable internet connection\")"
   ]
  },
  {
   "cell_type": "code",
   "execution_count": 76,
   "metadata": {},
   "outputs": [],
   "source": [
    "class Computer():\n",
    "    def __init__(self, Bios, Operating_system):\n",
    "        self.Bios = Bios\n",
    "        self.Operating_system = Operating_system\n",
    "        \n",
    "        \n",
    "    def TurnOn(self):\n",
    "        Bios.System_check(self)\n",
    "        Bios.Load_boot_partition(self)\n",
    "        Operating_system.Startup(self)\n",
    "        Operating_system.Internet(self)\n",
    "        "
   ]
  },
  {
   "cell_type": "code",
   "execution_count": 77,
   "metadata": {},
   "outputs": [
    {
     "name": "stdout",
     "output_type": "stream",
     "text": [
      "check interal PC components for faults\n",
      "load operating system\n",
      "load startup programs\n",
      "connect to pervious viable internet connection\n"
     ]
    }
   ],
   "source": [
    "bios = Bios(\"16B\", \"30-12-2019\")\n",
    "windows_95 = Operating_system(\"Windows 95\")\n",
    "computer = Computer(bios,windows_95)\n",
    "computer.TurnOn()"
   ]
  },
  {
   "cell_type": "code",
   "execution_count": null,
   "metadata": {},
   "outputs": [],
   "source": []
  }
 ],
 "metadata": {
  "kernelspec": {
   "display_name": "Python 3",
   "language": "python",
   "name": "python3"
  },
  "language_info": {
   "codemirror_mode": {
    "name": "ipython",
    "version": 3
   },
   "file_extension": ".py",
   "mimetype": "text/x-python",
   "name": "python",
   "nbconvert_exporter": "python",
   "pygments_lexer": "ipython3",
   "version": "3.7.6"
  }
 },
 "nbformat": 4,
 "nbformat_minor": 4
}
