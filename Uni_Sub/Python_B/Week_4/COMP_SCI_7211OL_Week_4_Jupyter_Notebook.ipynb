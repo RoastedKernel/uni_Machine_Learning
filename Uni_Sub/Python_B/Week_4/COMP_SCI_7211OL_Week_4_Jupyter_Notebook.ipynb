{
 "cells": [
  {
   "cell_type": "markdown",
   "metadata": {},
   "source": [
    "# Week 4: Making Sense of Data"
   ]
  },
  {
   "cell_type": "markdown",
   "metadata": {},
   "source": [
    "### Dealing with Missing Values\n",
    "\n",
    "Ideally, your datasets will have values for all observations and will not contain any invalid records. However, this is not the case in real-life. In this topic, you will explore how to deal with missing values in your dataset. \n",
    "\n",
    "### Exploring a dataset\n",
    "\n",
    "Have a look at the **Pima Indians Diabetes dataset**, which allows the prediction of the onset of diabetes and is a dataset known to have missing values. \n",
    "\n",
    "First, load the data and print it. You can see that some columns have the values equal to 0. We can see that some columns have a minimum value of 0, which is not acceptable for columns that contain BMI values, for example. The columns that do have 0 values in them are:\n",
    "1: Plasma glucose concentration\n",
    "2: Diastolic blood pressure\n",
    "3: Triceps skinfold thickness\n",
    "4: 2-Hour serum insulin\n",
    "5: Body mass index\n",
    "\n",
    "For these columns, a value of 0 means an incorrect value. We will replace them with 'NaN'.\n"
   ]
  },
  {
   "cell_type": "code",
   "execution_count": 1,
   "metadata": {},
   "outputs": [
    {
     "data": {
      "text/html": [
       "<div>\n",
       "<style scoped>\n",
       "    .dataframe tbody tr th:only-of-type {\n",
       "        vertical-align: middle;\n",
       "    }\n",
       "\n",
       "    .dataframe tbody tr th {\n",
       "        vertical-align: top;\n",
       "    }\n",
       "\n",
       "    .dataframe thead th {\n",
       "        text-align: right;\n",
       "    }\n",
       "</style>\n",
       "<table border=\"1\" class=\"dataframe\">\n",
       "  <thead>\n",
       "    <tr style=\"text-align: right;\">\n",
       "      <th></th>\n",
       "      <th>0</th>\n",
       "      <th>1</th>\n",
       "      <th>2</th>\n",
       "      <th>3</th>\n",
       "      <th>4</th>\n",
       "      <th>5</th>\n",
       "      <th>6</th>\n",
       "      <th>7</th>\n",
       "      <th>8</th>\n",
       "    </tr>\n",
       "  </thead>\n",
       "  <tbody>\n",
       "    <tr>\n",
       "      <th>count</th>\n",
       "      <td>768.000000</td>\n",
       "      <td>768.000000</td>\n",
       "      <td>768.000000</td>\n",
       "      <td>768.000000</td>\n",
       "      <td>768.000000</td>\n",
       "      <td>768.000000</td>\n",
       "      <td>768.000000</td>\n",
       "      <td>768.000000</td>\n",
       "      <td>768.000000</td>\n",
       "    </tr>\n",
       "    <tr>\n",
       "      <th>mean</th>\n",
       "      <td>3.845052</td>\n",
       "      <td>120.894531</td>\n",
       "      <td>69.105469</td>\n",
       "      <td>20.536458</td>\n",
       "      <td>79.799479</td>\n",
       "      <td>31.992578</td>\n",
       "      <td>0.471876</td>\n",
       "      <td>33.240885</td>\n",
       "      <td>0.348958</td>\n",
       "    </tr>\n",
       "    <tr>\n",
       "      <th>std</th>\n",
       "      <td>3.369578</td>\n",
       "      <td>31.972618</td>\n",
       "      <td>19.355807</td>\n",
       "      <td>15.952218</td>\n",
       "      <td>115.244002</td>\n",
       "      <td>7.884160</td>\n",
       "      <td>0.331329</td>\n",
       "      <td>11.760232</td>\n",
       "      <td>0.476951</td>\n",
       "    </tr>\n",
       "    <tr>\n",
       "      <th>min</th>\n",
       "      <td>0.000000</td>\n",
       "      <td>0.000000</td>\n",
       "      <td>0.000000</td>\n",
       "      <td>0.000000</td>\n",
       "      <td>0.000000</td>\n",
       "      <td>0.000000</td>\n",
       "      <td>0.078000</td>\n",
       "      <td>21.000000</td>\n",
       "      <td>0.000000</td>\n",
       "    </tr>\n",
       "    <tr>\n",
       "      <th>25%</th>\n",
       "      <td>1.000000</td>\n",
       "      <td>99.000000</td>\n",
       "      <td>62.000000</td>\n",
       "      <td>0.000000</td>\n",
       "      <td>0.000000</td>\n",
       "      <td>27.300000</td>\n",
       "      <td>0.243750</td>\n",
       "      <td>24.000000</td>\n",
       "      <td>0.000000</td>\n",
       "    </tr>\n",
       "    <tr>\n",
       "      <th>50%</th>\n",
       "      <td>3.000000</td>\n",
       "      <td>117.000000</td>\n",
       "      <td>72.000000</td>\n",
       "      <td>23.000000</td>\n",
       "      <td>30.500000</td>\n",
       "      <td>32.000000</td>\n",
       "      <td>0.372500</td>\n",
       "      <td>29.000000</td>\n",
       "      <td>0.000000</td>\n",
       "    </tr>\n",
       "    <tr>\n",
       "      <th>75%</th>\n",
       "      <td>6.000000</td>\n",
       "      <td>140.250000</td>\n",
       "      <td>80.000000</td>\n",
       "      <td>32.000000</td>\n",
       "      <td>127.250000</td>\n",
       "      <td>36.600000</td>\n",
       "      <td>0.626250</td>\n",
       "      <td>41.000000</td>\n",
       "      <td>1.000000</td>\n",
       "    </tr>\n",
       "    <tr>\n",
       "      <th>max</th>\n",
       "      <td>17.000000</td>\n",
       "      <td>199.000000</td>\n",
       "      <td>122.000000</td>\n",
       "      <td>99.000000</td>\n",
       "      <td>846.000000</td>\n",
       "      <td>67.100000</td>\n",
       "      <td>2.420000</td>\n",
       "      <td>81.000000</td>\n",
       "      <td>1.000000</td>\n",
       "    </tr>\n",
       "  </tbody>\n",
       "</table>\n",
       "</div>"
      ],
      "text/plain": [
       "                0           1           2           3           4           5  \\\n",
       "count  768.000000  768.000000  768.000000  768.000000  768.000000  768.000000   \n",
       "mean     3.845052  120.894531   69.105469   20.536458   79.799479   31.992578   \n",
       "std      3.369578   31.972618   19.355807   15.952218  115.244002    7.884160   \n",
       "min      0.000000    0.000000    0.000000    0.000000    0.000000    0.000000   \n",
       "25%      1.000000   99.000000   62.000000    0.000000    0.000000   27.300000   \n",
       "50%      3.000000  117.000000   72.000000   23.000000   30.500000   32.000000   \n",
       "75%      6.000000  140.250000   80.000000   32.000000  127.250000   36.600000   \n",
       "max     17.000000  199.000000  122.000000   99.000000  846.000000   67.100000   \n",
       "\n",
       "                6           7           8  \n",
       "count  768.000000  768.000000  768.000000  \n",
       "mean     0.471876   33.240885    0.348958  \n",
       "std      0.331329   11.760232    0.476951  \n",
       "min      0.078000   21.000000    0.000000  \n",
       "25%      0.243750   24.000000    0.000000  \n",
       "50%      0.372500   29.000000    0.000000  \n",
       "75%      0.626250   41.000000    1.000000  \n",
       "max      2.420000   81.000000    1.000000  "
      ]
     },
     "execution_count": 1,
     "metadata": {},
     "output_type": "execute_result"
    }
   ],
   "source": [
    "import pandas as pd\n",
    "import numpy as np\n",
    "\n",
    "#load the dataset    \n",
    "df = pd.io.parsers.read_csv(\n",
    "    'https://raw.githubusercontent.com/jbrownlee/Datasets/master/pima-indians-diabetes.data.csv',\n",
    "     header=None\n",
    "    )    \n",
    "\n",
    "\n",
    "df.describe()\n",
    "\n"
   ]
  },
  {
   "cell_type": "code",
   "execution_count": 2,
   "metadata": {},
   "outputs": [
    {
     "data": {
      "text/html": [
       "<div>\n",
       "<style scoped>\n",
       "    .dataframe tbody tr th:only-of-type {\n",
       "        vertical-align: middle;\n",
       "    }\n",
       "\n",
       "    .dataframe tbody tr th {\n",
       "        vertical-align: top;\n",
       "    }\n",
       "\n",
       "    .dataframe thead th {\n",
       "        text-align: right;\n",
       "    }\n",
       "</style>\n",
       "<table border=\"1\" class=\"dataframe\">\n",
       "  <thead>\n",
       "    <tr style=\"text-align: right;\">\n",
       "      <th></th>\n",
       "      <th>0</th>\n",
       "      <th>1</th>\n",
       "      <th>2</th>\n",
       "      <th>3</th>\n",
       "      <th>4</th>\n",
       "      <th>5</th>\n",
       "      <th>6</th>\n",
       "      <th>7</th>\n",
       "      <th>8</th>\n",
       "    </tr>\n",
       "  </thead>\n",
       "  <tbody>\n",
       "    <tr>\n",
       "      <th>count</th>\n",
       "      <td>768.000000</td>\n",
       "      <td>763.000000</td>\n",
       "      <td>733.000000</td>\n",
       "      <td>541.000000</td>\n",
       "      <td>394.000000</td>\n",
       "      <td>757.000000</td>\n",
       "      <td>768.000000</td>\n",
       "      <td>768.000000</td>\n",
       "      <td>768.000000</td>\n",
       "    </tr>\n",
       "    <tr>\n",
       "      <th>mean</th>\n",
       "      <td>3.845052</td>\n",
       "      <td>121.686763</td>\n",
       "      <td>72.405184</td>\n",
       "      <td>29.153420</td>\n",
       "      <td>155.548223</td>\n",
       "      <td>32.457464</td>\n",
       "      <td>0.471876</td>\n",
       "      <td>33.240885</td>\n",
       "      <td>0.348958</td>\n",
       "    </tr>\n",
       "    <tr>\n",
       "      <th>std</th>\n",
       "      <td>3.369578</td>\n",
       "      <td>30.535641</td>\n",
       "      <td>12.382158</td>\n",
       "      <td>10.476982</td>\n",
       "      <td>118.775855</td>\n",
       "      <td>6.924988</td>\n",
       "      <td>0.331329</td>\n",
       "      <td>11.760232</td>\n",
       "      <td>0.476951</td>\n",
       "    </tr>\n",
       "    <tr>\n",
       "      <th>min</th>\n",
       "      <td>0.000000</td>\n",
       "      <td>44.000000</td>\n",
       "      <td>24.000000</td>\n",
       "      <td>7.000000</td>\n",
       "      <td>14.000000</td>\n",
       "      <td>18.200000</td>\n",
       "      <td>0.078000</td>\n",
       "      <td>21.000000</td>\n",
       "      <td>0.000000</td>\n",
       "    </tr>\n",
       "    <tr>\n",
       "      <th>25%</th>\n",
       "      <td>1.000000</td>\n",
       "      <td>99.000000</td>\n",
       "      <td>64.000000</td>\n",
       "      <td>22.000000</td>\n",
       "      <td>76.250000</td>\n",
       "      <td>27.500000</td>\n",
       "      <td>0.243750</td>\n",
       "      <td>24.000000</td>\n",
       "      <td>0.000000</td>\n",
       "    </tr>\n",
       "    <tr>\n",
       "      <th>50%</th>\n",
       "      <td>3.000000</td>\n",
       "      <td>117.000000</td>\n",
       "      <td>72.000000</td>\n",
       "      <td>29.000000</td>\n",
       "      <td>125.000000</td>\n",
       "      <td>32.300000</td>\n",
       "      <td>0.372500</td>\n",
       "      <td>29.000000</td>\n",
       "      <td>0.000000</td>\n",
       "    </tr>\n",
       "    <tr>\n",
       "      <th>75%</th>\n",
       "      <td>6.000000</td>\n",
       "      <td>141.000000</td>\n",
       "      <td>80.000000</td>\n",
       "      <td>36.000000</td>\n",
       "      <td>190.000000</td>\n",
       "      <td>36.600000</td>\n",
       "      <td>0.626250</td>\n",
       "      <td>41.000000</td>\n",
       "      <td>1.000000</td>\n",
       "    </tr>\n",
       "    <tr>\n",
       "      <th>max</th>\n",
       "      <td>17.000000</td>\n",
       "      <td>199.000000</td>\n",
       "      <td>122.000000</td>\n",
       "      <td>99.000000</td>\n",
       "      <td>846.000000</td>\n",
       "      <td>67.100000</td>\n",
       "      <td>2.420000</td>\n",
       "      <td>81.000000</td>\n",
       "      <td>1.000000</td>\n",
       "    </tr>\n",
       "  </tbody>\n",
       "</table>\n",
       "</div>"
      ],
      "text/plain": [
       "                0           1           2           3           4           5  \\\n",
       "count  768.000000  763.000000  733.000000  541.000000  394.000000  757.000000   \n",
       "mean     3.845052  121.686763   72.405184   29.153420  155.548223   32.457464   \n",
       "std      3.369578   30.535641   12.382158   10.476982  118.775855    6.924988   \n",
       "min      0.000000   44.000000   24.000000    7.000000   14.000000   18.200000   \n",
       "25%      1.000000   99.000000   64.000000   22.000000   76.250000   27.500000   \n",
       "50%      3.000000  117.000000   72.000000   29.000000  125.000000   32.300000   \n",
       "75%      6.000000  141.000000   80.000000   36.000000  190.000000   36.600000   \n",
       "max     17.000000  199.000000  122.000000   99.000000  846.000000   67.100000   \n",
       "\n",
       "                6           7           8  \n",
       "count  768.000000  768.000000  768.000000  \n",
       "mean     0.471876   33.240885    0.348958  \n",
       "std      0.331329   11.760232    0.476951  \n",
       "min      0.078000   21.000000    0.000000  \n",
       "25%      0.243750   24.000000    0.000000  \n",
       "50%      0.372500   29.000000    0.000000  \n",
       "75%      0.626250   41.000000    1.000000  \n",
       "max      2.420000   81.000000    1.000000  "
      ]
     },
     "execution_count": 2,
     "metadata": {},
     "output_type": "execute_result"
    }
   ],
   "source": [
    "#replacing 0 with NaN\n",
    "df[[1,2,3,4,5]]=df[[1,2,3,4,5]].replace(0,np.NaN)\n",
    "\n",
    "df.describe()"
   ]
  },
  {
   "cell_type": "markdown",
   "metadata": {},
   "source": [
    "As we can see, the min value changes after the replacement of '0' with 'NaN', as 'NaN' is not considered by most operations.\n",
    "\n",
    "### Removing rows with missing values\n",
    "\n",
    "The simplest strategy for handling missing data is to remove records that contain a missing value. You can do this by creating a new Pandas DataFrame with the rows containing missing values removed. This can be done using the **dropna()** function. Initially, the dataframe had 768 rows. After replacement, it has 392 rows.\n"
   ]
  },
  {
   "cell_type": "code",
   "execution_count": 15,
   "metadata": {},
   "outputs": [
    {
     "data": {
      "text/html": [
       "<div>\n",
       "<style scoped>\n",
       "    .dataframe tbody tr th:only-of-type {\n",
       "        vertical-align: middle;\n",
       "    }\n",
       "\n",
       "    .dataframe tbody tr th {\n",
       "        vertical-align: top;\n",
       "    }\n",
       "\n",
       "    .dataframe thead th {\n",
       "        text-align: right;\n",
       "    }\n",
       "</style>\n",
       "<table border=\"1\" class=\"dataframe\">\n",
       "  <thead>\n",
       "    <tr style=\"text-align: right;\">\n",
       "      <th></th>\n",
       "      <th>0</th>\n",
       "      <th>1</th>\n",
       "      <th>2</th>\n",
       "      <th>3</th>\n",
       "      <th>4</th>\n",
       "      <th>5</th>\n",
       "      <th>6</th>\n",
       "      <th>7</th>\n",
       "      <th>8</th>\n",
       "    </tr>\n",
       "  </thead>\n",
       "  <tbody>\n",
       "    <tr>\n",
       "      <td>3</td>\n",
       "      <td>1</td>\n",
       "      <td>89.0</td>\n",
       "      <td>66.0</td>\n",
       "      <td>23.0</td>\n",
       "      <td>94.0</td>\n",
       "      <td>28.1</td>\n",
       "      <td>0.167</td>\n",
       "      <td>21</td>\n",
       "      <td>0</td>\n",
       "    </tr>\n",
       "    <tr>\n",
       "      <td>4</td>\n",
       "      <td>0</td>\n",
       "      <td>137.0</td>\n",
       "      <td>40.0</td>\n",
       "      <td>35.0</td>\n",
       "      <td>168.0</td>\n",
       "      <td>43.1</td>\n",
       "      <td>2.288</td>\n",
       "      <td>33</td>\n",
       "      <td>1</td>\n",
       "    </tr>\n",
       "    <tr>\n",
       "      <td>6</td>\n",
       "      <td>3</td>\n",
       "      <td>78.0</td>\n",
       "      <td>50.0</td>\n",
       "      <td>32.0</td>\n",
       "      <td>88.0</td>\n",
       "      <td>31.0</td>\n",
       "      <td>0.248</td>\n",
       "      <td>26</td>\n",
       "      <td>1</td>\n",
       "    </tr>\n",
       "    <tr>\n",
       "      <td>8</td>\n",
       "      <td>2</td>\n",
       "      <td>197.0</td>\n",
       "      <td>70.0</td>\n",
       "      <td>45.0</td>\n",
       "      <td>543.0</td>\n",
       "      <td>30.5</td>\n",
       "      <td>0.158</td>\n",
       "      <td>53</td>\n",
       "      <td>1</td>\n",
       "    </tr>\n",
       "    <tr>\n",
       "      <td>13</td>\n",
       "      <td>1</td>\n",
       "      <td>189.0</td>\n",
       "      <td>60.0</td>\n",
       "      <td>23.0</td>\n",
       "      <td>846.0</td>\n",
       "      <td>30.1</td>\n",
       "      <td>0.398</td>\n",
       "      <td>59</td>\n",
       "      <td>1</td>\n",
       "    </tr>\n",
       "    <tr>\n",
       "      <td>...</td>\n",
       "      <td>...</td>\n",
       "      <td>...</td>\n",
       "      <td>...</td>\n",
       "      <td>...</td>\n",
       "      <td>...</td>\n",
       "      <td>...</td>\n",
       "      <td>...</td>\n",
       "      <td>...</td>\n",
       "      <td>...</td>\n",
       "    </tr>\n",
       "    <tr>\n",
       "      <td>753</td>\n",
       "      <td>0</td>\n",
       "      <td>181.0</td>\n",
       "      <td>88.0</td>\n",
       "      <td>44.0</td>\n",
       "      <td>510.0</td>\n",
       "      <td>43.3</td>\n",
       "      <td>0.222</td>\n",
       "      <td>26</td>\n",
       "      <td>1</td>\n",
       "    </tr>\n",
       "    <tr>\n",
       "      <td>755</td>\n",
       "      <td>1</td>\n",
       "      <td>128.0</td>\n",
       "      <td>88.0</td>\n",
       "      <td>39.0</td>\n",
       "      <td>110.0</td>\n",
       "      <td>36.5</td>\n",
       "      <td>1.057</td>\n",
       "      <td>37</td>\n",
       "      <td>1</td>\n",
       "    </tr>\n",
       "    <tr>\n",
       "      <td>760</td>\n",
       "      <td>2</td>\n",
       "      <td>88.0</td>\n",
       "      <td>58.0</td>\n",
       "      <td>26.0</td>\n",
       "      <td>16.0</td>\n",
       "      <td>28.4</td>\n",
       "      <td>0.766</td>\n",
       "      <td>22</td>\n",
       "      <td>0</td>\n",
       "    </tr>\n",
       "    <tr>\n",
       "      <td>763</td>\n",
       "      <td>10</td>\n",
       "      <td>101.0</td>\n",
       "      <td>76.0</td>\n",
       "      <td>48.0</td>\n",
       "      <td>180.0</td>\n",
       "      <td>32.9</td>\n",
       "      <td>0.171</td>\n",
       "      <td>63</td>\n",
       "      <td>0</td>\n",
       "    </tr>\n",
       "    <tr>\n",
       "      <td>765</td>\n",
       "      <td>5</td>\n",
       "      <td>121.0</td>\n",
       "      <td>72.0</td>\n",
       "      <td>23.0</td>\n",
       "      <td>112.0</td>\n",
       "      <td>26.2</td>\n",
       "      <td>0.245</td>\n",
       "      <td>30</td>\n",
       "      <td>0</td>\n",
       "    </tr>\n",
       "  </tbody>\n",
       "</table>\n",
       "<p>392 rows × 9 columns</p>\n",
       "</div>"
      ],
      "text/plain": [
       "      0      1     2     3      4     5      6   7  8\n",
       "3     1   89.0  66.0  23.0   94.0  28.1  0.167  21  0\n",
       "4     0  137.0  40.0  35.0  168.0  43.1  2.288  33  1\n",
       "6     3   78.0  50.0  32.0   88.0  31.0  0.248  26  1\n",
       "8     2  197.0  70.0  45.0  543.0  30.5  0.158  53  1\n",
       "13    1  189.0  60.0  23.0  846.0  30.1  0.398  59  1\n",
       "..   ..    ...   ...   ...    ...   ...    ...  .. ..\n",
       "753   0  181.0  88.0  44.0  510.0  43.3  0.222  26  1\n",
       "755   1  128.0  88.0  39.0  110.0  36.5  1.057  37  1\n",
       "760   2   88.0  58.0  26.0   16.0  28.4  0.766  22  0\n",
       "763  10  101.0  76.0  48.0  180.0  32.9  0.171  63  0\n",
       "765   5  121.0  72.0  23.0  112.0  26.2  0.245  30  0\n",
       "\n",
       "[392 rows x 9 columns]"
      ]
     },
     "execution_count": 15,
     "metadata": {},
     "output_type": "execute_result"
    }
   ],
   "source": [
    "\n",
    "df.dropna(inplace=True)\n",
    "\n",
    "df"
   ]
  },
  {
   "cell_type": "markdown",
   "metadata": {},
   "source": [
    "### Replacing missing values\n",
    "\n",
    "You can also use a model to replace missing values, by using:\n",
    "* A constant value that has meaning within the domain, such as 0, distinct from all other values.\n",
    "* A value from another randomly selected record.\n",
    "* A mean, median or mode value for the column.\n",
    "* A value estimated by another predictive model.\n",
    "\n",
    "You can do this replacement using the **fillna()** function. In the below, you will be replacing it with the mean."
   ]
  },
  {
   "cell_type": "code",
   "execution_count": 17,
   "metadata": {},
   "outputs": [
    {
     "data": {
      "text/html": [
       "<div>\n",
       "<style scoped>\n",
       "    .dataframe tbody tr th:only-of-type {\n",
       "        vertical-align: middle;\n",
       "    }\n",
       "\n",
       "    .dataframe tbody tr th {\n",
       "        vertical-align: top;\n",
       "    }\n",
       "\n",
       "    .dataframe thead th {\n",
       "        text-align: right;\n",
       "    }\n",
       "</style>\n",
       "<table border=\"1\" class=\"dataframe\">\n",
       "  <thead>\n",
       "    <tr style=\"text-align: right;\">\n",
       "      <th></th>\n",
       "      <th>0</th>\n",
       "      <th>1</th>\n",
       "      <th>2</th>\n",
       "      <th>3</th>\n",
       "      <th>4</th>\n",
       "      <th>5</th>\n",
       "      <th>6</th>\n",
       "      <th>7</th>\n",
       "      <th>8</th>\n",
       "    </tr>\n",
       "  </thead>\n",
       "  <tbody>\n",
       "    <tr>\n",
       "      <td>count</td>\n",
       "      <td>768.000000</td>\n",
       "      <td>768.000000</td>\n",
       "      <td>768.000000</td>\n",
       "      <td>768.000000</td>\n",
       "      <td>768.000000</td>\n",
       "      <td>768.000000</td>\n",
       "      <td>768.000000</td>\n",
       "      <td>768.000000</td>\n",
       "      <td>768.000000</td>\n",
       "    </tr>\n",
       "    <tr>\n",
       "      <td>mean</td>\n",
       "      <td>3.845052</td>\n",
       "      <td>121.686763</td>\n",
       "      <td>72.405184</td>\n",
       "      <td>29.153420</td>\n",
       "      <td>155.548223</td>\n",
       "      <td>32.457464</td>\n",
       "      <td>0.471876</td>\n",
       "      <td>33.240885</td>\n",
       "      <td>0.348958</td>\n",
       "    </tr>\n",
       "    <tr>\n",
       "      <td>std</td>\n",
       "      <td>3.369578</td>\n",
       "      <td>30.435949</td>\n",
       "      <td>12.096346</td>\n",
       "      <td>8.790942</td>\n",
       "      <td>85.021108</td>\n",
       "      <td>6.875151</td>\n",
       "      <td>0.331329</td>\n",
       "      <td>11.760232</td>\n",
       "      <td>0.476951</td>\n",
       "    </tr>\n",
       "    <tr>\n",
       "      <td>min</td>\n",
       "      <td>0.000000</td>\n",
       "      <td>44.000000</td>\n",
       "      <td>24.000000</td>\n",
       "      <td>7.000000</td>\n",
       "      <td>14.000000</td>\n",
       "      <td>18.200000</td>\n",
       "      <td>0.078000</td>\n",
       "      <td>21.000000</td>\n",
       "      <td>0.000000</td>\n",
       "    </tr>\n",
       "    <tr>\n",
       "      <td>25%</td>\n",
       "      <td>1.000000</td>\n",
       "      <td>99.750000</td>\n",
       "      <td>64.000000</td>\n",
       "      <td>25.000000</td>\n",
       "      <td>121.500000</td>\n",
       "      <td>27.500000</td>\n",
       "      <td>0.243750</td>\n",
       "      <td>24.000000</td>\n",
       "      <td>0.000000</td>\n",
       "    </tr>\n",
       "    <tr>\n",
       "      <td>50%</td>\n",
       "      <td>3.000000</td>\n",
       "      <td>117.000000</td>\n",
       "      <td>72.202592</td>\n",
       "      <td>29.153420</td>\n",
       "      <td>155.548223</td>\n",
       "      <td>32.400000</td>\n",
       "      <td>0.372500</td>\n",
       "      <td>29.000000</td>\n",
       "      <td>0.000000</td>\n",
       "    </tr>\n",
       "    <tr>\n",
       "      <td>75%</td>\n",
       "      <td>6.000000</td>\n",
       "      <td>140.250000</td>\n",
       "      <td>80.000000</td>\n",
       "      <td>32.000000</td>\n",
       "      <td>155.548223</td>\n",
       "      <td>36.600000</td>\n",
       "      <td>0.626250</td>\n",
       "      <td>41.000000</td>\n",
       "      <td>1.000000</td>\n",
       "    </tr>\n",
       "    <tr>\n",
       "      <td>max</td>\n",
       "      <td>17.000000</td>\n",
       "      <td>199.000000</td>\n",
       "      <td>122.000000</td>\n",
       "      <td>99.000000</td>\n",
       "      <td>846.000000</td>\n",
       "      <td>67.100000</td>\n",
       "      <td>2.420000</td>\n",
       "      <td>81.000000</td>\n",
       "      <td>1.000000</td>\n",
       "    </tr>\n",
       "  </tbody>\n",
       "</table>\n",
       "</div>"
      ],
      "text/plain": [
       "                0           1           2           3           4           5  \\\n",
       "count  768.000000  768.000000  768.000000  768.000000  768.000000  768.000000   \n",
       "mean     3.845052  121.686763   72.405184   29.153420  155.548223   32.457464   \n",
       "std      3.369578   30.435949   12.096346    8.790942   85.021108    6.875151   \n",
       "min      0.000000   44.000000   24.000000    7.000000   14.000000   18.200000   \n",
       "25%      1.000000   99.750000   64.000000   25.000000  121.500000   27.500000   \n",
       "50%      3.000000  117.000000   72.202592   29.153420  155.548223   32.400000   \n",
       "75%      6.000000  140.250000   80.000000   32.000000  155.548223   36.600000   \n",
       "max     17.000000  199.000000  122.000000   99.000000  846.000000   67.100000   \n",
       "\n",
       "                6           7           8  \n",
       "count  768.000000  768.000000  768.000000  \n",
       "mean     0.471876   33.240885    0.348958  \n",
       "std      0.331329   11.760232    0.476951  \n",
       "min      0.078000   21.000000    0.000000  \n",
       "25%      0.243750   24.000000    0.000000  \n",
       "50%      0.372500   29.000000    0.000000  \n",
       "75%      0.626250   41.000000    1.000000  \n",
       "max      2.420000   81.000000    1.000000  "
      ]
     },
     "execution_count": 17,
     "metadata": {},
     "output_type": "execute_result"
    }
   ],
   "source": [
    "import pandas as pd\n",
    "import numpy as np\n",
    "\n",
    "#load the dataset    \n",
    "df = pd.io.parsers.read_csv(\n",
    "    'https://raw.githubusercontent.com/jbrownlee/Datasets/master/pima-indians-diabetes.data.csv',\n",
    "     header=None\n",
    "    )    \n",
    "\n",
    "#replacing 0 with NaN\n",
    "df[[1,2,3,4,5]]=df[[1,2,3,4,5]].replace(0,np.NaN)\n",
    "\n",
    "df.fillna(df.mean(), inplace=True)\n",
    "\n",
    "df.describe()"
   ]
  },
  {
   "cell_type": "markdown",
   "metadata": {},
   "source": [
    "### Normalization\n",
    "\n",
    "Normalization is used in machine learning when the dataset has values that are in different ranges. For example, consider a data set containing two features, alcohol_content(x1), and items_sold(x2). In this dataset, alcohol_content ranges from 0–8, while items_sold ranges from 0–200,000. Items_sold is about 25,000 times larger than the alcohol_content and might intrinsically influence our results due to its higher values, without necessarily being as important as a predictor. To address this disparity, we use **normalisation**.\n",
    "\n",
    "__Min-Max Scaling__\n",
    "The most common type of normalization is called min-max scaling. In this approach, the data is fit to a specific range or interval, typically between 0 and 1. \n",
    "\n",
    "Min-Max scaling is typically done using the following formula:\n",
    "\n",
    "$$X_{norm}=\\frac{X-X_{min}}{X_{max}-X_{min}}$$\n",
    "\n",
    "Where $X$ is the current value of the observation, $X_{min}$ is the minimum value for that feature in the dataset, $X_{max}$ is the maximum value, and $X_{norm}$ is the normalized value.\n",
    "\n",
    "__Standardization (Z-score normalization)__\n",
    "\n",
    "Standardization rescales the features so that they  have the properties of a standard normal distribution with $\\mu=0$ and $\\sigma=1$, where $\\mu$ is the  mean (average) and $\\sigma$ is the standard deviation from the mean. The standard scores (z-scores) of the samples are calculated as follows: \n",
    "$$z=\\frac{x-\\mu}{\\sigma}$$\n",
    "\n",
    "\n",
    "__Example of Min-max scaling and Standardization__\n",
    "\n",
    "Consider the **Beijing Air Quality** dataset in the UCI machine learning repository. This data set includes hourly air pollutants data from 12 nationally-controlled air-quality monitoring sites. The air-quality data are from the Beijing Municipal Environmental Monitoring Center. The meteorological data in each air-quality site are matched with the nearest weather station from the China Meteorological Administration.  There are many features in this dataset, but we will focus on CO2 and temperature. You will perform min-max scaling  and standardization using scikit-learn.\n",
    "\n",
    "You can see from the below that the CO2 and temperatures are measured on different scales. \n"
   ]
  },
  {
   "cell_type": "code",
   "execution_count": 48,
   "metadata": {},
   "outputs": [
    {
     "data": {
      "text/html": [
       "<div>\n",
       "<style scoped>\n",
       "    .dataframe tbody tr th:only-of-type {\n",
       "        vertical-align: middle;\n",
       "    }\n",
       "\n",
       "    .dataframe tbody tr th {\n",
       "        vertical-align: top;\n",
       "    }\n",
       "\n",
       "    .dataframe thead th {\n",
       "        text-align: right;\n",
       "    }\n",
       "</style>\n",
       "<table border=\"1\" class=\"dataframe\">\n",
       "  <thead>\n",
       "    <tr style=\"text-align: right;\">\n",
       "      <th></th>\n",
       "      <th>Number</th>\n",
       "      <th>CO2</th>\n",
       "      <th>Temp</th>\n",
       "    </tr>\n",
       "  </thead>\n",
       "  <tbody>\n",
       "    <tr>\n",
       "      <td>0</td>\n",
       "      <td>14865</td>\n",
       "      <td>1500</td>\n",
       "      <td>0.1</td>\n",
       "    </tr>\n",
       "    <tr>\n",
       "      <td>1</td>\n",
       "      <td>15008</td>\n",
       "      <td>3200</td>\n",
       "      <td>0.1</td>\n",
       "    </tr>\n",
       "    <tr>\n",
       "      <td>2</td>\n",
       "      <td>15129</td>\n",
       "      <td>4700</td>\n",
       "      <td>0.1</td>\n",
       "    </tr>\n",
       "    <tr>\n",
       "      <td>3</td>\n",
       "      <td>15196</td>\n",
       "      <td>4200</td>\n",
       "      <td>0.1</td>\n",
       "    </tr>\n",
       "    <tr>\n",
       "      <td>4</td>\n",
       "      <td>15223</td>\n",
       "      <td>3200</td>\n",
       "      <td>0.1</td>\n",
       "    </tr>\n",
       "    <tr>\n",
       "      <td>...</td>\n",
       "      <td>...</td>\n",
       "      <td>...</td>\n",
       "      <td>...</td>\n",
       "    </tr>\n",
       "    <tr>\n",
       "      <td>29527</td>\n",
       "      <td>34088</td>\n",
       "      <td>2900</td>\n",
       "      <td>0.0</td>\n",
       "    </tr>\n",
       "    <tr>\n",
       "      <td>29528</td>\n",
       "      <td>34089</td>\n",
       "      <td>2800</td>\n",
       "      <td>0.0</td>\n",
       "    </tr>\n",
       "    <tr>\n",
       "      <td>29529</td>\n",
       "      <td>34286</td>\n",
       "      <td>700</td>\n",
       "      <td>0.0</td>\n",
       "    </tr>\n",
       "    <tr>\n",
       "      <td>29530</td>\n",
       "      <td>34287</td>\n",
       "      <td>600</td>\n",
       "      <td>0.0</td>\n",
       "    </tr>\n",
       "    <tr>\n",
       "      <td>29531</td>\n",
       "      <td>34288</td>\n",
       "      <td>600</td>\n",
       "      <td>0.0</td>\n",
       "    </tr>\n",
       "  </tbody>\n",
       "</table>\n",
       "<p>29532 rows × 3 columns</p>\n",
       "</div>"
      ],
      "text/plain": [
       "       Number   CO2  Temp\n",
       "0       14865  1500   0.1\n",
       "1       15008  3200   0.1\n",
       "2       15129  4700   0.1\n",
       "3       15196  4200   0.1\n",
       "4       15223  3200   0.1\n",
       "...       ...   ...   ...\n",
       "29527   34088  2900   0.0\n",
       "29528   34089  2800   0.0\n",
       "29529   34286   700   0.0\n",
       "29530   34287   600   0.0\n",
       "29531   34288   600   0.0\n",
       "\n",
       "[29532 rows x 3 columns]"
      ]
     },
     "execution_count": 48,
     "metadata": {},
     "output_type": "execute_result"
    }
   ],
   "source": [
    "import pandas as pd\n",
    "import numpy as np\n",
    "\n",
    "#load the dataset    \n",
    "df = pd.io.parsers.read_csv(\n",
    "    'beijing.csv',\n",
    "     header=None,\n",
    "     usecols=[0,9,11]\n",
    "    )    \n",
    "\n",
    "#give names to the columns\n",
    "df.columns=['Number', 'CO2', 'Temp']\n",
    "\n",
    "\n",
    "\n",
    "df\n",
    "\n",
    "\n"
   ]
  },
  {
   "cell_type": "markdown",
   "metadata": {},
   "source": [
    "###Min-max scaling\n",
    "\n",
    "Min-max scaling is done using the **MinMaxScaler()** function from sklearn."
   ]
  },
  {
   "cell_type": "code",
   "execution_count": 49,
   "metadata": {},
   "outputs": [
    {
     "name": "stdout",
     "output_type": "stream",
     "text": [
      "Min-value after min-max scaling:\n",
      "CO2=0.00, Temp=0.00\n",
      "\n",
      "Max-value after min-max scaling:\n",
      "CO2=1.00, Temp=1.00\n"
     ]
    }
   ],
   "source": [
    "from sklearn import preprocessing\n",
    "\n",
    "minmax_scale = preprocessing.MinMaxScaler().fit(df[['CO2', 'Temp']])\n",
    "df_minmax = minmax_scale.transform(df[['CO2', 'Temp']])\n",
    "\n",
    "print('Min-value after min-max scaling:\\nCO2={:.2f}, Temp={:.2f}'\n",
    "      .format(df_minmax[:,0].min(), df_minmax[:,1].min()))\n",
    "print('\\nMax-value after min-max scaling:\\nCO2={:.2f}, Temp={:.2f}'\n",
    "      .format(df_minmax[:,0].max(), df_minmax[:,1].max()))"
   ]
  },
  {
   "cell_type": "markdown",
   "metadata": {},
   "source": [
    "###Standardization is done using the **StandardScaler()** function from sklearn."
   ]
  },
  {
   "cell_type": "code",
   "execution_count": 50,
   "metadata": {},
   "outputs": [
    {
     "name": "stdout",
     "output_type": "stream",
     "text": [
      "Mean after standardization:\n",
      "CO2=-0.00, Temp=0.00\n",
      "\n",
      "Standard deviation after standardization:\n",
      "CO2=1.00, Temp=1.00\n"
     ]
    }
   ],
   "source": [
    "\n",
    "std_scale = preprocessing.StandardScaler().fit(df[['CO2', 'Temp']])\n",
    "df_std = std_scale.transform(df[['CO2', 'Temp']])\n",
    "\n",
    "\n",
    "print('Mean after standardization:\\nCO2={:.2f}, Temp={:.2f}'\n",
    "      .format(df_std[:,0].mean(), df_std[:,1].mean()))\n",
    "print('\\nStandard deviation after standardization:\\nCO2={:.2f}, Temp={:.2f}'\n",
    "      .format(df_std[:,0].std(), df_std[:,1].std()))"
   ]
  },
  {
   "cell_type": "code",
   "execution_count": 51,
   "metadata": {},
   "outputs": [
    {
     "ename": "SyntaxError",
     "evalue": "invalid syntax (<ipython-input-51-a3ed6e126562>, line 1)",
     "output_type": "error",
     "traceback": [
      "\u001b[0;36m  File \u001b[0;32m\"<ipython-input-51-a3ed6e126562>\"\u001b[0;36m, line \u001b[0;32m1\u001b[0m\n\u001b[0;31m    To get a better overview of how min-max scaling and standardization affects\u001b[0m\n\u001b[0m         ^\u001b[0m\n\u001b[0;31mSyntaxError\u001b[0m\u001b[0;31m:\u001b[0m invalid syntax\n"
     ]
    }
   ],
   "source": [
    "To get a better overview of how min-max scaling and standardization affects "
   ]
  },
  {
   "cell_type": "code",
   "execution_count": 52,
   "metadata": {},
   "outputs": [
    {
     "data": {
      "image/png": "[encoded data removed]",
      "text/plain": [
       "<Figure size 576x432 with 1 Axes>"
      ]
     },
     "metadata": {
      "needs_background": "light"
     },
     "output_type": "display_data"
    },
    {
     "data": {
      "image/png": "[encoded data removed]",
      "text/plain": [
       "<Figure size 576x432 with 1 Axes>"
      ]
     },
     "metadata": {
      "needs_background": "light"
     },
     "output_type": "display_data"
    }
   ],
   "source": [
    "from matplotlib import pyplot as plt\n",
    "\n",
    "def plot():\n",
    "    plt.figure(figsize=(8,6))\n",
    "\n",
    "    plt.scatter(df_std[:,0], df_std[:,1], color='red',\n",
    "            label='Standardized', alpha=0.3)\n",
    "\n",
    "    plt.scatter(df_minmax[:,0], df_minmax[:,1],\n",
    "            color='blue', label='min-max scaled [min=0, max=1]', alpha=0.3)\n",
    "\n",
    "    plt.title('CO2 and Temp values in the Beijing dataset')\n",
    "    plt.xlabel('CO2')\n",
    "    plt.ylabel('Temp')\n",
    "    plt.legend(loc='upper left')\n",
    "    plt.grid()\n",
    "\n",
    "    plt.tight_layout()\n",
    "\n",
    "\n",
    "plt.figure(figsize=(8,6))    \n",
    "plt.scatter(df['CO2'], df['Temp'], \n",
    "               color='green', label='input scale', alpha=0.5)\n",
    "plt.title('CO2 and Temp values in the Beijing dataset - Without Normalization')\n",
    "plt.show()\n",
    "\n",
    "plot()\n",
    "plt.show()"
   ]
  },
  {
   "cell_type": "markdown",
   "metadata": {},
   "source": [
    "### PCA in scikit-learn\n"
   ]
  },
  {
   "cell_type": "code",
   "execution_count": 8,
   "metadata": {},
   "outputs": [],
   "source": [
    "#libraries \n",
    "import numpy as np \n",
    "import matplotlib.pyplot as plt \n",
    "#For plotting, Seaborn will be used \n",
    "import seaborn as sns \n",
    "# set Seaborn up as the default enviroment \n",
    "sns.set()"
   ]
  },
  {
   "cell_type": "code",
   "execution_count": 9,
   "metadata": {},
   "outputs": [
    {
     "data": {
      "text/plain": [
       "(-3.572214661203726,\n",
       " 2.5414477014763444,\n",
       " -3.295588931623508,\n",
       " 2.3907156339881492)"
      ]
     },
     "execution_count": 9,
     "metadata": {},
     "output_type": "execute_result"
    },
    {
     "data": {
      "image/png": "[encoded data removed]",
      "text/plain": [
       "<Figure size 576x576 with 1 Axes>"
      ]
     },
     "metadata": {},
     "output_type": "display_data"
    }
   ],
   "source": [
    "#visualising a two-dimensional dataset\n",
    "#To create a line of points we use product of two arrays \n",
    "random = np.random.RandomState(6)#Seed to get the same random numbers \n",
    "\n",
    "#We use the dot (product between two arrays) function to simulate a pattern \n",
    "#and avoid the randomness of the points (looks like noise). \n",
    "x_points = np.dot(random.rand(2,2),random.randn(2, 200)).T#use to get the product between \n",
    "\n",
    "#We use the transpose to get two dimentions.\n",
    "plt.figure(figsize=(8,8))\n",
    "\n",
    "#Plotting with Seaborn\n",
    "sns.scatterplot(x_points[:,0],x_points[:,1])\n",
    "plt.axis('equal')\n",
    "#Note: the Array printed as a out is the values of the axis to \n",
    "# have the adjust of the axis (previous line code)"
   ]
  },
  {
   "cell_type": "markdown",
   "metadata": {},
   "source": [
    "You will now apply  PCA the data. PCA will find the relationship between the points ang get a list of the principal points in the data. You perform PCA using Scikit-learn's estimator PCA. \n",
    "\n",
    "Code to perform PCA \n",
    " \n",
    " PCA(n\\_components=$<$int$>$)  \n",
    " where n_components is the number of components to keep. \n",
    " \n",
    " PCA.fit($<X>$)   \n",
    " This method fits your model with $X$ data. \n",
    "\n",
    "If you want to know more about the rest of the PCA parameters and methods, visit https://scikit-learn.org/stable/modules/generated/sklearn.decomposition.PCA.html\n",
    " "
   ]
  },
  {
   "cell_type": "code",
   "execution_count": 10,
   "metadata": {},
   "outputs": [
    {
     "data": {
      "text/plain": [
       "PCA(copy=True, iterated_power='auto', n_components=2, random_state=None,\n",
       "    svd_solver='auto', tol=0.0, whiten=False)"
      ]
     },
     "execution_count": 10,
     "metadata": {},
     "output_type": "execute_result"
    }
   ],
   "source": [
    "#importing the method \n",
    "from sklearn.decomposition import PCA\n",
    "pca = PCA(n_components=2)# defining the PCA estimator \n",
    "pca.fit(x_points) # Fit with our data "
   ]
  },
  {
   "cell_type": "markdown",
   "metadata": {},
   "source": [
    "The fit learns some quantities from the set, the most important components and explained variance. "
   ]
  },
  {
   "cell_type": "code",
   "execution_count": 11,
   "metadata": {},
   "outputs": [
    {
     "name": "stdout",
     "output_type": "stream",
     "text": [
      "Components \n",
      " [[-0.75933228 -0.65070307]\n",
      " [-0.65070307  0.75933228]]\n",
      "Explained variance \n",
      " [1.45688402 0.03487972]\n"
     ]
    }
   ],
   "source": [
    "# Print the components to find out the quantities learned by PCA \n",
    "print('Components \\n', pca.components_)\n",
    "\n",
    "# Print the variance\n",
    "print('Explained variance \\n', pca.explained_variance_)"
   ]
  },
  {
   "cell_type": "code",
   "execution_count": 12,
   "metadata": {},
   "outputs": [
    {
     "data": {
      "text/plain": [
       "[(-3.5, 3), (-3.5, 3)]"
      ]
     },
     "execution_count": 12,
     "metadata": {},
     "output_type": "execute_result"
    },
    {
     "data": {
      "image/png": "[encoded data removed]",
      "text/plain": [
       "<Figure size 576x576 with 1 Axes>"
      ]
     },
     "metadata": {},
     "output_type": "display_data"
    }
   ],
   "source": [
    "#definig the arrow that will plot  \n",
    "arrow = dict(arrowstyle='<-', linewidth=2, shrinkA=0, shrinkB=0, color='b')\n",
    "\n",
    "#Plotting the data \n",
    "plt.figure(figsize=(8,8))\n",
    "#Plotting x_points with seaborns\n",
    "sns.scatterplot(x_points[:,0],x_points[:,1], alpha=0.2)\n",
    "#To draw a the components and the variance  \n",
    "for length, vector in zip(pca.explained_variance_, -pca.components_):\n",
    "    v = vector * 3 * np.sqrt(length)#getting the vector that will be added to pca_mean\n",
    "    ax =plt.gca()\n",
    "    #Per-feature empirical mean, estimated from the training set\n",
    "    ax.annotate('', pca.mean_, pca.mean_ + v, arrowprops=arrow)\n",
    "\n",
    "ax.set(xlim=(-3.5, 3), ylim=(-3.5, 3))   \n",
    "    "
   ]
  },
  {
   "cell_type": "markdown",
   "metadata": {},
   "source": [
    "These vectors represent the principal axes of the data.  The length is the measure of the variance of the data when is projected onto that axis. The projection of each point onto the principal axes are the principal components of the data.  \n",
    "\n",
    "#### Reducing the Data to One Dimension"
   ]
  },
  {
   "cell_type": "code",
   "execution_count": 13,
   "metadata": {},
   "outputs": [
    {
     "name": "stdout",
     "output_type": "stream",
     "text": [
      "Original in x_points.shape (200, 2)\n",
      "Transformed in x_pca.shape (200, 1)\n"
     ]
    }
   ],
   "source": [
    "#One component \n",
    "pca = PCA(n_components=1)\n",
    "pca.fit(x_points)\n",
    "x_pca = pca.transform(x_points) #Fit the model with X and apply the dimensionality reduction on X\n",
    "\n",
    "# Print the shape of the vectors \n",
    "print('Original in x_points.shape', x_points.shape)\n",
    "print('Transformed in x_pca.shape', x_pca.shape)"
   ]
  },
  {
   "cell_type": "markdown",
   "metadata": {},
   "source": [
    "Now reduce the data in one-dimension. To understand the effect of this reduction, plot the inverse transformation of this data over the original data. \n",
    "\n",
    "The **inverse_transform** method transforms  data back to its original space."
   ]
  },
  {
   "cell_type": "code",
   "execution_count": 14,
   "metadata": {},
   "outputs": [
    {
     "data": {
      "text/plain": [
       "<matplotlib.axes._subplots.AxesSubplot at 0x1a1fc3b7d0>"
      ]
     },
     "execution_count": 14,
     "metadata": {},
     "output_type": "execute_result"
    },
    {
     "data": {
      "image/png": "[encoded data removed]",
      "text/plain": [
       "<Figure size 576x576 with 1 Axes>"
      ]
     },
     "metadata": {},
     "output_type": "display_data"
    }
   ],
   "source": [
    "#Transform back x_pca to the original space\n",
    "x_inverse = pca.inverse_transform(x_pca) \n",
    "\n",
    "#Plotting the data \n",
    "plt.figure(figsize=(8,8))\n",
    "\n",
    "#Plotting x_points with seaborns\n",
    "sns.scatterplot(x_points[:,0],x_points[:,1], alpha=0.2)\n",
    "sns.scatterplot(x_inverse[:,0],x_inverse[:,1], alpha=0.8)"
   ]
  },
  {
   "cell_type": "markdown",
   "metadata": {},
   "source": [
    "The blue points represent the original data and the orange points are the projected version. You can see how PCA only keeps the components with the highest variance. Looks like at least the 50% of the points were removed, but the general relationship of the data points is mostly preserved.   "
   ]
  },
  {
   "cell_type": "markdown",
   "metadata": {},
   "source": [
    "#### Example of the presented metrics \n",
    "\n",
    "In the following example, you obtain  the above metrics for three classes, using sklearn.metrics and you will create a confusion matrix in a graph using the Seaborn library. You will create two arrays, to emulate the results of a classification model. The first array will contain the true values and the second will contains the predict values. "
   ]
  },
  {
   "cell_type": "code",
   "execution_count": 2,
   "metadata": {},
   "outputs": [],
   "source": [
    "import numpy as np\n",
    "import matplotlib.pyplot as plt \n",
    "#For plotting, Seaborns will be used \n",
    "import seaborn as sns \n",
    "# set seaborn up as the default enviroment \n",
    "sns.set()"
   ]
  },
  {
   "cell_type": "code",
   "execution_count": 3,
   "metadata": {},
   "outputs": [
    {
     "name": "stdout",
     "output_type": "stream",
     "text": [
      "y_true     [2 0 0 1 1 1 2 0 1 0 1 2 1 0 2 1 2 0 0 2]\n",
      "y_predict  [1 0 0 1 1 2 2 0 1 0 2 2 1 1 2 1 2 0 0 2]\n"
     ]
    }
   ],
   "source": [
    "#Creating two arrays\n",
    "y_true = np.array   ([2, 0, 0, 1, 1, 1, 2, 0, 1, 0, 1, 2, 1, 0, 2, 1, 2, 0, 0, 2])\n",
    "y_predict = np.array([1, 0, 0, 1, 1, 2, 2, 0, 1, 0, 2, 2, 1, 1, 2, 1, 2, 0, 0, 2])\n",
    "print('y_true    ',y_true)\n",
    "print('y_predict ',y_predict)"
   ]
  },
  {
   "cell_type": "code",
   "execution_count": 4,
   "metadata": {},
   "outputs": [
    {
     "name": "stdout",
     "output_type": "stream",
     "text": [
      "Accuracy =  0.8\n",
      "Precision=  0.8095238095238096\n",
      "Recall   =  0.8015873015873015\n"
     ]
    }
   ],
   "source": [
    "#Calculate accuracy, precision and recall \n",
    "from sklearn.metrics import accuracy_score, precision_score, recall_score\n",
    "print('Accuracy = ', accuracy_score(y_true, y_predict))\n",
    "print('Precision= ', precision_score(y_true, y_predict, average='macro'))\n",
    "print('Recall   = ', recall_score(y_true, y_predict, average='macro'))"
   ]
  },
  {
   "cell_type": "code",
   "execution_count": 5,
   "metadata": {},
   "outputs": [
    {
     "data": {
      "text/plain": [
       "array([[6, 1, 0],\n",
       "       [0, 5, 2],\n",
       "       [0, 1, 5]])"
      ]
     },
     "execution_count": 5,
     "metadata": {},
     "output_type": "execute_result"
    }
   ],
   "source": [
    "#Confusion matrix\n",
    "from sklearn.metrics import confusion_matrix\n",
    "confusion_matrix(y_true, y_predict)\n"
   ]
  },
  {
   "cell_type": "code",
   "execution_count": 6,
   "metadata": {},
   "outputs": [
    {
     "data": {
      "image/png": "[encoded data removed]",
      "text/plain": [
       "<Figure size 432x288 with 1 Axes>"
      ]
     },
     "metadata": {
      "needs_background": "light"
     },
     "output_type": "display_data"
    }
   ],
   "source": [
    "#Plotting the confusion matrix \n",
    "#Getting the matrix \n",
    "cm = confusion_matrix(y_true, y_predict)\n",
    "cmap = sns.cubehelix_palette(light=0.9, as_cmap=True)\n",
    "sns.heatmap(cm, square=True, annot=True, cbar=False, cmap=cmap)\n",
    "plt.title('Graphical example of a Confusion Matrix')\n",
    "plt.xlabel('predicted value')\n",
    "plt.ylabel('true value');"
   ]
  },
  {
   "cell_type": "markdown",
   "metadata": {},
   "source": [
    "In the diagonal of the matrix, you can find how many classes were classified correctly. For class '0', six samples of seven was well classified  and one was classified as class '1'. For class '1', the classifier did well in five times but was confused  two times whenn it predicted as a class '2'. For class '2', the classifier was right five times and wrong once, when it predicted as a class '1'.   "
   ]
  },
  {
   "cell_type": "markdown",
   "metadata": {},
   "source": [
    "#### Example of GridSearchCV\n",
    "Let’s test the GridSearchCV tool in the well-known Iris dataset."
   ]
  },
  {
   "cell_type": "code",
   "execution_count": 87,
   "metadata": {},
   "outputs": [
    {
     "data": {
      "text/plain": [
       "((150, 4), (150,))"
      ]
     },
     "execution_count": 87,
     "metadata": {},
     "output_type": "execute_result"
    }
   ],
   "source": [
    "#loading the dataset \n",
    "from sklearn.datasets import load_iris\n",
    "iris = load_iris()\n",
    "X = iris.data\n",
    "y = iris.target\n",
    "X.shape, y.shape"
   ]
  },
  {
   "cell_type": "code",
   "execution_count": 88,
   "metadata": {},
   "outputs": [],
   "source": [
    "#SVM model \n",
    "from sklearn.svm import SVC \n",
    "#Divide the data in training and split \n",
    "from sklearn.model_selection import train_test_split\n",
    "from sklearn.pipeline import make_pipeline # library to make a pipeline\n",
    "svc = SVC(kernel='rbf', class_weight='balanced')\n",
    "model= make_pipeline(svc)#We build of model with svc"
   ]
  },
  {
   "cell_type": "markdown",
   "metadata": {},
   "source": [
    "Getting the best values for the parameters using GridSearchCV\n",
    "\n",
    "GridSearchCV(model, param_grid, cv=5)\n",
    "\n",
    "* param_grid can be a dictionary or a list of dictionaries. The dictionary must be included the name of the parameter to calibrate as a key and as a value a list of parameter settings to try.\n",
    "* cv (cross-validation) is to specify how many folds the data will be split. "
   ]
  },
  {
   "cell_type": "code",
   "execution_count": 89,
   "metadata": {},
   "outputs": [
    {
     "name": "stdout",
     "output_type": "stream",
     "text": [
      "CPU times: user 175 ms, sys: 2.94 ms, total: 178 ms\n",
      "Wall time: 177 ms\n",
      "best parameters {'svc__C': 50, 'svc__gamma': 0.005}\n"
     ]
    }
   ],
   "source": [
    "from sklearn.model_selection import GridSearchCV\n",
    "#Hyperparameters to calibrate \n",
    "param_grid = {'svc__C': [1, 5, 10, 50],\n",
    "              'svc__gamma': [0.0001, 0.0005, 0.001, 0.005]}\n",
    "#Searching for the optimal from param_grid\n",
    "grid = GridSearchCV(model, param_grid, cv=5)# cv determines the cross-validation splitting\n",
    "#Checking how many time takes to find the optimum values \n",
    "%time grid.fit(X, y)\n",
    "print('best parameters',grid.best_params_)"
   ]
  },
  {
   "cell_type": "markdown",
   "metadata": {},
   "source": [
    "#### Example of **RandomizedSearchCV**\n",
    "\n",
    "andomizedSearchCV(model, param_distributions, n_iter, cv)\n",
    "\n",
    "*  param_distributions is a dictionary with the name of the parameter as a key and distributions to try, you can use scipy.stats.distributions. \n",
    "\n",
    "* n_iter is the number of parameter settings that are sampled. By default 10"
   ]
  },
  {
   "cell_type": "code",
   "execution_count": 93,
   "metadata": {},
   "outputs": [
    {
     "name": "stdout",
     "output_type": "stream",
     "text": [
      "CPU times: user 206 ms, sys: 4.25 ms, total: 211 ms\n",
      "Wall time: 214 ms\n",
      "best parameters {'svc__C': 3.7409990553927175, 'svc__gamma': 0.3823806291382764}\n"
     ]
    }
   ],
   "source": [
    "from sklearn.model_selection import RandomizedSearchCV\n",
    "from scipy import stats\n",
    "n_iter_search =20\n",
    "#using stats to give a range of  samples of parameters that will be tested \n",
    "param_distributions = {'svc__C': stats.uniform(1,50),\n",
    "              'svc__gamma': stats.uniform(0.1,1.0)}\n",
    "random_search = RandomizedSearchCV(model, param_distributions, \n",
    "                                   n_iter=n_iter_search, cv=5)\n",
    "#Checking how many time takes to find the optimum values \n",
    "%time random_search.fit(X, y)\n",
    "print('best parameters',random_search.best_params_)"
   ]
  },
  {
   "cell_type": "markdown",
   "metadata": {},
   "source": [
    "### Correct Model Evaluation"
   ]
  },
  {
   "cell_type": "markdown",
   "metadata": {},
   "source": [
    "__Loadind the breast_cancer data__"
   ]
  },
  {
   "cell_type": "code",
   "execution_count": 35,
   "metadata": {},
   "outputs": [
    {
     "name": "stdout",
     "output_type": "stream",
     "text": [
      "(569,)\n"
     ]
    },
    {
     "data": {
      "text/plain": [
       "(569, 30)"
      ]
     },
     "execution_count": 35,
     "metadata": {},
     "output_type": "execute_result"
    }
   ],
   "source": [
    "from sklearn.datasets import load_breast_cancer\n",
    "breast_cancer = load_breast_cancer()\n",
    "X = breast_cancer.data\n",
    "y = breast_cancer.target \n",
    "print(y.shape)\n",
    "X.shape"
   ]
  },
  {
   "cell_type": "markdown",
   "metadata": {},
   "source": [
    "__Selecting the model and its parameters__     \n",
    "We select K nearest neighbor KNN with n_neighbors=1, which means that the class of an unknown point (instance) is the same as the class of its closet training point. "
   ]
  },
  {
   "cell_type": "code",
   "execution_count": 11,
   "metadata": {},
   "outputs": [],
   "source": [
    "from sklearn.neighbors import KNeighborsClassifier\n",
    "model = KNeighborsClassifier(n_neighbors=1)"
   ]
  },
  {
   "cell_type": "markdown",
   "metadata": {},
   "source": [
    "__Fit the model__   \n",
    "After training the model, we use the model to predict the classes that beforehand the model knows. "
   ]
  },
  {
   "cell_type": "code",
   "execution_count": 12,
   "metadata": {},
   "outputs": [],
   "source": [
    "model.fit(X,y)\n",
    "y_predict=model.predict(X)"
   ]
  },
  {
   "cell_type": "markdown",
   "metadata": {},
   "source": [
    "__Measure the accuracy of the model__"
   ]
  },
  {
   "cell_type": "code",
   "execution_count": 13,
   "metadata": {},
   "outputs": [
    {
     "data": {
      "text/plain": [
       "1.0"
      ]
     },
     "execution_count": 13,
     "metadata": {},
     "output_type": "execute_result"
    }
   ],
   "source": [
    "from sklearn.metrics import accuracy_score\n",
    "accuracy_score(y,y_predict)"
   ]
  },
  {
   "cell_type": "markdown",
   "metadata": {},
   "source": [
    "### Validation using the Holdout Set"
   ]
  },
  {
   "cell_type": "code",
   "execution_count": null,
   "metadata": {},
   "outputs": [],
   "source": [
    "__Loadind the breast_cancer data__\n",
    "\n",
    "from sklearn.datasets import load_breast_cancer\n",
    "breast_cancer = load_breast_cancer()\n",
    "X = breast_cancer.data\n",
    "y = breast_cancer.target \n",
    "print(y.shape)\n",
    "X.shape\n",
    "\n",
    "__Selecting the model and its parameters__     \n",
    "We select K nearest neighbor KNN with n_neighbors=1, which means that the class of an unknown point (instance) is the same as the class of its closet training point. \n",
    "\n",
    "from sklearn.neighbors import KNeighborsClassifier\n",
    "model = KNeighborsClassifier(n_neighbors=1)\n",
    "\n",
    "__Fit the model__   \n",
    "After training the model, we use the model to predict the classes that beforehand the model knows. \n",
    "\n",
    "model.fit(X,y)\n",
    "y_predict=model.predict(X)\n",
    "\n",
    "__Measure the accuracy of the model__\n",
    "\n",
    "from sklearn.metrics import accuracy_score\n",
    "accuracy_score(y,y_predict)"
   ]
  },
  {
   "cell_type": "markdown",
   "metadata": {},
   "source": [
    "### Cross-validation"
   ]
  },
  {
   "cell_type": "code",
   "execution_count": 65,
   "metadata": {},
   "outputs": [
    {
     "data": {
      "text/plain": [
       "(0.926056338028169, 0.9263157894736842)"
      ]
     },
     "execution_count": 65,
     "metadata": {},
     "output_type": "execute_result"
    }
   ],
   "source": [
    "#This is one way to perform two folds \n",
    "y_predict1 = model.fit(X_train2,y_test2).predict(X_train1)\n",
    "y_predict2 = model.fit(X_train1,y_test1).predict(X_train2)\n",
    "accuracy_score(y_test1,y_predict1), accuracy_score(y_test2,y_predict2)"
   ]
  },
  {
   "cell_type": "markdown",
   "metadata": {},
   "source": [
    "Another simple way is to perform using cross_val_score from model_selection.\n",
    "\n",
    "cross_val_score(model, $<$features\\_array$>$,$<$clases\\_array$>$, cv=5)\n",
    "\n",
    "* model is the model to use to fit your data. \n",
    "* cv determines the splitting method if it is a number, so it represents the number of folds by default is 3-fold. \n",
    "\n",
    "When the validation is repeated across a different subset of the data, we can have a better idea of the performance of our model.  \n",
    "\n",
    "In the next section, cross-validation will be explained in detail. "
   ]
  },
  {
   "cell_type": "code",
   "execution_count": 66,
   "metadata": {},
   "outputs": [
    {
     "data": {
      "text/plain": [
       "array([0.90877193, 0.9084507 ])"
      ]
     },
     "execution_count": 66,
     "metadata": {},
     "output_type": "execute_result"
    }
   ],
   "source": [
    "from sklearn.model_selection import cross_val_score\n",
    "#model is KNN \n",
    "cross_val_score(model,X,y, cv=2)#2-fold "
   ]
  },
  {
   "cell_type": "markdown",
   "metadata": {},
   "source": [
    "### Practice -\n",
    "\n",
    "In your Jupyter notebook or datacamp light widget write code to use cross_val_score with 5-fold in the breast_cancer data and display the 5 scores and the mean and the standar deviation of the scores. \n",
    "\n"
   ]
  },
  {
   "cell_type": "code",
   "execution_count": 75,
   "metadata": {},
   "outputs": [
    {
     "name": "stdout",
     "output_type": "stream",
     "text": [
      "score \n",
      " [0.86086957 0.93043478 0.91150442 0.91150442 0.91150442]\n",
      "media score 0.905 std 0.023\n"
     ]
    }
   ],
   "source": [
    "#solution \n",
    "import numpy as np \n",
    "score=cross_val_score(model,X,y, cv=5)\n",
    "print('score \\n',score)\n",
    "print('media score',np.round(score.mean(),3), 'std', np.round(score.std(),3))"
   ]
  },
  {
   "cell_type": "markdown",
   "metadata": {},
   "source": [
    "### Support Vector Machines for Classification"
   ]
  },
  {
   "cell_type": "code",
   "execution_count": 2,
   "metadata": {},
   "outputs": [],
   "source": [
    "#libraries\n",
    "import numpy as np \n",
    "import matplotlib.pyplot as plt \n",
    "from scipy import stats\n",
    "#For plotting, Seaborns will be used \n",
    "import seaborn as sns \n",
    "# set seaborn up as the default enviroment \n",
    "sns.set()"
   ]
  },
  {
   "cell_type": "markdown",
   "metadata": {},
   "source": [
    "\n",
    "In the following example you can observe how the two classes are well separated.\n",
    "We use **sklearn.datasets.samples_generator** to create blobs of points with a Gaussian distribution.\n",
    "To make the sample of data for classification we use the make_blobs function with these parameters. \n",
    "* n_sample. The number of samples to generate (default 100).\n",
    "* n_features. The number of features per each sample (default 2). \n",
    "* centers. The number of centers to generate or fixed center location.\n",
    "* cluster_std. The standar deviation of the clusters. \n",
    "* random_state. Determines random number generation for dataset creation. \n",
    "\n",
    "\n",
    "The function returns: \n",
    "* $X$: array of shape [n_samples, n_features]. The generated samples. \n",
    "* $y$: array of shape[n_samples]. The integer labels for a cluster membership of each sample\n",
    "\n",
    "More details about the make_lobs function can be found at https://scikit-learn.org/stable/modules/generated/sklearn.datasets.make_blobs.html\n"
   ]
  },
  {
   "cell_type": "code",
   "execution_count": 3,
   "metadata": {},
   "outputs": [
    {
     "data": {
      "image/png": "[encoded data removed]",
      "text/plain": [
       "<Figure size 648x648 with 1 Axes>"
      ]
     },
     "metadata": {
      "needs_background": "light"
     },
     "output_type": "display_data"
    }
   ],
   "source": [
    "from sklearn.datasets.samples_generator import make_blobs \n",
    "#To create a data divide into two clusters \n",
    "X, y = make_blobs(n_samples=50, centers=2, cluster_std=0.60, random_state=0)\n",
    "#Plotting a scatter plot\n",
    "xfit = np.linspace(-1, 3.5)\n",
    "plt.figure(figsize=(9,9))\n",
    "plt.scatter(X[:,0], X[:,1], c=y, s =70, cmap='plasma')\n",
    "#plt.plot([0.6], [2.1], 'x', color='red', markeredgewidth=2, markersize=10)\n",
    "\n",
    "#To set the y-axis and the margin of the linear disciminate per each line\n",
    "for m, b, d, l in [(1, 0.65, 0.33,'-g'), (0.5, 1.6, 0.55,'-k'), (-0.2, 2.9, 0.2,'-r')]:    \n",
    "    yfit = m * xfit + b    \n",
    "    plt.plot(xfit, yfit, l)    \n",
    "    plt.fill_between(xfit, yfit - d, yfit + d, edgecolor='none', color='#AAAAAA',alpha=0.4)    \n",
    "    \n",
    "plt.xlim(-1, 3.5);\n",
    "\n",
    "plt.show() \n"
   ]
  },
  {
   "cell_type": "markdown",
   "metadata": {},
   "source": [
    "You can observe that the dataset can be divided by a line, so one of youe best options is a SVM. \n",
    "\n",
    "In the plot, you can observe that three linear discriminative classifiers with three possible margins (the red, green and black lines). These linear classifiers would attempt to draw a straight line to separate the two classes or targets. \n",
    "\n",
    "The SVMs even can draw around of each line a dark grey margin up to the nearest point. In this case the best is the black line, because it can provide a bigger margin. \n"
   ]
  },
  {
   "cell_type": "markdown",
   "metadata": {},
   "source": [
    "### Example of the face recognition using SVM\n",
    "\n",
    "You will perform SVM in a face recognition problem. You will use labeled faces from the Wild dataset, which has 1348 collected pictures of famous politicians in the world. You can download the dataset using Scikit-learn library. "
   ]
  },
  {
   "cell_type": "code",
   "execution_count": 1,
   "metadata": {},
   "outputs": [
    {
     "name": "stderr",
     "output_type": "stream",
     "text": [
      "Downloading LFW metadata: https://ndownloader.figshare.com/files/5976012\n",
      "Downloading LFW metadata: https://ndownloader.figshare.com/files/5976009\n",
      "Downloading LFW metadata: https://ndownloader.figshare.com/files/5976006\n",
      "Downloading LFW data (~200MB): https://ndownloader.figshare.com/files/5976015\n"
     ]
    },
    {
     "name": "stdout",
     "output_type": "stream",
     "text": [
      "Total dataset size:\n",
      "n_samples: 1348\n",
      "n_features: 2914\n",
      "n_classes: ['Ariel Sharon' 'Colin Powell' 'Donald Rumsfeld' 'George W Bush'\n",
      " 'Gerhard Schroeder' 'Hugo Chavez' 'Junichiro Koizumi' 'Tony Blair']\n"
     ]
    }
   ],
   "source": [
    "#download the dataset\n",
    "from sklearn.datasets import fetch_lfw_people\n",
    "famous_faces = fetch_lfw_people(min_faces_per_person=60)\n",
    "n_samples, h, w = famous_faces.images.shape\n",
    "X = famous_faces.data\n",
    "y = famous_faces.target\n",
    "n_classes = famous_faces.target_names\n",
    "n_features = X.shape[1]\n",
    "print(\"Total dataset size:\")\n",
    "print(\"n_samples:\",n_samples)\n",
    "print(\"n_features:\", n_features)\n",
    "print(\"n_classes:\", n_classes)"
   ]
  },
  {
   "cell_type": "markdown",
   "metadata": {},
   "source": [
    "The below code is used to plot some faces of the dataset. "
   ]
  },
  {
   "cell_type": "code",
   "execution_count": 4,
   "metadata": {},
   "outputs": [
    {
     "data": {
      "image/png": "[encoded data removed]",
      "text/plain": [
       "<Figure size 432x288 with 15 Axes>"
      ]
     },
     "metadata": {},
     "output_type": "display_data"
    }
   ],
   "source": [
    "import matplotlib.pyplot as plt \n",
    "SMALL_SIZE=8 #define the small size of the letters\n",
    "plt.rc('axes', labelsize=SMALL_SIZE)          # controls default text sizes\n",
    "fig, ax = plt.subplots(3,5)\n",
    "#Code to print 15 faces \n",
    "for i, axi in enumerate(ax.flat):\n",
    "    axi.imshow(famous_faces.images[i], cmap='gray')\n",
    "    axi.set(xticks=[], yticks=[], \n",
    "            xlabel = famous_faces.target_names[famous_faces.target[i]])"
   ]
  },
  {
   "cell_type": "markdown",
   "metadata": {},
   "source": [
    "The size of each image is [62$\\times$ 47] = 2914 pixels. We can use each pixel as a feature, but sometimes it is more effective to use some of the features or extract the more meaningful features. In this example we will use principal components analysis (PCA) to extract the 150 fundamental components to feed as input in our SVM classifier. \n",
    "\n",
    "When you are building a model, there exist sequential transformations that will applied to the model in a **pipeline**. \n",
    "\n",
    "from sklearn.pipeline import make_pipeline  \n",
    "make_pipeline(steps)   \n",
    "\n",
    "where steps is a list of estimators. \n",
    "An estimator is an equation for selection of the best or more probably acurrate model.  "
   ]
  },
  {
   "cell_type": "code",
   "execution_count": 5,
   "metadata": {},
   "outputs": [],
   "source": [
    "# importing SVM \n",
    "from sklearn.svm import SVC #Support vector for Calssification\n",
    "from sklearn.decomposition import PCA\n",
    "from sklearn.pipeline import make_pipeline # library to make a pipeline\n",
    "pca = PCA(n_components=150, whiten=True, random_state=42)\n",
    "#parameter whiten used to ensure only uncorrelated outputs \n",
    "svc = SVC(kernel='rbf', class_weight='balanced')\n",
    "model= make_pipeline(pca,svc)#We build of model with pca and svc"
   ]
  },
  {
   "cell_type": "markdown",
   "metadata": {},
   "source": [
    "To split the data into a training and testing set, we use cross-validation. "
   ]
  },
  {
   "cell_type": "code",
   "execution_count": 6,
   "metadata": {},
   "outputs": [],
   "source": [
    "from sklearn.model_selection import train_test_split\n",
    "#X = famous_faces.data\n",
    "#y = famous_faces.target\n",
    "#We got X and y  \n",
    "X_train, X_test, y_train, y_test = train_test_split(X,y, random_state=42)\n",
    "#We define a seed to get the same split in the data "
   ]
  },
  {
   "cell_type": "markdown",
   "metadata": {},
   "source": [
    "Some parameters for SVM need to be tuned to have a better performance, but how do you know what are the best values of the parameters? One solution is to test some combinations  by hand, but this can be tedious and take  a lot of time. Another solution is used **GridSearchCV**, which is an estimator with a grid search preamble to tune hyper-parameters. You establish some possible values to GridSearchCV and it searches using all of them and returns the optimal ones."
   ]
  },
  {
   "cell_type": "code",
   "execution_count": 7,
   "metadata": {},
   "outputs": [
    {
     "name": "stderr",
     "output_type": "stream",
     "text": [
      "/Users/admin/opt/anaconda3/lib/python3.7/site-packages/sklearn/model_selection/_search.py:814: DeprecationWarning: The default of the `iid` parameter will change from True to False in version 0.22 and will be removed in 0.24. This will change numeric results when test-set sizes are unequal.\n",
      "  DeprecationWarning)\n"
     ]
    },
    {
     "name": "stdout",
     "output_type": "stream",
     "text": [
      "CPU times: user 1min 35s, sys: 2.42 s, total: 1min 37s\n",
      "Wall time: 32.1 s\n",
      "best parameters {'svc__C': 5, 'svc__gamma': 0.001}\n"
     ]
    }
   ],
   "source": [
    "from sklearn.model_selection import GridSearchCV\n",
    "#Parameter to calibrate \n",
    "param_grid = {'svc__C': [1, 5, 10, 50],\n",
    "              'svc__gamma': [0.0001, 0.0005, 0.001, 0.005]}\n",
    "#Searching for the optimal from param_grid\n",
    "grid = GridSearchCV(model, param_grid, cv=5)# cv determines the cross-validation splitting\n",
    "#Checking how many time takes to find the optimum values \n",
    "%time grid.fit(X_train, y_train)\n",
    "print('best parameters',grid.best_params_)"
   ]
  },
  {
   "cell_type": "markdown",
   "metadata": {},
   "source": [
    "You then assign the values of the parameters and fit the model ."
   ]
  },
  {
   "cell_type": "code",
   "execution_count": 8,
   "metadata": {},
   "outputs": [],
   "source": [
    "model = grid.best_estimator_\n",
    "#In y_fit are store the predictions made by the model \n",
    "y_fit = model.predict(X_test)"
   ]
  },
  {
   "cell_type": "code",
   "execution_count": 9,
   "metadata": {},
   "outputs": [
    {
     "data": {
      "text/plain": [
       "Text(0.5, 0.98, 'Predicted Names, Incorrect predictions in Red')"
      ]
     },
     "execution_count": 9,
     "metadata": {},
     "output_type": "execute_result"
    },
    {
     "data": {
      "image/png": "[encoded data removed]",
      "text/plain": [
       "<Figure size 432x288 with 24 Axes>"
      ]
     },
     "metadata": {},
     "output_type": "display_data"
    }
   ],
   "source": [
    "fig, ax = plt.subplots(4,6)\n",
    "#Code to print 15 faces \n",
    "for i, axi in enumerate(ax.flat):\n",
    "    axi.imshow(X_test[i].reshape(62, 47), cmap='gray')\n",
    "    axi.set(xticks=[], yticks=[]) \n",
    "    axi.set_ylabel(famous_faces.target_names[y_fit[i]].split()[-1],\n",
    "                   color='black'if y_fit[i] == y_test[i] else 'red')\n",
    "fig.suptitle('Predicted Names, Incorrect predictions in Red', size=14)"
   ]
  },
  {
   "cell_type": "markdown",
   "metadata": {},
   "source": [
    "The optimal estimator mislabelled just one face - that is, Bush's face is mislabeled as Blair. You can review the performance of the estimator using the classification report, which lists the statistics class by class. "
   ]
  },
  {
   "cell_type": "code",
   "execution_count": 10,
   "metadata": {},
   "outputs": [
    {
     "name": "stdout",
     "output_type": "stream",
     "text": [
      "                   precision    recall  f1-score   support\n",
      "\n",
      "     Ariel Sharon       0.65      0.87      0.74        15\n",
      "     Colin Powell       0.82      0.88      0.85        68\n",
      "  Donald Rumsfeld       0.76      0.84      0.80        31\n",
      "    George W Bush       0.97      0.81      0.88       126\n",
      "Gerhard Schroeder       0.69      0.87      0.77        23\n",
      "      Hugo Chavez       0.88      0.70      0.78        20\n",
      "Junichiro Koizumi       0.86      1.00      0.92        12\n",
      "       Tony Blair       0.89      0.98      0.93        42\n",
      "\n",
      "         accuracy                           0.85       337\n",
      "        macro avg       0.82      0.87      0.83       337\n",
      "     weighted avg       0.87      0.85      0.86       337\n",
      "\n"
     ]
    }
   ],
   "source": [
    "#Print the metrics to measure the performance of the classifier \n",
    "from sklearn.metrics import classification_report \n",
    "print(classification_report(y_test, y_fit, \n",
    "                            target_names = famous_faces.target_names))"
   ]
  },
  {
   "cell_type": "markdown",
   "metadata": {},
   "source": [
    "Let's also show the confusion matrix."
   ]
  },
  {
   "cell_type": "code",
   "execution_count": 12,
   "metadata": {},
   "outputs": [
    {
     "data": {
      "text/plain": [
       "Text(76.14857142857144, 0.5, 'predicted label')"
      ]
     },
     "execution_count": 12,
     "metadata": {},
     "output_type": "execute_result"
    },
    {
     "data": {
      "image/png": "[encoded data removed]",
      "text/plain": [
       "<Figure size 432x288 with 1 Axes>"
      ]
     },
     "metadata": {
      "needs_background": "light"
     },
     "output_type": "display_data"
    }
   ],
   "source": [
    "from sklearn.metrics import confusion_matrix\n",
    "import seaborn as sns \n",
    "\n",
    "\n",
    "cmap = sns.cubehelix_palette(light=0.9, as_cmap=True)\n",
    "cm = confusion_matrix(y_test, y_fit)\n",
    "sns.heatmap(cm.T, square = True, annot=True, fmt='d', cbar=False,\n",
    "           xticklabels=famous_faces.target_names,\n",
    "           yticklabels=famous_faces.target_names, cmap=cmap)\n",
    "plt.xlabel('True label', size=12)\n",
    "plt.ylabel('predicted label', size=12)"
   ]
  },
  {
   "cell_type": "markdown",
   "metadata": {},
   "source": [
    "### Practice on your own -  SVM classifier in breast cancer wisconsin dataset  \n",
    "The breast cancer dataset is a classic and very easy binary classification dataset. This dataset has 2 classes ['malignant', 'benign'], 569 samples and 30 features. \n",
    "\n",
    "The below code shows you how to get the data and transform it into a DataFrame.\n"
   ]
  },
  {
   "cell_type": "code",
   "execution_count": 15,
   "metadata": {},
   "outputs": [
    {
     "name": "stdout",
     "output_type": "stream",
     "text": [
      "['malignant', 'benign']\n"
     ]
    }
   ],
   "source": [
    "import pandas as pd\n",
    "import numpy as np\n",
    "from sklearn.datasets import load_breast_cancer\n",
    "data = load_breast_cancer()\n",
    "data.target[[10,50,85]]\n",
    "print(list(data.target_names))"
   ]
  },
  {
   "cell_type": "markdown",
   "metadata": {},
   "source": [
    "Transforming the data in a DataFrame"
   ]
  },
  {
   "cell_type": "code",
   "execution_count": 16,
   "metadata": {},
   "outputs": [
    {
     "data": {
      "text/html": [
       "<div>\n",
       "<style scoped>\n",
       "    .dataframe tbody tr th:only-of-type {\n",
       "        vertical-align: middle;\n",
       "    }\n",
       "\n",
       "    .dataframe tbody tr th {\n",
       "        vertical-align: top;\n",
       "    }\n",
       "\n",
       "    .dataframe thead th {\n",
       "        text-align: right;\n",
       "    }\n",
       "</style>\n",
       "<table border=\"1\" class=\"dataframe\">\n",
       "  <thead>\n",
       "    <tr style=\"text-align: right;\">\n",
       "      <th></th>\n",
       "      <th>mean radius</th>\n",
       "      <th>mean texture</th>\n",
       "      <th>mean perimeter</th>\n",
       "      <th>mean area</th>\n",
       "      <th>mean smoothness</th>\n",
       "      <th>mean compactness</th>\n",
       "      <th>mean concavity</th>\n",
       "      <th>mean concave points</th>\n",
       "      <th>mean symmetry</th>\n",
       "      <th>mean fractal dimension</th>\n",
       "      <th>...</th>\n",
       "      <th>worst perimeter</th>\n",
       "      <th>worst area</th>\n",
       "      <th>worst smoothness</th>\n",
       "      <th>worst compactness</th>\n",
       "      <th>worst concavity</th>\n",
       "      <th>worst concave points</th>\n",
       "      <th>worst symmetry</th>\n",
       "      <th>worst fractal dimension</th>\n",
       "      <th>target</th>\n",
       "      <th>target_names</th>\n",
       "    </tr>\n",
       "  </thead>\n",
       "  <tbody>\n",
       "    <tr>\n",
       "      <td>0</td>\n",
       "      <td>17.99</td>\n",
       "      <td>10.38</td>\n",
       "      <td>122.80</td>\n",
       "      <td>1001.0</td>\n",
       "      <td>0.11840</td>\n",
       "      <td>0.27760</td>\n",
       "      <td>0.3001</td>\n",
       "      <td>0.14710</td>\n",
       "      <td>0.2419</td>\n",
       "      <td>0.07871</td>\n",
       "      <td>...</td>\n",
       "      <td>184.60</td>\n",
       "      <td>2019.0</td>\n",
       "      <td>0.1622</td>\n",
       "      <td>0.6656</td>\n",
       "      <td>0.7119</td>\n",
       "      <td>0.2654</td>\n",
       "      <td>0.4601</td>\n",
       "      <td>0.11890</td>\n",
       "      <td>0.0</td>\n",
       "      <td>malignant</td>\n",
       "    </tr>\n",
       "    <tr>\n",
       "      <td>1</td>\n",
       "      <td>20.57</td>\n",
       "      <td>17.77</td>\n",
       "      <td>132.90</td>\n",
       "      <td>1326.0</td>\n",
       "      <td>0.08474</td>\n",
       "      <td>0.07864</td>\n",
       "      <td>0.0869</td>\n",
       "      <td>0.07017</td>\n",
       "      <td>0.1812</td>\n",
       "      <td>0.05667</td>\n",
       "      <td>...</td>\n",
       "      <td>158.80</td>\n",
       "      <td>1956.0</td>\n",
       "      <td>0.1238</td>\n",
       "      <td>0.1866</td>\n",
       "      <td>0.2416</td>\n",
       "      <td>0.1860</td>\n",
       "      <td>0.2750</td>\n",
       "      <td>0.08902</td>\n",
       "      <td>0.0</td>\n",
       "      <td>malignant</td>\n",
       "    </tr>\n",
       "    <tr>\n",
       "      <td>2</td>\n",
       "      <td>19.69</td>\n",
       "      <td>21.25</td>\n",
       "      <td>130.00</td>\n",
       "      <td>1203.0</td>\n",
       "      <td>0.10960</td>\n",
       "      <td>0.15990</td>\n",
       "      <td>0.1974</td>\n",
       "      <td>0.12790</td>\n",
       "      <td>0.2069</td>\n",
       "      <td>0.05999</td>\n",
       "      <td>...</td>\n",
       "      <td>152.50</td>\n",
       "      <td>1709.0</td>\n",
       "      <td>0.1444</td>\n",
       "      <td>0.4245</td>\n",
       "      <td>0.4504</td>\n",
       "      <td>0.2430</td>\n",
       "      <td>0.3613</td>\n",
       "      <td>0.08758</td>\n",
       "      <td>0.0</td>\n",
       "      <td>malignant</td>\n",
       "    </tr>\n",
       "    <tr>\n",
       "      <td>3</td>\n",
       "      <td>11.42</td>\n",
       "      <td>20.38</td>\n",
       "      <td>77.58</td>\n",
       "      <td>386.1</td>\n",
       "      <td>0.14250</td>\n",
       "      <td>0.28390</td>\n",
       "      <td>0.2414</td>\n",
       "      <td>0.10520</td>\n",
       "      <td>0.2597</td>\n",
       "      <td>0.09744</td>\n",
       "      <td>...</td>\n",
       "      <td>98.87</td>\n",
       "      <td>567.7</td>\n",
       "      <td>0.2098</td>\n",
       "      <td>0.8663</td>\n",
       "      <td>0.6869</td>\n",
       "      <td>0.2575</td>\n",
       "      <td>0.6638</td>\n",
       "      <td>0.17300</td>\n",
       "      <td>0.0</td>\n",
       "      <td>malignant</td>\n",
       "    </tr>\n",
       "    <tr>\n",
       "      <td>4</td>\n",
       "      <td>20.29</td>\n",
       "      <td>14.34</td>\n",
       "      <td>135.10</td>\n",
       "      <td>1297.0</td>\n",
       "      <td>0.10030</td>\n",
       "      <td>0.13280</td>\n",
       "      <td>0.1980</td>\n",
       "      <td>0.10430</td>\n",
       "      <td>0.1809</td>\n",
       "      <td>0.05883</td>\n",
       "      <td>...</td>\n",
       "      <td>152.20</td>\n",
       "      <td>1575.0</td>\n",
       "      <td>0.1374</td>\n",
       "      <td>0.2050</td>\n",
       "      <td>0.4000</td>\n",
       "      <td>0.1625</td>\n",
       "      <td>0.2364</td>\n",
       "      <td>0.07678</td>\n",
       "      <td>0.0</td>\n",
       "      <td>malignant</td>\n",
       "    </tr>\n",
       "  </tbody>\n",
       "</table>\n",
       "<p>5 rows × 32 columns</p>\n",
       "</div>"
      ],
      "text/plain": [
       "   mean radius  mean texture  mean perimeter  mean area  mean smoothness  \\\n",
       "0        17.99         10.38          122.80     1001.0          0.11840   \n",
       "1        20.57         17.77          132.90     1326.0          0.08474   \n",
       "2        19.69         21.25          130.00     1203.0          0.10960   \n",
       "3        11.42         20.38           77.58      386.1          0.14250   \n",
       "4        20.29         14.34          135.10     1297.0          0.10030   \n",
       "\n",
       "   mean compactness  mean concavity  mean concave points  mean symmetry  \\\n",
       "0           0.27760          0.3001              0.14710         0.2419   \n",
       "1           0.07864          0.0869              0.07017         0.1812   \n",
       "2           0.15990          0.1974              0.12790         0.2069   \n",
       "3           0.28390          0.2414              0.10520         0.2597   \n",
       "4           0.13280          0.1980              0.10430         0.1809   \n",
       "\n",
       "   mean fractal dimension  ...  worst perimeter  worst area  worst smoothness  \\\n",
       "0                 0.07871  ...           184.60      2019.0            0.1622   \n",
       "1                 0.05667  ...           158.80      1956.0            0.1238   \n",
       "2                 0.05999  ...           152.50      1709.0            0.1444   \n",
       "3                 0.09744  ...            98.87       567.7            0.2098   \n",
       "4                 0.05883  ...           152.20      1575.0            0.1374   \n",
       "\n",
       "   worst compactness  worst concavity  worst concave points  worst symmetry  \\\n",
       "0             0.6656           0.7119                0.2654          0.4601   \n",
       "1             0.1866           0.2416                0.1860          0.2750   \n",
       "2             0.4245           0.4504                0.2430          0.3613   \n",
       "3             0.8663           0.6869                0.2575          0.6638   \n",
       "4             0.2050           0.4000                0.1625          0.2364   \n",
       "\n",
       "   worst fractal dimension  target  target_names  \n",
       "0                  0.11890     0.0     malignant  \n",
       "1                  0.08902     0.0     malignant  \n",
       "2                  0.08758     0.0     malignant  \n",
       "3                  0.17300     0.0     malignant  \n",
       "4                  0.07678     0.0     malignant  \n",
       "\n",
       "[5 rows x 32 columns]"
      ]
     },
     "execution_count": 16,
     "metadata": {},
     "output_type": "execute_result"
    }
   ],
   "source": [
    "df_cancer=pd.DataFrame(np.c_[data['data'], data['target']],\n",
    "           columns= np.append(data['feature_names'], ['target']))\n",
    "df_cancer['target_names']=pd.Series(data.target)\n",
    "#Giving a names in the target_names insted of 0 or 1 \n",
    "df_cancer.replace(to_replace={'target_names': {0: data.target_names[0]}}, inplace=True)\n",
    "df_cancer.replace(to_replace={'target_names': {1: data.target_names[1]}}, inplace=True)\n",
    "df_cancer.head()"
   ]
  },
  {
   "cell_type": "markdown",
   "metadata": {},
   "source": [
    "You will need to store the features from the data into the variable $X$ with the exception of the columns' target and target_names. Also, the column target will be stored in $y$. "
   ]
  },
  {
   "cell_type": "markdown",
   "metadata": {},
   "source": [
    "Setting in $X$ [n_features, n_samples] and in $y$ the clases[n_samples]"
   ]
  },
  {
   "cell_type": "code",
   "execution_count": 17,
   "metadata": {},
   "outputs": [
    {
     "name": "stdout",
     "output_type": "stream",
     "text": [
      "     mean radius  mean texture  mean perimeter  mean area  mean smoothness  \\\n",
      "0          17.99         10.38          122.80     1001.0          0.11840   \n",
      "1          20.57         17.77          132.90     1326.0          0.08474   \n",
      "2          19.69         21.25          130.00     1203.0          0.10960   \n",
      "3          11.42         20.38           77.58      386.1          0.14250   \n",
      "4          20.29         14.34          135.10     1297.0          0.10030   \n",
      "..           ...           ...             ...        ...              ...   \n",
      "564        21.56         22.39          142.00     1479.0          0.11100   \n",
      "565        20.13         28.25          131.20     1261.0          0.09780   \n",
      "566        16.60         28.08          108.30      858.1          0.08455   \n",
      "567        20.60         29.33          140.10     1265.0          0.11780   \n",
      "568         7.76         24.54           47.92      181.0          0.05263   \n",
      "\n",
      "     mean compactness  mean concavity  mean concave points  mean symmetry  \\\n",
      "0             0.27760         0.30010              0.14710         0.2419   \n",
      "1             0.07864         0.08690              0.07017         0.1812   \n",
      "2             0.15990         0.19740              0.12790         0.2069   \n",
      "3             0.28390         0.24140              0.10520         0.2597   \n",
      "4             0.13280         0.19800              0.10430         0.1809   \n",
      "..                ...             ...                  ...            ...   \n",
      "564           0.11590         0.24390              0.13890         0.1726   \n",
      "565           0.10340         0.14400              0.09791         0.1752   \n",
      "566           0.10230         0.09251              0.05302         0.1590   \n",
      "567           0.27700         0.35140              0.15200         0.2397   \n",
      "568           0.04362         0.00000              0.00000         0.1587   \n",
      "\n",
      "     mean fractal dimension  ...  worst radius  worst texture  \\\n",
      "0                   0.07871  ...        25.380          17.33   \n",
      "1                   0.05667  ...        24.990          23.41   \n",
      "2                   0.05999  ...        23.570          25.53   \n",
      "3                   0.09744  ...        14.910          26.50   \n",
      "4                   0.05883  ...        22.540          16.67   \n",
      "..                      ...  ...           ...            ...   \n",
      "564                 0.05623  ...        25.450          26.40   \n",
      "565                 0.05533  ...        23.690          38.25   \n",
      "566                 0.05648  ...        18.980          34.12   \n",
      "567                 0.07016  ...        25.740          39.42   \n",
      "568                 0.05884  ...         9.456          30.37   \n",
      "\n",
      "     worst perimeter  worst area  worst smoothness  worst compactness  \\\n",
      "0             184.60      2019.0           0.16220            0.66560   \n",
      "1             158.80      1956.0           0.12380            0.18660   \n",
      "2             152.50      1709.0           0.14440            0.42450   \n",
      "3              98.87       567.7           0.20980            0.86630   \n",
      "4             152.20      1575.0           0.13740            0.20500   \n",
      "..               ...         ...               ...                ...   \n",
      "564           166.10      2027.0           0.14100            0.21130   \n",
      "565           155.00      1731.0           0.11660            0.19220   \n",
      "566           126.70      1124.0           0.11390            0.30940   \n",
      "567           184.60      1821.0           0.16500            0.86810   \n",
      "568            59.16       268.6           0.08996            0.06444   \n",
      "\n",
      "     worst concavity  worst concave points  worst symmetry  \\\n",
      "0             0.7119                0.2654          0.4601   \n",
      "1             0.2416                0.1860          0.2750   \n",
      "2             0.4504                0.2430          0.3613   \n",
      "3             0.6869                0.2575          0.6638   \n",
      "4             0.4000                0.1625          0.2364   \n",
      "..               ...                   ...             ...   \n",
      "564           0.4107                0.2216          0.2060   \n",
      "565           0.3215                0.1628          0.2572   \n",
      "566           0.3403                0.1418          0.2218   \n",
      "567           0.9387                0.2650          0.4087   \n",
      "568           0.0000                0.0000          0.2871   \n",
      "\n",
      "     worst fractal dimension  \n",
      "0                    0.11890  \n",
      "1                    0.08902  \n",
      "2                    0.08758  \n",
      "3                    0.17300  \n",
      "4                    0.07678  \n",
      "..                       ...  \n",
      "564                  0.07115  \n",
      "565                  0.06637  \n",
      "566                  0.07820  \n",
      "567                  0.12400  \n",
      "568                  0.07039  \n",
      "\n",
      "[569 rows x 30 columns]\n",
      "0      0.0\n",
      "1      0.0\n",
      "2      0.0\n",
      "3      0.0\n",
      "4      0.0\n",
      "      ... \n",
      "564    0.0\n",
      "565    0.0\n",
      "566    0.0\n",
      "567    0.0\n",
      "568    1.0\n",
      "Name: target, Length: 569, dtype: float64\n"
     ]
    }
   ],
   "source": [
    "#storing and dropping the columns \n",
    "X = df_cancer.drop(['target','target_names'], axis=1)\n",
    "y = df_cancer['target']\n",
    "print(X)\n",
    "print(y)"
   ]
  },
  {
   "cell_type": "markdown",
   "metadata": {},
   "source": [
    "Once this process is done, you will need to define the model and set in a pipeline. These are the steps you should take:\n",
    "1. You will employ PCA on 150 components and then split the dataset into training and testing set using cross-validation. \n",
    "2. You should use GridSearchCV to search the best values for the parameters. \n",
    "3. You then assign the parameters and fit the model. \n",
    "4. Lastly, you will plot the confusion matrix. \n",
    "\n",
    "Your code should look like this:"
   ]
  },
  {
   "cell_type": "code",
   "execution_count": 18,
   "metadata": {},
   "outputs": [],
   "source": [
    "from sklearn.svm import SVC #Support vector for Calssification\n",
    "from sklearn.pipeline import make_pipeline # library to make a pipeline\n",
    "pca = PCA(n_components=150, whiten=True, random_state=42)\n",
    "#parameter whiten used to ensure only uncorrelated outputs \n",
    "svc = SVC(kernel='rbf', class_weight='balanced')\n",
    "model= make_pipeline(svc)#We build of model with svc"
   ]
  },
  {
   "cell_type": "markdown",
   "metadata": {},
   "source": [
    "To split the data into a training and testing set, we use cross-validation. "
   ]
  },
  {
   "cell_type": "code",
   "execution_count": 19,
   "metadata": {},
   "outputs": [],
   "source": [
    "from sklearn.model_selection import train_test_split\n",
    "X_train, X_test, y_train, y_test = train_test_split(X,y, random_state=42)\n",
    "#We define a seed to get the same split in the data "
   ]
  },
  {
   "cell_type": "markdown",
   "metadata": {},
   "source": [
    "Getting the best values for the parameters "
   ]
  },
  {
   "cell_type": "code",
   "execution_count": 20,
   "metadata": {},
   "outputs": [
    {
     "name": "stdout",
     "output_type": "stream",
     "text": [
      "CPU times: user 725 ms, sys: 5.26 ms, total: 731 ms\n",
      "Wall time: 729 ms\n",
      "best parameters {'svc__C': 50, 'svc__gamma': 0.0001}\n"
     ]
    },
    {
     "name": "stderr",
     "output_type": "stream",
     "text": [
      "/Users/admin/opt/anaconda3/lib/python3.7/site-packages/sklearn/model_selection/_search.py:814: DeprecationWarning: The default of the `iid` parameter will change from True to False in version 0.22 and will be removed in 0.24. This will change numeric results when test-set sizes are unequal.\n",
      "  DeprecationWarning)\n"
     ]
    }
   ],
   "source": [
    "from sklearn.model_selection import GridSearchCV\n",
    "#Parameter to calibrate \n",
    "param_grid = {'svc__C': [1, 5, 10, 50],\n",
    "              'svc__gamma': [0.0001, 0.0005, 0.001, 0.005]}\n",
    "#Searching for the optimal from param_grid\n",
    "grid = GridSearchCV(model, param_grid, cv=5)# cv determines the cross-validation splitting\n",
    "#Checking how many time takes to find the optimum values \n",
    "%time grid.fit(X_train, y_train)\n",
    "print('best parameters',grid.best_params_)"
   ]
  },
  {
   "cell_type": "markdown",
   "metadata": {},
   "source": [
    "You assign the values of the parameters and fit the model "
   ]
  },
  {
   "cell_type": "code",
   "execution_count": 21,
   "metadata": {},
   "outputs": [],
   "source": [
    "model = grid.best_estimator_\n",
    "#In y_fit are store the predictions made by the model \n",
    "y_predict = model.predict(X_test)"
   ]
  },
  {
   "cell_type": "markdown",
   "metadata": {},
   "source": [
    "Printing the classification report with some performance measures "
   ]
  },
  {
   "cell_type": "code",
   "execution_count": 22,
   "metadata": {},
   "outputs": [
    {
     "name": "stdout",
     "output_type": "stream",
     "text": [
      "              precision    recall  f1-score   support\n",
      "\n",
      "   malignant       0.93      0.94      0.94        54\n",
      "      benign       0.97      0.96      0.96        89\n",
      "\n",
      "    accuracy                           0.95       143\n",
      "   macro avg       0.95      0.95      0.95       143\n",
      "weighted avg       0.95      0.95      0.95       143\n",
      "\n"
     ]
    }
   ],
   "source": [
    "#Print the metrics to measure the performance of the classifier \n",
    "from sklearn.metrics import classification_report \n",
    "print(classification_report(y_test, y_predict, \n",
    "                            target_names = ['malignant', 'benign']))"
   ]
  },
  {
   "cell_type": "markdown",
   "metadata": {},
   "source": [
    "Plotting the confusion matrix "
   ]
  },
  {
   "cell_type": "code",
   "execution_count": 23,
   "metadata": {},
   "outputs": [
    {
     "data": {
      "text/plain": [
       "Text(33.0, 0.5, 'predicted label')"
      ]
     },
     "execution_count": 23,
     "metadata": {},
     "output_type": "execute_result"
    },
    {
     "data": {
      "image/png": "[encoded data removed]",
      "text/plain": [
       "<Figure size 432x288 with 1 Axes>"
      ]
     },
     "metadata": {
      "needs_background": "light"
     },
     "output_type": "display_data"
    }
   ],
   "source": [
    "from sklearn.metrics import confusion_matrix\n",
    "\n",
    "cmap = sns.cubehelix_palette(light=0.9, as_cmap=True)\n",
    "cm = confusion_matrix(y_test, y_predict)\n",
    "sns.heatmap(cm.T, square = True, annot=True, fmt='d', cbar=False,\n",
    "           xticklabels= ['malignant', 'benign'],\n",
    "           yticklabels= ['malignant', 'benign'], cmap=cmap)\n",
    "plt.xlabel('True label', size=12)\n",
    "plt.ylabel('predicted label', size=12)"
   ]
  },
  {
   "cell_type": "markdown",
   "metadata": {},
   "source": [
    "## Random forest Classifier\n",
    "One of the most popular existing classifiers is the random forest classifier. \n",
    "### Example of a random forest classifier using scikit-learn\n",
    "The code to use when using a random forest classifier in scikit-learn is the below:\n",
    "\n",
    "from sklearn.ensemble import RandomForestClassifier\n",
    "RandomForestClassifier(n_estimators=100)\n",
    " \n",
    "There are four main hyperparameters to consider when using a random forest classifier, namely:\n",
    "\n",
    "* n_estimators. The number of trees in the forest. By default 100 trees. \n",
    "* max_depth is the maximum number of levels in each decision tree. By default is None, which means that each tree will expend until each leaf is pure, which means the \n",
    "* min_samples_split is the minimum number of instances to split an internal leaf node. By default 2.\n",
    "* min_samples_leaf is the minimum number of samples required to be at a leaf node. By default 1.\n",
    "\n",
    "More details about the parameters of the random forest classifier can be found at \n",
    "https://scikit-learn.org/stable/modules/generated/sklearn.ensemble.RandomForestClassifier.html"
   ]
  },
  {
   "cell_type": "markdown",
   "metadata": {},
   "source": [
    "You'll explore in the below how to use a random forest classifier on the breast cancer dataset you've used before. As before, you'll go through the steps in the machine learning pipeline.\n",
    "\n",
    "#### 1. Loading the dataset breast_cancer\n",
    "\n",
    "First, as before, you'll need to load the dataset"
   ]
  },
  {
   "cell_type": "code",
   "execution_count": null,
   "metadata": {},
   "outputs": [],
   "source": [
    "from sklearn.datasets import load_breast_cancer\n",
    "data = load_breast_cancer()\n",
    "data.target[[10,50,85]]\n",
    "print(list(data.target_names))"
   ]
  },
  {
   "cell_type": "markdown",
   "metadata": {},
   "source": [
    "#### 2. Preparing the data\n",
    "\n",
    "You'll then need to prepare the dataset by setting in $X$ [n_features, n_samples] and in $y$ the clases[n_samples]"
   ]
  },
  {
   "cell_type": "code",
   "execution_count": null,
   "metadata": {},
   "outputs": [],
   "source": [
    "X = data.data\n",
    "y = data.target \n",
    "X.shape, y.shape "
   ]
  },
  {
   "cell_type": "markdown",
   "metadata": {},
   "source": [
    "#### 3. Splitting the dataset into training and validation\n",
    "\n",
    "To split the data into a training and testing set, you will use train_test_split as before."
   ]
  },
  {
   "cell_type": "code",
   "execution_count": null,
   "metadata": {},
   "outputs": [],
   "source": [
    "from sklearn.model_selection import train_test_split\n",
    "X_train, X_test, y_train, y_test = train_test_split(X,y, random_state=42)\n",
    "#We define a seed to get the same split in the data "
   ]
  },
  {
   "cell_type": "markdown",
   "metadata": {},
   "source": [
    "#### 4. Defining the model and running the machine learning pipeline "
   ]
  },
  {
   "cell_type": "code",
   "execution_count": null,
   "metadata": {},
   "outputs": [],
   "source": [
    "from sklearn.ensemble import RandomForestClassifier\n",
    "from sklearn.pipeline import make_pipeline # library to make a pipeline\n",
    "from sklearn.metrics import accuracy_score\n",
    "#parameter whiten used to ensure only uncorrelated outputs \n",
    "rf = RandomForestClassifier(random_state = 1,\n",
    "                                  n_estimators = 750,\n",
    "                                  max_depth = 15, \n",
    "                                  min_samples_split = 5,  \n",
    "                            min_samples_leaf = 1)\n",
    "model= make_pipeline(rf)#We build of model with rf\n",
    "modelVC = rf.fit(X_train, y_train) \n",
    "y_prediction = modelVC.predict(X_test)\n",
    "accuracy_score(y_test, y_prediction)"
   ]
  },
  {
   "cell_type": "code",
   "execution_count": null,
   "metadata": {},
   "outputs": [],
   "source": []
  },
  {
   "cell_type": "markdown",
   "metadata": {},
   "source": [
    "As you can see, the current accuracy of the model is 0.96. This is a very good accuracy, however in some cases you might want to improve on this result. To achieve that, you would have to use GridSearchCV to tune the hyperparameters of the model. In some cases, hyperparameter tuning will take **a very long time** and thus the improvement in accuracy and other metrics that you would get has to be justified.\n",
    "\n",
    "#### 5. Hyperparameter tuning\n",
    "\n",
    "For this example, the calibration of the hyperparameters takes a long time, depending on your computer. If the improvement is large, then this  time can be justified. "
   ]
  },
  {
   "cell_type": "code",
   "execution_count": null,
   "metadata": {},
   "outputs": [],
   "source": [
    "#To Calibrate GridSearchCV\n",
    "from sklearn.model_selection import GridSearchCV\n",
    "n_estimators = [100, 300, 500, 800, 1200]\n",
    "max_depth = [5, 8, 15, 25, 30]\n",
    "min_samples_split = [2, 5, 10, 15, 100]\n",
    "min_samples_leaf = [1, 2, 5, 10] \n",
    "\n",
    "hyperF = dict(n_estimators = n_estimators, max_depth = max_depth,  \n",
    "              min_samples_split = min_samples_split, \n",
    "             min_samples_leaf = min_samples_leaf)\n",
    "\n",
    "gridF = GridSearchCV(rf, hyperF, cv = 3, verbose = 1, \n",
    "                      n_jobs = -1)\n",
    "bestF = gridF.fit(X_train, y_train)\n",
    "gridF.best_params_"
   ]
  },
  {
   "cell_type": "markdown",
   "metadata": {},
   "source": [
    "__6. Model Evaluation__\n",
    "\n",
    "Once the best values for the hyperparameters have been found, you will assign the values and fit the model using the **fit** function. You will then **predict** the outcome and test the performance of the model using the **accuracy_score** function. "
   ]
  },
  {
   "cell_type": "code",
   "execution_count": null,
   "metadata": {},
   "outputs": [],
   "source": [
    "forestOpt = RandomForestClassifier(random_state = 1, \n",
    "                                   max_depth = 8,     \n",
    "                                   n_estimators = 300, \n",
    "                                   min_samples_split = 2, \n",
    "                                   min_samples_leaf = 1)\n",
    "modelOpt = forestOpt.fit(X_train, y_train)\n",
    "y_predict = modelOpt.predict(X_test)\n",
    "accuracy_score(y_test, y_predict)"
   ]
  },
  {
   "cell_type": "markdown",
   "metadata": {},
   "source": [
    "As you can see, the acurracy improved from 0.965034965034965 to 0.972027972027972, which is less than 0.01, so perhaps in this case the time spent on improvements is not warranted.\n",
    "\n",
    "You can also use the **classification_report** function to get an overview of the performance of the classifier on other metrics such as precision and recall. "
   ]
  },
  {
   "cell_type": "code",
   "execution_count": null,
   "metadata": {},
   "outputs": [],
   "source": [
    "#Print the metrics to measure the performance of the classifier \n",
    "from sklearn.metrics import classification_report \n",
    "print(classification_report(y_test, y_predict, \n",
    "                            target_names = ['malignant', 'benign']))"
   ]
  },
  {
   "cell_type": "markdown",
   "metadata": {},
   "source": [
    "Lastly, you will print out the confusion matrix for this classifier."
   ]
  },
  {
   "cell_type": "code",
   "execution_count": null,
   "metadata": {},
   "outputs": [],
   "source": [
    "import matplotlib.pyplot as plt\n",
    "import seaborn as sns\n",
    "from sklearn.metrics import confusion_matrix\n",
    "\n",
    "cm = confusion_matrix(y_test, y_predict)\n",
    "sns.heatmap(cm.T, square = True, annot=True, fmt='d', cbar=False,\n",
    "           xticklabels= ['malignant', 'benign'],\n",
    "           yticklabels= ['malignant', 'benign'], cmap='viridis')\n",
    "plt.xlabel('True label', size=12)\n",
    "plt.ylabel('predicted label', size=12)\n",
    "plt.title('Confusion Matrix breast cancer dataset Random Forest Classifier')\n",
    "plt.show()"
   ]
  },
  {
   "cell_type": "markdown",
   "metadata": {},
   "source": [
    "### Practice on your own \n",
    "\n",
    "One of the frequent uses of classifiers is in image classification, and  in optical character recognition among others. In this practice session, you will attempt to automatically classify handwriting. Consider the dataset called **load_digits** from the sklearn.datasets. This dataset has example handwritten digits in the range of [0-9] in the form of images that are 8x8 pixels. \n",
    "\n",
    "In your code, you will follow the machine learning pipeline of splitting the data into test and training data, fitting the model, predicting its outcome, printing the classification report and the confusion matrix.\n",
    "\n",
    "In the below, the data is already loaded and visualised, to give you a head start.\n",
    "\n",
    "\n"
   ]
  },
  {
   "cell_type": "markdown",
   "metadata": {},
   "source": [
    "#### Loading the data "
   ]
  },
  {
   "cell_type": "code",
   "execution_count": null,
   "metadata": {},
   "outputs": [],
   "source": [
    "from sklearn.datasets import load_digits\n",
    "hand_digits = load_digits()\n",
    "X = hand_digits.data\n",
    "y = hand_digits.target\n",
    "hand_digits.target_names"
   ]
  },
  {
   "cell_type": "markdown",
   "metadata": {},
   "source": [
    "#### Visualizing the digits"
   ]
  },
  {
   "cell_type": "code",
   "execution_count": null,
   "metadata": {},
   "outputs": [],
   "source": [
    "#Set the size of the figure in inches \n",
    "fig = plt.figure(figsize=(8,8))\n",
    "#Set the subplots up\n",
    "fig.subplots_adjust(left=0, right=1, bottom=0, top=1, hspace=0.05, wspace=0.05)\n",
    "#plot the digits image \n",
    "for i in range(64):\n",
    "    ax = fig.add_subplot(8,8,i+1)\n",
    "    ax.imshow(hand_digits.images[i], \n",
    "              cmap=plt.cm.binary, \n",
    "              interpolation='nearest')\n",
    "    ax.set(xticks=[], yticks=[])\n",
    "    #Set the labels \n",
    "    ax.text(0,7,str(hand_digits.target[i]))\n"
   ]
  },
  {
   "cell_type": "markdown",
   "metadata": {},
   "source": [
    "#### Your code should look like this:\n"
   ]
  },
  {
   "cell_type": "code",
   "execution_count": null,
   "metadata": {},
   "outputs": [],
   "source": [
    "from sklearn.ensemble import RandomForestClassifier \n",
    "from sklearn.model_selection import train_test_split\n",
    "from sklearn.metrics import accuracy_score\n",
    "model = RandomForestClassifier(n_estimators=1200)\n",
    "\n",
    "#Split the data \n",
    "X_train, X_test, y_train, y_test = train_test_split(X,y, random_state=42)\n",
    "\n",
    "#Fit the model\n",
    "model.fit(X_train, y_train)\n",
    "\n",
    "#Predict the data \n",
    "y_predict = model.predict(X_test)\n",
    "accuracy_score(y_test, y_predict)"
   ]
  },
  {
   "cell_type": "markdown",
   "metadata": {},
   "source": [
    "Printing the report of the Random Forest performance classifier "
   ]
  },
  {
   "cell_type": "code",
   "execution_count": null,
   "metadata": {},
   "outputs": [],
   "source": [
    "from sklearn.metrics import classification_report\n",
    "print(classification_report(y_test, y_predict))"
   ]
  },
  {
   "cell_type": "markdown",
   "metadata": {},
   "source": [
    "Plotting the Confusion Matrix "
   ]
  },
  {
   "cell_type": "code",
   "execution_count": null,
   "metadata": {
    "scrolled": true
   },
   "outputs": [],
   "source": [
    "from sklearn.metrics import confusion_matrix\n",
    "plt.figure(figsize=(7,7))\n",
    "cmap = sns.cubehelix_palette(light=0.9, as_cmap=True)\n",
    "cm = confusion_matrix(y_test, y_predict)\n",
    "sns.heatmap(cm.T, square = True, annot=True, fmt='d', cbar=False,\n",
    "           xticklabels=hand_digits.target_names,\n",
    "           yticklabelsb=hand_digits.target_names, cmap=cmap)\n",
    "plt.xlabel('True label', size=12)\n",
    "plt.ylabel('predicted label', size=12)\n",
    "plt.title('Confusion Matrix handwritten digits dataset Random Forest Classifier')"
   ]
  },
  {
   "cell_type": "code",
   "execution_count": null,
   "metadata": {},
   "outputs": [],
   "source": [
    "import numpy as np\n",
    "import pandas as pd \n",
    "import matplotlib.pyplot as plt \n",
    "import seaborn as sns \n",
    "\n",
    "df_diabetes= pd.read_csv('diabetes.csv')\n",
    "df_diabetes.head()"
   ]
  },
  {
   "cell_type": "markdown",
   "metadata": {},
   "source": [
    "# Artificial Neural Network \n",
    "\n",
    "The classifiers that you've learned about are effective for specific prolems but sometimes fail to learn and model non-linear and complex relationships. Having this capability is important because in real-life, a lot of the relationships between input and output are non-linear. In this topic, you will learn about artificial neural networks (ANN), which are algorithms that handle non-linear relationships very well. ANNs are can also generalize, meaning that after they have learned from the inputs, they can infer unseen relationships on unseen data. In addition ANNs do not require specific distributions of input data.\n"
   ]
  },
  {
   "cell_type": "markdown",
   "metadata": {},
   "source": [
    "## Example of an ANN using scikit learn\n",
    "\n",
    "The following code allows for the use of an ANN in scikit learn:\n",
    "\n",
    "sklearn.neural_network.MLPClassifier\n",
    "\n",
    "MLPClassifier( activation, hidden_layer_sizes, solver, alpha, max_iter, learning_rate)\n",
    "Where: \n",
    "* __activation__ is the activation function in the hidden layers. You can choose between identity, logistic (sigmoid), tanh and relu. By default relu. \n",
    "* __hidden_layer_sizes__ represents the number of neurons in the hidden layer. By default 100. \n",
    "* __solver__ is the solver to optimise the weights. By default adam and you can select between \n",
    "    * lbfgs is an optimiser in the family of quasi-Newton methods. \n",
    "    * sgd is the stochastic gradient descent optimiser.\n",
    "    * adam is the stochastic gradient-based optimiser proposed by Kingma, Diederik, and Jimmy Ba.\n",
    "\n",
    "NOTE: adam is recommended for a large dataset. lbfgs is recommended for a  small dataset.\n",
    "* __alpha__ is a penalty parameter using in the regularization. By default 0.0001 \n",
    "\n",
    "* max_iter is the maximun number of iterations. However, the solver iterates ul=ntil converge or rich the maximun number of iterations. By default 200. \n",
    "\n",
    "* **learning_rate** is the initial rate used. this parameter control the step-size to adjust the weights. Only use in  adamsolver and sgd solver. By default 0.001\n",
    "\n"
   ]
  },
  {
   "cell_type": "markdown",
   "metadata": {},
   "source": [
    "### Viewing the Dataset\n",
    "In this example, the diabetes dataset will be used. \n",
    "\n",
    "NOTE: To load the diabetes dataset, the file 'diabetes.csv'  must be in the same directory as your Jupyter Notebook."
   ]
  },
  {
   "cell_type": "code",
   "execution_count": 2,
   "metadata": {},
   "outputs": [
    {
     "data": {
      "text/html": [
       "<div>\n",
       "<style scoped>\n",
       "    .dataframe tbody tr th:only-of-type {\n",
       "        vertical-align: middle;\n",
       "    }\n",
       "\n",
       "    .dataframe tbody tr th {\n",
       "        vertical-align: top;\n",
       "    }\n",
       "\n",
       "    .dataframe thead th {\n",
       "        text-align: right;\n",
       "    }\n",
       "</style>\n",
       "<table border=\"1\" class=\"dataframe\">\n",
       "  <thead>\n",
       "    <tr style=\"text-align: right;\">\n",
       "      <th></th>\n",
       "      <th>Pregnancies</th>\n",
       "      <th>Glucose</th>\n",
       "      <th>BloodPressure</th>\n",
       "      <th>SkinThickness</th>\n",
       "      <th>Insulin</th>\n",
       "      <th>BMI</th>\n",
       "      <th>DiabetesPedigreeFunction</th>\n",
       "      <th>Age</th>\n",
       "      <th>Outcome</th>\n",
       "    </tr>\n",
       "  </thead>\n",
       "  <tbody>\n",
       "    <tr>\n",
       "      <td>0</td>\n",
       "      <td>6</td>\n",
       "      <td>148</td>\n",
       "      <td>72</td>\n",
       "      <td>35</td>\n",
       "      <td>0</td>\n",
       "      <td>33.6</td>\n",
       "      <td>0.627</td>\n",
       "      <td>50</td>\n",
       "      <td>1</td>\n",
       "    </tr>\n",
       "    <tr>\n",
       "      <td>1</td>\n",
       "      <td>1</td>\n",
       "      <td>85</td>\n",
       "      <td>66</td>\n",
       "      <td>29</td>\n",
       "      <td>0</td>\n",
       "      <td>26.6</td>\n",
       "      <td>0.351</td>\n",
       "      <td>31</td>\n",
       "      <td>0</td>\n",
       "    </tr>\n",
       "    <tr>\n",
       "      <td>2</td>\n",
       "      <td>8</td>\n",
       "      <td>183</td>\n",
       "      <td>64</td>\n",
       "      <td>0</td>\n",
       "      <td>0</td>\n",
       "      <td>23.3</td>\n",
       "      <td>0.672</td>\n",
       "      <td>32</td>\n",
       "      <td>1</td>\n",
       "    </tr>\n",
       "    <tr>\n",
       "      <td>3</td>\n",
       "      <td>1</td>\n",
       "      <td>89</td>\n",
       "      <td>66</td>\n",
       "      <td>23</td>\n",
       "      <td>94</td>\n",
       "      <td>28.1</td>\n",
       "      <td>0.167</td>\n",
       "      <td>21</td>\n",
       "      <td>0</td>\n",
       "    </tr>\n",
       "    <tr>\n",
       "      <td>4</td>\n",
       "      <td>0</td>\n",
       "      <td>137</td>\n",
       "      <td>40</td>\n",
       "      <td>35</td>\n",
       "      <td>168</td>\n",
       "      <td>43.1</td>\n",
       "      <td>2.288</td>\n",
       "      <td>33</td>\n",
       "      <td>1</td>\n",
       "    </tr>\n",
       "  </tbody>\n",
       "</table>\n",
       "</div>"
      ],
      "text/plain": [
       "   Pregnancies  Glucose  BloodPressure  SkinThickness  Insulin   BMI  \\\n",
       "0            6      148             72             35        0  33.6   \n",
       "1            1       85             66             29        0  26.6   \n",
       "2            8      183             64              0        0  23.3   \n",
       "3            1       89             66             23       94  28.1   \n",
       "4            0      137             40             35      168  43.1   \n",
       "\n",
       "   DiabetesPedigreeFunction  Age  Outcome  \n",
       "0                     0.627   50        1  \n",
       "1                     0.351   31        0  \n",
       "2                     0.672   32        1  \n",
       "3                     0.167   21        0  \n",
       "4                     2.288   33        1  "
      ]
     },
     "execution_count": 2,
     "metadata": {},
     "output_type": "execute_result"
    }
   ],
   "source": [
    "import numpy as np\n",
    "import pandas as pd \n",
    "import matplotlib.pyplot as plt \n",
    "import seaborn as sns \n",
    "\n",
    "df_diabetes= pd.read_csv('diabetes.csv')\n",
    "df_diabetes.head()"
   ]
  },
  {
   "cell_type": "code",
   "execution_count": 3,
   "metadata": {
    "scrolled": true
   },
   "outputs": [
    {
     "data": {
      "text/html": [
       "<div>\n",
       "<style scoped>\n",
       "    .dataframe tbody tr th:only-of-type {\n",
       "        vertical-align: middle;\n",
       "    }\n",
       "\n",
       "    .dataframe tbody tr th {\n",
       "        vertical-align: top;\n",
       "    }\n",
       "\n",
       "    .dataframe thead th {\n",
       "        text-align: right;\n",
       "    }\n",
       "</style>\n",
       "<table border=\"1\" class=\"dataframe\">\n",
       "  <thead>\n",
       "    <tr style=\"text-align: right;\">\n",
       "      <th></th>\n",
       "      <th>count</th>\n",
       "      <th>mean</th>\n",
       "      <th>std</th>\n",
       "      <th>min</th>\n",
       "      <th>25%</th>\n",
       "      <th>50%</th>\n",
       "      <th>75%</th>\n",
       "      <th>max</th>\n",
       "    </tr>\n",
       "  </thead>\n",
       "  <tbody>\n",
       "    <tr>\n",
       "      <td>Pregnancies</td>\n",
       "      <td>768.0</td>\n",
       "      <td>3.845052</td>\n",
       "      <td>3.369578</td>\n",
       "      <td>0.000</td>\n",
       "      <td>1.00000</td>\n",
       "      <td>3.0000</td>\n",
       "      <td>6.00000</td>\n",
       "      <td>17.00</td>\n",
       "    </tr>\n",
       "    <tr>\n",
       "      <td>Glucose</td>\n",
       "      <td>768.0</td>\n",
       "      <td>120.894531</td>\n",
       "      <td>31.972618</td>\n",
       "      <td>0.000</td>\n",
       "      <td>99.00000</td>\n",
       "      <td>117.0000</td>\n",
       "      <td>140.25000</td>\n",
       "      <td>199.00</td>\n",
       "    </tr>\n",
       "    <tr>\n",
       "      <td>BloodPressure</td>\n",
       "      <td>768.0</td>\n",
       "      <td>69.105469</td>\n",
       "      <td>19.355807</td>\n",
       "      <td>0.000</td>\n",
       "      <td>62.00000</td>\n",
       "      <td>72.0000</td>\n",
       "      <td>80.00000</td>\n",
       "      <td>122.00</td>\n",
       "    </tr>\n",
       "    <tr>\n",
       "      <td>SkinThickness</td>\n",
       "      <td>768.0</td>\n",
       "      <td>20.536458</td>\n",
       "      <td>15.952218</td>\n",
       "      <td>0.000</td>\n",
       "      <td>0.00000</td>\n",
       "      <td>23.0000</td>\n",
       "      <td>32.00000</td>\n",
       "      <td>99.00</td>\n",
       "    </tr>\n",
       "    <tr>\n",
       "      <td>Insulin</td>\n",
       "      <td>768.0</td>\n",
       "      <td>79.799479</td>\n",
       "      <td>115.244002</td>\n",
       "      <td>0.000</td>\n",
       "      <td>0.00000</td>\n",
       "      <td>30.5000</td>\n",
       "      <td>127.25000</td>\n",
       "      <td>846.00</td>\n",
       "    </tr>\n",
       "    <tr>\n",
       "      <td>BMI</td>\n",
       "      <td>768.0</td>\n",
       "      <td>31.992578</td>\n",
       "      <td>7.884160</td>\n",
       "      <td>0.000</td>\n",
       "      <td>27.30000</td>\n",
       "      <td>32.0000</td>\n",
       "      <td>36.60000</td>\n",
       "      <td>67.10</td>\n",
       "    </tr>\n",
       "    <tr>\n",
       "      <td>DiabetesPedigreeFunction</td>\n",
       "      <td>768.0</td>\n",
       "      <td>0.471876</td>\n",
       "      <td>0.331329</td>\n",
       "      <td>0.078</td>\n",
       "      <td>0.24375</td>\n",
       "      <td>0.3725</td>\n",
       "      <td>0.62625</td>\n",
       "      <td>2.42</td>\n",
       "    </tr>\n",
       "    <tr>\n",
       "      <td>Age</td>\n",
       "      <td>768.0</td>\n",
       "      <td>33.240885</td>\n",
       "      <td>11.760232</td>\n",
       "      <td>21.000</td>\n",
       "      <td>24.00000</td>\n",
       "      <td>29.0000</td>\n",
       "      <td>41.00000</td>\n",
       "      <td>81.00</td>\n",
       "    </tr>\n",
       "    <tr>\n",
       "      <td>Outcome</td>\n",
       "      <td>768.0</td>\n",
       "      <td>0.348958</td>\n",
       "      <td>0.476951</td>\n",
       "      <td>0.000</td>\n",
       "      <td>0.00000</td>\n",
       "      <td>0.0000</td>\n",
       "      <td>1.00000</td>\n",
       "      <td>1.00</td>\n",
       "    </tr>\n",
       "  </tbody>\n",
       "</table>\n",
       "</div>"
      ],
      "text/plain": [
       "                          count        mean         std     min       25%  \\\n",
       "Pregnancies               768.0    3.845052    3.369578   0.000   1.00000   \n",
       "Glucose                   768.0  120.894531   31.972618   0.000  99.00000   \n",
       "BloodPressure             768.0   69.105469   19.355807   0.000  62.00000   \n",
       "SkinThickness             768.0   20.536458   15.952218   0.000   0.00000   \n",
       "Insulin                   768.0   79.799479  115.244002   0.000   0.00000   \n",
       "BMI                       768.0   31.992578    7.884160   0.000  27.30000   \n",
       "DiabetesPedigreeFunction  768.0    0.471876    0.331329   0.078   0.24375   \n",
       "Age                       768.0   33.240885   11.760232  21.000  24.00000   \n",
       "Outcome                   768.0    0.348958    0.476951   0.000   0.00000   \n",
       "\n",
       "                               50%        75%     max  \n",
       "Pregnancies                 3.0000    6.00000   17.00  \n",
       "Glucose                   117.0000  140.25000  199.00  \n",
       "BloodPressure              72.0000   80.00000  122.00  \n",
       "SkinThickness              23.0000   32.00000   99.00  \n",
       "Insulin                    30.5000  127.25000  846.00  \n",
       "BMI                        32.0000   36.60000   67.10  \n",
       "DiabetesPedigreeFunction    0.3725    0.62625    2.42  \n",
       "Age                        29.0000   41.00000   81.00  \n",
       "Outcome                     0.0000    1.00000    1.00  "
      ]
     },
     "execution_count": 3,
     "metadata": {},
     "output_type": "execute_result"
    }
   ],
   "source": [
    "df_diabetes.describe().transpose()"
   ]
  },
  {
   "cell_type": "markdown",
   "metadata": {},
   "source": [
    "### Missing Values\n",
    "\n",
    "You've had a look at this dataset before, when looking at missing values. You can see in the summary that for BMI, Insulin, SkinThickness, BloodPressure and Glucose, the minimum value is 0. This value is incorrect, as only a dead person can have a blood pressure of 0.  Let's get a quick look using histogram plots. "
   ]
  },
  {
   "cell_type": "code",
   "execution_count": 4,
   "metadata": {},
   "outputs": [
    {
     "data": {
      "text/plain": [
       "Outcome\n",
       "0    [[AxesSubplot(0.125,0.670278;0.215278x0.209722...\n",
       "1    [[AxesSubplot(0.125,0.670278;0.215278x0.209722...\n",
       "dtype: object"
      ]
     },
     "execution_count": 4,
     "metadata": {},
     "output_type": "execute_result"
    },
    {
     "data": {
      "image/png": "[encoded data removed]",
      "text/plain": [
       "<Figure size 576x576 with 9 Axes>"
      ]
     },
     "metadata": {
      "needs_background": "light"
     },
     "output_type": "display_data"
    },
    {
     "data": {
      "image/png": "[encoded data removed]",
      "text/plain": [
       "<Figure size 576x576 with 9 Axes>"
      ]
     },
     "metadata": {
      "needs_background": "light"
     },
     "output_type": "display_data"
    }
   ],
   "source": [
    "df_diabetes.groupby('Outcome').hist(figsize=(8,8))"
   ]
  },
  {
   "cell_type": "markdown",
   "metadata": {},
   "source": [
    "Note that there seems to be two sets of plots: this is because we are grouping them by 'Outcome', so effectively plotting two classes."
   ]
  },
  {
   "cell_type": "markdown",
   "metadata": {},
   "source": [
    "Remember that we discussed several techniques when dealing with missing values. You could handle the features with an incorrect value of 0 in many ways:\n",
    "* Drop the samples with value 0. This is nor possible for all of the features because SkinThickness and insulin have a lot of samples. However, is possible for the rest of the features with value 0.\n",
    "* Set the mean of the feature instead of the value 0. The main inconvenient with this procedure is that by using a mean value, you are distorting the model.\n",
    "* Don't use the feature. If the feature contains mostly invalid data,  it is possible to omit the feature from the model.\n",
    "\n"
   ]
  },
  {
   "cell_type": "code",
   "execution_count": 5,
   "metadata": {},
   "outputs": [
    {
     "name": "stdout",
     "output_type": "stream",
     "text": [
      " We removed 44 samples(rows)\n"
     ]
    }
   ],
   "source": [
    "#Removing the data with value 0 for BloodPressure, BMI and Glucose\n",
    "df_diabetes_clean = df_diabetes[(df_diabetes.BloodPressure != 0) & \n",
    "                                (df_diabetes.BMI != 0) & (df_diabetes.Glucose != 0)]\n",
    "print(' We removed', df_diabetes.shape[0]-df_diabetes_clean.shape[0], 'samples(rows)')"
   ]
  },
  {
   "cell_type": "code",
   "execution_count": 6,
   "metadata": {},
   "outputs": [
    {
     "data": {
      "text/html": [
       "<div>\n",
       "<style scoped>\n",
       "    .dataframe tbody tr th:only-of-type {\n",
       "        vertical-align: middle;\n",
       "    }\n",
       "\n",
       "    .dataframe tbody tr th {\n",
       "        vertical-align: top;\n",
       "    }\n",
       "\n",
       "    .dataframe thead th {\n",
       "        text-align: right;\n",
       "    }\n",
       "</style>\n",
       "<table border=\"1\" class=\"dataframe\">\n",
       "  <thead>\n",
       "    <tr style=\"text-align: right;\">\n",
       "      <th></th>\n",
       "      <th>count</th>\n",
       "      <th>mean</th>\n",
       "      <th>std</th>\n",
       "      <th>min</th>\n",
       "      <th>25%</th>\n",
       "      <th>50%</th>\n",
       "      <th>75%</th>\n",
       "      <th>max</th>\n",
       "    </tr>\n",
       "  </thead>\n",
       "  <tbody>\n",
       "    <tr>\n",
       "      <td>Pregnancies</td>\n",
       "      <td>724.0</td>\n",
       "      <td>3.866022</td>\n",
       "      <td>3.362803</td>\n",
       "      <td>0.000</td>\n",
       "      <td>1.000</td>\n",
       "      <td>3.000</td>\n",
       "      <td>6.0000</td>\n",
       "      <td>17.00</td>\n",
       "    </tr>\n",
       "    <tr>\n",
       "      <td>Glucose</td>\n",
       "      <td>724.0</td>\n",
       "      <td>121.882597</td>\n",
       "      <td>30.750030</td>\n",
       "      <td>44.000</td>\n",
       "      <td>99.750</td>\n",
       "      <td>117.000</td>\n",
       "      <td>142.0000</td>\n",
       "      <td>199.00</td>\n",
       "    </tr>\n",
       "    <tr>\n",
       "      <td>BloodPressure</td>\n",
       "      <td>724.0</td>\n",
       "      <td>72.400552</td>\n",
       "      <td>12.379870</td>\n",
       "      <td>24.000</td>\n",
       "      <td>64.000</td>\n",
       "      <td>72.000</td>\n",
       "      <td>80.0000</td>\n",
       "      <td>122.00</td>\n",
       "    </tr>\n",
       "    <tr>\n",
       "      <td>SkinThickness</td>\n",
       "      <td>724.0</td>\n",
       "      <td>21.443370</td>\n",
       "      <td>15.732756</td>\n",
       "      <td>0.000</td>\n",
       "      <td>0.000</td>\n",
       "      <td>24.000</td>\n",
       "      <td>33.0000</td>\n",
       "      <td>99.00</td>\n",
       "    </tr>\n",
       "    <tr>\n",
       "      <td>Insulin</td>\n",
       "      <td>724.0</td>\n",
       "      <td>84.494475</td>\n",
       "      <td>117.016513</td>\n",
       "      <td>0.000</td>\n",
       "      <td>0.000</td>\n",
       "      <td>48.000</td>\n",
       "      <td>130.5000</td>\n",
       "      <td>846.00</td>\n",
       "    </tr>\n",
       "    <tr>\n",
       "      <td>BMI</td>\n",
       "      <td>724.0</td>\n",
       "      <td>32.467127</td>\n",
       "      <td>6.888941</td>\n",
       "      <td>18.200</td>\n",
       "      <td>27.500</td>\n",
       "      <td>32.400</td>\n",
       "      <td>36.6000</td>\n",
       "      <td>67.10</td>\n",
       "    </tr>\n",
       "    <tr>\n",
       "      <td>DiabetesPedigreeFunction</td>\n",
       "      <td>724.0</td>\n",
       "      <td>0.474765</td>\n",
       "      <td>0.332315</td>\n",
       "      <td>0.078</td>\n",
       "      <td>0.245</td>\n",
       "      <td>0.379</td>\n",
       "      <td>0.6275</td>\n",
       "      <td>2.42</td>\n",
       "    </tr>\n",
       "    <tr>\n",
       "      <td>Age</td>\n",
       "      <td>724.0</td>\n",
       "      <td>33.350829</td>\n",
       "      <td>11.765393</td>\n",
       "      <td>21.000</td>\n",
       "      <td>24.000</td>\n",
       "      <td>29.000</td>\n",
       "      <td>41.0000</td>\n",
       "      <td>81.00</td>\n",
       "    </tr>\n",
       "    <tr>\n",
       "      <td>Outcome</td>\n",
       "      <td>724.0</td>\n",
       "      <td>0.343923</td>\n",
       "      <td>0.475344</td>\n",
       "      <td>0.000</td>\n",
       "      <td>0.000</td>\n",
       "      <td>0.000</td>\n",
       "      <td>1.0000</td>\n",
       "      <td>1.00</td>\n",
       "    </tr>\n",
       "  </tbody>\n",
       "</table>\n",
       "</div>"
      ],
      "text/plain": [
       "                          count        mean         std     min     25%  \\\n",
       "Pregnancies               724.0    3.866022    3.362803   0.000   1.000   \n",
       "Glucose                   724.0  121.882597   30.750030  44.000  99.750   \n",
       "BloodPressure             724.0   72.400552   12.379870  24.000  64.000   \n",
       "SkinThickness             724.0   21.443370   15.732756   0.000   0.000   \n",
       "Insulin                   724.0   84.494475  117.016513   0.000   0.000   \n",
       "BMI                       724.0   32.467127    6.888941  18.200  27.500   \n",
       "DiabetesPedigreeFunction  724.0    0.474765    0.332315   0.078   0.245   \n",
       "Age                       724.0   33.350829   11.765393  21.000  24.000   \n",
       "Outcome                   724.0    0.343923    0.475344   0.000   0.000   \n",
       "\n",
       "                              50%       75%     max  \n",
       "Pregnancies                 3.000    6.0000   17.00  \n",
       "Glucose                   117.000  142.0000  199.00  \n",
       "BloodPressure              72.000   80.0000  122.00  \n",
       "SkinThickness              24.000   33.0000   99.00  \n",
       "Insulin                    48.000  130.5000  846.00  \n",
       "BMI                        32.400   36.6000   67.10  \n",
       "DiabetesPedigreeFunction    0.379    0.6275    2.42  \n",
       "Age                        29.000   41.0000   81.00  \n",
       "Outcome                     0.000    1.0000    1.00  "
      ]
     },
     "execution_count": 6,
     "metadata": {},
     "output_type": "execute_result"
    }
   ],
   "source": [
    "df_diabetes_clean.describe().transpose()"
   ]
  },
  {
   "cell_type": "markdown",
   "metadata": {},
   "source": [
    "###  Normalizing the data\n",
    " \n",
    "ANNs are sensitive to the data being in different ranges, and as such the input data for ANN needs to be normalized. In this case, you will normalize the data between 0 and 1 using the techniques you learned in a previous topic."
   ]
  },
  {
   "cell_type": "code",
   "execution_count": 7,
   "metadata": {},
   "outputs": [
    {
     "name": "stdout",
     "output_type": "stream",
     "text": [
      "Describe function\n",
      "                          count      mean       std       min       25%  \\\n",
      "Pregnancies               724.0  0.227413  0.197812  0.000000  0.058824   \n",
      "Glucose                   724.0  0.612475  0.154523  0.221106  0.501256   \n",
      "BloodPressure             724.0  0.593447  0.101474  0.196721  0.524590   \n",
      "SkinThickness             724.0  0.216600  0.158917  0.000000  0.000000   \n",
      "Insulin                   724.0  0.099875  0.138317  0.000000  0.000000   \n",
      "BMI                       724.0  0.483862  0.102667  0.271237  0.409836   \n",
      "DiabetesPedigreeFunction  724.0  0.196184  0.137320  0.032231  0.101240   \n",
      "Age                       724.0  0.411739  0.145252  0.259259  0.296296   \n",
      "Outcome                   724.0  0.343923  0.475344  0.000000  0.000000   \n",
      "\n",
      "                               50%       75%  max  \n",
      "Pregnancies               0.176471  0.352941  1.0  \n",
      "Glucose                   0.587940  0.713568  1.0  \n",
      "BloodPressure             0.590164  0.655738  1.0  \n",
      "SkinThickness             0.242424  0.333333  1.0  \n",
      "Insulin                   0.056738  0.154255  1.0  \n",
      "BMI                       0.482861  0.545455  1.0  \n",
      "DiabetesPedigreeFunction  0.156612  0.259298  1.0  \n",
      "Age                       0.358025  0.506173  1.0  \n",
      "Outcome                   0.000000  1.000000  1.0  \n"
     ]
    },
    {
     "name": "stderr",
     "output_type": "stream",
     "text": [
      "/Users/admin/opt/anaconda3/lib/python3.7/site-packages/pandas/core/frame.py:3494: SettingWithCopyWarning: \n",
      "A value is trying to be set on a copy of a slice from a DataFrame.\n",
      "Try using .loc[row_indexer,col_indexer] = value instead\n",
      "\n",
      "See the caveats in the documentation: http://pandas.pydata.org/pandas-docs/stable/user_guide/indexing.html#returning-a-view-versus-a-copy\n",
      "  self[k1] = value[k2]\n"
     ]
    },
    {
     "data": {
      "text/html": [
       "<div>\n",
       "<style scoped>\n",
       "    .dataframe tbody tr th:only-of-type {\n",
       "        vertical-align: middle;\n",
       "    }\n",
       "\n",
       "    .dataframe tbody tr th {\n",
       "        vertical-align: top;\n",
       "    }\n",
       "\n",
       "    .dataframe thead th {\n",
       "        text-align: right;\n",
       "    }\n",
       "</style>\n",
       "<table border=\"1\" class=\"dataframe\">\n",
       "  <thead>\n",
       "    <tr style=\"text-align: right;\">\n",
       "      <th></th>\n",
       "      <th>Pregnancies</th>\n",
       "      <th>Glucose</th>\n",
       "      <th>BloodPressure</th>\n",
       "      <th>SkinThickness</th>\n",
       "      <th>Insulin</th>\n",
       "      <th>BMI</th>\n",
       "      <th>DiabetesPedigreeFunction</th>\n",
       "      <th>Age</th>\n",
       "      <th>Outcome</th>\n",
       "    </tr>\n",
       "  </thead>\n",
       "  <tbody>\n",
       "    <tr>\n",
       "      <td>0</td>\n",
       "      <td>0.352941</td>\n",
       "      <td>0.743719</td>\n",
       "      <td>0.590164</td>\n",
       "      <td>0.353535</td>\n",
       "      <td>0.0</td>\n",
       "      <td>0.500745</td>\n",
       "      <td>0.259091</td>\n",
       "      <td>0.617284</td>\n",
       "      <td>1</td>\n",
       "    </tr>\n",
       "    <tr>\n",
       "      <td>1</td>\n",
       "      <td>0.058824</td>\n",
       "      <td>0.427136</td>\n",
       "      <td>0.540984</td>\n",
       "      <td>0.292929</td>\n",
       "      <td>0.0</td>\n",
       "      <td>0.396423</td>\n",
       "      <td>0.145041</td>\n",
       "      <td>0.382716</td>\n",
       "      <td>0</td>\n",
       "    </tr>\n",
       "    <tr>\n",
       "      <td>2</td>\n",
       "      <td>0.470588</td>\n",
       "      <td>0.919598</td>\n",
       "      <td>0.524590</td>\n",
       "      <td>0.000000</td>\n",
       "      <td>0.0</td>\n",
       "      <td>0.347243</td>\n",
       "      <td>0.277686</td>\n",
       "      <td>0.395062</td>\n",
       "      <td>1</td>\n",
       "    </tr>\n",
       "  </tbody>\n",
       "</table>\n",
       "</div>"
      ],
      "text/plain": [
       "   Pregnancies   Glucose  BloodPressure  SkinThickness  Insulin       BMI  \\\n",
       "0     0.352941  0.743719       0.590164       0.353535      0.0  0.500745   \n",
       "1     0.058824  0.427136       0.540984       0.292929      0.0  0.396423   \n",
       "2     0.470588  0.919598       0.524590       0.000000      0.0  0.347243   \n",
       "\n",
       "   DiabetesPedigreeFunction       Age  Outcome  \n",
       "0                  0.259091  0.617284        1  \n",
       "1                  0.145041  0.382716        0  \n",
       "2                  0.277686  0.395062        1  "
      ]
     },
     "execution_count": 7,
     "metadata": {},
     "output_type": "execute_result"
    }
   ],
   "source": [
    "#Get a list of all the features excluding the outcome \n",
    "features = list(set(list(df_diabetes_clean.columns))-set(['Outcome']))\n",
    "#Performing the normalisation we divide the feature value by its maximum value  \n",
    "df_diabetes_clean[features]=df_diabetes_clean[features]/df_diabetes_clean[features].max()\n",
    "print('Describe function')\n",
    "print(df_diabetes_clean.describe().transpose())\n",
    "df_diabetes_clean.head(3)"
   ]
  },
  {
   "cell_type": "markdown",
   "metadata": {},
   "source": [
    "As you can see now all the values are between 0 and 1."
   ]
  },
  {
   "cell_type": "markdown",
   "metadata": {},
   "source": [
    "### Splitting the data in training and  testing"
   ]
  },
  {
   "cell_type": "code",
   "execution_count": 8,
   "metadata": {},
   "outputs": [
    {
     "name": "stdout",
     "output_type": "stream",
     "text": [
      "X_train (543, 8) X_test (181, 8)\n"
     ]
    }
   ],
   "source": [
    "from sklearn.model_selection import train_test_split\n",
    "X = df_diabetes_clean[features].values\n",
    "y = df_diabetes_clean['Outcome'].values\n",
    "X_train, X_test, y_train, y_test = train_test_split(X,y, random_state=42)\n",
    "print('X_train', X_train.shape, 'X_test', X_test.shape)"
   ]
  },
  {
   "cell_type": "code",
   "execution_count": 9,
   "metadata": {},
   "outputs": [],
   "source": [
    "### Running the model"
   ]
  },
  {
   "cell_type": "code",
   "execution_count": 10,
   "metadata": {},
   "outputs": [],
   "source": [
    "from sklearn.neural_network import MLPClassifier\n",
    "mlp = MLPClassifier(activation='relu', hidden_layer_sizes=(8,8,8), solver='lbfgs', \n",
    "                    max_iter=500)\n",
    "mlp.fit(X_train,y_train)\n",
    "y_predict_train = mlp.predict(X_train)\n",
    "y_predict_test = mlp.predict(X_test)"
   ]
  },
  {
   "cell_type": "markdown",
   "metadata": {},
   "source": [
    "The performance measure for the predicted values in the training data and the testing data is given by a confusion matrix."
   ]
  },
  {
   "cell_type": "code",
   "execution_count": 11,
   "metadata": {},
   "outputs": [
    {
     "name": "stdout",
     "output_type": "stream",
     "text": [
      "              precision    recall  f1-score   support\n",
      "\n",
      "           0       0.84      0.88      0.86       349\n",
      "           1       0.77      0.70      0.73       194\n",
      "\n",
      "    accuracy                           0.82       543\n",
      "   macro avg       0.80      0.79      0.80       543\n",
      "weighted avg       0.82      0.82      0.82       543\n",
      "\n"
     ]
    },
    {
     "data": {
      "text/plain": [
       "Text(30.5, 0.5, 'predicted label')"
      ]
     },
     "execution_count": 11,
     "metadata": {},
     "output_type": "execute_result"
    },
    {
     "data": {
      "image/png": "[encoded data removed]",
      "text/plain": [
       "<Figure size 432x288 with 1 Axes>"
      ]
     },
     "metadata": {},
     "output_type": "display_data"
    }
   ],
   "source": [
    "#Training data\n",
    "from sklearn.metrics import classification_report, confusion_matrix\n",
    "print(classification_report(y_train,y_predict_train))\n",
    "\n",
    "sns.set()\n",
    "\n",
    "cmap = sns.cubehelix_palette(light=0.9, as_cmap=True)\n",
    "cm = confusion_matrix(y_train,y_predict_train)\n",
    "sns.heatmap(cm.T, square = True, annot=True, fmt='d', cbar=False,\n",
    "           xticklabels= ['No diabetes', 'Diabetes'],\n",
    "           yticklabels= ['No diabetes', 'Diabetes'], cmap=cmap)\n",
    "plt.xlabel('True label', size=12)\n",
    "plt.ylabel('predicted label', size=12)"
   ]
  },
  {
   "cell_type": "code",
   "execution_count": 12,
   "metadata": {},
   "outputs": [
    {
     "name": "stdout",
     "output_type": "stream",
     "text": [
      "              precision    recall  f1-score   support\n",
      "\n",
      "           0       0.82      0.79      0.81       126\n",
      "           1       0.56      0.60      0.58        55\n",
      "\n",
      "    accuracy                           0.73       181\n",
      "   macro avg       0.69      0.70      0.69       181\n",
      "weighted avg       0.74      0.73      0.74       181\n",
      "\n"
     ]
    },
    {
     "data": {
      "text/plain": [
       "Text(30.5, 0.5, 'predicted label')"
      ]
     },
     "execution_count": 12,
     "metadata": {},
     "output_type": "execute_result"
    },
    {
     "data": {
      "image/png": "[encoded data removed]",
      "text/plain": [
       "<Figure size 432x432 with 1 Axes>"
      ]
     },
     "metadata": {},
     "output_type": "display_data"
    }
   ],
   "source": [
    "#Testing data\n",
    "from sklearn.metrics import classification_report, confusion_matrix\n",
    "print(classification_report(y_test,y_predict_test))\n",
    "\n",
    "plt.figure(figsize=(6,6))\n",
    "cmap = sns.cubehelix_palette(light=0.9, as_cmap=True)\n",
    "cm = confusion_matrix(y_test,y_predict_test)\n",
    "sns.heatmap(cm.T, square = True, annot=True, fmt='d', cbar=False,\n",
    "           xticklabels= ['No diabetes', 'Diabetes'],\n",
    "           yticklabels= ['No diabetes', 'Diabetes'], cmap=cmap)\n",
    "plt.xlabel('True label', size=12)\n",
    "plt.ylabel('predicted label', size=12)"
   ]
  },
  {
   "cell_type": "markdown",
   "metadata": {},
   "source": [
    "##### Hyperparameters tuning \n",
    "NOTE: Remember that the GridSearchCV() method can take a long time to execute. To make sure that it is running and to get an idea of how the process is progressing, you can use verbose=10 or higher. "
   ]
  },
  {
   "cell_type": "code",
   "execution_count": 13,
   "metadata": {},
   "outputs": [
    {
     "name": "stdout",
     "output_type": "stream",
     "text": [
      "Fitting 5 folds for each of 72 candidates, totalling 360 fits\n"
     ]
    },
    {
     "name": "stderr",
     "output_type": "stream",
     "text": [
      "[Parallel(n_jobs=-1)]: Using backend LokyBackend with 8 concurrent workers.\n",
      "[Parallel(n_jobs=-1)]: Done   2 tasks      | elapsed:    1.5s\n",
      "[Parallel(n_jobs=-1)]: Done   9 tasks      | elapsed:    2.1s\n",
      "[Parallel(n_jobs=-1)]: Done  16 tasks      | elapsed:    2.7s\n",
      "[Parallel(n_jobs=-1)]: Done  25 tasks      | elapsed:    3.7s\n",
      "[Parallel(n_jobs=-1)]: Done  34 tasks      | elapsed:    4.6s\n",
      "[Parallel(n_jobs=-1)]: Done  45 tasks      | elapsed:    5.4s\n",
      "[Parallel(n_jobs=-1)]: Done  56 tasks      | elapsed:    6.6s\n",
      "[Parallel(n_jobs=-1)]: Done  69 tasks      | elapsed:    8.6s\n",
      "[Parallel(n_jobs=-1)]: Done  82 tasks      | elapsed:   10.8s\n",
      "[Parallel(n_jobs=-1)]: Done  97 tasks      | elapsed:   13.0s\n",
      "[Parallel(n_jobs=-1)]: Done 112 tasks      | elapsed:   14.4s\n",
      "[Parallel(n_jobs=-1)]: Done 129 tasks      | elapsed:   16.1s\n",
      "[Parallel(n_jobs=-1)]: Done 146 tasks      | elapsed:   17.8s\n",
      "[Parallel(n_jobs=-1)]: Done 165 tasks      | elapsed:   21.4s\n",
      "[Parallel(n_jobs=-1)]: Done 184 tasks      | elapsed:   23.9s\n",
      "[Parallel(n_jobs=-1)]: Done 205 tasks      | elapsed:   25.9s\n",
      "[Parallel(n_jobs=-1)]: Done 226 tasks      | elapsed:   28.1s\n",
      "[Parallel(n_jobs=-1)]: Done 249 tasks      | elapsed:   31.5s\n",
      "[Parallel(n_jobs=-1)]: Done 272 tasks      | elapsed:   35.0s\n",
      "[Parallel(n_jobs=-1)]: Done 297 tasks      | elapsed:   37.0s\n",
      "[Parallel(n_jobs=-1)]: Done 322 tasks      | elapsed:   39.3s\n",
      "[Parallel(n_jobs=-1)]: Done 360 out of 360 | elapsed:   46.0s finished\n",
      "/Users/admin/opt/anaconda3/lib/python3.7/site-packages/sklearn/model_selection/_search.py:814: DeprecationWarning: The default of the `iid` parameter will change from True to False in version 0.22 and will be removed in 0.24. This will change numeric results when test-set sizes are unequal.\n",
      "  DeprecationWarning)\n"
     ]
    },
    {
     "name": "stdout",
     "output_type": "stream",
     "text": [
      "best parameters {'activation': 'tanh', 'alpha': 0.0001, 'hidden_layer_sizes': (10, 10, 10), 'learning_rate': 'adaptive', 'solver': 'adam'}\n"
     ]
    }
   ],
   "source": [
    "from sklearn.model_selection import GridSearchCV\n",
    "#Parameter to calibrate \n",
    "mlp = MLPClassifier(activation='relu', hidden_layer_sizes=(8,8,8), solver='lbfgs', \n",
    "                    max_iter=500)\n",
    "param_grid = {\n",
    "    'hidden_layer_sizes': [(10,10,10), (20,20,20), (50,50,50)],\n",
    "    'activation': ['tanh', 'relu'],\n",
    "    'solver': ['sgd', 'adam','lbfgs'],\n",
    "    'alpha': [0.0001, 0.05],\n",
    "    'learning_rate': ['constant','adaptive'],\n",
    "}\n",
    "#Searching for the optimal from param_grid\n",
    "grid = GridSearchCV(mlp, param_grid, cv=5, n_jobs=-1, verbose=10)# cv determines the cross-validation splitting\n",
    "#n_jobs=-1 is to uses all the availables cores\n",
    "#Checking how many time takes to find the optimum values \n",
    "grid.fit(X_train, y_train)\n",
    "print('best parameters',grid.best_params_)"
   ]
  },
  {
   "cell_type": "markdown",
   "metadata": {},
   "source": [
    "Testing with the best Hyperparameters found"
   ]
  },
  {
   "cell_type": "code",
   "execution_count": 15,
   "metadata": {},
   "outputs": [
    {
     "name": "stdout",
     "output_type": "stream",
     "text": [
      "              precision    recall  f1-score   support\n",
      "\n",
      "           0       0.84      0.84      0.84       126\n",
      "           1       0.64      0.64      0.64        55\n",
      "\n",
      "    accuracy                           0.78       181\n",
      "   macro avg       0.74      0.74      0.74       181\n",
      "weighted avg       0.78      0.78      0.78       181\n",
      "\n"
     ]
    },
    {
     "data": {
      "text/plain": [
       "Text(30.5, 0.5, 'predicted label')"
      ]
     },
     "execution_count": 15,
     "metadata": {},
     "output_type": "execute_result"
    },
    {
     "data": {
      "image/png": "[encoded data removed]",
      "text/plain": [
       "<Figure size 432x432 with 1 Axes>"
      ]
     },
     "metadata": {},
     "output_type": "display_data"
    }
   ],
   "source": [
    "mlp = MLPClassifier(activation='tanh', hidden_layer_sizes=(10, 10, 10), solver='adam', alpha=  0.0001,\n",
    "                    learning_rate='adaptive', max_iter=1000)\n",
    "\n",
    "\n",
    "mlp.fit(X_train,y_train)\n",
    "y_predict_test = mlp.predict(X_test)\n",
    "#Using testing data \n",
    "print(classification_report(y_test,y_predict_test))\n",
    "\n",
    "\n",
    "plt.figure(figsize=(6,6))\n",
    "cmap = sns.cubehelix_palette(light=0.9, as_cmap=True)\n",
    "cm = confusion_matrix(y_test,y_predict_test)\n",
    "sns.heatmap(cm.T, square = True, annot=True, fmt='d', cbar=False,\n",
    "           xticklabels= ['No diabetes', 'Diabetes'],\n",
    "           yticklabels= ['No diabetes', 'Diabetes'], cmap=cmap)\n",
    "plt.xlabel('True label', size=12)\n",
    "plt.ylabel('predicted label', size=12)"
   ]
  },
  {
   "cell_type": "markdown",
   "metadata": {},
   "source": [
    "In this case, the performance of the ANN improves slightly with the new hyperparameters. "
   ]
  },
  {
   "cell_type": "markdown",
   "metadata": {},
   "source": [
    "### Example of an ANN on the handwritten digits dataset\n",
    "\n",
    "In this example, the handwritten digits [0-9] from the sklearn.datasets will be classified. Each image is 8X8 pixels. The data will be loaded and visualised using the code below."
   ]
  },
  {
   "cell_type": "markdown",
   "metadata": {},
   "source": [
    "Loading the data: "
   ]
  },
  {
   "cell_type": "code",
   "execution_count": 16,
   "metadata": {},
   "outputs": [
    {
     "name": "stdout",
     "output_type": "stream",
     "text": [
      "Target or Outcome names\n"
     ]
    },
    {
     "data": {
      "text/plain": [
       "array([0, 1, 2, 3, 4, 5, 6, 7, 8, 9])"
      ]
     },
     "execution_count": 16,
     "metadata": {},
     "output_type": "execute_result"
    }
   ],
   "source": [
    "from sklearn.datasets import load_digits\n",
    "hand_digits = load_digits()\n",
    "X = hand_digits.data\n",
    "y = hand_digits.target\n",
    "print('Target or Outcome names')\n",
    "hand_digits.target_names"
   ]
  },
  {
   "cell_type": "markdown",
   "metadata": {},
   "source": [
    "Visualizing the images of the digits:"
   ]
  },
  {
   "cell_type": "code",
   "execution_count": 17,
   "metadata": {},
   "outputs": [
    {
     "data": {
      "image/png": "[encoded data removed]",
      "text/plain": [
       "<Figure size 576x576 with 64 Axes>"
      ]
     },
     "metadata": {},
     "output_type": "display_data"
    }
   ],
   "source": [
    "#Set the size of the figure in inches \n",
    "fig = plt.figure(figsize=(8,8))\n",
    "#Set the subplots up\n",
    "fig.subplots_adjust(left=0, right=1, bottom=0, top=1, hspace=0.05, wspace=0.05)\n",
    "#plot the digits image \n",
    "for i in range(64):\n",
    "    ax = fig.add_subplot(8,8,i+1)\n",
    "    ax.imshow(hand_digits.images[i], \n",
    "              cmap=plt.cm.binary, \n",
    "              interpolation='nearest')\n",
    "    ax.set(xticks=[], yticks=[])\n",
    "    #Set the labels \n",
    "    ax.text(0,7,str(hand_digits.target[i]))\n"
   ]
  },
  {
   "cell_type": "markdown",
   "metadata": {},
   "source": [
    "\n",
    "To write the machine learning pipeline, you will split the data into a training and testing dataset, then create the Multilayer perceptron model. You will then fit the model and predict.  You will use StandardScaler method, which standardizes features by removing the mean and scaling to unit variance.\n"
   ]
  },
  {
   "cell_type": "code",
   "execution_count": 18,
   "metadata": {},
   "outputs": [
    {
     "name": "stdout",
     "output_type": "stream",
     "text": [
      "[0.94505495 0.91436464 0.95543175 0.95798319 0.90704225] \n",
      " 0.9359753575224025\n"
     ]
    }
   ],
   "source": [
    "from sklearn.neural_network import MLPClassifier \n",
    "from sklearn.model_selection import cross_val_score\n",
    "from sklearn.metrics import accuracy_score\n",
    "from sklearn.preprocessing import StandardScaler\n",
    "from sklearn.pipeline import Pipeline\n",
    "\n",
    "pipeline = Pipeline([('ss', StandardScaler()),\n",
    "                     ('mlp', MLPClassifier(alpha = 0.01, \n",
    "                                           hidden_layer_sizes=[150,100]))])\n",
    "score = cross_val_score(pipeline,X, y, n_jobs=-1, cv=5)               \n",
    "print(score,'\\n', score.mean())"
   ]
  },
  {
   "cell_type": "markdown",
   "metadata": {},
   "source": [
    "The accuracy (0.936) obtained for the ANN  is below that the accuracy that you got with the Random Forest Classifier (0.975) in the previous section. The performance of the ANN can potentially be improved by adding more hidden layers and tuning the parameters using GridSearchCV."
   ]
  },
  {
   "cell_type": "markdown",
   "metadata": {},
   "source": [
    "### Practice -\n",
    "\n",
    "In your Jupyter notebook or datacamp light widget write code to use GridSearchCV to find the best parameters for the ANN. Once done, plot the confusion matrix. Instead of using cross_val_score, you should use cross_val_predict.\n"
   ]
  },
  {
   "cell_type": "markdown",
   "metadata": {},
   "source": [
    "Your code should look like this:"
   ]
  },
  {
   "cell_type": "code",
   "execution_count": 19,
   "metadata": {},
   "outputs": [],
   "source": [
    "#Solution \n",
    "\n",
    "from sklearn.model_selection import GridSearchCV\n",
    "from sklearn.pipeline import Pipeline\n",
    "from sklearn.model_selection import train_test_split\n",
    "#Split the data \n",
    "X_train, X_test, y_train, y_test = train_test_split(X,y, random_state=42)\n",
    "#Calibration of the parameters\n",
    "pipeline = Pipeline([('ss', StandardScaler()),\n",
    "                     ('mlp', MLPClassifier(activation='relu', alpha = 0.01, \n",
    "                                           hidden_layer_sizes=(100,100,100), solver='adam', \n",
    "                    max_iter=200))])\n",
    "\n",
    "\n",
    "\n",
    "param_grid = {\n",
    "    'mlp__hidden_layer_sizes': [[150,200], [250,300], [500,300]],\n",
    "    'mlp__activation': ['tanh', 'relu'],\n",
    "    'mlp__solver': ['sgd', 'adam','lbfgs'],\n",
    "    'mlp__alpha': [0.0001, 0.05],\n",
    "    'mlp__learning_rate': ['constant','adaptive']\n",
    "}\n",
    "#Searching for the optimal from param_grid\n",
    "grid = GridSearchCV(pipeline,param_grid, cv=5, n_jobs= -1, verbose=10)# cv determines the cross-validation splitting\n"
   ]
  },
  {
   "cell_type": "code",
   "execution_count": 20,
   "metadata": {},
   "outputs": [
    {
     "name": "stdout",
     "output_type": "stream",
     "text": [
      "Fitting 5 folds for each of 72 candidates, totalling 360 fits\n"
     ]
    },
    {
     "name": "stderr",
     "output_type": "stream",
     "text": [
      "[Parallel(n_jobs=-1)]: Using backend LokyBackend with 8 concurrent workers.\n",
      "[Parallel(n_jobs=-1)]: Done   2 tasks      | elapsed:    5.8s\n",
      "[Parallel(n_jobs=-1)]: Done   9 tasks      | elapsed:   11.3s\n",
      "[Parallel(n_jobs=-1)]: Done  16 tasks      | elapsed:   18.3s\n",
      "[Parallel(n_jobs=-1)]: Done  25 tasks      | elapsed:   23.6s\n",
      "[Parallel(n_jobs=-1)]: Done  34 tasks      | elapsed:   37.3s\n",
      "[Parallel(n_jobs=-1)]: Done  45 tasks      | elapsed:   51.4s\n",
      "[Parallel(n_jobs=-1)]: Done  56 tasks      | elapsed:  1.2min\n",
      "[Parallel(n_jobs=-1)]: Done  69 tasks      | elapsed:  1.8min\n",
      "[Parallel(n_jobs=-1)]: Done  82 tasks      | elapsed:  2.6min\n",
      "[Parallel(n_jobs=-1)]: Done  97 tasks      | elapsed:  2.9min\n",
      "[Parallel(n_jobs=-1)]: Done 112 tasks      | elapsed:  3.2min\n",
      "[Parallel(n_jobs=-1)]: Done 129 tasks      | elapsed:  3.9min\n",
      "[Parallel(n_jobs=-1)]: Done 146 tasks      | elapsed:  4.5min\n",
      "[Parallel(n_jobs=-1)]: Done 165 tasks      | elapsed:  6.5min\n",
      "[Parallel(n_jobs=-1)]: Done 184 tasks      | elapsed:  7.3min\n",
      "[Parallel(n_jobs=-1)]: Done 205 tasks      | elapsed:  7.6min\n",
      "[Parallel(n_jobs=-1)]: Done 226 tasks      | elapsed:  8.2min\n",
      "[Parallel(n_jobs=-1)]: Done 249 tasks      | elapsed:  8.9min\n",
      "[Parallel(n_jobs=-1)]: Done 272 tasks      | elapsed:  9.9min\n",
      "[Parallel(n_jobs=-1)]: Done 297 tasks      | elapsed: 10.3min\n",
      "[Parallel(n_jobs=-1)]: Done 322 tasks      | elapsed: 11.3min\n",
      "[Parallel(n_jobs=-1)]: Done 360 out of 360 | elapsed: 13.8min finished\n"
     ]
    },
    {
     "name": "stdout",
     "output_type": "stream",
     "text": [
      "best parameters {'mlp__activation': 'relu', 'mlp__alpha': 0.05, 'mlp__hidden_layer_sizes': [250, 300], 'mlp__learning_rate': 'constant', 'mlp__solver': 'adam'}\n"
     ]
    }
   ],
   "source": [
    "#Checking how many time takes to find the optimum values \n",
    "grid.fit(X, y)\n",
    "print('best parameters',grid.best_params_)"
   ]
  },
  {
   "cell_type": "code",
   "execution_count": 21,
   "metadata": {},
   "outputs": [
    {
     "name": "stdout",
     "output_type": "stream",
     "text": [
      "[0.93406593 0.9281768  0.96100279 0.9719888  0.92676056] \n",
      " 0.9443989748119709\n"
     ]
    }
   ],
   "source": [
    "#We the new parameters we will create a pipeline \n",
    "pipeline = Pipeline([('ss', StandardScaler()),\n",
    "                     ('mlp', MLPClassifier(activation='relu',\n",
    "                                           alpha = 0.05, \n",
    "                                           solver = 'adam',\n",
    "                                           learning_rate = 'constant',\n",
    "                                           hidden_layer_sizes=[250,300]))])\n",
    "score = cross_val_score(pipeline,X, y, n_jobs=-1, cv=5)               \n",
    "print(score,'\\n', score.mean())"
   ]
  },
  {
   "cell_type": "markdown",
   "metadata": {},
   "source": [
    "You can see that we have an __improvement__ in the accuracy from 0.936 to 0.944.\n",
    "\n",
    "In the below, you will plot the confusion matrix."
   ]
  },
  {
   "cell_type": "code",
   "execution_count": 22,
   "metadata": {},
   "outputs": [
    {
     "name": "stderr",
     "output_type": "stream",
     "text": [
      "/Users/admin/opt/anaconda3/lib/python3.7/site-packages/sklearn/neural_network/multilayer_perceptron.py:566: ConvergenceWarning: Stochastic Optimizer: Maximum iterations (200) reached and the optimization hasn't converged yet.\n",
      "  % self.max_iter, ConvergenceWarning)\n"
     ]
    },
    {
     "data": {
      "text/plain": [
       "Text(0.5, 1, 'Confusion Matrix of Artificial Neural Network classifier to handwritten digits dataset')"
      ]
     },
     "execution_count": 22,
     "metadata": {},
     "output_type": "execute_result"
    },
    {
     "data": {
      "image/png": "[encoded data removed]",
      "text/plain": [
       "<Figure size 504x504 with 1 Axes>"
      ]
     },
     "metadata": {},
     "output_type": "display_data"
    }
   ],
   "source": [
    "#Creating the convergence matrix \n",
    "from sklearn.model_selection import cross_val_predict\n",
    "from sklearn.metrics import confusion_matrix\n",
    "y_predict = cross_val_predict(pipeline,X, y, cv = 5)\n",
    "\n",
    "\n",
    "plt.figure(figsize=(7,7))\n",
    "cmap = sns.cubehelix_palette(light=0.9, as_cmap=True)\n",
    "cm = confusion_matrix(y, y_predict)\n",
    "sns.heatmap(cm.T, square = True, annot=True, fmt='d', cbar=False,\n",
    "           xticklabels=hand_digits.target_names,\n",
    "           yticklabels=hand_digits.target_names, cmap=cmap)\n",
    "plt.xlabel('True label', size=12)\n",
    "plt.ylabel('predicted label', size=12)\n",
    "plt.title('Confusion Matrix of Artificial Neural Network classifier to handwritten digits dataset')"
   ]
  }
 ],
 "metadata": {
  "kernelspec": {
   "display_name": "Python 3",
   "language": "python",
   "name": "python3"
  },
  "language_info": {
   "codemirror_mode": {
    "name": "ipython",
    "version": 3
   },
   "file_extension": ".py",
   "mimetype": "text/x-python",
   "name": "python",
   "nbconvert_exporter": "python",
   "pygments_lexer": "ipython3",
   "version": "3.7.6"
  }
 },
 "nbformat": 4,
 "nbformat_minor": 2
}
